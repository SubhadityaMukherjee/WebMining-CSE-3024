{
 "cells": [
  {
   "cell_type": "markdown",
   "metadata": {},
   "source": [
    "## Name -> Subhaditya Mukherjee\n",
    "## Reg -> 17BCE2193\n",
    "## Group -> 4"
   ]
  },
  {
   "cell_type": "markdown",
   "metadata": {
    "toc": true
   },
   "source": [
    "<h1>Table of Contents<span class=\"tocSkip\"></span></h1>\n",
    "<div class=\"toc\"><ul class=\"toc-item\"><li><ul class=\"toc-item\"><li><span><a href=\"#Name-->-Subhaditya-Mukherjee\" data-toc-modified-id=\"Name-->-Subhaditya-Mukherjee-0.1\"><span class=\"toc-item-num\">0.1&nbsp;&nbsp;</span>Name -&gt; Subhaditya Mukherjee</a></span></li><li><span><a href=\"#Reg-->-17BCE2193\" data-toc-modified-id=\"Reg-->-17BCE2193-0.2\"><span class=\"toc-item-num\">0.2&nbsp;&nbsp;</span>Reg -&gt; 17BCE2193</a></span></li><li><span><a href=\"#Group-->-4\" data-toc-modified-id=\"Group-->-4-0.3\"><span class=\"toc-item-num\">0.3&nbsp;&nbsp;</span>Group -&gt; 4</a></span></li></ul></li><li><span><a href=\"#Hierarchical-Clustering-(Use-Euclidian-Distance-Function)\" data-toc-modified-id=\"Hierarchical-Clustering-(Use-Euclidian-Distance-Function)-1\"><span class=\"toc-item-num\">1&nbsp;&nbsp;</span>Hierarchical Clustering (Use Euclidian Distance Function)</a></span><ul class=\"toc-item\"><li><span><a href=\"#Lemmatize/fix-spaces/split-and-merge\" data-toc-modified-id=\"Lemmatize/fix-spaces/split-and-merge-1.1\"><span class=\"toc-item-num\">1.1&nbsp;&nbsp;</span>Lemmatize/fix spaces/split and merge</a></span></li><li><span><a href=\"#TF\" data-toc-modified-id=\"TF-1.2\"><span class=\"toc-item-num\">1.2&nbsp;&nbsp;</span>TF</a></span></li><li><span><a href=\"#IDF\" data-toc-modified-id=\"IDF-1.3\"><span class=\"toc-item-num\">1.3&nbsp;&nbsp;</span>IDF</a></span></li><li><span><a href=\"#TFIDF\" data-toc-modified-id=\"TFIDF-1.4\"><span class=\"toc-item-num\">1.4&nbsp;&nbsp;</span>TFIDF</a></span></li></ul></li><li><span><a href=\"#Hierarchical-Clustering\" data-toc-modified-id=\"Hierarchical-Clustering-2\"><span class=\"toc-item-num\">2&nbsp;&nbsp;</span>Hierarchical Clustering</a></span></li><li><span><a href=\"#Expectation-Maximization\" data-toc-modified-id=\"Expectation-Maximization-3\"><span class=\"toc-item-num\">3&nbsp;&nbsp;</span>Expectation Maximization</a></span><ul class=\"toc-item\"><li><span><a href=\"#Find-optimal-clusters\" data-toc-modified-id=\"Find-optimal-clusters-3.1\"><span class=\"toc-item-num\">3.1&nbsp;&nbsp;</span>Find optimal clusters</a></span></li></ul></li><li><span><a href=\"#Decision-Tree\" data-toc-modified-id=\"Decision-Tree-4\"><span class=\"toc-item-num\">4&nbsp;&nbsp;</span>Decision Tree</a></span><ul class=\"toc-item\"><li><span><a href=\"#F1\" data-toc-modified-id=\"F1-4.1\"><span class=\"toc-item-num\">4.1&nbsp;&nbsp;</span>F1</a></span></li><li><span><a href=\"#Roc\" data-toc-modified-id=\"Roc-4.2\"><span class=\"toc-item-num\">4.2&nbsp;&nbsp;</span>Roc</a></span></li><li><span><a href=\"#R2\" data-toc-modified-id=\"R2-4.3\"><span class=\"toc-item-num\">4.3&nbsp;&nbsp;</span>R2</a></span></li><li><span><a href=\"#Accuracy\" data-toc-modified-id=\"Accuracy-4.4\"><span class=\"toc-item-num\">4.4&nbsp;&nbsp;</span>Accuracy</a></span></li></ul></li><li><span><a href=\"#Adaboost\" data-toc-modified-id=\"Adaboost-5\"><span class=\"toc-item-num\">5&nbsp;&nbsp;</span>Adaboost</a></span><ul class=\"toc-item\"><li><span><a href=\"#F1\" data-toc-modified-id=\"F1-5.1\"><span class=\"toc-item-num\">5.1&nbsp;&nbsp;</span>F1</a></span></li><li><span><a href=\"#Roc\" data-toc-modified-id=\"Roc-5.2\"><span class=\"toc-item-num\">5.2&nbsp;&nbsp;</span>Roc</a></span></li><li><span><a href=\"#R2\" data-toc-modified-id=\"R2-5.3\"><span class=\"toc-item-num\">5.3&nbsp;&nbsp;</span>R2</a></span></li><li><span><a href=\"#Accuracy\" data-toc-modified-id=\"Accuracy-5.4\"><span class=\"toc-item-num\">5.4&nbsp;&nbsp;</span>Accuracy</a></span></li></ul></li></ul></div>"
   ]
  },
  {
   "cell_type": "code",
   "execution_count": 2,
   "metadata": {
    "ExecuteTime": {
     "end_time": "2020-03-15T06:07:18.151545Z",
     "start_time": "2020-03-15T06:07:16.651690Z"
    }
   },
   "outputs": [],
   "source": [
    "import pandas as pd\n",
    "import sklearn as sk\n",
    "import nltk\n",
    "import re\n",
    "import os\n",
    "from tabulate import tabulate\n",
    "from nltk.stem import WordNetLemmatizer\n",
    "import collections\n",
    "\n",
    "lemmatizer = WordNetLemmatizer()\n",
    "\n",
    "stopwords = nltk.corpus.stopwords.words(\"english\")"
   ]
  },
  {
   "cell_type": "markdown",
   "metadata": {},
   "source": [
    "# Hierarchical Clustering (Use Euclidian Distance Function)\n",
    "- Health-News-Tweets.zip"
   ]
  },
  {
   "cell_type": "code",
   "execution_count": 3,
   "metadata": {
    "ExecuteTime": {
     "end_time": "2020-03-15T06:07:23.600718Z",
     "start_time": "2020-03-15T06:07:22.988359Z"
    }
   },
   "outputs": [
    {
     "name": "stdout",
     "output_type": "stream",
     "text": [
      "bbchealth.txt\t    foxnewshealth.txt\t  latimeshealth.txt  nytimeshealth.txt\n",
      "cbchealth.txt\t    gdnhealthcare.txt\t  msnhealthnews.txt  reuters_health.txt\n",
      "cnnhealth.txt\t    goodhealth.txt\t  NBChealth.txt      usnewshealth.txt\n",
      "everydayhealth.txt  KaiserHealthNews.txt  nprhealth.txt      wsjhealth.txt\n"
     ]
    }
   ],
   "source": [
    "!ls 'data/Dataset/Health-News-Tweets/Health-Tweets/'"
   ]
  },
  {
   "cell_type": "code",
   "execution_count": 4,
   "metadata": {
    "ExecuteTime": {
     "end_time": "2020-03-15T06:07:24.161668Z",
     "start_time": "2020-03-15T06:07:24.136765Z"
    }
   },
   "outputs": [
    {
     "data": {
      "text/plain": [
       "['bbchealth.txt',\n",
       " 'cbchealth.txt',\n",
       " 'cnnhealth.txt',\n",
       " 'everydayhealth.txt',\n",
       " 'foxnewshealth.txt',\n",
       " 'gdnhealthcare.txt',\n",
       " 'goodhealth.txt',\n",
       " 'KaiserHealthNews.txt',\n",
       " 'latimeshealth.txt',\n",
       " 'msnhealthnews.txt',\n",
       " 'NBChealth.txt',\n",
       " 'nprhealth.txt',\n",
       " 'nytimeshealth.txt',\n",
       " 'reuters_health.txt',\n",
       " 'usnewshealth.txt',\n",
       " 'wsjhealth.txt']"
      ]
     },
     "execution_count": 4,
     "metadata": {},
     "output_type": "execute_result"
    }
   ],
   "source": [
    "docs = os.listdir(\"data/Dataset/Health-News-Tweets/Health-Tweets/\")\n",
    "docs"
   ]
  },
  {
   "cell_type": "code",
   "execution_count": 5,
   "metadata": {
    "ExecuteTime": {
     "end_time": "2020-03-15T06:23:28.637691Z",
     "start_time": "2020-03-15T06:23:28.631912Z"
    }
   },
   "outputs": [
    {
     "data": {
      "text/plain": [
       "16"
      ]
     },
     "execution_count": 5,
     "metadata": {},
     "output_type": "execute_result"
    }
   ],
   "source": [
    "total_docs = len(docs)\n",
    "total_docs"
   ]
  },
  {
   "cell_type": "code",
   "execution_count": 6,
   "metadata": {
    "ExecuteTime": {
     "end_time": "2020-03-15T06:07:25.867902Z",
     "start_time": "2020-03-15T06:07:25.064735Z"
    }
   },
   "outputs": [],
   "source": [
    "docs_open = {}\n",
    "for a in docs:\n",
    "    temp = open(\n",
    "        f\"data/Dataset/Health-News-Tweets/Health-Tweets/{a}\", \"r\", errors=\"ignore\"\n",
    "    ).readlines()\n",
    "    temp = [\n",
    "        re.sub(\"http:[a-zA-Z0-9\\/.\\-']*\", \"\", x.split(\"|\")[-1]).strip() for x in temp\n",
    "    ]\n",
    "    temp = [re.sub(\"[^A-Za-z0-9]+\", \" \", x) for x in temp]\n",
    "    docs_open[a.split(\".\")[0]] = temp"
   ]
  },
  {
   "cell_type": "code",
   "execution_count": 208,
   "metadata": {
    "ExecuteTime": {
     "end_time": "2020-03-15T06:07:26.277135Z",
     "start_time": "2020-03-15T06:07:26.245402Z"
    },
    "scrolled": true
   },
   "outputs": [
    {
     "data": {
      "text/plain": [
       "['breast cancer risk test devised',\n",
       " 'gp workload harming care bma poll',\n",
       " 'short people s heart risk greater ',\n",
       " 'new approach against hiv promising ',\n",
       " 'coalition undermined nhs doctors']"
      ]
     },
     "execution_count": 208,
     "metadata": {},
     "output_type": "execute_result"
    }
   ],
   "source": [
    "docs_open[\"bbchealth\"][:5]"
   ]
  },
  {
   "cell_type": "markdown",
   "metadata": {},
   "source": [
    "## Lemmatize/fix spaces/split and merge"
   ]
  },
  {
   "cell_type": "code",
   "execution_count": 8,
   "metadata": {
    "ExecuteTime": {
     "end_time": "2020-03-15T06:07:32.963487Z",
     "start_time": "2020-03-15T06:07:31.756182Z"
    }
   },
   "outputs": [],
   "source": [
    "for a in docs_open:\n",
    "    docs_open[a] = [x for x in docs_open[a] if x not in stopwords]\n",
    "    docs_open[a] = [lemmatizer.lemmatize(x).lower() for x in docs_open[a]]\n",
    "    docs_open[a] = [i for i in docs_open[a] if len(i) > 2]"
   ]
  },
  {
   "cell_type": "code",
   "execution_count": 209,
   "metadata": {
    "ExecuteTime": {
     "end_time": "2020-03-15T06:07:33.858237Z",
     "start_time": "2020-03-15T06:07:33.845709Z"
    },
    "scrolled": true
   },
   "outputs": [
    {
     "data": {
      "text/plain": [
       "['breast cancer risk test devised',\n",
       " 'gp workload harming care bma poll',\n",
       " 'short people s heart risk greater ',\n",
       " 'new approach against hiv promising ',\n",
       " 'coalition undermined nhs doctors']"
      ]
     },
     "execution_count": 209,
     "metadata": {},
     "output_type": "execute_result"
    }
   ],
   "source": [
    "docs_open[\"bbchealth\"][:5]"
   ]
  },
  {
   "cell_type": "markdown",
   "metadata": {},
   "source": [
    "## TF"
   ]
  },
  {
   "cell_type": "code",
   "execution_count": 10,
   "metadata": {
    "ExecuteTime": {
     "end_time": "2020-03-15T06:11:02.927549Z",
     "start_time": "2020-03-15T06:11:02.855829Z"
    }
   },
   "outputs": [],
   "source": [
    "corpus = []\n",
    "for a in docs_open:\n",
    "    temp = docs_open[a]\n",
    "    [corpus.extend(x.split(\" \")) for x in temp]"
   ]
  },
  {
   "cell_type": "code",
   "execution_count": 11,
   "metadata": {
    "ExecuteTime": {
     "end_time": "2020-03-15T06:11:20.897955Z",
     "start_time": "2020-03-15T06:11:20.889409Z"
    }
   },
   "outputs": [
    {
     "data": {
      "text/plain": [
       "774099"
      ]
     },
     "execution_count": 11,
     "metadata": {},
     "output_type": "execute_result"
    }
   ],
   "source": [
    "len(corpus)"
   ]
  },
  {
   "cell_type": "code",
   "execution_count": 12,
   "metadata": {
    "ExecuteTime": {
     "end_time": "2020-03-15T06:11:49.331505Z",
     "start_time": "2020-03-15T06:11:49.284851Z"
    }
   },
   "outputs": [
    {
     "data": {
      "text/plain": [
       "31442"
      ]
     },
     "execution_count": 12,
     "metadata": {},
     "output_type": "execute_result"
    }
   ],
   "source": [
    "corpus_un = list(set(corpus))\n",
    "len(corpus_un)"
   ]
  },
  {
   "cell_type": "code",
   "execution_count": 13,
   "metadata": {},
   "outputs": [],
   "source": [
    "numOfWordsA = dict.fromkeys(corpus_un, 0)"
   ]
  },
  {
   "cell_type": "code",
   "execution_count": 234,
   "metadata": {
    "scrolled": true
   },
   "outputs": [
    {
     "data": {
      "text/plain": [
       "0"
      ]
     },
     "execution_count": 234,
     "metadata": {},
     "output_type": "execute_result"
    }
   ],
   "source": [
    "numOfWordsA['instruction']"
   ]
  },
  {
   "cell_type": "code",
   "execution_count": 15,
   "metadata": {},
   "outputs": [],
   "source": [
    "del numOfWordsA[\"\"]"
   ]
  },
  {
   "cell_type": "code",
   "execution_count": 16,
   "metadata": {},
   "outputs": [
    {
     "data": {
      "text/html": [
       "<div>\n",
       "<style scoped>\n",
       "    .dataframe tbody tr th:only-of-type {\n",
       "        vertical-align: middle;\n",
       "    }\n",
       "\n",
       "    .dataframe tbody tr th {\n",
       "        vertical-align: top;\n",
       "    }\n",
       "\n",
       "    .dataframe thead th {\n",
       "        text-align: right;\n",
       "    }\n",
       "</style>\n",
       "<table border=\"1\" class=\"dataframe\">\n",
       "  <thead>\n",
       "    <tr style=\"text-align: right;\">\n",
       "      <th></th>\n",
       "      <th>instruction</th>\n",
       "      <th>jillian</th>\n",
       "      <th>queried</th>\n",
       "      <th>esophageal</th>\n",
       "      <th>unreasonable</th>\n",
       "      <th>stunned</th>\n",
       "      <th>diabeteshf</th>\n",
       "      <th>epidural</th>\n",
       "      <th>kewpie</th>\n",
       "      <th>uclaspine</th>\n",
       "      <th>...</th>\n",
       "      <th>necessity</th>\n",
       "      <th>chin</th>\n",
       "      <th>t</th>\n",
       "      <th>aptalis</th>\n",
       "      <th>irresistible</th>\n",
       "      <th>discs</th>\n",
       "      <th>oever</th>\n",
       "      <th>bartelt</th>\n",
       "      <th>chicagotribune</th>\n",
       "      <th>watchdog</th>\n",
       "    </tr>\n",
       "  </thead>\n",
       "  <tbody>\n",
       "    <tr>\n",
       "      <th>0</th>\n",
       "      <td>0</td>\n",
       "      <td>0</td>\n",
       "      <td>0</td>\n",
       "      <td>0</td>\n",
       "      <td>0</td>\n",
       "      <td>0</td>\n",
       "      <td>0</td>\n",
       "      <td>0</td>\n",
       "      <td>0</td>\n",
       "      <td>0</td>\n",
       "      <td>...</td>\n",
       "      <td>0</td>\n",
       "      <td>0</td>\n",
       "      <td>0</td>\n",
       "      <td>0</td>\n",
       "      <td>0</td>\n",
       "      <td>0</td>\n",
       "      <td>0</td>\n",
       "      <td>0</td>\n",
       "      <td>0</td>\n",
       "      <td>0</td>\n",
       "    </tr>\n",
       "  </tbody>\n",
       "</table>\n",
       "<p>1 rows × 31441 columns</p>\n",
       "</div>"
      ],
      "text/plain": [
       "   instruction  jillian  queried  esophageal  unreasonable  stunned  \\\n",
       "0            0        0        0           0             0        0   \n",
       "\n",
       "   diabeteshf  epidural  kewpie  uclaspine  ...  necessity  chin  t  aptalis  \\\n",
       "0           0         0       0          0  ...          0     0  0        0   \n",
       "\n",
       "   irresistible  discs  oever  bartelt  chicagotribune  watchdog  \n",
       "0             0      0      0        0               0         0  \n",
       "\n",
       "[1 rows x 31441 columns]"
      ]
     },
     "execution_count": 16,
     "metadata": {},
     "output_type": "execute_result"
    }
   ],
   "source": [
    "tf_frame = pd.DataFrame(numOfWordsA, index=[0])\n",
    "tf_frame.head(1)"
   ]
  },
  {
   "cell_type": "code",
   "execution_count": 17,
   "metadata": {},
   "outputs": [
    {
     "data": {
      "text/plain": [
       "0    0\n",
       "Name: video, dtype: int64"
      ]
     },
     "execution_count": 17,
     "metadata": {},
     "output_type": "execute_result"
    }
   ],
   "source": [
    "tf_frame.video"
   ]
  },
  {
   "cell_type": "code",
   "execution_count": 18,
   "metadata": {
    "scrolled": true
   },
   "outputs": [],
   "source": [
    "word_vec = list(tf_frame.columns)"
   ]
  },
  {
   "cell_type": "code",
   "execution_count": 19,
   "metadata": {
    "scrolled": true
   },
   "outputs": [
    {
     "name": "stdout",
     "output_type": "stream",
     "text": [
      "video\n"
     ]
    }
   ],
   "source": [
    "for a in word_vec:\n",
    "    if a == \"video\":\n",
    "        print(a)"
   ]
  },
  {
   "cell_type": "code",
   "execution_count": 20,
   "metadata": {},
   "outputs": [],
   "source": [
    "def wordVectorFromDoc(text):\n",
    "    total_temp = []\n",
    "    [total_temp.extend(x.split(\" \")) for x in text]\n",
    "    cons = collections.Counter(total_temp)\n",
    "    #     print(cons['breast'])\n",
    "    noWords = len(total_temp)\n",
    "    return [cons[a] / noWords for a in word_vec]"
   ]
  },
  {
   "cell_type": "code",
   "execution_count": 21,
   "metadata": {
    "scrolled": true
   },
   "outputs": [],
   "source": [
    "test = wordVectorFromDoc(docs_open[\"bbchealth\"])"
   ]
  },
  {
   "cell_type": "code",
   "execution_count": 22,
   "metadata": {},
   "outputs": [],
   "source": [
    "assert len(test) == len(tf_frame.columns)"
   ]
  },
  {
   "cell_type": "code",
   "execution_count": 23,
   "metadata": {},
   "outputs": [],
   "source": [
    "# tf_frame.loc[1] = test"
   ]
  },
  {
   "cell_type": "code",
   "execution_count": 24,
   "metadata": {},
   "outputs": [],
   "source": [
    "ind = 0\n",
    "for a in docs_open:\n",
    "    temp_add = wordVectorFromDoc(docs_open[a])\n",
    "    assert len(temp_add) == len(tf_frame.columns)\n",
    "    tf_frame.loc[ind] = temp_add\n",
    "    ind += 1"
   ]
  },
  {
   "cell_type": "code",
   "execution_count": 25,
   "metadata": {},
   "outputs": [
    {
     "data": {
      "text/html": [
       "<div>\n",
       "<style scoped>\n",
       "    .dataframe tbody tr th:only-of-type {\n",
       "        vertical-align: middle;\n",
       "    }\n",
       "\n",
       "    .dataframe tbody tr th {\n",
       "        vertical-align: top;\n",
       "    }\n",
       "\n",
       "    .dataframe thead th {\n",
       "        text-align: right;\n",
       "    }\n",
       "</style>\n",
       "<table border=\"1\" class=\"dataframe\">\n",
       "  <thead>\n",
       "    <tr style=\"text-align: right;\">\n",
       "      <th></th>\n",
       "      <th>instruction</th>\n",
       "      <th>jillian</th>\n",
       "      <th>queried</th>\n",
       "      <th>esophageal</th>\n",
       "      <th>unreasonable</th>\n",
       "      <th>stunned</th>\n",
       "      <th>diabeteshf</th>\n",
       "      <th>epidural</th>\n",
       "      <th>kewpie</th>\n",
       "      <th>uclaspine</th>\n",
       "      <th>...</th>\n",
       "      <th>necessity</th>\n",
       "      <th>chin</th>\n",
       "      <th>t</th>\n",
       "      <th>aptalis</th>\n",
       "      <th>irresistible</th>\n",
       "      <th>discs</th>\n",
       "      <th>oever</th>\n",
       "      <th>bartelt</th>\n",
       "      <th>chicagotribune</th>\n",
       "      <th>watchdog</th>\n",
       "    </tr>\n",
       "  </thead>\n",
       "  <tbody>\n",
       "    <tr>\n",
       "      <th>0</th>\n",
       "      <td>0.000000</td>\n",
       "      <td>0.000000</td>\n",
       "      <td>0.00004</td>\n",
       "      <td>0.000000</td>\n",
       "      <td>0.000000</td>\n",
       "      <td>0.0</td>\n",
       "      <td>0.0</td>\n",
       "      <td>0.000000</td>\n",
       "      <td>0.0</td>\n",
       "      <td>0.000000</td>\n",
       "      <td>...</td>\n",
       "      <td>0.000000</td>\n",
       "      <td>0.000040</td>\n",
       "      <td>0.001033</td>\n",
       "      <td>0.0</td>\n",
       "      <td>0.0</td>\n",
       "      <td>0.0</td>\n",
       "      <td>0.000000</td>\n",
       "      <td>0.0</td>\n",
       "      <td>0.0</td>\n",
       "      <td>0.000278</td>\n",
       "    </tr>\n",
       "    <tr>\n",
       "      <th>1</th>\n",
       "      <td>0.000024</td>\n",
       "      <td>0.000000</td>\n",
       "      <td>0.00000</td>\n",
       "      <td>0.000000</td>\n",
       "      <td>0.000024</td>\n",
       "      <td>0.0</td>\n",
       "      <td>0.0</td>\n",
       "      <td>0.000000</td>\n",
       "      <td>0.0</td>\n",
       "      <td>0.000000</td>\n",
       "      <td>...</td>\n",
       "      <td>0.000024</td>\n",
       "      <td>0.000000</td>\n",
       "      <td>0.002214</td>\n",
       "      <td>0.0</td>\n",
       "      <td>0.0</td>\n",
       "      <td>0.0</td>\n",
       "      <td>0.000024</td>\n",
       "      <td>0.0</td>\n",
       "      <td>0.0</td>\n",
       "      <td>0.000024</td>\n",
       "    </tr>\n",
       "    <tr>\n",
       "      <th>2</th>\n",
       "      <td>0.000000</td>\n",
       "      <td>0.000000</td>\n",
       "      <td>0.00000</td>\n",
       "      <td>0.000000</td>\n",
       "      <td>0.000000</td>\n",
       "      <td>0.0</td>\n",
       "      <td>0.0</td>\n",
       "      <td>0.000018</td>\n",
       "      <td>0.0</td>\n",
       "      <td>0.000018</td>\n",
       "      <td>...</td>\n",
       "      <td>0.000000</td>\n",
       "      <td>0.000000</td>\n",
       "      <td>0.004276</td>\n",
       "      <td>0.0</td>\n",
       "      <td>0.0</td>\n",
       "      <td>0.0</td>\n",
       "      <td>0.000000</td>\n",
       "      <td>0.0</td>\n",
       "      <td>0.0</td>\n",
       "      <td>0.000000</td>\n",
       "    </tr>\n",
       "    <tr>\n",
       "      <th>3</th>\n",
       "      <td>0.000000</td>\n",
       "      <td>0.000023</td>\n",
       "      <td>0.00000</td>\n",
       "      <td>0.000023</td>\n",
       "      <td>0.000000</td>\n",
       "      <td>0.0</td>\n",
       "      <td>0.0</td>\n",
       "      <td>0.000000</td>\n",
       "      <td>0.0</td>\n",
       "      <td>0.000000</td>\n",
       "      <td>...</td>\n",
       "      <td>0.000000</td>\n",
       "      <td>0.000000</td>\n",
       "      <td>0.003719</td>\n",
       "      <td>0.0</td>\n",
       "      <td>0.0</td>\n",
       "      <td>0.0</td>\n",
       "      <td>0.000000</td>\n",
       "      <td>0.0</td>\n",
       "      <td>0.0</td>\n",
       "      <td>0.000000</td>\n",
       "    </tr>\n",
       "    <tr>\n",
       "      <th>4</th>\n",
       "      <td>0.000000</td>\n",
       "      <td>0.000000</td>\n",
       "      <td>0.00000</td>\n",
       "      <td>0.000000</td>\n",
       "      <td>0.000000</td>\n",
       "      <td>0.0</td>\n",
       "      <td>0.0</td>\n",
       "      <td>0.000000</td>\n",
       "      <td>0.0</td>\n",
       "      <td>0.000000</td>\n",
       "      <td>...</td>\n",
       "      <td>0.000000</td>\n",
       "      <td>0.000052</td>\n",
       "      <td>0.001187</td>\n",
       "      <td>0.0</td>\n",
       "      <td>0.0</td>\n",
       "      <td>0.0</td>\n",
       "      <td>0.000000</td>\n",
       "      <td>0.0</td>\n",
       "      <td>0.0</td>\n",
       "      <td>0.000103</td>\n",
       "    </tr>\n",
       "  </tbody>\n",
       "</table>\n",
       "<p>5 rows × 31441 columns</p>\n",
       "</div>"
      ],
      "text/plain": [
       "   instruction   jillian  queried  esophageal  unreasonable  stunned  \\\n",
       "0     0.000000  0.000000  0.00004    0.000000      0.000000      0.0   \n",
       "1     0.000024  0.000000  0.00000    0.000000      0.000024      0.0   \n",
       "2     0.000000  0.000000  0.00000    0.000000      0.000000      0.0   \n",
       "3     0.000000  0.000023  0.00000    0.000023      0.000000      0.0   \n",
       "4     0.000000  0.000000  0.00000    0.000000      0.000000      0.0   \n",
       "\n",
       "   diabeteshf  epidural  kewpie  uclaspine  ...  necessity      chin  \\\n",
       "0         0.0  0.000000     0.0   0.000000  ...   0.000000  0.000040   \n",
       "1         0.0  0.000000     0.0   0.000000  ...   0.000024  0.000000   \n",
       "2         0.0  0.000018     0.0   0.000018  ...   0.000000  0.000000   \n",
       "3         0.0  0.000000     0.0   0.000000  ...   0.000000  0.000000   \n",
       "4         0.0  0.000000     0.0   0.000000  ...   0.000000  0.000052   \n",
       "\n",
       "          t  aptalis  irresistible  discs     oever  bartelt  chicagotribune  \\\n",
       "0  0.001033      0.0           0.0    0.0  0.000000      0.0             0.0   \n",
       "1  0.002214      0.0           0.0    0.0  0.000024      0.0             0.0   \n",
       "2  0.004276      0.0           0.0    0.0  0.000000      0.0             0.0   \n",
       "3  0.003719      0.0           0.0    0.0  0.000000      0.0             0.0   \n",
       "4  0.001187      0.0           0.0    0.0  0.000000      0.0             0.0   \n",
       "\n",
       "   watchdog  \n",
       "0  0.000278  \n",
       "1  0.000024  \n",
       "2  0.000000  \n",
       "3  0.000000  \n",
       "4  0.000103  \n",
       "\n",
       "[5 rows x 31441 columns]"
      ]
     },
     "execution_count": 25,
     "metadata": {},
     "output_type": "execute_result"
    }
   ],
   "source": [
    "tf_frame.head()"
   ]
  },
  {
   "cell_type": "code",
   "execution_count": 26,
   "metadata": {},
   "outputs": [
    {
     "data": {
      "text/plain": [
       "(16, 31441)"
      ]
     },
     "execution_count": 26,
     "metadata": {},
     "output_type": "execute_result"
    }
   ],
   "source": [
    "tf_frame.shape"
   ]
  },
  {
   "cell_type": "code",
   "execution_count": 27,
   "metadata": {},
   "outputs": [],
   "source": [
    "tf_frame = tf_frame.T"
   ]
  },
  {
   "cell_type": "code",
   "execution_count": 28,
   "metadata": {},
   "outputs": [
    {
     "data": {
      "text/html": [
       "<div>\n",
       "<style scoped>\n",
       "    .dataframe tbody tr th:only-of-type {\n",
       "        vertical-align: middle;\n",
       "    }\n",
       "\n",
       "    .dataframe tbody tr th {\n",
       "        vertical-align: top;\n",
       "    }\n",
       "\n",
       "    .dataframe thead th {\n",
       "        text-align: right;\n",
       "    }\n",
       "</style>\n",
       "<table border=\"1\" class=\"dataframe\">\n",
       "  <thead>\n",
       "    <tr style=\"text-align: right;\">\n",
       "      <th></th>\n",
       "      <th>0</th>\n",
       "      <th>1</th>\n",
       "      <th>2</th>\n",
       "      <th>3</th>\n",
       "      <th>4</th>\n",
       "      <th>5</th>\n",
       "      <th>6</th>\n",
       "      <th>7</th>\n",
       "      <th>8</th>\n",
       "      <th>9</th>\n",
       "      <th>10</th>\n",
       "      <th>11</th>\n",
       "      <th>12</th>\n",
       "      <th>13</th>\n",
       "      <th>14</th>\n",
       "      <th>15</th>\n",
       "    </tr>\n",
       "  </thead>\n",
       "  <tbody>\n",
       "    <tr>\n",
       "      <th>instruction</th>\n",
       "      <td>0.00000</td>\n",
       "      <td>0.000024</td>\n",
       "      <td>0.0</td>\n",
       "      <td>0.000000</td>\n",
       "      <td>0.0</td>\n",
       "      <td>0.0</td>\n",
       "      <td>0.000000</td>\n",
       "      <td>0.0</td>\n",
       "      <td>0.000000</td>\n",
       "      <td>0.00000</td>\n",
       "      <td>0.0</td>\n",
       "      <td>0.0</td>\n",
       "      <td>0.0</td>\n",
       "      <td>0.0</td>\n",
       "      <td>0.0</td>\n",
       "      <td>0.0</td>\n",
       "    </tr>\n",
       "    <tr>\n",
       "      <th>jillian</th>\n",
       "      <td>0.00000</td>\n",
       "      <td>0.000000</td>\n",
       "      <td>0.0</td>\n",
       "      <td>0.000023</td>\n",
       "      <td>0.0</td>\n",
       "      <td>0.0</td>\n",
       "      <td>0.000056</td>\n",
       "      <td>0.0</td>\n",
       "      <td>0.000017</td>\n",
       "      <td>0.00000</td>\n",
       "      <td>0.0</td>\n",
       "      <td>0.0</td>\n",
       "      <td>0.0</td>\n",
       "      <td>0.0</td>\n",
       "      <td>0.0</td>\n",
       "      <td>0.0</td>\n",
       "    </tr>\n",
       "    <tr>\n",
       "      <th>queried</th>\n",
       "      <td>0.00004</td>\n",
       "      <td>0.000000</td>\n",
       "      <td>0.0</td>\n",
       "      <td>0.000000</td>\n",
       "      <td>0.0</td>\n",
       "      <td>0.0</td>\n",
       "      <td>0.000000</td>\n",
       "      <td>0.0</td>\n",
       "      <td>0.000000</td>\n",
       "      <td>0.00000</td>\n",
       "      <td>0.0</td>\n",
       "      <td>0.0</td>\n",
       "      <td>0.0</td>\n",
       "      <td>0.0</td>\n",
       "      <td>0.0</td>\n",
       "      <td>0.0</td>\n",
       "    </tr>\n",
       "    <tr>\n",
       "      <th>esophageal</th>\n",
       "      <td>0.00000</td>\n",
       "      <td>0.000000</td>\n",
       "      <td>0.0</td>\n",
       "      <td>0.000023</td>\n",
       "      <td>0.0</td>\n",
       "      <td>0.0</td>\n",
       "      <td>0.000000</td>\n",
       "      <td>0.0</td>\n",
       "      <td>0.000034</td>\n",
       "      <td>0.00013</td>\n",
       "      <td>0.0</td>\n",
       "      <td>0.0</td>\n",
       "      <td>0.0</td>\n",
       "      <td>0.0</td>\n",
       "      <td>0.0</td>\n",
       "      <td>0.0</td>\n",
       "    </tr>\n",
       "    <tr>\n",
       "      <th>unreasonable</th>\n",
       "      <td>0.00000</td>\n",
       "      <td>0.000024</td>\n",
       "      <td>0.0</td>\n",
       "      <td>0.000000</td>\n",
       "      <td>0.0</td>\n",
       "      <td>0.0</td>\n",
       "      <td>0.000000</td>\n",
       "      <td>0.0</td>\n",
       "      <td>0.000000</td>\n",
       "      <td>0.00000</td>\n",
       "      <td>0.0</td>\n",
       "      <td>0.0</td>\n",
       "      <td>0.0</td>\n",
       "      <td>0.0</td>\n",
       "      <td>0.0</td>\n",
       "      <td>0.0</td>\n",
       "    </tr>\n",
       "  </tbody>\n",
       "</table>\n",
       "</div>"
      ],
      "text/plain": [
       "                   0         1    2         3    4    5         6    7   \\\n",
       "instruction   0.00000  0.000024  0.0  0.000000  0.0  0.0  0.000000  0.0   \n",
       "jillian       0.00000  0.000000  0.0  0.000023  0.0  0.0  0.000056  0.0   \n",
       "queried       0.00004  0.000000  0.0  0.000000  0.0  0.0  0.000000  0.0   \n",
       "esophageal    0.00000  0.000000  0.0  0.000023  0.0  0.0  0.000000  0.0   \n",
       "unreasonable  0.00000  0.000024  0.0  0.000000  0.0  0.0  0.000000  0.0   \n",
       "\n",
       "                    8        9    10   11   12   13   14   15  \n",
       "instruction   0.000000  0.00000  0.0  0.0  0.0  0.0  0.0  0.0  \n",
       "jillian       0.000017  0.00000  0.0  0.0  0.0  0.0  0.0  0.0  \n",
       "queried       0.000000  0.00000  0.0  0.0  0.0  0.0  0.0  0.0  \n",
       "esophageal    0.000034  0.00013  0.0  0.0  0.0  0.0  0.0  0.0  \n",
       "unreasonable  0.000000  0.00000  0.0  0.0  0.0  0.0  0.0  0.0  "
      ]
     },
     "execution_count": 28,
     "metadata": {},
     "output_type": "execute_result"
    }
   ],
   "source": [
    "tf_frame.head(5)"
   ]
  },
  {
   "cell_type": "code",
   "execution_count": 29,
   "metadata": {},
   "outputs": [],
   "source": [
    "# The log of the number of documents divided by the number of documents that contain the word w"
   ]
  },
  {
   "cell_type": "code",
   "execution_count": 30,
   "metadata": {},
   "outputs": [],
   "source": [
    "import math"
   ]
  },
  {
   "cell_type": "markdown",
   "metadata": {},
   "source": [
    "## IDF"
   ]
  },
  {
   "cell_type": "code",
   "execution_count": 31,
   "metadata": {},
   "outputs": [],
   "source": [
    "def idf(row):\n",
    "    row = np.array(row)\n",
    "    docs_contain = np.count_nonzero(row)\n",
    "    return math.log(16/docs_contain)"
   ]
  },
  {
   "cell_type": "code",
   "execution_count": 32,
   "metadata": {},
   "outputs": [
    {
     "data": {
      "text/plain": [
       "array([0.00000000e+00, 2.40697059e-05, 0.00000000e+00, 0.00000000e+00,\n",
       "       0.00000000e+00, 0.00000000e+00, 0.00000000e+00, 0.00000000e+00,\n",
       "       0.00000000e+00, 0.00000000e+00, 0.00000000e+00, 0.00000000e+00,\n",
       "       0.00000000e+00, 0.00000000e+00, 0.00000000e+00, 0.00000000e+00])"
      ]
     },
     "execution_count": 32,
     "metadata": {},
     "output_type": "execute_result"
    }
   ],
   "source": [
    "tf_frame.iloc[0].values"
   ]
  },
  {
   "cell_type": "code",
   "execution_count": 33,
   "metadata": {},
   "outputs": [],
   "source": [
    "idf_matrix = [idf(tf_frame.iloc[x].values) for x in range(tf_frame.shape[0])]"
   ]
  },
  {
   "cell_type": "code",
   "execution_count": 34,
   "metadata": {
    "scrolled": true
   },
   "outputs": [
    {
     "data": {
      "text/plain": [
       "31441"
      ]
     },
     "execution_count": 34,
     "metadata": {},
     "output_type": "execute_result"
    }
   ],
   "source": [
    "len(idf_matrix)"
   ]
  },
  {
   "cell_type": "code",
   "execution_count": 35,
   "metadata": {},
   "outputs": [],
   "source": [
    "tf_frame['idf'] = idf_matrix"
   ]
  },
  {
   "cell_type": "code",
   "execution_count": 210,
   "metadata": {},
   "outputs": [
    {
     "data": {
      "text/html": [
       "<div>\n",
       "<style scoped>\n",
       "    .dataframe tbody tr th:only-of-type {\n",
       "        vertical-align: middle;\n",
       "    }\n",
       "\n",
       "    .dataframe tbody tr th {\n",
       "        vertical-align: top;\n",
       "    }\n",
       "\n",
       "    .dataframe thead th {\n",
       "        text-align: right;\n",
       "    }\n",
       "</style>\n",
       "<table border=\"1\" class=\"dataframe\">\n",
       "  <thead>\n",
       "    <tr style=\"text-align: right;\">\n",
       "      <th></th>\n",
       "      <th>0</th>\n",
       "      <th>idf</th>\n",
       "    </tr>\n",
       "  </thead>\n",
       "  <tbody>\n",
       "    <tr>\n",
       "      <th>instruction</th>\n",
       "      <td>0.00000</td>\n",
       "      <td>2.772589</td>\n",
       "    </tr>\n",
       "    <tr>\n",
       "      <th>jillian</th>\n",
       "      <td>0.00000</td>\n",
       "      <td>1.673976</td>\n",
       "    </tr>\n",
       "    <tr>\n",
       "      <th>queried</th>\n",
       "      <td>0.00011</td>\n",
       "      <td>2.772589</td>\n",
       "    </tr>\n",
       "    <tr>\n",
       "      <th>esophageal</th>\n",
       "      <td>0.00000</td>\n",
       "      <td>1.673976</td>\n",
       "    </tr>\n",
       "    <tr>\n",
       "      <th>unreasonable</th>\n",
       "      <td>0.00000</td>\n",
       "      <td>2.772589</td>\n",
       "    </tr>\n",
       "  </tbody>\n",
       "</table>\n",
       "</div>"
      ],
      "text/plain": [
       "                    0       idf\n",
       "instruction   0.00000  2.772589\n",
       "jillian       0.00000  1.673976\n",
       "queried       0.00011  2.772589\n",
       "esophageal    0.00000  1.673976\n",
       "unreasonable  0.00000  2.772589"
      ]
     },
     "execution_count": 210,
     "metadata": {},
     "output_type": "execute_result"
    }
   ],
   "source": [
    "tf_frame[[0,'idf']].head(5)"
   ]
  },
  {
   "cell_type": "markdown",
   "metadata": {},
   "source": [
    "## TFIDF"
   ]
  },
  {
   "cell_type": "code",
   "execution_count": 48,
   "metadata": {},
   "outputs": [],
   "source": [
    "for a in range(16):\n",
    "    tf_frame[a] = tf_frame[a].mul(tf_frame['idf'])"
   ]
  },
  {
   "cell_type": "code",
   "execution_count": 211,
   "metadata": {},
   "outputs": [
    {
     "data": {
      "text/html": [
       "<div>\n",
       "<style scoped>\n",
       "    .dataframe tbody tr th:only-of-type {\n",
       "        vertical-align: middle;\n",
       "    }\n",
       "\n",
       "    .dataframe tbody tr th {\n",
       "        vertical-align: top;\n",
       "    }\n",
       "\n",
       "    .dataframe thead th {\n",
       "        text-align: right;\n",
       "    }\n",
       "</style>\n",
       "<table border=\"1\" class=\"dataframe\">\n",
       "  <thead>\n",
       "    <tr style=\"text-align: right;\">\n",
       "      <th></th>\n",
       "      <th>0</th>\n",
       "      <th>1</th>\n",
       "      <th>2</th>\n",
       "      <th>3</th>\n",
       "      <th>4</th>\n",
       "      <th>5</th>\n",
       "      <th>6</th>\n",
       "      <th>7</th>\n",
       "      <th>8</th>\n",
       "      <th>9</th>\n",
       "      <th>10</th>\n",
       "      <th>11</th>\n",
       "      <th>12</th>\n",
       "      <th>13</th>\n",
       "      <th>14</th>\n",
       "      <th>15</th>\n",
       "      <th>idf</th>\n",
       "    </tr>\n",
       "  </thead>\n",
       "  <tbody>\n",
       "    <tr>\n",
       "      <th>instruction</th>\n",
       "      <td>0.00000</td>\n",
       "      <td>0.000067</td>\n",
       "      <td>0.0</td>\n",
       "      <td>0.000000</td>\n",
       "      <td>0.0</td>\n",
       "      <td>0.0</td>\n",
       "      <td>0.000000</td>\n",
       "      <td>0.0</td>\n",
       "      <td>0.000000</td>\n",
       "      <td>0.000000</td>\n",
       "      <td>0.0</td>\n",
       "      <td>0.0</td>\n",
       "      <td>0.0</td>\n",
       "      <td>0.0</td>\n",
       "      <td>0.0</td>\n",
       "      <td>0.0</td>\n",
       "      <td>2.772589</td>\n",
       "    </tr>\n",
       "    <tr>\n",
       "      <th>jillian</th>\n",
       "      <td>0.00000</td>\n",
       "      <td>0.000000</td>\n",
       "      <td>0.0</td>\n",
       "      <td>0.000038</td>\n",
       "      <td>0.0</td>\n",
       "      <td>0.0</td>\n",
       "      <td>0.000094</td>\n",
       "      <td>0.0</td>\n",
       "      <td>0.000029</td>\n",
       "      <td>0.000000</td>\n",
       "      <td>0.0</td>\n",
       "      <td>0.0</td>\n",
       "      <td>0.0</td>\n",
       "      <td>0.0</td>\n",
       "      <td>0.0</td>\n",
       "      <td>0.0</td>\n",
       "      <td>1.673976</td>\n",
       "    </tr>\n",
       "    <tr>\n",
       "      <th>queried</th>\n",
       "      <td>0.00011</td>\n",
       "      <td>0.000000</td>\n",
       "      <td>0.0</td>\n",
       "      <td>0.000000</td>\n",
       "      <td>0.0</td>\n",
       "      <td>0.0</td>\n",
       "      <td>0.000000</td>\n",
       "      <td>0.0</td>\n",
       "      <td>0.000000</td>\n",
       "      <td>0.000000</td>\n",
       "      <td>0.0</td>\n",
       "      <td>0.0</td>\n",
       "      <td>0.0</td>\n",
       "      <td>0.0</td>\n",
       "      <td>0.0</td>\n",
       "      <td>0.0</td>\n",
       "      <td>2.772589</td>\n",
       "    </tr>\n",
       "    <tr>\n",
       "      <th>esophageal</th>\n",
       "      <td>0.00000</td>\n",
       "      <td>0.000000</td>\n",
       "      <td>0.0</td>\n",
       "      <td>0.000038</td>\n",
       "      <td>0.0</td>\n",
       "      <td>0.0</td>\n",
       "      <td>0.000000</td>\n",
       "      <td>0.0</td>\n",
       "      <td>0.000058</td>\n",
       "      <td>0.000218</td>\n",
       "      <td>0.0</td>\n",
       "      <td>0.0</td>\n",
       "      <td>0.0</td>\n",
       "      <td>0.0</td>\n",
       "      <td>0.0</td>\n",
       "      <td>0.0</td>\n",
       "      <td>1.673976</td>\n",
       "    </tr>\n",
       "    <tr>\n",
       "      <th>unreasonable</th>\n",
       "      <td>0.00000</td>\n",
       "      <td>0.000067</td>\n",
       "      <td>0.0</td>\n",
       "      <td>0.000000</td>\n",
       "      <td>0.0</td>\n",
       "      <td>0.0</td>\n",
       "      <td>0.000000</td>\n",
       "      <td>0.0</td>\n",
       "      <td>0.000000</td>\n",
       "      <td>0.000000</td>\n",
       "      <td>0.0</td>\n",
       "      <td>0.0</td>\n",
       "      <td>0.0</td>\n",
       "      <td>0.0</td>\n",
       "      <td>0.0</td>\n",
       "      <td>0.0</td>\n",
       "      <td>2.772589</td>\n",
       "    </tr>\n",
       "  </tbody>\n",
       "</table>\n",
       "</div>"
      ],
      "text/plain": [
       "                    0         1    2         3    4    5         6    7  \\\n",
       "instruction   0.00000  0.000067  0.0  0.000000  0.0  0.0  0.000000  0.0   \n",
       "jillian       0.00000  0.000000  0.0  0.000038  0.0  0.0  0.000094  0.0   \n",
       "queried       0.00011  0.000000  0.0  0.000000  0.0  0.0  0.000000  0.0   \n",
       "esophageal    0.00000  0.000000  0.0  0.000038  0.0  0.0  0.000000  0.0   \n",
       "unreasonable  0.00000  0.000067  0.0  0.000000  0.0  0.0  0.000000  0.0   \n",
       "\n",
       "                     8         9   10   11   12   13   14   15       idf  \n",
       "instruction   0.000000  0.000000  0.0  0.0  0.0  0.0  0.0  0.0  2.772589  \n",
       "jillian       0.000029  0.000000  0.0  0.0  0.0  0.0  0.0  0.0  1.673976  \n",
       "queried       0.000000  0.000000  0.0  0.0  0.0  0.0  0.0  0.0  2.772589  \n",
       "esophageal    0.000058  0.000218  0.0  0.0  0.0  0.0  0.0  0.0  1.673976  \n",
       "unreasonable  0.000000  0.000000  0.0  0.0  0.0  0.0  0.0  0.0  2.772589  "
      ]
     },
     "execution_count": 211,
     "metadata": {},
     "output_type": "execute_result"
    }
   ],
   "source": [
    "tf_frame.head(5)"
   ]
  },
  {
   "cell_type": "markdown",
   "metadata": {},
   "source": [
    "# Hierarchical Clustering"
   ]
  },
  {
   "cell_type": "code",
   "execution_count": 60,
   "metadata": {},
   "outputs": [],
   "source": [
    "from scipy.cluster.hierarchy import dendrogram, linkage\n",
    "from matplotlib import pyplot as plt"
   ]
  },
  {
   "cell_type": "code",
   "execution_count": 61,
   "metadata": {},
   "outputs": [],
   "source": [
    "linked = linkage(tf_frame, 'single')"
   ]
  },
  {
   "cell_type": "code",
   "execution_count": 64,
   "metadata": {
    "scrolled": true
   },
   "outputs": [
    {
     "data": {
      "image/png": "[encoded data removed]",
      "text/plain": [
       "<Figure size 720x504 with 1 Axes>"
      ]
     },
     "metadata": {
      "needs_background": "light"
     },
     "output_type": "display_data"
    }
   ],
   "source": [
    "# labelList = range(16)\n",
    "\n",
    "plt.figure(figsize=(10, 7))\n",
    "dendrogram(linked,\n",
    "            orientation='top',\n",
    "#             labels=labelList,\n",
    "            distance_sort='descending',\n",
    "            show_leaf_counts=True)\n",
    "plt.show()"
   ]
  },
  {
   "cell_type": "markdown",
   "metadata": {},
   "source": [
    "# Expectation Maximization"
   ]
  },
  {
   "cell_type": "code",
   "execution_count": 170,
   "metadata": {},
   "outputs": [],
   "source": [
    "\n",
    "from sklearn.cluster import MiniBatchKMeans\n",
    "from sklearn.decomposition import PCA\n",
    "from sklearn.manifold import TSNE"
   ]
  },
  {
   "cell_type": "markdown",
   "metadata": {},
   "source": [
    "## Find optimal clusters"
   ]
  },
  {
   "cell_type": "code",
   "execution_count": 168,
   "metadata": {},
   "outputs": [
    {
     "name": "stdout",
     "output_type": "stream",
     "text": [
      "Fit 2 clusters\n",
      "Fit 4 clusters\n",
      "Fit 6 clusters\n",
      "Fit 8 clusters\n",
      "Fit 10 clusters\n"
     ]
    },
    {
     "data": {
      "image/png": "[encoded data removed]",
      "text/plain": [
       "<Figure size 432x288 with 1 Axes>"
      ]
     },
     "metadata": {
      "needs_background": "light"
     },
     "output_type": "display_data"
    }
   ],
   "source": [
    "def find_optimal_clusters(data, max_k):\n",
    "    iters = range(2, max_k+1, 2)\n",
    "    \n",
    "    sse = []\n",
    "    for k in iters:\n",
    "        sse.append(MiniBatchKMeans(n_clusters=k, init_size=1024, batch_size=2048, random_state=20).fit(data).inertia_)\n",
    "        print('Fit {} clusters'.format(k))\n",
    "        \n",
    "    f, ax = plt.subplots(1, 1)\n",
    "    ax.plot(iters, sse, marker='o')\n",
    "    ax.set_xlabel('Cluster Centers')\n",
    "    ax.set_xticks(iters)\n",
    "    ax.set_xticklabels(iters)\n",
    "    ax.set_ylabel('SSE')\n",
    "    ax.set_title('SSE by Cluster Center Plot')\n",
    "    \n",
    "find_optimal_clusters(tf_frame, 10)"
   ]
  },
  {
   "cell_type": "code",
   "execution_count": 173,
   "metadata": {},
   "outputs": [],
   "source": [
    "clusters = MiniBatchKMeans(n_clusters=8, init_size=1024, batch_size=2048, random_state=20).fit_predict(tf_frame)\n",
    "\n"
   ]
  },
  {
   "cell_type": "code",
   "execution_count": 193,
   "metadata": {
    "scrolled": true
   },
   "outputs": [],
   "source": [
    "tf_frame_new = tf_frame.reset_index()"
   ]
  },
  {
   "cell_type": "code",
   "execution_count": 199,
   "metadata": {},
   "outputs": [],
   "source": [
    "list_words = tf_frame_new['index'].values"
   ]
  },
  {
   "cell_type": "code",
   "execution_count": 203,
   "metadata": {},
   "outputs": [],
   "source": [
    "d_clusters = {x:[] for x in range(8)}"
   ]
  },
  {
   "cell_type": "code",
   "execution_count": 204,
   "metadata": {},
   "outputs": [
    {
     "data": {
      "text/plain": [
       "{0: [], 1: [], 2: [], 3: [], 4: [], 5: [], 6: [], 7: []}"
      ]
     },
     "execution_count": 204,
     "metadata": {},
     "output_type": "execute_result"
    }
   ],
   "source": [
    "d_clusters"
   ]
  },
  {
   "cell_type": "code",
   "execution_count": 206,
   "metadata": {},
   "outputs": [],
   "source": [
    "for a in range(len(clusters)):\n",
    "    d_clusters[clusters[a]].append(list_words[a])"
   ]
  },
  {
   "cell_type": "code",
   "execution_count": 214,
   "metadata": {
    "scrolled": true
   },
   "outputs": [
    {
     "data": {
      "text/plain": [
       "['instruction', 'queried', 'unreasonable', 'stunned', 'diabeteshf']"
      ]
     },
     "execution_count": 214,
     "metadata": {},
     "output_type": "execute_result"
    }
   ],
   "source": [
    "d_clusters[0][:5]"
   ]
  },
  {
   "cell_type": "code",
   "execution_count": 215,
   "metadata": {},
   "outputs": [
    {
     "data": {
      "text/plain": [
       "['struck', 'communities', 'transition', 'sky', 'sober']"
      ]
     },
     "execution_count": 215,
     "metadata": {},
     "output_type": "execute_result"
    }
   ],
   "source": [
    "d_clusters[1][:5]"
   ]
  },
  {
   "cell_type": "code",
   "execution_count": 216,
   "metadata": {},
   "outputs": [
    {
     "data": {
      "text/plain": [
       "['jillian', 'esophageal', 'backers', 'molly', 'brokers']"
      ]
     },
     "execution_count": 216,
     "metadata": {},
     "output_type": "execute_result"
    }
   ],
   "source": [
    "d_clusters[2][:5]"
   ]
  },
  {
   "cell_type": "code",
   "execution_count": 217,
   "metadata": {},
   "outputs": [
    {
     "data": {
      "text/plain": [
       "['visit', 'powerful', 'drug', 're', 'look']"
      ]
     },
     "execution_count": 217,
     "metadata": {},
     "output_type": "execute_result"
    }
   ],
   "source": [
    "d_clusters[3][:5]"
   ]
  },
  {
   "cell_type": "code",
   "execution_count": 218,
   "metadata": {},
   "outputs": [
    {
     "data": {
      "text/plain": [
       "['phillips', 'declaration', 'truce', 'myriad', 'unsuccessful']"
      ]
     },
     "execution_count": 218,
     "metadata": {},
     "output_type": "execute_result"
    }
   ],
   "source": [
    "d_clusters[4][:5]"
   ]
  },
  {
   "cell_type": "code",
   "execution_count": 219,
   "metadata": {},
   "outputs": [
    {
     "data": {
      "text/plain": [
       "['epidural', 'boomer', 'multivitamins', 'vitro', 'ow']"
      ]
     },
     "execution_count": 219,
     "metadata": {},
     "output_type": "execute_result"
    }
   ],
   "source": [
    "d_clusters[5][:5]"
   ]
  },
  {
   "cell_type": "code",
   "execution_count": 220,
   "metadata": {},
   "outputs": [
    {
     "data": {
      "text/plain": [
       "['bolster', 'superfood', 'described', 'reasonable', 'hearty']"
      ]
     },
     "execution_count": 220,
     "metadata": {},
     "output_type": "execute_result"
    }
   ],
   "source": [
    "d_clusters[6][:5]"
   ]
  },
  {
   "cell_type": "code",
   "execution_count": 221,
   "metadata": {},
   "outputs": [
    {
     "data": {
      "text/plain": [
       "['western', 'turned', 'pictures', 'charge', 'military']"
      ]
     },
     "execution_count": 221,
     "metadata": {},
     "output_type": "execute_result"
    }
   ],
   "source": [
    "d_clusters[7][:5]"
   ]
  },
  {
   "cell_type": "markdown",
   "metadata": {},
   "source": [
    "#  Decision Tree\n",
    "\n",
    "- a) F - Score\n",
    "- b) ROC & AUC Curve\n",
    "- c) R2\n",
    "- d) Error Rate\n",
    "- e) Accuracy\n",
    "\n"
   ]
  },
  {
   "cell_type": "code",
   "execution_count": 224,
   "metadata": {
    "ExecuteTime": {
     "end_time": "2020-03-11T13:57:18.033508Z",
     "start_time": "2020-03-11T13:57:18.029341Z"
    }
   },
   "outputs": [],
   "source": [
    "health = pd.read_csv(\"data/Dataset/diabetes/diabetes_simplied.csv\")"
   ]
  },
  {
   "cell_type": "code",
   "execution_count": 225,
   "metadata": {
    "ExecuteTime": {
     "end_time": "2020-03-11T13:57:20.128883Z",
     "start_time": "2020-03-11T13:57:20.115752Z"
    }
   },
   "outputs": [
    {
     "data": {
      "text/html": [
       "<div>\n",
       "<style scoped>\n",
       "    .dataframe tbody tr th:only-of-type {\n",
       "        vertical-align: middle;\n",
       "    }\n",
       "\n",
       "    .dataframe tbody tr th {\n",
       "        vertical-align: top;\n",
       "    }\n",
       "\n",
       "    .dataframe thead th {\n",
       "        text-align: right;\n",
       "    }\n",
       "</style>\n",
       "<table border=\"1\" class=\"dataframe\">\n",
       "  <thead>\n",
       "    <tr style=\"text-align: right;\">\n",
       "      <th></th>\n",
       "      <th>Glucose</th>\n",
       "      <th>BloodPressure</th>\n",
       "      <th>Insulin</th>\n",
       "      <th>BMI</th>\n",
       "      <th>Age</th>\n",
       "      <th>Outcome</th>\n",
       "    </tr>\n",
       "  </thead>\n",
       "  <tbody>\n",
       "    <tr>\n",
       "      <th>0</th>\n",
       "      <td>148</td>\n",
       "      <td>72</td>\n",
       "      <td>0</td>\n",
       "      <td>33.6</td>\n",
       "      <td>50</td>\n",
       "      <td>1</td>\n",
       "    </tr>\n",
       "    <tr>\n",
       "      <th>1</th>\n",
       "      <td>85</td>\n",
       "      <td>66</td>\n",
       "      <td>0</td>\n",
       "      <td>26.6</td>\n",
       "      <td>31</td>\n",
       "      <td>0</td>\n",
       "    </tr>\n",
       "    <tr>\n",
       "      <th>2</th>\n",
       "      <td>183</td>\n",
       "      <td>64</td>\n",
       "      <td>0</td>\n",
       "      <td>23.3</td>\n",
       "      <td>32</td>\n",
       "      <td>1</td>\n",
       "    </tr>\n",
       "    <tr>\n",
       "      <th>3</th>\n",
       "      <td>89</td>\n",
       "      <td>66</td>\n",
       "      <td>94</td>\n",
       "      <td>28.1</td>\n",
       "      <td>21</td>\n",
       "      <td>0</td>\n",
       "    </tr>\n",
       "    <tr>\n",
       "      <th>4</th>\n",
       "      <td>137</td>\n",
       "      <td>40</td>\n",
       "      <td>168</td>\n",
       "      <td>43.1</td>\n",
       "      <td>33</td>\n",
       "      <td>1</td>\n",
       "    </tr>\n",
       "  </tbody>\n",
       "</table>\n",
       "</div>"
      ],
      "text/plain": [
       "   Glucose  BloodPressure  Insulin   BMI  Age  Outcome\n",
       "0      148             72        0  33.6   50        1\n",
       "1       85             66        0  26.6   31        0\n",
       "2      183             64        0  23.3   32        1\n",
       "3       89             66       94  28.1   21        0\n",
       "4      137             40      168  43.1   33        1"
      ]
     },
     "execution_count": 225,
     "metadata": {},
     "output_type": "execute_result"
    }
   ],
   "source": [
    "health.head(5)"
   ]
  },
  {
   "cell_type": "code",
   "execution_count": 226,
   "metadata": {
    "ExecuteTime": {
     "end_time": "2020-03-11T14:23:49.311686Z",
     "start_time": "2020-03-11T14:23:49.303581Z"
    }
   },
   "outputs": [
    {
     "name": "stdout",
     "output_type": "stream",
     "text": [
      "Glucose 0\n",
      "BloodPressure 0\n",
      "Insulin 0\n",
      "BMI 0\n",
      "Age 0\n",
      "Outcome 0\n"
     ]
    }
   ],
   "source": [
    "for a in health.columns:\n",
    "    print(a, health[a].isna().sum())"
   ]
  },
  {
   "cell_type": "code",
   "execution_count": 227,
   "metadata": {
    "ExecuteTime": {
     "end_time": "2020-03-11T14:09:50.019025Z",
     "start_time": "2020-03-11T14:09:50.015398Z"
    }
   },
   "outputs": [
    {
     "data": {
      "text/plain": [
       "array([1, 0])"
      ]
     },
     "execution_count": 227,
     "metadata": {},
     "output_type": "execute_result"
    }
   ],
   "source": [
    "health[\"Outcome\"].unique()"
   ]
  },
  {
   "cell_type": "code",
   "execution_count": 228,
   "metadata": {
    "ExecuteTime": {
     "end_time": "2020-03-11T14:21:21.380727Z",
     "start_time": "2020-03-11T14:21:21.375378Z"
    }
   },
   "outputs": [],
   "source": [
    "from sklearn.model_selection import train_test_split\n",
    "from sklearn.tree import DecisionTreeClassifier\n",
    "from sklearn.ensemble import AdaBoostClassifier"
   ]
  },
  {
   "cell_type": "code",
   "execution_count": 229,
   "metadata": {
    "ExecuteTime": {
     "end_time": "2020-03-11T14:21:56.385784Z",
     "start_time": "2020-03-11T14:21:56.381074Z"
    }
   },
   "outputs": [],
   "source": [
    "X_train, X_test, y_train, y_test = train_test_split(\n",
    "    health.drop([\"Outcome\"], axis=1), health[\"Outcome\"], test_size=0.33, random_state=42\n",
    ")"
   ]
  },
  {
   "cell_type": "code",
   "execution_count": 230,
   "metadata": {
    "ExecuteTime": {
     "end_time": "2020-03-11T14:21:56.399475Z",
     "start_time": "2020-03-11T14:21:56.387024Z"
    }
   },
   "outputs": [
    {
     "data": {
      "text/plain": [
       "DecisionTreeClassifier(class_weight=None, criterion='gini', max_depth=None,\n",
       "                       max_features=None, max_leaf_nodes=None,\n",
       "                       min_impurity_decrease=0.0, min_impurity_split=None,\n",
       "                       min_samples_leaf=1, min_samples_split=2,\n",
       "                       min_weight_fraction_leaf=0.0, presort=False,\n",
       "                       random_state=None, splitter='best')"
      ]
     },
     "execution_count": 230,
     "metadata": {},
     "output_type": "execute_result"
    }
   ],
   "source": [
    "clf = DecisionTreeClassifier()\n",
    "clf.fit(X_train, y_train)"
   ]
  },
  {
   "cell_type": "code",
   "execution_count": 79,
   "metadata": {
    "ExecuteTime": {
     "end_time": "2020-03-11T14:21:56.407615Z",
     "start_time": "2020-03-11T14:21:56.400681Z"
    }
   },
   "outputs": [],
   "source": [
    "y_pred = clf.predict(X_test)"
   ]
  },
  {
   "cell_type": "markdown",
   "metadata": {},
   "source": [
    "## F1"
   ]
  },
  {
   "cell_type": "code",
   "execution_count": null,
   "metadata": {
    "ExecuteTime": {
     "end_time": "2020-03-11T14:21:56.420269Z",
     "start_time": "2020-03-11T14:21:56.408781Z"
    }
   },
   "outputs": [],
   "source": [
    "from sklearn.metrics import f1_score\n",
    "\n",
    "f1_score(y_test, y_pred)"
   ]
  },
  {
   "cell_type": "markdown",
   "metadata": {},
   "source": [
    "## Roc"
   ]
  },
  {
   "cell_type": "code",
   "execution_count": 81,
   "metadata": {
    "ExecuteTime": {
     "end_time": "2020-03-11T14:21:56.430659Z",
     "start_time": "2020-03-11T14:21:56.421424Z"
    }
   },
   "outputs": [
    {
     "data": {
      "text/plain": [
       "0.6623062015503876"
      ]
     },
     "execution_count": 81,
     "metadata": {},
     "output_type": "execute_result"
    }
   ],
   "source": [
    "from sklearn.metrics import roc_auc_score\n",
    "\n",
    "roc_auc_score(y_test, y_pred)"
   ]
  },
  {
   "cell_type": "markdown",
   "metadata": {},
   "source": [
    "## R2"
   ]
  },
  {
   "cell_type": "code",
   "execution_count": 82,
   "metadata": {
    "ExecuteTime": {
     "end_time": "2020-03-11T14:21:56.444243Z",
     "start_time": "2020-03-11T14:21:56.431672Z"
    }
   },
   "outputs": [
    {
     "data": {
      "text/plain": [
       "-0.44158361018826175"
      ]
     },
     "execution_count": 82,
     "metadata": {},
     "output_type": "execute_result"
    }
   ],
   "source": [
    "from sklearn.metrics import r2_score\n",
    "\n",
    "r2_score(y_test, y_pred)"
   ]
  },
  {
   "cell_type": "markdown",
   "metadata": {},
   "source": [
    "## Accuracy"
   ]
  },
  {
   "cell_type": "code",
   "execution_count": 83,
   "metadata": {
    "ExecuteTime": {
     "end_time": "2020-03-11T14:21:56.455505Z",
     "start_time": "2020-03-11T14:21:56.445661Z"
    }
   },
   "outputs": [
    {
     "data": {
      "text/plain": [
       "0.6771653543307087"
      ]
     },
     "execution_count": 83,
     "metadata": {},
     "output_type": "execute_result"
    }
   ],
   "source": [
    "from sklearn.metrics import accuracy_score\n",
    "\n",
    "accuracy_score(y_test, y_pred)"
   ]
  },
  {
   "cell_type": "markdown",
   "metadata": {},
   "source": [
    "#  Adaboost\n",
    "\n",
    "- a) F - Score\n",
    "- b) ROC & AUC Curve\n",
    "- c) R2\n",
    "- d) Error Rate\n",
    "- e) Accuracy\n",
    "\n"
   ]
  },
  {
   "cell_type": "code",
   "execution_count": 84,
   "metadata": {
    "ExecuteTime": {
     "end_time": "2020-03-11T14:21:56.520584Z",
     "start_time": "2020-03-11T14:21:56.456576Z"
    }
   },
   "outputs": [
    {
     "data": {
      "text/plain": [
       "AdaBoostClassifier(algorithm='SAMME.R', base_estimator=None, learning_rate=1.0,\n",
       "                   n_estimators=50, random_state=None)"
      ]
     },
     "execution_count": 84,
     "metadata": {},
     "output_type": "execute_result"
    }
   ],
   "source": [
    "clf = AdaBoostClassifier()\n",
    "clf.fit(X_train, y_train)"
   ]
  },
  {
   "cell_type": "code",
   "execution_count": 85,
   "metadata": {
    "ExecuteTime": {
     "end_time": "2020-03-11T14:21:56.530249Z",
     "start_time": "2020-03-11T14:21:56.521675Z"
    }
   },
   "outputs": [],
   "source": [
    "y_pred = clf.predict(X_test)"
   ]
  },
  {
   "cell_type": "markdown",
   "metadata": {},
   "source": [
    "## F1"
   ]
  },
  {
   "cell_type": "code",
   "execution_count": 86,
   "metadata": {
    "ExecuteTime": {
     "end_time": "2020-03-11T14:21:56.536234Z",
     "start_time": "2020-03-11T14:21:56.531328Z"
    }
   },
   "outputs": [
    {
     "data": {
      "text/plain": [
       "0.6162790697674418"
      ]
     },
     "execution_count": 86,
     "metadata": {},
     "output_type": "execute_result"
    }
   ],
   "source": [
    "from sklearn.metrics import f1_score\n",
    "\n",
    "f1_score(y_test, y_pred)"
   ]
  },
  {
   "cell_type": "markdown",
   "metadata": {},
   "source": [
    "## Roc"
   ]
  },
  {
   "cell_type": "code",
   "execution_count": 87,
   "metadata": {
    "ExecuteTime": {
     "end_time": "2020-03-11T14:21:56.547190Z",
     "start_time": "2020-03-11T14:21:56.537288Z"
    }
   },
   "outputs": [
    {
     "data": {
      "text/plain": [
       "0.7099252491694352"
      ]
     },
     "execution_count": 87,
     "metadata": {},
     "output_type": "execute_result"
    }
   ],
   "source": [
    "from sklearn.metrics import roc_auc_score\n",
    "\n",
    "roc_auc_score(y_test, y_pred)"
   ]
  },
  {
   "cell_type": "markdown",
   "metadata": {},
   "source": [
    "## R2"
   ]
  },
  {
   "cell_type": "code",
   "execution_count": 88,
   "metadata": {
    "ExecuteTime": {
     "end_time": "2020-03-11T14:21:56.557160Z",
     "start_time": "2020-03-11T14:21:56.548317Z"
    }
   },
   "outputs": [
    {
     "data": {
      "text/plain": [
       "-0.16029900332225955"
      ]
     },
     "execution_count": 88,
     "metadata": {},
     "output_type": "execute_result"
    }
   ],
   "source": [
    "from sklearn.metrics import r2_score\n",
    "\n",
    "r2_score(y_test, y_pred)"
   ]
  },
  {
   "cell_type": "markdown",
   "metadata": {},
   "source": [
    "## Accuracy"
   ]
  },
  {
   "cell_type": "code",
   "execution_count": 89,
   "metadata": {
    "ExecuteTime": {
     "end_time": "2020-03-11T14:21:56.568131Z",
     "start_time": "2020-03-11T14:21:56.558183Z"
    }
   },
   "outputs": [
    {
     "data": {
      "text/plain": [
       "0.7401574803149606"
      ]
     },
     "execution_count": 89,
     "metadata": {},
     "output_type": "execute_result"
    }
   ],
   "source": [
    "from sklearn.metrics import accuracy_score\n",
    "\n",
    "accuracy_score(y_test, y_pred)"
   ]
  }
 ],
 "metadata": {
  "kernelspec": {
   "display_name": "Python 3",
   "language": "python",
   "name": "python3"
  },
  "language_info": {
   "codemirror_mode": {
    "name": "ipython",
    "version": 3
   },
   "file_extension": ".py",
   "mimetype": "text/x-python",
   "name": "python",
   "nbconvert_exporter": "python",
   "pygments_lexer": "ipython3",
   "version": "3.7.6"
  },
  "toc": {
   "base_numbering": 1,
   "nav_menu": {},
   "number_sections": true,
   "sideBar": true,
   "skip_h1_title": false,
   "title_cell": "Table of Contents",
   "title_sidebar": "Contents",
   "toc_cell": true,
   "toc_position": {},
   "toc_section_display": true,
   "toc_window_display": true
  },
  "widgets": {
   "application/vnd.jupyter.widget-state+json": {
    "state": {},
    "version_major": 2,
    "version_minor": 0
   }
  }
 },
 "nbformat": 4,
 "nbformat_minor": 4
}
