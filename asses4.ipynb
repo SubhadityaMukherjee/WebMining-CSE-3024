{
 "cells": [
  {
   "cell_type": "markdown",
   "metadata": {
    "toc": true
   },
   "source": [
    "<h1>Table of Contents<span class=\"tocSkip\"></span></h1>\n",
    "<div class=\"toc\"><ul class=\"toc-item\"><li><span><a href=\"#Question-1\" data-toc-modified-id=\"Question-1-1\"><span class=\"toc-item-num\">1&nbsp;&nbsp;</span>Question 1</a></span><ul class=\"toc-item\"><li><span><a href=\"#Decision-tree\" data-toc-modified-id=\"Decision-tree-1.1\"><span class=\"toc-item-num\">1.1&nbsp;&nbsp;</span>Decision tree</a></span><ul class=\"toc-item\"><li><span><a href=\"#Cross-val\" data-toc-modified-id=\"Cross-val-1.1.1\"><span class=\"toc-item-num\">1.1.1&nbsp;&nbsp;</span>Cross val</a></span></li><li><span><a href=\"#confusion-matrix\" data-toc-modified-id=\"confusion-matrix-1.1.2\"><span class=\"toc-item-num\">1.1.2&nbsp;&nbsp;</span>confusion matrix</a></span></li><li><span><a href=\"#Prec,-Recall,-Fscore\" data-toc-modified-id=\"Prec,-Recall,-Fscore-1.1.3\"><span class=\"toc-item-num\">1.1.3&nbsp;&nbsp;</span>Prec, Recall, Fscore</a></span></li><li><span><a href=\"#MSE,-accuracy\" data-toc-modified-id=\"MSE,-accuracy-1.1.4\"><span class=\"toc-item-num\">1.1.4&nbsp;&nbsp;</span>MSE, accuracy</a></span></li><li><span><a href=\"#ROC\" data-toc-modified-id=\"ROC-1.1.5\"><span class=\"toc-item-num\">1.1.5&nbsp;&nbsp;</span>ROC</a></span></li><li><span><a href=\"#AUC\" data-toc-modified-id=\"AUC-1.1.6\"><span class=\"toc-item-num\">1.1.6&nbsp;&nbsp;</span>AUC</a></span></li></ul></li><li><span><a href=\"#Naive-Bayes\" data-toc-modified-id=\"Naive-Bayes-1.2\"><span class=\"toc-item-num\">1.2&nbsp;&nbsp;</span>Naive Bayes</a></span><ul class=\"toc-item\"><li><span><a href=\"#Cross-val\" data-toc-modified-id=\"Cross-val-1.2.1\"><span class=\"toc-item-num\">1.2.1&nbsp;&nbsp;</span>Cross val</a></span></li><li><span><a href=\"#confusion-matrix\" data-toc-modified-id=\"confusion-matrix-1.2.2\"><span class=\"toc-item-num\">1.2.2&nbsp;&nbsp;</span>confusion matrix</a></span></li><li><span><a href=\"#Prec,-Recall,-Fscore\" data-toc-modified-id=\"Prec,-Recall,-Fscore-1.2.3\"><span class=\"toc-item-num\">1.2.3&nbsp;&nbsp;</span>Prec, Recall, Fscore</a></span></li><li><span><a href=\"#MSE,-accuracy\" data-toc-modified-id=\"MSE,-accuracy-1.2.4\"><span class=\"toc-item-num\">1.2.4&nbsp;&nbsp;</span>MSE, accuracy</a></span></li><li><span><a href=\"#ROC\" data-toc-modified-id=\"ROC-1.2.5\"><span class=\"toc-item-num\">1.2.5&nbsp;&nbsp;</span>ROC</a></span></li><li><span><a href=\"#AUC\" data-toc-modified-id=\"AUC-1.2.6\"><span class=\"toc-item-num\">1.2.6&nbsp;&nbsp;</span>AUC</a></span></li></ul></li><li><span><a href=\"#Adaboost\" data-toc-modified-id=\"Adaboost-1.3\"><span class=\"toc-item-num\">1.3&nbsp;&nbsp;</span>Adaboost</a></span><ul class=\"toc-item\"><li><span><a href=\"#Cross-val\" data-toc-modified-id=\"Cross-val-1.3.1\"><span class=\"toc-item-num\">1.3.1&nbsp;&nbsp;</span>Cross val</a></span></li><li><span><a href=\"#confusion-matrix\" data-toc-modified-id=\"confusion-matrix-1.3.2\"><span class=\"toc-item-num\">1.3.2&nbsp;&nbsp;</span>confusion matrix</a></span></li><li><span><a href=\"#Prec,-Recall,-Fscore\" data-toc-modified-id=\"Prec,-Recall,-Fscore-1.3.3\"><span class=\"toc-item-num\">1.3.3&nbsp;&nbsp;</span>Prec, Recall, Fscore</a></span></li><li><span><a href=\"#MSE,-accuracy\" data-toc-modified-id=\"MSE,-accuracy-1.3.4\"><span class=\"toc-item-num\">1.3.4&nbsp;&nbsp;</span>MSE, accuracy</a></span></li><li><span><a href=\"#ROC\" data-toc-modified-id=\"ROC-1.3.5\"><span class=\"toc-item-num\">1.3.5&nbsp;&nbsp;</span>ROC</a></span></li><li><span><a href=\"#AUC\" data-toc-modified-id=\"AUC-1.3.6\"><span class=\"toc-item-num\">1.3.6&nbsp;&nbsp;</span>AUC</a></span></li></ul></li><li><span><a href=\"#Comparison\" data-toc-modified-id=\"Comparison-1.4\"><span class=\"toc-item-num\">1.4&nbsp;&nbsp;</span>Comparison</a></span></li></ul></li><li><span><a href=\"#Question-2\" data-toc-modified-id=\"Question-2-2\"><span class=\"toc-item-num\">2&nbsp;&nbsp;</span>Question 2</a></span><ul class=\"toc-item\"><li><span><a href=\"#Kmeans-Choosing-column-1-and-2\" data-toc-modified-id=\"Kmeans-Choosing-column-1-and-2-2.1\"><span class=\"toc-item-num\">2.1&nbsp;&nbsp;</span>Kmeans Choosing column 1 and 2</a></span></li><li><span><a href=\"#Clustering\" data-toc-modified-id=\"Clustering-2.2\"><span class=\"toc-item-num\">2.2&nbsp;&nbsp;</span>Clustering</a></span></li></ul></li><li><span><a href=\"#Question-3\" data-toc-modified-id=\"Question-3-3\"><span class=\"toc-item-num\">3&nbsp;&nbsp;</span>Question 3</a></span><ul class=\"toc-item\"><li><span><a href=\"#Fix-IPs\" data-toc-modified-id=\"Fix-IPs-3.1\"><span class=\"toc-item-num\">3.1&nbsp;&nbsp;</span>Fix IPs</a></span></li><li><span><a href=\"#Create-the-dataset-for-apriori\" data-toc-modified-id=\"Create-the-dataset-for-apriori-3.2\"><span class=\"toc-item-num\">3.2&nbsp;&nbsp;</span>Create the dataset for apriori</a></span></li></ul></li></ul></div>"
   ]
  },
  {
   "cell_type": "code",
   "execution_count": 2,
   "metadata": {
    "ExecuteTime": {
     "end_time": "2020-03-15T11:26:30.002628Z",
     "start_time": "2020-03-15T11:26:29.997238Z"
    }
   },
   "outputs": [],
   "source": [
    "import pandas as pd"
   ]
  },
  {
   "cell_type": "markdown",
   "metadata": {},
   "source": [
    "# Question 1\n",
    "Write a program to show the implementation of Decision Tree, Naïve-Bayes and\n",
    "Adaboost techniques using the below mentioned dataset..\n",
    "- Handle missing values, If any\n",
    "- Use 5-fold cross validation technique\n",
    "- Prepare the confusion matrix, find out the precision and recall value\n",
    "and use F-measure to access the performance.\n",
    "- Compare the error rate and performance of each techniques using\n",
    "MSE and prediction accuracy as the measures.\n",
    "- Prepare ROC and AUC curve based on the result obtained.\n",
    "- Compare the results obtained using these three techniques in order to\n",
    "assess their performance for the considered dataset.\n"
   ]
  },
  {
   "cell_type": "code",
   "execution_count": 2,
   "metadata": {
    "ExecuteTime": {
     "end_time": "2020-03-15T07:14:58.401392Z",
     "start_time": "2020-03-15T07:14:58.357626Z"
    }
   },
   "outputs": [],
   "source": [
    "credit_data = pd.read_excel(\n",
    "    \"data/Credit card approval.xls\", names=[i for i in range(16)]\n",
    ")"
   ]
  },
  {
   "cell_type": "code",
   "execution_count": 3,
   "metadata": {
    "ExecuteTime": {
     "end_time": "2020-03-15T07:14:58.416783Z",
     "start_time": "2020-03-15T07:14:58.403095Z"
    }
   },
   "outputs": [
    {
     "data": {
      "text/html": [
       "<div>\n",
       "<style scoped>\n",
       "    .dataframe tbody tr th:only-of-type {\n",
       "        vertical-align: middle;\n",
       "    }\n",
       "\n",
       "    .dataframe tbody tr th {\n",
       "        vertical-align: top;\n",
       "    }\n",
       "\n",
       "    .dataframe thead th {\n",
       "        text-align: right;\n",
       "    }\n",
       "</style>\n",
       "<table border=\"1\" class=\"dataframe\">\n",
       "  <thead>\n",
       "    <tr style=\"text-align: right;\">\n",
       "      <th></th>\n",
       "      <th>0</th>\n",
       "      <th>1</th>\n",
       "      <th>2</th>\n",
       "      <th>3</th>\n",
       "      <th>4</th>\n",
       "      <th>5</th>\n",
       "      <th>6</th>\n",
       "      <th>7</th>\n",
       "      <th>8</th>\n",
       "      <th>9</th>\n",
       "      <th>10</th>\n",
       "      <th>11</th>\n",
       "      <th>12</th>\n",
       "      <th>13</th>\n",
       "      <th>14</th>\n",
       "      <th>15</th>\n",
       "    </tr>\n",
       "  </thead>\n",
       "  <tbody>\n",
       "    <tr>\n",
       "      <th>0</th>\n",
       "      <td>b</td>\n",
       "      <td>30.83</td>\n",
       "      <td>0.000</td>\n",
       "      <td>u</td>\n",
       "      <td>g</td>\n",
       "      <td>w</td>\n",
       "      <td>v</td>\n",
       "      <td>1.25</td>\n",
       "      <td>t</td>\n",
       "      <td>t</td>\n",
       "      <td>1</td>\n",
       "      <td>f</td>\n",
       "      <td>g</td>\n",
       "      <td>202</td>\n",
       "      <td>0</td>\n",
       "      <td>+</td>\n",
       "    </tr>\n",
       "    <tr>\n",
       "      <th>1</th>\n",
       "      <td>a</td>\n",
       "      <td>58.67</td>\n",
       "      <td>4.460</td>\n",
       "      <td>u</td>\n",
       "      <td>g</td>\n",
       "      <td>q</td>\n",
       "      <td>h</td>\n",
       "      <td>3.04</td>\n",
       "      <td>t</td>\n",
       "      <td>t</td>\n",
       "      <td>6</td>\n",
       "      <td>f</td>\n",
       "      <td>g</td>\n",
       "      <td>43</td>\n",
       "      <td>560</td>\n",
       "      <td>+</td>\n",
       "    </tr>\n",
       "    <tr>\n",
       "      <th>2</th>\n",
       "      <td>a</td>\n",
       "      <td>24.5</td>\n",
       "      <td>0.500</td>\n",
       "      <td>u</td>\n",
       "      <td>g</td>\n",
       "      <td>q</td>\n",
       "      <td>h</td>\n",
       "      <td>1.50</td>\n",
       "      <td>t</td>\n",
       "      <td>f</td>\n",
       "      <td>0</td>\n",
       "      <td>f</td>\n",
       "      <td>g</td>\n",
       "      <td>280</td>\n",
       "      <td>824</td>\n",
       "      <td>+</td>\n",
       "    </tr>\n",
       "    <tr>\n",
       "      <th>3</th>\n",
       "      <td>b</td>\n",
       "      <td>27.83</td>\n",
       "      <td>1.540</td>\n",
       "      <td>u</td>\n",
       "      <td>g</td>\n",
       "      <td>w</td>\n",
       "      <td>v</td>\n",
       "      <td>3.75</td>\n",
       "      <td>t</td>\n",
       "      <td>t</td>\n",
       "      <td>5</td>\n",
       "      <td>t</td>\n",
       "      <td>g</td>\n",
       "      <td>100</td>\n",
       "      <td>3</td>\n",
       "      <td>+</td>\n",
       "    </tr>\n",
       "    <tr>\n",
       "      <th>4</th>\n",
       "      <td>b</td>\n",
       "      <td>20.17</td>\n",
       "      <td>5.625</td>\n",
       "      <td>u</td>\n",
       "      <td>g</td>\n",
       "      <td>w</td>\n",
       "      <td>v</td>\n",
       "      <td>1.71</td>\n",
       "      <td>t</td>\n",
       "      <td>f</td>\n",
       "      <td>0</td>\n",
       "      <td>f</td>\n",
       "      <td>s</td>\n",
       "      <td>120</td>\n",
       "      <td>0</td>\n",
       "      <td>+</td>\n",
       "    </tr>\n",
       "  </tbody>\n",
       "</table>\n",
       "</div>"
      ],
      "text/plain": [
       "  0      1      2  3  4  5  6     7  8  9   10 11 12   13   14 15\n",
       "0  b  30.83  0.000  u  g  w  v  1.25  t  t   1  f  g  202    0  +\n",
       "1  a  58.67  4.460  u  g  q  h  3.04  t  t   6  f  g   43  560  +\n",
       "2  a   24.5  0.500  u  g  q  h  1.50  t  f   0  f  g  280  824  +\n",
       "3  b  27.83  1.540  u  g  w  v  3.75  t  t   5  t  g  100    3  +\n",
       "4  b  20.17  5.625  u  g  w  v  1.71  t  f   0  f  s  120    0  +"
      ]
     },
     "execution_count": 3,
     "metadata": {},
     "output_type": "execute_result"
    }
   ],
   "source": [
    "credit_data.head()"
   ]
  },
  {
   "cell_type": "code",
   "execution_count": 4,
   "metadata": {
    "ExecuteTime": {
     "end_time": "2020-03-15T07:14:58.429395Z",
     "start_time": "2020-03-15T07:14:58.418413Z"
    }
   },
   "outputs": [],
   "source": [
    "credit_data = credit_data.fillna(0)"
   ]
  },
  {
   "cell_type": "code",
   "execution_count": 5,
   "metadata": {
    "ExecuteTime": {
     "end_time": "2020-03-15T07:14:58.447169Z",
     "start_time": "2020-03-15T07:14:58.430752Z"
    }
   },
   "outputs": [],
   "source": [
    "for a in [0, 3, 4, 5, 6, 8, 9, 10, 11, 12, 15]:\n",
    "    credit_data[a] = credit_data[a].astype(\"category\").cat.codes"
   ]
  },
  {
   "cell_type": "code",
   "execution_count": 6,
   "metadata": {
    "ExecuteTime": {
     "end_time": "2020-03-15T07:14:58.463108Z",
     "start_time": "2020-03-15T07:14:58.448531Z"
    }
   },
   "outputs": [
    {
     "data": {
      "text/html": [
       "<div>\n",
       "<style scoped>\n",
       "    .dataframe tbody tr th:only-of-type {\n",
       "        vertical-align: middle;\n",
       "    }\n",
       "\n",
       "    .dataframe tbody tr th {\n",
       "        vertical-align: top;\n",
       "    }\n",
       "\n",
       "    .dataframe thead th {\n",
       "        text-align: right;\n",
       "    }\n",
       "</style>\n",
       "<table border=\"1\" class=\"dataframe\">\n",
       "  <thead>\n",
       "    <tr style=\"text-align: right;\">\n",
       "      <th></th>\n",
       "      <th>0</th>\n",
       "      <th>1</th>\n",
       "      <th>2</th>\n",
       "      <th>3</th>\n",
       "      <th>4</th>\n",
       "      <th>5</th>\n",
       "      <th>6</th>\n",
       "      <th>7</th>\n",
       "      <th>8</th>\n",
       "      <th>9</th>\n",
       "      <th>10</th>\n",
       "      <th>11</th>\n",
       "      <th>12</th>\n",
       "      <th>13</th>\n",
       "      <th>14</th>\n",
       "      <th>15</th>\n",
       "    </tr>\n",
       "  </thead>\n",
       "  <tbody>\n",
       "    <tr>\n",
       "      <th>0</th>\n",
       "      <td>2</td>\n",
       "      <td>30.83</td>\n",
       "      <td>0.000</td>\n",
       "      <td>2</td>\n",
       "      <td>1</td>\n",
       "      <td>13</td>\n",
       "      <td>8</td>\n",
       "      <td>1.25</td>\n",
       "      <td>1</td>\n",
       "      <td>1</td>\n",
       "      <td>1</td>\n",
       "      <td>0</td>\n",
       "      <td>0</td>\n",
       "      <td>202</td>\n",
       "      <td>0</td>\n",
       "      <td>0</td>\n",
       "    </tr>\n",
       "    <tr>\n",
       "      <th>1</th>\n",
       "      <td>1</td>\n",
       "      <td>58.67</td>\n",
       "      <td>4.460</td>\n",
       "      <td>2</td>\n",
       "      <td>1</td>\n",
       "      <td>11</td>\n",
       "      <td>4</td>\n",
       "      <td>3.04</td>\n",
       "      <td>1</td>\n",
       "      <td>1</td>\n",
       "      <td>6</td>\n",
       "      <td>0</td>\n",
       "      <td>0</td>\n",
       "      <td>43</td>\n",
       "      <td>560</td>\n",
       "      <td>0</td>\n",
       "    </tr>\n",
       "    <tr>\n",
       "      <th>2</th>\n",
       "      <td>1</td>\n",
       "      <td>24.5</td>\n",
       "      <td>0.500</td>\n",
       "      <td>2</td>\n",
       "      <td>1</td>\n",
       "      <td>11</td>\n",
       "      <td>4</td>\n",
       "      <td>1.50</td>\n",
       "      <td>1</td>\n",
       "      <td>0</td>\n",
       "      <td>0</td>\n",
       "      <td>0</td>\n",
       "      <td>0</td>\n",
       "      <td>280</td>\n",
       "      <td>824</td>\n",
       "      <td>0</td>\n",
       "    </tr>\n",
       "    <tr>\n",
       "      <th>3</th>\n",
       "      <td>2</td>\n",
       "      <td>27.83</td>\n",
       "      <td>1.540</td>\n",
       "      <td>2</td>\n",
       "      <td>1</td>\n",
       "      <td>13</td>\n",
       "      <td>8</td>\n",
       "      <td>3.75</td>\n",
       "      <td>1</td>\n",
       "      <td>1</td>\n",
       "      <td>5</td>\n",
       "      <td>1</td>\n",
       "      <td>0</td>\n",
       "      <td>100</td>\n",
       "      <td>3</td>\n",
       "      <td>0</td>\n",
       "    </tr>\n",
       "    <tr>\n",
       "      <th>4</th>\n",
       "      <td>2</td>\n",
       "      <td>20.17</td>\n",
       "      <td>5.625</td>\n",
       "      <td>2</td>\n",
       "      <td>1</td>\n",
       "      <td>13</td>\n",
       "      <td>8</td>\n",
       "      <td>1.71</td>\n",
       "      <td>1</td>\n",
       "      <td>0</td>\n",
       "      <td>0</td>\n",
       "      <td>0</td>\n",
       "      <td>2</td>\n",
       "      <td>120</td>\n",
       "      <td>0</td>\n",
       "      <td>0</td>\n",
       "    </tr>\n",
       "  </tbody>\n",
       "</table>\n",
       "</div>"
      ],
      "text/plain": [
       "   0      1      2   3   4   5   6     7   8   9   10  11  12   13   14  15\n",
       "0   2  30.83  0.000   2   1  13   8  1.25   1   1   1   0   0  202    0   0\n",
       "1   1  58.67  4.460   2   1  11   4  3.04   1   1   6   0   0   43  560   0\n",
       "2   1   24.5  0.500   2   1  11   4  1.50   1   0   0   0   0  280  824   0\n",
       "3   2  27.83  1.540   2   1  13   8  3.75   1   1   5   1   0  100    3   0\n",
       "4   2  20.17  5.625   2   1  13   8  1.71   1   0   0   0   2  120    0   0"
      ]
     },
     "execution_count": 6,
     "metadata": {},
     "output_type": "execute_result"
    }
   ],
   "source": [
    "credit_data.head()"
   ]
  },
  {
   "cell_type": "code",
   "execution_count": 7,
   "metadata": {
    "ExecuteTime": {
     "end_time": "2020-03-15T07:14:58.475185Z",
     "start_time": "2020-03-15T07:14:58.464802Z"
    }
   },
   "outputs": [],
   "source": [
    "credit_data = credit_data.replace(\"?\", 0)"
   ]
  },
  {
   "cell_type": "code",
   "execution_count": 8,
   "metadata": {
    "ExecuteTime": {
     "end_time": "2020-03-15T07:14:58.496602Z",
     "start_time": "2020-03-15T07:14:58.476583Z"
    }
   },
   "outputs": [],
   "source": [
    "# for a in credit_data.columns:\n",
    "#     print(a, credit_data[a].unique())"
   ]
  },
  {
   "cell_type": "code",
   "execution_count": 9,
   "metadata": {
    "ExecuteTime": {
     "end_time": "2020-03-15T07:14:58.502274Z",
     "start_time": "2020-03-15T07:14:58.497730Z"
    }
   },
   "outputs": [],
   "source": [
    "from sklearn.model_selection import train_test_split\n",
    "\n",
    "X_train, X_test, y_train, y_test = train_test_split(\n",
    "    credit_data.drop(15, axis=1), credit_data[15], test_size=0.33, random_state=42\n",
    ")"
   ]
  },
  {
   "cell_type": "markdown",
   "metadata": {},
   "source": [
    "## Decision tree"
   ]
  },
  {
   "cell_type": "code",
   "execution_count": 10,
   "metadata": {
    "ExecuteTime": {
     "end_time": "2020-03-15T07:14:58.513547Z",
     "start_time": "2020-03-15T07:14:58.503202Z"
    }
   },
   "outputs": [],
   "source": [
    "from sklearn.model_selection import cross_val_score\n",
    "from sklearn.tree import DecisionTreeClassifier\n",
    "\n",
    "clf = DecisionTreeClassifier()"
   ]
  },
  {
   "cell_type": "code",
   "execution_count": 11,
   "metadata": {
    "ExecuteTime": {
     "end_time": "2020-03-15T07:14:58.526194Z",
     "start_time": "2020-03-15T07:14:58.514637Z"
    }
   },
   "outputs": [
    {
     "data": {
      "text/plain": [
       "DecisionTreeClassifier(class_weight=None, criterion='gini', max_depth=None,\n",
       "                       max_features=None, max_leaf_nodes=None,\n",
       "                       min_impurity_decrease=0.0, min_impurity_split=None,\n",
       "                       min_samples_leaf=1, min_samples_split=2,\n",
       "                       min_weight_fraction_leaf=0.0, presort=False,\n",
       "                       random_state=None, splitter='best')"
      ]
     },
     "execution_count": 11,
     "metadata": {},
     "output_type": "execute_result"
    }
   ],
   "source": [
    "clf.fit(X_train, y_train)"
   ]
  },
  {
   "cell_type": "markdown",
   "metadata": {},
   "source": [
    "### Cross val"
   ]
  },
  {
   "cell_type": "code",
   "execution_count": 12,
   "metadata": {
    "ExecuteTime": {
     "end_time": "2020-03-15T07:14:58.548216Z",
     "start_time": "2020-03-15T07:14:58.527514Z"
    }
   },
   "outputs": [
    {
     "data": {
      "text/plain": [
       "array([0.7826087 , 0.82608696, 0.67391304, 0.73333333, 0.84444444])"
      ]
     },
     "execution_count": 12,
     "metadata": {},
     "output_type": "execute_result"
    }
   ],
   "source": [
    "cross_val_score(clf, X_test, y_test, cv=5)"
   ]
  },
  {
   "cell_type": "markdown",
   "metadata": {},
   "source": [
    "### confusion matrix"
   ]
  },
  {
   "cell_type": "code",
   "execution_count": 13,
   "metadata": {
    "ExecuteTime": {
     "end_time": "2020-03-15T07:14:58.553356Z",
     "start_time": "2020-03-15T07:14:58.549338Z"
    }
   },
   "outputs": [
    {
     "data": {
      "text/plain": [
       "array([[ 86,  17],\n",
       "       [ 17, 108]])"
      ]
     },
     "execution_count": 13,
     "metadata": {},
     "output_type": "execute_result"
    }
   ],
   "source": [
    "from sklearn.metrics import confusion_matrix\n",
    "\n",
    "confusion_matrix(y_test, clf.predict(X_test))"
   ]
  },
  {
   "cell_type": "code",
   "execution_count": 14,
   "metadata": {
    "ExecuteTime": {
     "end_time": "2020-03-15T07:14:58.567380Z",
     "start_time": "2020-03-15T07:14:58.554304Z"
    }
   },
   "outputs": [
    {
     "data": {
      "text/plain": [
       "(86, 17, 17, 108)"
      ]
     },
     "execution_count": 14,
     "metadata": {},
     "output_type": "execute_result"
    }
   ],
   "source": [
    "tn, fp, fn, tp = confusion_matrix(y_test, clf.predict(X_test)).ravel()\n",
    "(tn, fp, fn, tp)"
   ]
  },
  {
   "cell_type": "markdown",
   "metadata": {},
   "source": [
    "### Prec, Recall, Fscore"
   ]
  },
  {
   "cell_type": "code",
   "execution_count": 15,
   "metadata": {
    "ExecuteTime": {
     "end_time": "2020-03-15T07:14:58.749294Z",
     "start_time": "2020-03-15T07:14:58.568351Z"
    }
   },
   "outputs": [],
   "source": [
    "from sklearn.metrics import precision_recall_fscore_support"
   ]
  },
  {
   "cell_type": "code",
   "execution_count": 16,
   "metadata": {
    "ExecuteTime": {
     "end_time": "2020-03-15T07:14:58.762670Z",
     "start_time": "2020-03-15T07:14:58.750430Z"
    }
   },
   "outputs": [
    {
     "data": {
      "text/plain": [
       "(0.8508771929824561, 0.8508771929824561, 0.8508771929824561, None)"
      ]
     },
     "execution_count": 16,
     "metadata": {},
     "output_type": "execute_result"
    }
   ],
   "source": [
    "precision_recall_fscore_support(y_test, clf.predict(X_test), average=\"weighted\")\n",
    "# Calculate metrics for each label, and find their average weighted by support"
   ]
  },
  {
   "cell_type": "markdown",
   "metadata": {},
   "source": [
    "### MSE, accuracy"
   ]
  },
  {
   "cell_type": "code",
   "execution_count": 17,
   "metadata": {
    "ExecuteTime": {
     "end_time": "2020-03-15T07:14:58.769768Z",
     "start_time": "2020-03-15T07:14:58.764016Z"
    }
   },
   "outputs": [],
   "source": [
    "from sklearn.metrics import mean_squared_error\n",
    "from sklearn.metrics import accuracy_score"
   ]
  },
  {
   "cell_type": "code",
   "execution_count": 18,
   "metadata": {
    "ExecuteTime": {
     "end_time": "2020-03-15T07:14:58.780693Z",
     "start_time": "2020-03-15T07:14:58.770844Z"
    }
   },
   "outputs": [
    {
     "data": {
      "text/plain": [
       "0.14912280701754385"
      ]
     },
     "execution_count": 18,
     "metadata": {},
     "output_type": "execute_result"
    }
   ],
   "source": [
    "mean_squared_error(y_test, clf.predict(X_test))"
   ]
  },
  {
   "cell_type": "code",
   "execution_count": 19,
   "metadata": {
    "ExecuteTime": {
     "end_time": "2020-03-15T07:14:58.790147Z",
     "start_time": "2020-03-15T07:14:58.783164Z"
    }
   },
   "outputs": [
    {
     "data": {
      "text/plain": [
       "0.8508771929824561"
      ]
     },
     "execution_count": 19,
     "metadata": {},
     "output_type": "execute_result"
    }
   ],
   "source": [
    "accuracy_score(y_test, clf.predict(X_test))"
   ]
  },
  {
   "cell_type": "code",
   "execution_count": 20,
   "metadata": {
    "ExecuteTime": {
     "end_time": "2020-03-15T07:14:58.797757Z",
     "start_time": "2020-03-15T07:14:58.791857Z"
    }
   },
   "outputs": [],
   "source": [
    "from sklearn import metrics\n",
    "import matplotlib.pyplot as plt"
   ]
  },
  {
   "cell_type": "markdown",
   "metadata": {},
   "source": [
    "### ROC"
   ]
  },
  {
   "cell_type": "code",
   "execution_count": 21,
   "metadata": {
    "ExecuteTime": {
     "end_time": "2020-03-15T07:14:58.809903Z",
     "start_time": "2020-03-15T07:14:58.798756Z"
    }
   },
   "outputs": [],
   "source": [
    "fpr, tpr, thresholds = metrics.roc_curve(y_test, clf.predict(X_test))"
   ]
  },
  {
   "cell_type": "code",
   "execution_count": 22,
   "metadata": {
    "ExecuteTime": {
     "end_time": "2020-03-15T07:14:58.914954Z",
     "start_time": "2020-03-15T07:14:58.810967Z"
    }
   },
   "outputs": [
    {
     "data": {
      "text/plain": [
       "[<matplotlib.lines.Line2D at 0x7f04da89d450>]"
      ]
     },
     "execution_count": 22,
     "metadata": {},
     "output_type": "execute_result"
    },
    {
     "data": {
      "image/png": "[encoded data removed]",
      "text/plain": [
       "<Figure size 432x288 with 1 Axes>"
      ]
     },
     "metadata": {
      "needs_background": "light"
     },
     "output_type": "display_data"
    }
   ],
   "source": [
    "plt.plot(fpr)"
   ]
  },
  {
   "cell_type": "markdown",
   "metadata": {},
   "source": [
    "### AUC"
   ]
  },
  {
   "cell_type": "code",
   "execution_count": 23,
   "metadata": {
    "ExecuteTime": {
     "end_time": "2020-03-15T07:14:58.919399Z",
     "start_time": "2020-03-15T07:14:58.916143Z"
    }
   },
   "outputs": [
    {
     "data": {
      "text/plain": [
       "0.8494757281553397"
      ]
     },
     "execution_count": 23,
     "metadata": {},
     "output_type": "execute_result"
    }
   ],
   "source": [
    "auc = metrics.auc(fpr, tpr)\n",
    "auc"
   ]
  },
  {
   "cell_type": "code",
   "execution_count": null,
   "metadata": {},
   "outputs": [],
   "source": []
  },
  {
   "cell_type": "markdown",
   "metadata": {},
   "source": [
    "## Naive Bayes"
   ]
  },
  {
   "cell_type": "code",
   "execution_count": 24,
   "metadata": {
    "ExecuteTime": {
     "end_time": "2020-03-15T07:14:59.173936Z",
     "start_time": "2020-03-15T07:14:59.162438Z"
    }
   },
   "outputs": [],
   "source": [
    "from sklearn.model_selection import cross_val_score\n",
    "from sklearn.naive_bayes import GaussianNB\n",
    "\n",
    "clf = GaussianNB()"
   ]
  },
  {
   "cell_type": "code",
   "execution_count": 25,
   "metadata": {
    "ExecuteTime": {
     "end_time": "2020-03-15T07:14:59.237055Z",
     "start_time": "2020-03-15T07:14:59.175357Z"
    }
   },
   "outputs": [
    {
     "data": {
      "text/plain": [
       "GaussianNB(priors=None, var_smoothing=1e-09)"
      ]
     },
     "execution_count": 25,
     "metadata": {},
     "output_type": "execute_result"
    }
   ],
   "source": [
    "clf.fit(X_train, y_train)"
   ]
  },
  {
   "cell_type": "markdown",
   "metadata": {},
   "source": [
    "### Cross val"
   ]
  },
  {
   "cell_type": "code",
   "execution_count": 26,
   "metadata": {
    "ExecuteTime": {
     "end_time": "2020-03-15T07:14:59.496425Z",
     "start_time": "2020-03-15T07:14:59.238112Z"
    }
   },
   "outputs": [
    {
     "data": {
      "text/plain": [
       "array([0.73913043, 0.73913043, 0.80434783, 0.77777778, 0.8       ])"
      ]
     },
     "execution_count": 26,
     "metadata": {},
     "output_type": "execute_result"
    }
   ],
   "source": [
    "cross_val_score(clf, X_test, y_test, cv=5)"
   ]
  },
  {
   "cell_type": "markdown",
   "metadata": {},
   "source": [
    "### confusion matrix"
   ]
  },
  {
   "cell_type": "code",
   "execution_count": 27,
   "metadata": {
    "ExecuteTime": {
     "end_time": "2020-03-15T07:14:59.508427Z",
     "start_time": "2020-03-15T07:14:59.497521Z"
    }
   },
   "outputs": [
    {
     "data": {
      "text/plain": [
       "array([[ 63,  40],\n",
       "       [ 14, 111]])"
      ]
     },
     "execution_count": 27,
     "metadata": {},
     "output_type": "execute_result"
    }
   ],
   "source": [
    "from sklearn.metrics import confusion_matrix\n",
    "\n",
    "confusion_matrix(y_test, clf.predict(X_test))"
   ]
  },
  {
   "cell_type": "code",
   "execution_count": 28,
   "metadata": {
    "ExecuteTime": {
     "end_time": "2020-03-15T07:14:59.531424Z",
     "start_time": "2020-03-15T07:14:59.509716Z"
    }
   },
   "outputs": [
    {
     "data": {
      "text/plain": [
       "(63, 40, 14, 111)"
      ]
     },
     "execution_count": 28,
     "metadata": {},
     "output_type": "execute_result"
    }
   ],
   "source": [
    "tn, fp, fn, tp = confusion_matrix(y_test, clf.predict(X_test)).ravel()\n",
    "(tn, fp, fn, tp)"
   ]
  },
  {
   "cell_type": "markdown",
   "metadata": {},
   "source": [
    "### Prec, Recall, Fscore"
   ]
  },
  {
   "cell_type": "code",
   "execution_count": 29,
   "metadata": {
    "ExecuteTime": {
     "end_time": "2020-03-15T07:14:59.535010Z",
     "start_time": "2020-03-15T07:14:59.532968Z"
    }
   },
   "outputs": [],
   "source": [
    "from sklearn.metrics import precision_recall_fscore_support"
   ]
  },
  {
   "cell_type": "code",
   "execution_count": 30,
   "metadata": {
    "ExecuteTime": {
     "end_time": "2020-03-15T07:14:59.553648Z",
     "start_time": "2020-03-15T07:14:59.536103Z"
    }
   },
   "outputs": [
    {
     "data": {
      "text/plain": [
       "(0.7726322126810102, 0.7631578947368421, 0.75720823798627, None)"
      ]
     },
     "execution_count": 30,
     "metadata": {},
     "output_type": "execute_result"
    }
   ],
   "source": [
    "precision_recall_fscore_support(y_test, clf.predict(X_test), average=\"weighted\")\n",
    "# Calculate metrics for each label, and find their average weighted by support"
   ]
  },
  {
   "cell_type": "markdown",
   "metadata": {},
   "source": [
    "### MSE, accuracy"
   ]
  },
  {
   "cell_type": "code",
   "execution_count": 31,
   "metadata": {
    "ExecuteTime": {
     "end_time": "2020-03-15T07:14:59.556451Z",
     "start_time": "2020-03-15T07:14:59.554589Z"
    }
   },
   "outputs": [],
   "source": [
    "from sklearn.metrics import mean_squared_error\n",
    "from sklearn.metrics import accuracy_score"
   ]
  },
  {
   "cell_type": "code",
   "execution_count": 32,
   "metadata": {
    "ExecuteTime": {
     "end_time": "2020-03-15T07:14:59.575199Z",
     "start_time": "2020-03-15T07:14:59.557489Z"
    }
   },
   "outputs": [
    {
     "data": {
      "text/plain": [
       "0.23684210526315788"
      ]
     },
     "execution_count": 32,
     "metadata": {},
     "output_type": "execute_result"
    }
   ],
   "source": [
    "mean_squared_error(y_test, clf.predict(X_test))"
   ]
  },
  {
   "cell_type": "code",
   "execution_count": 33,
   "metadata": {
    "ExecuteTime": {
     "end_time": "2020-03-15T07:14:59.586677Z",
     "start_time": "2020-03-15T07:14:59.576358Z"
    }
   },
   "outputs": [
    {
     "data": {
      "text/plain": [
       "0.7631578947368421"
      ]
     },
     "execution_count": 33,
     "metadata": {},
     "output_type": "execute_result"
    }
   ],
   "source": [
    "accuracy_score(y_test, clf.predict(X_test))"
   ]
  },
  {
   "cell_type": "code",
   "execution_count": 34,
   "metadata": {
    "ExecuteTime": {
     "end_time": "2020-03-15T07:14:59.590286Z",
     "start_time": "2020-03-15T07:14:59.587636Z"
    }
   },
   "outputs": [],
   "source": [
    "from sklearn import metrics\n",
    "import matplotlib.pyplot as plt"
   ]
  },
  {
   "cell_type": "markdown",
   "metadata": {},
   "source": [
    "### ROC"
   ]
  },
  {
   "cell_type": "code",
   "execution_count": 35,
   "metadata": {
    "ExecuteTime": {
     "end_time": "2020-03-15T07:14:59.607344Z",
     "start_time": "2020-03-15T07:14:59.591269Z"
    }
   },
   "outputs": [],
   "source": [
    "fpr, tpr, thresholds = metrics.roc_curve(y_test, clf.predict(X_test))"
   ]
  },
  {
   "cell_type": "code",
   "execution_count": 36,
   "metadata": {
    "ExecuteTime": {
     "end_time": "2020-03-15T07:14:59.704081Z",
     "start_time": "2020-03-15T07:14:59.608591Z"
    }
   },
   "outputs": [
    {
     "data": {
      "text/plain": [
       "[<matplotlib.lines.Line2D at 0x7f04d42e1e10>]"
      ]
     },
     "execution_count": 36,
     "metadata": {},
     "output_type": "execute_result"
    },
    {
     "data": {
      "image/png": "[encoded data removed]",
      "text/plain": [
       "<Figure size 432x288 with 1 Axes>"
      ]
     },
     "metadata": {
      "needs_background": "light"
     },
     "output_type": "display_data"
    }
   ],
   "source": [
    "plt.plot(fpr)"
   ]
  },
  {
   "cell_type": "markdown",
   "metadata": {},
   "source": [
    "### AUC"
   ]
  },
  {
   "cell_type": "code",
   "execution_count": 37,
   "metadata": {
    "ExecuteTime": {
     "end_time": "2020-03-15T07:14:59.708106Z",
     "start_time": "2020-03-15T07:14:59.705115Z"
    }
   },
   "outputs": [
    {
     "data": {
      "text/plain": [
       "0.7498252427184465"
      ]
     },
     "execution_count": 37,
     "metadata": {},
     "output_type": "execute_result"
    }
   ],
   "source": [
    "auc = metrics.auc(fpr, tpr)\n",
    "auc"
   ]
  },
  {
   "cell_type": "code",
   "execution_count": null,
   "metadata": {},
   "outputs": [],
   "source": []
  },
  {
   "cell_type": "markdown",
   "metadata": {},
   "source": [
    "## Adaboost"
   ]
  },
  {
   "cell_type": "code",
   "execution_count": 38,
   "metadata": {
    "ExecuteTime": {
     "end_time": "2020-03-15T07:14:59.173936Z",
     "start_time": "2020-03-15T07:14:59.162438Z"
    }
   },
   "outputs": [],
   "source": [
    "from sklearn.model_selection import cross_val_score\n",
    "from sklearn.ensemble import AdaBoostClassifier\n",
    "\n",
    "clf = AdaBoostClassifier()"
   ]
  },
  {
   "cell_type": "code",
   "execution_count": 39,
   "metadata": {
    "ExecuteTime": {
     "end_time": "2020-03-15T07:14:59.237055Z",
     "start_time": "2020-03-15T07:14:59.175357Z"
    }
   },
   "outputs": [
    {
     "data": {
      "text/plain": [
       "AdaBoostClassifier(algorithm='SAMME.R', base_estimator=None, learning_rate=1.0,\n",
       "                   n_estimators=50, random_state=None)"
      ]
     },
     "execution_count": 39,
     "metadata": {},
     "output_type": "execute_result"
    }
   ],
   "source": [
    "clf.fit(X_train, y_train)"
   ]
  },
  {
   "cell_type": "markdown",
   "metadata": {},
   "source": [
    "### Cross val"
   ]
  },
  {
   "cell_type": "code",
   "execution_count": 40,
   "metadata": {
    "ExecuteTime": {
     "end_time": "2020-03-15T07:14:59.496425Z",
     "start_time": "2020-03-15T07:14:59.238112Z"
    }
   },
   "outputs": [
    {
     "data": {
      "text/plain": [
       "array([0.73913043, 0.7173913 , 0.76086957, 0.82222222, 0.77777778])"
      ]
     },
     "execution_count": 40,
     "metadata": {},
     "output_type": "execute_result"
    }
   ],
   "source": [
    "cross_val_score(clf, X_test, y_test, cv=5)"
   ]
  },
  {
   "cell_type": "markdown",
   "metadata": {},
   "source": [
    "### confusion matrix"
   ]
  },
  {
   "cell_type": "code",
   "execution_count": 41,
   "metadata": {
    "ExecuteTime": {
     "end_time": "2020-03-15T07:14:59.508427Z",
     "start_time": "2020-03-15T07:14:59.497521Z"
    }
   },
   "outputs": [
    {
     "data": {
      "text/plain": [
       "array([[ 88,  15],\n",
       "       [ 25, 100]])"
      ]
     },
     "execution_count": 41,
     "metadata": {},
     "output_type": "execute_result"
    }
   ],
   "source": [
    "from sklearn.metrics import confusion_matrix\n",
    "\n",
    "confusion_matrix(y_test, clf.predict(X_test))"
   ]
  },
  {
   "cell_type": "code",
   "execution_count": 42,
   "metadata": {
    "ExecuteTime": {
     "end_time": "2020-03-15T07:14:59.531424Z",
     "start_time": "2020-03-15T07:14:59.509716Z"
    }
   },
   "outputs": [
    {
     "data": {
      "text/plain": [
       "(88, 15, 25, 100)"
      ]
     },
     "execution_count": 42,
     "metadata": {},
     "output_type": "execute_result"
    }
   ],
   "source": [
    "tn, fp, fn, tp = confusion_matrix(y_test, clf.predict(X_test)).ravel()\n",
    "(tn, fp, fn, tp)"
   ]
  },
  {
   "cell_type": "markdown",
   "metadata": {},
   "source": [
    "### Prec, Recall, Fscore"
   ]
  },
  {
   "cell_type": "code",
   "execution_count": 43,
   "metadata": {
    "ExecuteTime": {
     "end_time": "2020-03-15T07:14:59.535010Z",
     "start_time": "2020-03-15T07:14:59.532968Z"
    }
   },
   "outputs": [],
   "source": [
    "from sklearn.metrics import precision_recall_fscore_support"
   ]
  },
  {
   "cell_type": "code",
   "execution_count": 44,
   "metadata": {
    "ExecuteTime": {
     "end_time": "2020-03-15T07:14:59.553648Z",
     "start_time": "2020-03-15T07:14:59.536103Z"
    }
   },
   "outputs": [
    {
     "data": {
      "text/plain": [
       "(0.8285440419054563, 0.8245614035087719, 0.8249675113710201, None)"
      ]
     },
     "execution_count": 44,
     "metadata": {},
     "output_type": "execute_result"
    }
   ],
   "source": [
    "precision_recall_fscore_support(y_test, clf.predict(X_test), average=\"weighted\")\n",
    "# Calculate metrics for each label, and find their average weighted by support"
   ]
  },
  {
   "cell_type": "markdown",
   "metadata": {},
   "source": [
    "### MSE, accuracy"
   ]
  },
  {
   "cell_type": "code",
   "execution_count": 45,
   "metadata": {
    "ExecuteTime": {
     "end_time": "2020-03-15T07:14:59.556451Z",
     "start_time": "2020-03-15T07:14:59.554589Z"
    }
   },
   "outputs": [],
   "source": [
    "from sklearn.metrics import mean_squared_error\n",
    "from sklearn.metrics import accuracy_score"
   ]
  },
  {
   "cell_type": "code",
   "execution_count": 46,
   "metadata": {
    "ExecuteTime": {
     "end_time": "2020-03-15T07:14:59.575199Z",
     "start_time": "2020-03-15T07:14:59.557489Z"
    }
   },
   "outputs": [
    {
     "data": {
      "text/plain": [
       "0.17543859649122806"
      ]
     },
     "execution_count": 46,
     "metadata": {},
     "output_type": "execute_result"
    }
   ],
   "source": [
    "mean_squared_error(y_test, clf.predict(X_test))"
   ]
  },
  {
   "cell_type": "code",
   "execution_count": 47,
   "metadata": {
    "ExecuteTime": {
     "end_time": "2020-03-15T07:14:59.586677Z",
     "start_time": "2020-03-15T07:14:59.576358Z"
    }
   },
   "outputs": [
    {
     "data": {
      "text/plain": [
       "0.8245614035087719"
      ]
     },
     "execution_count": 47,
     "metadata": {},
     "output_type": "execute_result"
    }
   ],
   "source": [
    "accuracy_score(y_test, clf.predict(X_test))"
   ]
  },
  {
   "cell_type": "code",
   "execution_count": 48,
   "metadata": {
    "ExecuteTime": {
     "end_time": "2020-03-15T07:14:59.590286Z",
     "start_time": "2020-03-15T07:14:59.587636Z"
    }
   },
   "outputs": [],
   "source": [
    "from sklearn import metrics\n",
    "import matplotlib.pyplot as plt"
   ]
  },
  {
   "cell_type": "markdown",
   "metadata": {},
   "source": [
    "### ROC"
   ]
  },
  {
   "cell_type": "code",
   "execution_count": 49,
   "metadata": {
    "ExecuteTime": {
     "end_time": "2020-03-15T07:14:59.607344Z",
     "start_time": "2020-03-15T07:14:59.591269Z"
    }
   },
   "outputs": [],
   "source": [
    "fpr, tpr, thresholds = metrics.roc_curve(y_test, clf.predict(X_test))"
   ]
  },
  {
   "cell_type": "code",
   "execution_count": 50,
   "metadata": {
    "ExecuteTime": {
     "end_time": "2020-03-15T07:14:59.704081Z",
     "start_time": "2020-03-15T07:14:59.608591Z"
    }
   },
   "outputs": [
    {
     "data": {
      "text/plain": [
       "[<matplotlib.lines.Line2D at 0x7f04d3fa96d0>]"
      ]
     },
     "execution_count": 50,
     "metadata": {},
     "output_type": "execute_result"
    },
    {
     "data": {
      "image/png": "[encoded data removed]",
      "text/plain": [
       "<Figure size 432x288 with 1 Axes>"
      ]
     },
     "metadata": {
      "needs_background": "light"
     },
     "output_type": "display_data"
    }
   ],
   "source": [
    "plt.plot(fpr)"
   ]
  },
  {
   "cell_type": "markdown",
   "metadata": {},
   "source": [
    "### AUC"
   ]
  },
  {
   "cell_type": "code",
   "execution_count": 51,
   "metadata": {
    "ExecuteTime": {
     "end_time": "2020-03-15T07:14:59.708106Z",
     "start_time": "2020-03-15T07:14:59.705115Z"
    }
   },
   "outputs": [
    {
     "data": {
      "text/plain": [
       "0.8271844660194175"
      ]
     },
     "execution_count": 51,
     "metadata": {},
     "output_type": "execute_result"
    }
   ],
   "source": [
    "auc = metrics.auc(fpr, tpr)\n",
    "auc"
   ]
  },
  {
   "cell_type": "markdown",
   "metadata": {},
   "source": [
    "## Comparison"
   ]
  },
  {
   "cell_type": "markdown",
   "metadata": {},
   "source": [
    "- Decision tree : 0.8333333333333334\n",
    "- Naive Bayes : 0.7631578947368421\n",
    "- Adaboost : 0.8245614035087719"
   ]
  },
  {
   "cell_type": "code",
   "execution_count": null,
   "metadata": {},
   "outputs": [],
   "source": []
  },
  {
   "cell_type": "markdown",
   "metadata": {},
   "source": [
    "# Question 2\n",
    "Write a program to show the implementation of K-Means (K=2) and agglomerative\n",
    "hierarchical clustering (single, complete and average linkage) using the below\n",
    "mentioned dataset. Show the resultant clusters using graph and dendrogram.\n",
    "- Consider Euclidean distance as measure\n",
    "- Handle missing values, if any\n",
    "- Implement cross validation\n"
   ]
  },
  {
   "cell_type": "code",
   "execution_count": 3,
   "metadata": {
    "ExecuteTime": {
     "end_time": "2020-03-15T07:44:24.167793Z",
     "start_time": "2020-03-15T07:44:24.129871Z"
    }
   },
   "outputs": [],
   "source": [
    "absent_data = pd.read_excel(\"data/absent.xls\", names=[i for i in range(21)])"
   ]
  },
  {
   "cell_type": "code",
   "execution_count": 4,
   "metadata": {
    "ExecuteTime": {
     "end_time": "2020-03-15T07:44:24.179888Z",
     "start_time": "2020-03-15T07:44:24.168951Z"
    }
   },
   "outputs": [
    {
     "data": {
      "text/html": [
       "<div>\n",
       "<style scoped>\n",
       "    .dataframe tbody tr th:only-of-type {\n",
       "        vertical-align: middle;\n",
       "    }\n",
       "\n",
       "    .dataframe tbody tr th {\n",
       "        vertical-align: top;\n",
       "    }\n",
       "\n",
       "    .dataframe thead th {\n",
       "        text-align: right;\n",
       "    }\n",
       "</style>\n",
       "<table border=\"1\" class=\"dataframe\">\n",
       "  <thead>\n",
       "    <tr style=\"text-align: right;\">\n",
       "      <th></th>\n",
       "      <th>0</th>\n",
       "      <th>1</th>\n",
       "      <th>2</th>\n",
       "      <th>3</th>\n",
       "      <th>4</th>\n",
       "      <th>5</th>\n",
       "      <th>6</th>\n",
       "      <th>7</th>\n",
       "      <th>8</th>\n",
       "      <th>9</th>\n",
       "      <th>...</th>\n",
       "      <th>11</th>\n",
       "      <th>12</th>\n",
       "      <th>13</th>\n",
       "      <th>14</th>\n",
       "      <th>15</th>\n",
       "      <th>16</th>\n",
       "      <th>17</th>\n",
       "      <th>18</th>\n",
       "      <th>19</th>\n",
       "      <th>20</th>\n",
       "    </tr>\n",
       "  </thead>\n",
       "  <tbody>\n",
       "    <tr>\n",
       "      <th>0</th>\n",
       "      <td>36</td>\n",
       "      <td>0</td>\n",
       "      <td>7</td>\n",
       "      <td>3</td>\n",
       "      <td>1</td>\n",
       "      <td>118</td>\n",
       "      <td>13</td>\n",
       "      <td>18</td>\n",
       "      <td>50</td>\n",
       "      <td>239554</td>\n",
       "      <td>...</td>\n",
       "      <td>1</td>\n",
       "      <td>1</td>\n",
       "      <td>1</td>\n",
       "      <td>1</td>\n",
       "      <td>0</td>\n",
       "      <td>0</td>\n",
       "      <td>98</td>\n",
       "      <td>178</td>\n",
       "      <td>31</td>\n",
       "      <td>0</td>\n",
       "    </tr>\n",
       "    <tr>\n",
       "      <th>1</th>\n",
       "      <td>3</td>\n",
       "      <td>23</td>\n",
       "      <td>7</td>\n",
       "      <td>4</td>\n",
       "      <td>1</td>\n",
       "      <td>179</td>\n",
       "      <td>51</td>\n",
       "      <td>18</td>\n",
       "      <td>38</td>\n",
       "      <td>239554</td>\n",
       "      <td>...</td>\n",
       "      <td>0</td>\n",
       "      <td>1</td>\n",
       "      <td>0</td>\n",
       "      <td>1</td>\n",
       "      <td>0</td>\n",
       "      <td>0</td>\n",
       "      <td>89</td>\n",
       "      <td>170</td>\n",
       "      <td>31</td>\n",
       "      <td>2</td>\n",
       "    </tr>\n",
       "    <tr>\n",
       "      <th>2</th>\n",
       "      <td>7</td>\n",
       "      <td>7</td>\n",
       "      <td>7</td>\n",
       "      <td>5</td>\n",
       "      <td>1</td>\n",
       "      <td>279</td>\n",
       "      <td>5</td>\n",
       "      <td>14</td>\n",
       "      <td>39</td>\n",
       "      <td>239554</td>\n",
       "      <td>...</td>\n",
       "      <td>0</td>\n",
       "      <td>1</td>\n",
       "      <td>2</td>\n",
       "      <td>1</td>\n",
       "      <td>1</td>\n",
       "      <td>0</td>\n",
       "      <td>68</td>\n",
       "      <td>168</td>\n",
       "      <td>24</td>\n",
       "      <td>4</td>\n",
       "    </tr>\n",
       "    <tr>\n",
       "      <th>3</th>\n",
       "      <td>11</td>\n",
       "      <td>23</td>\n",
       "      <td>7</td>\n",
       "      <td>5</td>\n",
       "      <td>1</td>\n",
       "      <td>289</td>\n",
       "      <td>36</td>\n",
       "      <td>13</td>\n",
       "      <td>33</td>\n",
       "      <td>239554</td>\n",
       "      <td>...</td>\n",
       "      <td>0</td>\n",
       "      <td>1</td>\n",
       "      <td>2</td>\n",
       "      <td>1</td>\n",
       "      <td>0</td>\n",
       "      <td>1</td>\n",
       "      <td>90</td>\n",
       "      <td>172</td>\n",
       "      <td>30</td>\n",
       "      <td>2</td>\n",
       "    </tr>\n",
       "    <tr>\n",
       "      <th>4</th>\n",
       "      <td>3</td>\n",
       "      <td>23</td>\n",
       "      <td>7</td>\n",
       "      <td>6</td>\n",
       "      <td>1</td>\n",
       "      <td>179</td>\n",
       "      <td>51</td>\n",
       "      <td>18</td>\n",
       "      <td>38</td>\n",
       "      <td>239554</td>\n",
       "      <td>...</td>\n",
       "      <td>0</td>\n",
       "      <td>1</td>\n",
       "      <td>0</td>\n",
       "      <td>1</td>\n",
       "      <td>0</td>\n",
       "      <td>0</td>\n",
       "      <td>89</td>\n",
       "      <td>170</td>\n",
       "      <td>31</td>\n",
       "      <td>2</td>\n",
       "    </tr>\n",
       "  </tbody>\n",
       "</table>\n",
       "<p>5 rows × 21 columns</p>\n",
       "</div>"
      ],
      "text/plain": [
       "   0   1   2   3   4    5   6   7   8       9   ...  11  12  13  14  15  16  \\\n",
       "0  36   0   7   3   1  118  13  18  50  239554  ...   1   1   1   1   0   0   \n",
       "1   3  23   7   4   1  179  51  18  38  239554  ...   0   1   0   1   0   0   \n",
       "2   7   7   7   5   1  279   5  14  39  239554  ...   0   1   2   1   1   0   \n",
       "3  11  23   7   5   1  289  36  13  33  239554  ...   0   1   2   1   0   1   \n",
       "4   3  23   7   6   1  179  51  18  38  239554  ...   0   1   0   1   0   0   \n",
       "\n",
       "   17   18  19  20  \n",
       "0  98  178  31   0  \n",
       "1  89  170  31   2  \n",
       "2  68  168  24   4  \n",
       "3  90  172  30   2  \n",
       "4  89  170  31   2  \n",
       "\n",
       "[5 rows x 21 columns]"
      ]
     },
     "execution_count": 4,
     "metadata": {},
     "output_type": "execute_result"
    }
   ],
   "source": [
    "absent_data.head()"
   ]
  },
  {
   "cell_type": "markdown",
   "metadata": {},
   "source": [
    "## Kmeans Choosing column 1 and 2"
   ]
  },
  {
   "cell_type": "code",
   "execution_count": 54,
   "metadata": {
    "ExecuteTime": {
     "end_time": "2020-03-15T07:48:24.807221Z",
     "start_time": "2020-03-15T07:48:24.801789Z"
    }
   },
   "outputs": [],
   "source": [
    "from matplotlib import pyplot as plt\n",
    "from sklearn.datasets.samples_generator import make_blobs\n",
    "from sklearn.cluster import KMeans\n",
    "import numpy as np"
   ]
  },
  {
   "cell_type": "code",
   "execution_count": 55,
   "metadata": {
    "ExecuteTime": {
     "end_time": "2020-03-15T07:50:31.876471Z",
     "start_time": "2020-03-15T07:50:31.870661Z"
    }
   },
   "outputs": [],
   "source": [
    "data_part = absent_data[[0, 1]]"
   ]
  },
  {
   "cell_type": "code",
   "execution_count": 56,
   "metadata": {
    "ExecuteTime": {
     "end_time": "2020-03-15T07:51:57.076248Z",
     "start_time": "2020-03-15T07:51:57.050229Z"
    }
   },
   "outputs": [],
   "source": [
    "kmeans = KMeans(n_clusters=2, init=\"k-means++\", max_iter=300, n_init=10, random_state=0)\n",
    "pred_y = kmeans.fit(data_part)"
   ]
  },
  {
   "cell_type": "code",
   "execution_count": 57,
   "metadata": {
    "ExecuteTime": {
     "end_time": "2020-03-15T07:54:38.843866Z",
     "start_time": "2020-03-15T07:54:38.755258Z"
    }
   },
   "outputs": [
    {
     "data": {
      "text/plain": [
       "array([-13052.50419892, -17162.21127328, -17774.13775728, -13914.06186183,\n",
       "       -13677.73474827])"
      ]
     },
     "execution_count": 57,
     "metadata": {},
     "output_type": "execute_result"
    }
   ],
   "source": [
    "cross_val_score(kmeans, data_part, cv=5)"
   ]
  },
  {
   "cell_type": "code",
   "execution_count": 58,
   "metadata": {
    "ExecuteTime": {
     "end_time": "2020-03-15T07:51:58.418267Z",
     "start_time": "2020-03-15T07:51:57.642013Z"
    }
   },
   "outputs": [
    {
     "data": {
      "image/png": "[encoded data removed]",
      "text/plain": [
       "<Figure size 432x288 with 1 Axes>"
      ]
     },
     "metadata": {
      "needs_background": "light"
     },
     "output_type": "display_data"
    }
   ],
   "source": [
    "plt.scatter(data_part[0], data_part[1])\n",
    "plt.scatter(kmeans.cluster_centers_[:, 0], kmeans.cluster_centers_[:, 1], s=50, c=\"red\")\n",
    "plt.show()"
   ]
  },
  {
   "cell_type": "code",
   "execution_count": 59,
   "metadata": {
    "ExecuteTime": {
     "end_time": "2020-03-15T07:52:32.245077Z",
     "start_time": "2020-03-15T07:52:32.240625Z"
    },
    "scrolled": true
   },
   "outputs": [
    {
     "data": {
      "text/plain": [
       "{0: array([  0,   6,   9,  10,  11,  14,  18,  19,  22,  26,  36,  38,  39,\n",
       "         40,  44,  47,  49,  50,  51,  52,  54,  55,  58,  60,  62,  63,\n",
       "         64,  66,  67,  68,  69,  72,  73,  75,  78,  80,  87,  89,  91,\n",
       "         92,  93,  94,  97,  98,  99, 101, 102, 103, 105, 106, 107, 109,\n",
       "        110, 111, 112, 113, 114, 116, 117, 118, 119, 120, 121, 122, 123,\n",
       "        124, 125, 126, 127, 128, 130, 131, 132, 133, 134, 136, 137, 141,\n",
       "        143, 144, 145, 146, 147, 148, 149, 150, 152, 154, 155, 156, 159,\n",
       "        160, 161, 162, 165, 169, 170, 173, 174, 175, 176, 177, 180, 181,\n",
       "        182, 184, 186, 188, 189, 191, 193, 195, 196, 199, 207, 208, 213,\n",
       "        214, 215, 217, 219, 221, 223, 226, 227, 229, 230, 231, 233, 234,\n",
       "        236, 237, 238, 240, 242, 243, 244, 250, 252, 255, 256, 257, 259,\n",
       "        260, 261, 262, 263, 265, 268, 273, 276, 278, 281, 283, 292, 293,\n",
       "        294, 295, 298, 301, 305, 307, 308, 310, 312, 313, 314, 315, 316,\n",
       "        317, 319, 321, 324, 326, 329, 331, 333, 334, 335, 338, 342, 343,\n",
       "        344, 347, 348, 353, 354, 357, 358, 365, 368, 370, 372, 377, 381,\n",
       "        383, 386, 389, 390, 391, 392, 396, 401, 402, 403, 405, 406, 409,\n",
       "        410, 412, 415, 418, 419, 420, 421, 423, 425, 427, 430, 434, 435,\n",
       "        436, 437, 439, 440, 442, 443, 444, 448, 452, 453, 455, 456, 457,\n",
       "        459, 460, 461, 462, 464, 465, 466, 467, 469, 470, 472, 476, 481,\n",
       "        482, 490, 491, 493, 494, 495, 496, 499, 500, 502, 503, 506, 507,\n",
       "        508, 509, 511, 512, 514, 517, 523, 525, 527, 528, 529, 530, 532,\n",
       "        533, 535, 537, 538, 541, 542, 544, 545, 546, 549, 551, 556, 557,\n",
       "        558, 559, 564, 565, 566, 567, 569, 570, 573, 575, 577, 579, 585,\n",
       "        586, 588, 590, 591, 595, 598, 599, 603, 608, 610, 612, 613, 616,\n",
       "        618, 620, 623, 625, 626, 627, 632, 634, 636, 641, 643, 650, 653,\n",
       "        654, 656, 658, 661, 663, 665, 666, 667, 668, 670, 671, 672, 674,\n",
       "        675, 676, 678, 680, 681, 682, 683, 684, 685, 686, 687, 688, 689,\n",
       "        692, 695, 696, 697, 699, 704, 706, 707, 708, 709, 710, 712, 714,\n",
       "        715, 716, 718, 719, 721, 722, 727, 730, 732, 738]),\n",
       " 1: array([  1,   2,   3,   4,   5,   7,   8,  12,  13,  15,  16,  17,  20,\n",
       "         21,  23,  24,  25,  27,  28,  29,  30,  31,  32,  33,  34,  35,\n",
       "         37,  41,  42,  43,  45,  46,  48,  53,  56,  57,  59,  61,  65,\n",
       "         70,  71,  74,  76,  77,  79,  81,  82,  83,  84,  85,  86,  88,\n",
       "         90,  95,  96, 100, 104, 108, 115, 129, 135, 138, 139, 140, 142,\n",
       "        151, 153, 157, 158, 163, 164, 166, 167, 168, 171, 172, 178, 179,\n",
       "        183, 185, 187, 190, 192, 194, 197, 198, 200, 201, 202, 203, 204,\n",
       "        205, 206, 209, 210, 211, 212, 216, 218, 220, 222, 224, 225, 228,\n",
       "        232, 235, 239, 241, 245, 246, 247, 248, 249, 251, 253, 254, 258,\n",
       "        264, 266, 267, 269, 270, 271, 272, 274, 275, 277, 279, 280, 282,\n",
       "        284, 285, 286, 287, 288, 289, 290, 291, 296, 297, 299, 300, 302,\n",
       "        303, 304, 306, 309, 311, 318, 320, 322, 323, 325, 327, 328, 330,\n",
       "        332, 336, 337, 339, 340, 341, 345, 346, 349, 350, 351, 352, 355,\n",
       "        356, 359, 360, 361, 362, 363, 364, 366, 367, 369, 371, 373, 374,\n",
       "        375, 376, 378, 379, 380, 382, 384, 385, 387, 388, 393, 394, 395,\n",
       "        397, 398, 399, 400, 404, 407, 408, 411, 413, 414, 416, 417, 422,\n",
       "        424, 426, 428, 429, 431, 432, 433, 438, 441, 445, 446, 447, 449,\n",
       "        450, 451, 454, 458, 463, 468, 471, 473, 474, 475, 477, 478, 479,\n",
       "        480, 483, 484, 485, 486, 487, 488, 489, 492, 497, 498, 501, 504,\n",
       "        505, 510, 513, 515, 516, 518, 519, 520, 521, 522, 524, 526, 531,\n",
       "        534, 536, 539, 540, 543, 547, 548, 550, 552, 553, 554, 555, 560,\n",
       "        561, 562, 563, 568, 571, 572, 574, 576, 578, 580, 581, 582, 583,\n",
       "        584, 587, 589, 592, 593, 594, 596, 597, 600, 601, 602, 604, 605,\n",
       "        606, 607, 609, 611, 614, 615, 617, 619, 621, 622, 624, 628, 629,\n",
       "        630, 631, 633, 635, 637, 638, 639, 640, 642, 644, 645, 646, 647,\n",
       "        648, 649, 651, 652, 655, 657, 659, 660, 662, 664, 669, 673, 677,\n",
       "        679, 690, 691, 693, 694, 698, 700, 701, 702, 703, 705, 711, 713,\n",
       "        717, 720, 723, 724, 725, 726, 728, 729, 731, 733, 734, 735, 736,\n",
       "        737])}"
      ]
     },
     "execution_count": 59,
     "metadata": {},
     "output_type": "execute_result"
    }
   ],
   "source": [
    "mydict = {i: np.where(kmeans.labels_ == i)[0] for i in range(kmeans.n_clusters)}\n",
    "mydict"
   ]
  },
  {
   "cell_type": "markdown",
   "metadata": {},
   "source": [
    "## Clustering"
   ]
  },
  {
   "cell_type": "code",
   "execution_count": 60,
   "metadata": {
    "ExecuteTime": {
     "end_time": "2020-03-15T08:00:25.412927Z",
     "start_time": "2020-03-15T08:00:25.408435Z"
    }
   },
   "outputs": [],
   "source": [
    "from scipy.cluster import hierarchy"
   ]
  },
  {
   "cell_type": "code",
   "execution_count": 61,
   "metadata": {
    "ExecuteTime": {
     "end_time": "2020-03-15T08:01:20.874605Z",
     "start_time": "2020-03-15T08:01:01.719317Z"
    }
   },
   "outputs": [
    {
     "data": {
      "image/png": "[encoded data removed]",
      "text/plain": [
       "<Figure size 432x288 with 1 Axes>"
      ]
     },
     "metadata": {
      "needs_background": "light"
     },
     "output_type": "display_data"
    },
    {
     "data": {
      "image/png": "[encoded data removed]",
      "text/plain": [
       "<Figure size 576x216 with 2 Axes>"
      ]
     },
     "metadata": {
      "needs_background": "light"
     },
     "output_type": "display_data"
    }
   ],
   "source": [
    "Z = hierarchy.linkage(data_part, \"single\")\n",
    "plt.figure()\n",
    "dn = hierarchy.dendrogram(Z)\n",
    "hierarchy.set_link_color_palette([\"m\", \"c\", \"y\", \"k\"])\n",
    "fig, axes = plt.subplots(1, 2, figsize=(8, 3))\n",
    "dn1 = hierarchy.dendrogram(Z, ax=axes[0], above_threshold_color=\"y\", orientation=\"top\")\n",
    "dn2 = hierarchy.dendrogram(\n",
    "    Z, ax=axes[1], above_threshold_color=\"#bcbddc\", orientation=\"right\"\n",
    ")\n",
    "hierarchy.set_link_color_palette(None)  # reset to default after use\n",
    "plt.show()"
   ]
  },
  {
   "cell_type": "code",
   "execution_count": 62,
   "metadata": {
    "ExecuteTime": {
     "end_time": "2020-03-15T08:02:27.530757Z",
     "start_time": "2020-03-15T08:02:08.505193Z"
    }
   },
   "outputs": [
    {
     "data": {
      "image/png": "[encoded data removed]",
      "text/plain": [
       "<Figure size 432x288 with 1 Axes>"
      ]
     },
     "metadata": {
      "needs_background": "light"
     },
     "output_type": "display_data"
    },
    {
     "data": {
      "image/png": "[encoded data removed]",
      "text/plain": [
       "<Figure size 576x216 with 2 Axes>"
      ]
     },
     "metadata": {
      "needs_background": "light"
     },
     "output_type": "display_data"
    }
   ],
   "source": [
    "Z = hierarchy.linkage(data_part, \"complete\")\n",
    "plt.figure()\n",
    "dn = hierarchy.dendrogram(Z)\n",
    "hierarchy.set_link_color_palette([\"m\", \"c\", \"y\", \"k\"])\n",
    "fig, axes = plt.subplots(1, 2, figsize=(8, 3))\n",
    "dn1 = hierarchy.dendrogram(Z, ax=axes[0], above_threshold_color=\"y\", orientation=\"top\")\n",
    "dn2 = hierarchy.dendrogram(\n",
    "    Z, ax=axes[1], above_threshold_color=\"#bcbddc\", orientation=\"right\"\n",
    ")\n",
    "hierarchy.set_link_color_palette(None)  # reset to default after use\n",
    "plt.show()"
   ]
  },
  {
   "cell_type": "code",
   "execution_count": 63,
   "metadata": {
    "ExecuteTime": {
     "end_time": "2020-03-15T08:02:50.709240Z",
     "start_time": "2020-03-15T08:02:32.187704Z"
    }
   },
   "outputs": [
    {
     "data": {
      "image/png": "[encoded data removed]",
      "text/plain": [
       "<Figure size 432x288 with 1 Axes>"
      ]
     },
     "metadata": {
      "needs_background": "light"
     },
     "output_type": "display_data"
    },
    {
     "data": {
      "image/png": "[encoded data removed]",
      "text/plain": [
       "<Figure size 576x216 with 2 Axes>"
      ]
     },
     "metadata": {
      "needs_background": "light"
     },
     "output_type": "display_data"
    }
   ],
   "source": [
    "Z = hierarchy.linkage(data_part, \"average\")\n",
    "plt.figure()\n",
    "dn = hierarchy.dendrogram(Z)\n",
    "hierarchy.set_link_color_palette([\"m\", \"c\", \"y\", \"k\"])\n",
    "fig, axes = plt.subplots(1, 2, figsize=(8, 3))\n",
    "dn1 = hierarchy.dendrogram(Z, ax=axes[0], above_threshold_color=\"y\", orientation=\"top\")\n",
    "dn2 = hierarchy.dendrogram(\n",
    "    Z, ax=axes[1], above_threshold_color=\"#bcbddc\", orientation=\"right\"\n",
    ")\n",
    "hierarchy.set_link_color_palette(None)  # reset to default after use\n",
    "plt.show()"
   ]
  },
  {
   "cell_type": "markdown",
   "metadata": {},
   "source": [
    "# Question 3\n",
    "- Write a program to show the implementation of apriori algorithm using web log usage\n",
    "data for web usage mining purpose. (Consider any publicly available web log data to\n",
    "show the implementation.)"
   ]
  },
  {
   "cell_type": "code",
   "execution_count": 5,
   "metadata": {},
   "outputs": [],
   "source": [
    "df = pd.read_csv(\"data/weblog.csv\")"
   ]
  },
  {
   "cell_type": "code",
   "execution_count": 6,
   "metadata": {},
   "outputs": [
    {
     "data": {
      "text/html": [
       "<div>\n",
       "<style scoped>\n",
       "    .dataframe tbody tr th:only-of-type {\n",
       "        vertical-align: middle;\n",
       "    }\n",
       "\n",
       "    .dataframe tbody tr th {\n",
       "        vertical-align: top;\n",
       "    }\n",
       "\n",
       "    .dataframe thead th {\n",
       "        text-align: right;\n",
       "    }\n",
       "</style>\n",
       "<table border=\"1\" class=\"dataframe\">\n",
       "  <thead>\n",
       "    <tr style=\"text-align: right;\">\n",
       "      <th></th>\n",
       "      <th>IP</th>\n",
       "      <th>Time</th>\n",
       "      <th>URL</th>\n",
       "      <th>Staus</th>\n",
       "    </tr>\n",
       "  </thead>\n",
       "  <tbody>\n",
       "    <tr>\n",
       "      <th>0</th>\n",
       "      <td>10.128.2.1</td>\n",
       "      <td>[29/Nov/2017:06:58:55</td>\n",
       "      <td>GET /login.php HTTP/1.1</td>\n",
       "      <td>200</td>\n",
       "    </tr>\n",
       "    <tr>\n",
       "      <th>1</th>\n",
       "      <td>10.128.2.1</td>\n",
       "      <td>[29/Nov/2017:06:59:02</td>\n",
       "      <td>POST /process.php HTTP/1.1</td>\n",
       "      <td>302</td>\n",
       "    </tr>\n",
       "    <tr>\n",
       "      <th>2</th>\n",
       "      <td>10.128.2.1</td>\n",
       "      <td>[29/Nov/2017:06:59:03</td>\n",
       "      <td>GET /home.php HTTP/1.1</td>\n",
       "      <td>200</td>\n",
       "    </tr>\n",
       "  </tbody>\n",
       "</table>\n",
       "</div>"
      ],
      "text/plain": [
       "           IP                   Time                         URL Staus\n",
       "0  10.128.2.1  [29/Nov/2017:06:58:55     GET /login.php HTTP/1.1   200\n",
       "1  10.128.2.1  [29/Nov/2017:06:59:02  POST /process.php HTTP/1.1   302\n",
       "2  10.128.2.1  [29/Nov/2017:06:59:03      GET /home.php HTTP/1.1   200"
      ]
     },
     "execution_count": 6,
     "metadata": {},
     "output_type": "execute_result"
    }
   ],
   "source": [
    "df.head(3)"
   ]
  },
  {
   "cell_type": "code",
   "execution_count": 7,
   "metadata": {},
   "outputs": [
    {
     "data": {
      "text/plain": [
       "Index(['IP', 'Time', 'URL', 'Staus'], dtype='object')"
      ]
     },
     "execution_count": 7,
     "metadata": {},
     "output_type": "execute_result"
    }
   ],
   "source": [
    "df.columns"
   ]
  },
  {
   "cell_type": "code",
   "execution_count": 8,
   "metadata": {},
   "outputs": [
    {
     "data": {
      "text/html": [
       "<div>\n",
       "<style scoped>\n",
       "    .dataframe tbody tr th:only-of-type {\n",
       "        vertical-align: middle;\n",
       "    }\n",
       "\n",
       "    .dataframe tbody tr th {\n",
       "        vertical-align: top;\n",
       "    }\n",
       "\n",
       "    .dataframe thead th {\n",
       "        text-align: right;\n",
       "    }\n",
       "</style>\n",
       "<table border=\"1\" class=\"dataframe\">\n",
       "  <thead>\n",
       "    <tr style=\"text-align: right;\">\n",
       "      <th></th>\n",
       "      <th>IP</th>\n",
       "      <th>URL</th>\n",
       "    </tr>\n",
       "  </thead>\n",
       "  <tbody>\n",
       "    <tr>\n",
       "      <th>16004</th>\n",
       "      <td>10.130.2.1</td>\n",
       "      <td>GET /showcode.php?id=309&amp;nm=ham05 HTTP/1.1</td>\n",
       "    </tr>\n",
       "    <tr>\n",
       "      <th>16005</th>\n",
       "      <td>10.130.2.1</td>\n",
       "      <td>GET /allsubmission.php HTTP/1.1</td>\n",
       "    </tr>\n",
       "    <tr>\n",
       "      <th>16006</th>\n",
       "      <td>10.130.2.1</td>\n",
       "      <td>GET /home.php HTTP/1.1</td>\n",
       "    </tr>\n",
       "  </tbody>\n",
       "</table>\n",
       "</div>"
      ],
      "text/plain": [
       "               IP                                         URL\n",
       "16004  10.130.2.1  GET /showcode.php?id=309&nm=ham05 HTTP/1.1\n",
       "16005  10.130.2.1             GET /allsubmission.php HTTP/1.1\n",
       "16006  10.130.2.1                      GET /home.php HTTP/1.1"
      ]
     },
     "execution_count": 8,
     "metadata": {},
     "output_type": "execute_result"
    }
   ],
   "source": [
    "new_df = df[[\"IP\", \"URL\"]]\n",
    "new_df.tail(3)"
   ]
  },
  {
   "cell_type": "code",
   "execution_count": 9,
   "metadata": {},
   "outputs": [],
   "source": [
    "def extract_name(x):\n",
    "    p1 = x.find(\"/\")\n",
    "    p2 = x.find(\".php\")\n",
    "    return x[p1 + 1 : p2]"
   ]
  },
  {
   "cell_type": "code",
   "execution_count": 10,
   "metadata": {},
   "outputs": [
    {
     "data": {
      "text/plain": [
       "'showcode'"
      ]
     },
     "execution_count": 10,
     "metadata": {},
     "output_type": "execute_result"
    }
   ],
   "source": [
    "extract_name(\"GET /showcode.php?id=309&nm=ham05 HTTP/1.1\")"
   ]
  },
  {
   "cell_type": "code",
   "execution_count": 11,
   "metadata": {},
   "outputs": [
    {
     "name": "stderr",
     "output_type": "stream",
     "text": [
      "/home/subhaditya/anaconda3/lib/python3.7/site-packages/ipykernel_launcher.py:1: SettingWithCopyWarning: \n",
      "A value is trying to be set on a copy of a slice from a DataFrame.\n",
      "Try using .loc[row_indexer,col_indexer] = value instead\n",
      "\n",
      "See the caveats in the documentation: https://pandas.pydata.org/pandas-docs/stable/user_guide/indexing.html#returning-a-view-versus-a-copy\n",
      "  \"\"\"Entry point for launching an IPython kernel.\n"
     ]
    }
   ],
   "source": [
    "new_df[\"URL\"] = new_df[\"URL\"].apply(extract_name)"
   ]
  },
  {
   "cell_type": "code",
   "execution_count": 12,
   "metadata": {},
   "outputs": [
    {
     "data": {
      "text/plain": [
       "86"
      ]
     },
     "execution_count": 12,
     "metadata": {},
     "output_type": "execute_result"
    }
   ],
   "source": [
    "len(new_df[\"URL\"].unique())"
   ]
  },
  {
   "cell_type": "code",
   "execution_count": 13,
   "metadata": {},
   "outputs": [
    {
     "data": {
      "text/plain": [
       "16"
      ]
     },
     "execution_count": 13,
     "metadata": {},
     "output_type": "execute_result"
    }
   ],
   "source": [
    "len(new_df[\"IP\"].unique())"
   ]
  },
  {
   "cell_type": "code",
   "execution_count": 14,
   "metadata": {},
   "outputs": [
    {
     "data": {
      "text/html": [
       "<div>\n",
       "<style scoped>\n",
       "    .dataframe tbody tr th:only-of-type {\n",
       "        vertical-align: middle;\n",
       "    }\n",
       "\n",
       "    .dataframe tbody tr th {\n",
       "        vertical-align: top;\n",
       "    }\n",
       "\n",
       "    .dataframe thead th {\n",
       "        text-align: right;\n",
       "    }\n",
       "</style>\n",
       "<table border=\"1\" class=\"dataframe\">\n",
       "  <thead>\n",
       "    <tr style=\"text-align: right;\">\n",
       "      <th></th>\n",
       "      <th>IP</th>\n",
       "      <th>URL</th>\n",
       "    </tr>\n",
       "  </thead>\n",
       "  <tbody>\n",
       "    <tr>\n",
       "      <th>0</th>\n",
       "      <td>10.128.2.1</td>\n",
       "      <td>login</td>\n",
       "    </tr>\n",
       "    <tr>\n",
       "      <th>1</th>\n",
       "      <td>10.128.2.1</td>\n",
       "      <td>process</td>\n",
       "    </tr>\n",
       "    <tr>\n",
       "      <th>2</th>\n",
       "      <td>10.128.2.1</td>\n",
       "      <td>home</td>\n",
       "    </tr>\n",
       "  </tbody>\n",
       "</table>\n",
       "</div>"
      ],
      "text/plain": [
       "           IP      URL\n",
       "0  10.128.2.1    login\n",
       "1  10.128.2.1  process\n",
       "2  10.128.2.1     home"
      ]
     },
     "execution_count": 14,
     "metadata": {},
     "output_type": "execute_result"
    }
   ],
   "source": [
    "new_df.head(3)"
   ]
  },
  {
   "cell_type": "code",
   "execution_count": 15,
   "metadata": {},
   "outputs": [
    {
     "data": {
      "text/plain": [
       "['10.128.2.1', '10.131.2.1', '10.130.2.1', '10.129.2.1', '10.131.0.1']"
      ]
     },
     "execution_count": 15,
     "metadata": {},
     "output_type": "execute_result"
    }
   ],
   "source": [
    "ips_final = list(new_df[\"IP\"].unique())[:5]\n",
    "ips_final"
   ]
  },
  {
   "cell_type": "code",
   "execution_count": 16,
   "metadata": {
    "scrolled": true
   },
   "outputs": [
    {
     "data": {
      "text/plain": [
       "['details',\n",
       " 'compiler',\n",
       " 'fonts/fontawesome-webfont.woff2?v=4.6.3 HTTP/1.',\n",
       " 'contestproblem',\n",
       " 'update',\n",
       " 'js/vendor/jquery-1.12.0.min.js HTTP/1.',\n",
       " 'edit',\n",
       " 'js/vendor/modernizr-2.8.3.min.js HTTP/1.',\n",
       " 'css/main.css HTTP/1.',\n",
       " 'allsubmission']"
      ]
     },
     "execution_count": 16,
     "metadata": {},
     "output_type": "execute_result"
    }
   ],
   "source": [
    "list(set(new_df[new_df[\"IP\"] == ips_final[0]][\"URL\"].values))[:10]"
   ]
  },
  {
   "cell_type": "code",
   "execution_count": 17,
   "metadata": {},
   "outputs": [
    {
     "data": {
      "text/plain": [
       "{'10.128.2.1': [],\n",
       " '10.131.2.1': [],\n",
       " '10.130.2.1': [],\n",
       " '10.129.2.1': [],\n",
       " '10.131.0.1': []}"
      ]
     },
     "execution_count": 17,
     "metadata": {},
     "output_type": "execute_result"
    }
   ],
   "source": [
    "dict_visited = {x: [] for x in ips_final}\n",
    "dict_visited"
   ]
  },
  {
   "cell_type": "code",
   "execution_count": 18,
   "metadata": {},
   "outputs": [],
   "source": [
    "for a in range(len(ips_final)):\n",
    "    dict_visited[ips_final[a]] = list(\n",
    "        set(new_df[new_df[\"IP\"] == ips_final[a]][\"URL\"].values)\n",
    "    )"
   ]
  },
  {
   "cell_type": "code",
   "execution_count": 19,
   "metadata": {},
   "outputs": [
    {
     "data": {
      "text/plain": [
       "['details',\n",
       " 'compiler',\n",
       " 'fonts/fontawesome-webfont.woff2?v=4.6.3 HTTP/1.',\n",
       " 'contestproblem']"
      ]
     },
     "execution_count": 19,
     "metadata": {},
     "output_type": "execute_result"
    }
   ],
   "source": [
    "dict_visited[\"10.128.2.1\"][:4]"
   ]
  },
  {
   "cell_type": "code",
   "execution_count": 20,
   "metadata": {},
   "outputs": [
    {
     "name": "stdout",
     "output_type": "stream",
     "text": [
      "54\n",
      "50\n",
      "48\n",
      "52\n",
      "56\n"
     ]
    }
   ],
   "source": [
    "for a in dict_visited:\n",
    "    print(len(dict_visited[a]))"
   ]
  },
  {
   "cell_type": "code",
   "execution_count": 21,
   "metadata": {
    "scrolled": true
   },
   "outputs": [],
   "source": [
    "# temp = dict_visited['10.128.2.1']"
   ]
  },
  {
   "cell_type": "code",
   "execution_count": 22,
   "metadata": {},
   "outputs": [],
   "source": [
    "size = 56"
   ]
  },
  {
   "cell_type": "code",
   "execution_count": 23,
   "metadata": {},
   "outputs": [],
   "source": [
    "for a in dict_visited:\n",
    "    temp = dict_visited[a]\n",
    "    temp.extend([\"0\" for a in range(size - len(temp))])\n",
    "    dict_visited[a] = temp"
   ]
  },
  {
   "cell_type": "code",
   "execution_count": 24,
   "metadata": {},
   "outputs": [
    {
     "name": "stdout",
     "output_type": "stream",
     "text": [
      "56\n",
      "56\n",
      "56\n",
      "56\n",
      "56\n"
     ]
    }
   ],
   "source": [
    "for a in dict_visited:\n",
    "    print(len(dict_visited[a]))"
   ]
  },
  {
   "cell_type": "code",
   "execution_count": 30,
   "metadata": {},
   "outputs": [],
   "source": [
    "df_visited = pd.DataFrame(dict_visited)"
   ]
  },
  {
   "cell_type": "code",
   "execution_count": 31,
   "metadata": {
    "scrolled": true
   },
   "outputs": [
    {
     "data": {
      "text/html": [
       "<div>\n",
       "<style scoped>\n",
       "    .dataframe tbody tr th:only-of-type {\n",
       "        vertical-align: middle;\n",
       "    }\n",
       "\n",
       "    .dataframe tbody tr th {\n",
       "        vertical-align: top;\n",
       "    }\n",
       "\n",
       "    .dataframe thead th {\n",
       "        text-align: right;\n",
       "    }\n",
       "</style>\n",
       "<table border=\"1\" class=\"dataframe\">\n",
       "  <thead>\n",
       "    <tr style=\"text-align: right;\">\n",
       "      <th></th>\n",
       "      <th>10.128.2.1</th>\n",
       "      <th>10.131.2.1</th>\n",
       "      <th>10.130.2.1</th>\n",
       "      <th>10.129.2.1</th>\n",
       "      <th>10.131.0.1</th>\n",
       "    </tr>\n",
       "  </thead>\n",
       "  <tbody>\n",
       "    <tr>\n",
       "      <th>51</th>\n",
       "      <td>contestsubmission</td>\n",
       "      <td>0</td>\n",
       "      <td>0</td>\n",
       "      <td>css/style.css HTTP/1.</td>\n",
       "      <td>js/jquery.min.js HTTP/1.</td>\n",
       "    </tr>\n",
       "    <tr>\n",
       "      <th>52</th>\n",
       "      <td>pcompile</td>\n",
       "      <td>0</td>\n",
       "      <td>0</td>\n",
       "      <td>0</td>\n",
       "      <td>setcontest</td>\n",
       "    </tr>\n",
       "    <tr>\n",
       "      <th>53</th>\n",
       "      <td>css/style.css HTTP/1.</td>\n",
       "      <td>0</td>\n",
       "      <td>0</td>\n",
       "      <td>0</td>\n",
       "      <td>contestsubmission</td>\n",
       "    </tr>\n",
       "    <tr>\n",
       "      <th>54</th>\n",
       "      <td>0</td>\n",
       "      <td>0</td>\n",
       "      <td>0</td>\n",
       "      <td>0</td>\n",
       "      <td>pcompile</td>\n",
       "    </tr>\n",
       "    <tr>\n",
       "      <th>55</th>\n",
       "      <td>0</td>\n",
       "      <td>0</td>\n",
       "      <td>0</td>\n",
       "      <td>0</td>\n",
       "      <td>css/style.css HTTP/1.</td>\n",
       "    </tr>\n",
       "  </tbody>\n",
       "</table>\n",
       "</div>"
      ],
      "text/plain": [
       "               10.128.2.1 10.131.2.1 10.130.2.1             10.129.2.1  \\\n",
       "51      contestsubmission          0          0  css/style.css HTTP/1.   \n",
       "52               pcompile          0          0                      0   \n",
       "53  css/style.css HTTP/1.          0          0                      0   \n",
       "54                      0          0          0                      0   \n",
       "55                      0          0          0                      0   \n",
       "\n",
       "                  10.131.0.1  \n",
       "51  js/jquery.min.js HTTP/1.  \n",
       "52                setcontest  \n",
       "53         contestsubmission  \n",
       "54                  pcompile  \n",
       "55     css/style.css HTTP/1.  "
      ]
     },
     "execution_count": 31,
     "metadata": {},
     "output_type": "execute_result"
    }
   ],
   "source": [
    "df_visited.tail(5)"
   ]
  },
  {
   "cell_type": "code",
   "execution_count": 32,
   "metadata": {},
   "outputs": [
    {
     "data": {
      "text/plain": [
       "(56, 5)"
      ]
     },
     "execution_count": 32,
     "metadata": {},
     "output_type": "execute_result"
    }
   ],
   "source": [
    "df_visited.shape"
   ]
  },
  {
   "cell_type": "code",
   "execution_count": 33,
   "metadata": {
    "scrolled": true
   },
   "outputs": [],
   "source": [
    "dataset = []\n",
    "for x in range(df_visited.shape[1]):\n",
    "    dataset.append(df_visited[df_visited.columns[x]].values)"
   ]
  },
  {
   "cell_type": "code",
   "execution_count": 34,
   "metadata": {},
   "outputs": [],
   "source": [
    "from mlxtend.preprocessing import TransactionEncoder"
   ]
  },
  {
   "cell_type": "code",
   "execution_count": 38,
   "metadata": {
    "scrolled": true
   },
   "outputs": [
    {
     "data": {
      "text/html": [
       "<div>\n",
       "<style scoped>\n",
       "    .dataframe tbody tr th:only-of-type {\n",
       "        vertical-align: middle;\n",
       "    }\n",
       "\n",
       "    .dataframe tbody tr th {\n",
       "        vertical-align: top;\n",
       "    }\n",
       "\n",
       "    .dataframe thead th {\n",
       "        text-align: right;\n",
       "    }\n",
       "</style>\n",
       "<table border=\"1\" class=\"dataframe\">\n",
       "  <thead>\n",
       "    <tr style=\"text-align: right;\">\n",
       "      <th></th>\n",
       "      <th>HTTP/1.</th>\n",
       "      <th>/home</th>\n",
       "      <th>0</th>\n",
       "      <th>action</th>\n",
       "      <th>adminpanel</th>\n",
       "      <th>allsubmission</th>\n",
       "      <th>announcement</th>\n",
       "      <th>archive</th>\n",
       "      <th>bootstrap-3.3.7/js/bootstrap.js HTTP/1.</th>\n",
       "      <th>bootstrap-3.3.7/js/bootstrap.min.js HTTP/1.</th>\n",
       "      <th>...</th>\n",
       "      <th>profile</th>\n",
       "      <th>robots.txt HTTP/1.</th>\n",
       "      <th>setcontest</th>\n",
       "      <th>setcontestproblem</th>\n",
       "      <th>setproblem</th>\n",
       "      <th>showcode</th>\n",
       "      <th>sign</th>\n",
       "      <th>standings</th>\n",
       "      <th>submit</th>\n",
       "      <th>update</th>\n",
       "    </tr>\n",
       "  </thead>\n",
       "  <tbody>\n",
       "    <tr>\n",
       "      <th>0</th>\n",
       "      <td>True</td>\n",
       "      <td>True</td>\n",
       "      <td>True</td>\n",
       "      <td>True</td>\n",
       "      <td>False</td>\n",
       "      <td>True</td>\n",
       "      <td>True</td>\n",
       "      <td>True</td>\n",
       "      <td>True</td>\n",
       "      <td>True</td>\n",
       "      <td>...</td>\n",
       "      <td>True</td>\n",
       "      <td>True</td>\n",
       "      <td>True</td>\n",
       "      <td>False</td>\n",
       "      <td>True</td>\n",
       "      <td>True</td>\n",
       "      <td>True</td>\n",
       "      <td>True</td>\n",
       "      <td>True</td>\n",
       "      <td>True</td>\n",
       "    </tr>\n",
       "    <tr>\n",
       "      <th>1</th>\n",
       "      <td>True</td>\n",
       "      <td>False</td>\n",
       "      <td>True</td>\n",
       "      <td>True</td>\n",
       "      <td>False</td>\n",
       "      <td>True</td>\n",
       "      <td>True</td>\n",
       "      <td>True</td>\n",
       "      <td>True</td>\n",
       "      <td>True</td>\n",
       "      <td>...</td>\n",
       "      <td>True</td>\n",
       "      <td>True</td>\n",
       "      <td>True</td>\n",
       "      <td>True</td>\n",
       "      <td>True</td>\n",
       "      <td>True</td>\n",
       "      <td>True</td>\n",
       "      <td>True</td>\n",
       "      <td>True</td>\n",
       "      <td>False</td>\n",
       "    </tr>\n",
       "    <tr>\n",
       "      <th>2</th>\n",
       "      <td>True</td>\n",
       "      <td>False</td>\n",
       "      <td>True</td>\n",
       "      <td>True</td>\n",
       "      <td>True</td>\n",
       "      <td>True</td>\n",
       "      <td>False</td>\n",
       "      <td>True</td>\n",
       "      <td>True</td>\n",
       "      <td>True</td>\n",
       "      <td>...</td>\n",
       "      <td>True</td>\n",
       "      <td>True</td>\n",
       "      <td>False</td>\n",
       "      <td>False</td>\n",
       "      <td>False</td>\n",
       "      <td>True</td>\n",
       "      <td>True</td>\n",
       "      <td>True</td>\n",
       "      <td>True</td>\n",
       "      <td>False</td>\n",
       "    </tr>\n",
       "  </tbody>\n",
       "</table>\n",
       "<p>3 rows × 65 columns</p>\n",
       "</div>"
      ],
      "text/plain": [
       "    HTTP/1.  /home     0  action  adminpanel  allsubmission  announcement  \\\n",
       "0      True   True  True    True       False           True          True   \n",
       "1      True  False  True    True       False           True          True   \n",
       "2      True  False  True    True        True           True         False   \n",
       "\n",
       "   archive  bootstrap-3.3.7/js/bootstrap.js HTTP/1.  \\\n",
       "0     True                                     True   \n",
       "1     True                                     True   \n",
       "2     True                                     True   \n",
       "\n",
       "   bootstrap-3.3.7/js/bootstrap.min.js HTTP/1.  ...  profile  \\\n",
       "0                                         True  ...     True   \n",
       "1                                         True  ...     True   \n",
       "2                                         True  ...     True   \n",
       "\n",
       "   robots.txt HTTP/1.  setcontest  setcontestproblem  setproblem  showcode  \\\n",
       "0                True        True              False        True      True   \n",
       "1                True        True               True        True      True   \n",
       "2                True       False              False       False      True   \n",
       "\n",
       "   sign  standings  submit  update  \n",
       "0  True       True    True    True  \n",
       "1  True       True    True   False  \n",
       "2  True       True    True   False  \n",
       "\n",
       "[3 rows x 65 columns]"
      ]
     },
     "execution_count": 38,
     "metadata": {},
     "output_type": "execute_result"
    }
   ],
   "source": [
    "te = TransactionEncoder()\n",
    "te_ary = te.fit(dataset).transform(dataset)\n",
    "df_ml = pd.DataFrame(te_ary, columns=te.columns_)\n",
    "df_ml.head(3)"
   ]
  },
  {
   "cell_type": "code",
   "execution_count": 39,
   "metadata": {},
   "outputs": [],
   "source": [
    "df_ml = df_ml.replace(True, 1)"
   ]
  },
  {
   "cell_type": "code",
   "execution_count": 40,
   "metadata": {},
   "outputs": [
    {
     "data": {
      "text/html": [
       "<div>\n",
       "<style scoped>\n",
       "    .dataframe tbody tr th:only-of-type {\n",
       "        vertical-align: middle;\n",
       "    }\n",
       "\n",
       "    .dataframe tbody tr th {\n",
       "        vertical-align: top;\n",
       "    }\n",
       "\n",
       "    .dataframe thead th {\n",
       "        text-align: right;\n",
       "    }\n",
       "</style>\n",
       "<table border=\"1\" class=\"dataframe\">\n",
       "  <thead>\n",
       "    <tr style=\"text-align: right;\">\n",
       "      <th></th>\n",
       "      <th>HTTP/1.</th>\n",
       "      <th>/home</th>\n",
       "      <th>0</th>\n",
       "      <th>action</th>\n",
       "      <th>adminpanel</th>\n",
       "      <th>allsubmission</th>\n",
       "      <th>announcement</th>\n",
       "      <th>archive</th>\n",
       "      <th>bootstrap-3.3.7/js/bootstrap.js HTTP/1.</th>\n",
       "      <th>bootstrap-3.3.7/js/bootstrap.min.js HTTP/1.</th>\n",
       "      <th>...</th>\n",
       "      <th>profile</th>\n",
       "      <th>robots.txt HTTP/1.</th>\n",
       "      <th>setcontest</th>\n",
       "      <th>setcontestproblem</th>\n",
       "      <th>setproblem</th>\n",
       "      <th>showcode</th>\n",
       "      <th>sign</th>\n",
       "      <th>standings</th>\n",
       "      <th>submit</th>\n",
       "      <th>update</th>\n",
       "    </tr>\n",
       "  </thead>\n",
       "  <tbody>\n",
       "    <tr>\n",
       "      <th>0</th>\n",
       "      <td>1.0</td>\n",
       "      <td>1.0</td>\n",
       "      <td>1.0</td>\n",
       "      <td>1.0</td>\n",
       "      <td>0.0</td>\n",
       "      <td>1.0</td>\n",
       "      <td>1.0</td>\n",
       "      <td>1.0</td>\n",
       "      <td>1.0</td>\n",
       "      <td>1.0</td>\n",
       "      <td>...</td>\n",
       "      <td>1.0</td>\n",
       "      <td>1.0</td>\n",
       "      <td>1.0</td>\n",
       "      <td>0.0</td>\n",
       "      <td>1.0</td>\n",
       "      <td>1.0</td>\n",
       "      <td>1.0</td>\n",
       "      <td>1.0</td>\n",
       "      <td>1.0</td>\n",
       "      <td>1.0</td>\n",
       "    </tr>\n",
       "    <tr>\n",
       "      <th>1</th>\n",
       "      <td>1.0</td>\n",
       "      <td>0.0</td>\n",
       "      <td>1.0</td>\n",
       "      <td>1.0</td>\n",
       "      <td>0.0</td>\n",
       "      <td>1.0</td>\n",
       "      <td>1.0</td>\n",
       "      <td>1.0</td>\n",
       "      <td>1.0</td>\n",
       "      <td>1.0</td>\n",
       "      <td>...</td>\n",
       "      <td>1.0</td>\n",
       "      <td>1.0</td>\n",
       "      <td>1.0</td>\n",
       "      <td>1.0</td>\n",
       "      <td>1.0</td>\n",
       "      <td>1.0</td>\n",
       "      <td>1.0</td>\n",
       "      <td>1.0</td>\n",
       "      <td>1.0</td>\n",
       "      <td>0.0</td>\n",
       "    </tr>\n",
       "    <tr>\n",
       "      <th>2</th>\n",
       "      <td>1.0</td>\n",
       "      <td>0.0</td>\n",
       "      <td>1.0</td>\n",
       "      <td>1.0</td>\n",
       "      <td>1.0</td>\n",
       "      <td>1.0</td>\n",
       "      <td>0.0</td>\n",
       "      <td>1.0</td>\n",
       "      <td>1.0</td>\n",
       "      <td>1.0</td>\n",
       "      <td>...</td>\n",
       "      <td>1.0</td>\n",
       "      <td>1.0</td>\n",
       "      <td>0.0</td>\n",
       "      <td>0.0</td>\n",
       "      <td>0.0</td>\n",
       "      <td>1.0</td>\n",
       "      <td>1.0</td>\n",
       "      <td>1.0</td>\n",
       "      <td>1.0</td>\n",
       "      <td>0.0</td>\n",
       "    </tr>\n",
       "  </tbody>\n",
       "</table>\n",
       "<p>3 rows × 65 columns</p>\n",
       "</div>"
      ],
      "text/plain": [
       "    HTTP/1.  /home    0  action  adminpanel  allsubmission  announcement  \\\n",
       "0       1.0    1.0  1.0     1.0         0.0            1.0           1.0   \n",
       "1       1.0    0.0  1.0     1.0         0.0            1.0           1.0   \n",
       "2       1.0    0.0  1.0     1.0         1.0            1.0           0.0   \n",
       "\n",
       "   archive  bootstrap-3.3.7/js/bootstrap.js HTTP/1.  \\\n",
       "0      1.0                                      1.0   \n",
       "1      1.0                                      1.0   \n",
       "2      1.0                                      1.0   \n",
       "\n",
       "   bootstrap-3.3.7/js/bootstrap.min.js HTTP/1.  ...  profile  \\\n",
       "0                                          1.0  ...      1.0   \n",
       "1                                          1.0  ...      1.0   \n",
       "2                                          1.0  ...      1.0   \n",
       "\n",
       "   robots.txt HTTP/1.  setcontest  setcontestproblem  setproblem  showcode  \\\n",
       "0                 1.0         1.0                0.0         1.0       1.0   \n",
       "1                 1.0         1.0                1.0         1.0       1.0   \n",
       "2                 1.0         0.0                0.0         0.0       1.0   \n",
       "\n",
       "   sign  standings  submit  update  \n",
       "0   1.0        1.0     1.0     1.0  \n",
       "1   1.0        1.0     1.0     0.0  \n",
       "2   1.0        1.0     1.0     0.0  \n",
       "\n",
       "[3 rows x 65 columns]"
      ]
     },
     "execution_count": 40,
     "metadata": {},
     "output_type": "execute_result"
    }
   ],
   "source": [
    "df_ml.head(3)"
   ]
  },
  {
   "cell_type": "code",
   "execution_count": 43,
   "metadata": {},
   "outputs": [],
   "source": [
    "lis_cls = df_ml.columns"
   ]
  },
  {
   "cell_type": "code",
   "execution_count": 45,
   "metadata": {},
   "outputs": [
    {
     "data": {
      "text/plain": [
       "' HTTP/1.'"
      ]
     },
     "execution_count": 45,
     "metadata": {},
     "output_type": "execute_result"
    }
   ],
   "source": [
    "lis_cls[0]"
   ]
  },
  {
   "cell_type": "code",
   "execution_count": 41,
   "metadata": {},
   "outputs": [],
   "source": [
    "from itertools import combinations"
   ]
  },
  {
   "cell_type": "markdown",
   "metadata": {},
   "source": [
    "# Considering only 2 combinations because laptop is crashing otherwise"
   ]
  },
  {
   "cell_type": "code",
   "execution_count": 51,
   "metadata": {
    "scrolled": true
   },
   "outputs": [
    {
     "data": {
      "text/plain": [
       "('/home', 'fonts/fontawesome-webfont.woff2 HTTP/1.')"
      ]
     },
     "execution_count": 51,
     "metadata": {},
     "output_type": "execute_result"
    }
   ],
   "source": [
    "combs = list(combinations(lis_cls, 2))\n",
    "combs[100]"
   ]
  },
  {
   "cell_type": "code",
   "execution_count": 52,
   "metadata": {},
   "outputs": [
    {
     "data": {
      "text/plain": [
       "(5, 65)"
      ]
     },
     "execution_count": 52,
     "metadata": {},
     "output_type": "execute_result"
    }
   ],
   "source": [
    "df_ml.shape"
   ]
  },
  {
   "cell_type": "code",
   "execution_count": 61,
   "metadata": {},
   "outputs": [
    {
     "data": {
      "text/plain": [
       "2"
      ]
     },
     "execution_count": 61,
     "metadata": {},
     "output_type": "execute_result"
    }
   ],
   "source": [
    "df_ml[\"/home\"].value_counts()[1]"
   ]
  },
  {
   "cell_type": "code",
   "execution_count": 70,
   "metadata": {},
   "outputs": [
    {
     "data": {
      "text/html": [
       "<div>\n",
       "<style scoped>\n",
       "    .dataframe tbody tr th:only-of-type {\n",
       "        vertical-align: middle;\n",
       "    }\n",
       "\n",
       "    .dataframe tbody tr th {\n",
       "        vertical-align: top;\n",
       "    }\n",
       "\n",
       "    .dataframe thead th {\n",
       "        text-align: right;\n",
       "    }\n",
       "</style>\n",
       "<table border=\"1\" class=\"dataframe\">\n",
       "  <thead>\n",
       "    <tr style=\"text-align: right;\">\n",
       "      <th></th>\n",
       "      <th>/home</th>\n",
       "      <th>fonts/fontawesome-webfont.woff2 HTTP/1.</th>\n",
       "    </tr>\n",
       "  </thead>\n",
       "  <tbody>\n",
       "    <tr>\n",
       "      <th>0</th>\n",
       "      <td>1.0</td>\n",
       "      <td>0.0</td>\n",
       "    </tr>\n",
       "  </tbody>\n",
       "</table>\n",
       "</div>"
      ],
      "text/plain": [
       "   /home  fonts/fontawesome-webfont.woff2 HTTP/1.\n",
       "0    1.0                                      0.0"
      ]
     },
     "execution_count": 70,
     "metadata": {},
     "output_type": "execute_result"
    }
   ],
   "source": [
    "temp_df = df_ml[[\"/home\", \"fonts/fontawesome-webfont.woff2 HTTP/1.\"]]\n",
    "temp_df.head(1)"
   ]
  },
  {
   "cell_type": "code",
   "execution_count": 77,
   "metadata": {},
   "outputs": [
    {
     "data": {
      "text/plain": [
       "1"
      ]
     },
     "execution_count": 77,
     "metadata": {},
     "output_type": "execute_result"
    }
   ],
   "source": [
    "len(\n",
    "    temp_df[\n",
    "        (temp_df[\"/home\"] == 1.0)\n",
    "        & (temp_df[\"fonts/fontawesome-webfont.woff2 HTTP/1.\"] == 1.0)\n",
    "    ]\n",
    ")"
   ]
  },
  {
   "cell_type": "code",
   "execution_count": 150,
   "metadata": {},
   "outputs": [],
   "source": [
    "def support(tup, tup1):\n",
    "    support = 0.80\n",
    "    x1, x2 = tup,tup1\n",
    "#     print(x1, x2)\n",
    "    supportx1 = df_ml[x1].value_counts()[1]/5\n",
    "#     print(supportx1)\n",
    "    if supportx1<support:\n",
    "        return 0\n",
    "    else:\n",
    "    #     supportx2 = df_ml[x2].value_counts()[1]\n",
    "        temp_df = df_ml[[x1, x2]]\n",
    "        supportBoth = len(temp_df[(temp_df[x1] == 1.0) & (temp_df[x2] == 1.0)])\n",
    "        conf = supportBoth/supportx1\n",
    "\n",
    "        return conf"
   ]
  },
  {
   "cell_type": "code",
   "execution_count": 151,
   "metadata": {},
   "outputs": [
    {
     "data": {
      "text/plain": [
       "'0'"
      ]
     },
     "execution_count": 151,
     "metadata": {},
     "output_type": "execute_result"
    }
   ],
   "source": [
    "combs[1][1]"
   ]
  },
  {
   "cell_type": "code",
   "execution_count": 152,
   "metadata": {
    "scrolled": true
   },
   "outputs": [
    {
     "data": {
      "text/plain": [
       "4.0"
      ]
     },
     "execution_count": 152,
     "metadata": {},
     "output_type": "execute_result"
    }
   ],
   "source": [
    "support(combs[1][0],combs[1][1])"
   ]
  },
  {
   "cell_type": "markdown",
   "metadata": {},
   "source": [
    "# Calculating"
   ]
  },
  {
   "cell_type": "code",
   "execution_count": 153,
   "metadata": {},
   "outputs": [],
   "source": [
    "threshold = 0.9\n"
   ]
  },
  {
   "cell_type": "code",
   "execution_count": 154,
   "metadata": {},
   "outputs": [
    {
     "data": {
      "text/plain": [
       "2080"
      ]
     },
     "execution_count": 154,
     "metadata": {},
     "output_type": "execute_result"
    }
   ],
   "source": [
    "len(combs)"
   ]
  },
  {
   "cell_type": "code",
   "execution_count": 155,
   "metadata": {
    "scrolled": true
   },
   "outputs": [],
   "source": [
    "list_deci = []\n",
    "for a in range(len(combs)):\n",
    "    sup_store = support(combs[a][0],combs[a][1])\n",
    "#     print(sup_store)\n",
    "    if sup_store>threshold:\n",
    "        list_deci.append(combs[a])"
   ]
  },
  {
   "cell_type": "code",
   "execution_count": 156,
   "metadata": {
    "scrolled": true
   },
   "outputs": [
    {
     "data": {
      "text/plain": [
       "1407"
      ]
     },
     "execution_count": 156,
     "metadata": {},
     "output_type": "execute_result"
    }
   ],
   "source": [
    "len(list(set(list_deci)))"
   ]
  },
  {
   "cell_type": "code",
   "execution_count": null,
   "metadata": {},
   "outputs": [],
   "source": []
  },
  {
   "cell_type": "code",
   "execution_count": null,
   "metadata": {},
   "outputs": [],
   "source": []
  },
  {
   "cell_type": "code",
   "execution_count": null,
   "metadata": {},
   "outputs": [],
   "source": []
  },
  {
   "cell_type": "code",
   "execution_count": null,
   "metadata": {},
   "outputs": [],
   "source": []
  },
  {
   "cell_type": "code",
   "execution_count": null,
   "metadata": {},
   "outputs": [],
   "source": []
  },
  {
   "cell_type": "code",
   "execution_count": null,
   "metadata": {},
   "outputs": [],
   "source": []
  },
  {
   "cell_type": "code",
   "execution_count": null,
   "metadata": {},
   "outputs": [],
   "source": []
  }
 ],
 "metadata": {
  "kernelspec": {
   "display_name": "Python 3",
   "language": "python",
   "name": "python3"
  },
  "language_info": {
   "codemirror_mode": {
    "name": "ipython",
    "version": 3
   },
   "file_extension": ".py",
   "mimetype": "text/x-python",
   "name": "python",
   "nbconvert_exporter": "python",
   "pygments_lexer": "ipython3",
   "version": "3.7.6"
  },
  "toc": {
   "base_numbering": 1,
   "nav_menu": {},
   "number_sections": true,
   "sideBar": true,
   "skip_h1_title": false,
   "title_cell": "Table of Contents",
   "title_sidebar": "Contents",
   "toc_cell": true,
   "toc_position": {
    "height": "calc(100% - 180px)",
    "left": "10px",
    "top": "150px",
    "width": "384px"
   },
   "toc_section_display": true,
   "toc_window_display": true
  },
  "widgets": {
   "application/vnd.jupyter.widget-state+json": {
    "state": {},
    "version_major": 2,
    "version_minor": 0
   }
  }
 },
 "nbformat": 4,
 "nbformat_minor": 4
}
