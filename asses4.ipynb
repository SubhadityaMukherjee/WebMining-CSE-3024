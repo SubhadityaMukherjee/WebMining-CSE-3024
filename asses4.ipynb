{
 "cells": [
  {
   "cell_type": "markdown",
   "metadata": {
    "toc": true
   },
   "source": [
    "<h1>Table of Contents<span class=\"tocSkip\"></span></h1>\n",
    "<div class=\"toc\"><ul class=\"toc-item\"><li><span><a href=\"#Question-1\" data-toc-modified-id=\"Question-1-1\"><span class=\"toc-item-num\">1&nbsp;&nbsp;</span>Question 1</a></span><ul class=\"toc-item\"><li><span><a href=\"#Decision-tree\" data-toc-modified-id=\"Decision-tree-1.1\"><span class=\"toc-item-num\">1.1&nbsp;&nbsp;</span>Decision tree</a></span><ul class=\"toc-item\"><li><span><a href=\"#Cross-val\" data-toc-modified-id=\"Cross-val-1.1.1\"><span class=\"toc-item-num\">1.1.1&nbsp;&nbsp;</span>Cross val</a></span></li><li><span><a href=\"#confusion-matrix\" data-toc-modified-id=\"confusion-matrix-1.1.2\"><span class=\"toc-item-num\">1.1.2&nbsp;&nbsp;</span>confusion matrix</a></span></li><li><span><a href=\"#Prec,-Recall,-Fscore\" data-toc-modified-id=\"Prec,-Recall,-Fscore-1.1.3\"><span class=\"toc-item-num\">1.1.3&nbsp;&nbsp;</span>Prec, Recall, Fscore</a></span></li><li><span><a href=\"#MSE,-accuracy\" data-toc-modified-id=\"MSE,-accuracy-1.1.4\"><span class=\"toc-item-num\">1.1.4&nbsp;&nbsp;</span>MSE, accuracy</a></span></li><li><span><a href=\"#ROC\" data-toc-modified-id=\"ROC-1.1.5\"><span class=\"toc-item-num\">1.1.5&nbsp;&nbsp;</span>ROC</a></span></li><li><span><a href=\"#AUC\" data-toc-modified-id=\"AUC-1.1.6\"><span class=\"toc-item-num\">1.1.6&nbsp;&nbsp;</span>AUC</a></span></li></ul></li><li><span><a href=\"#Naive-Bayes\" data-toc-modified-id=\"Naive-Bayes-1.2\"><span class=\"toc-item-num\">1.2&nbsp;&nbsp;</span>Naive Bayes</a></span><ul class=\"toc-item\"><li><span><a href=\"#Cross-val\" data-toc-modified-id=\"Cross-val-1.2.1\"><span class=\"toc-item-num\">1.2.1&nbsp;&nbsp;</span>Cross val</a></span></li><li><span><a href=\"#confusion-matrix\" data-toc-modified-id=\"confusion-matrix-1.2.2\"><span class=\"toc-item-num\">1.2.2&nbsp;&nbsp;</span>confusion matrix</a></span></li><li><span><a href=\"#Prec,-Recall,-Fscore\" data-toc-modified-id=\"Prec,-Recall,-Fscore-1.2.3\"><span class=\"toc-item-num\">1.2.3&nbsp;&nbsp;</span>Prec, Recall, Fscore</a></span></li><li><span><a href=\"#MSE,-accuracy\" data-toc-modified-id=\"MSE,-accuracy-1.2.4\"><span class=\"toc-item-num\">1.2.4&nbsp;&nbsp;</span>MSE, accuracy</a></span></li><li><span><a href=\"#ROC\" data-toc-modified-id=\"ROC-1.2.5\"><span class=\"toc-item-num\">1.2.5&nbsp;&nbsp;</span>ROC</a></span></li><li><span><a href=\"#AUC\" data-toc-modified-id=\"AUC-1.2.6\"><span class=\"toc-item-num\">1.2.6&nbsp;&nbsp;</span>AUC</a></span></li></ul></li><li><span><a href=\"#Adaboost\" data-toc-modified-id=\"Adaboost-1.3\"><span class=\"toc-item-num\">1.3&nbsp;&nbsp;</span>Adaboost</a></span><ul class=\"toc-item\"><li><span><a href=\"#Cross-val\" data-toc-modified-id=\"Cross-val-1.3.1\"><span class=\"toc-item-num\">1.3.1&nbsp;&nbsp;</span>Cross val</a></span></li><li><span><a href=\"#confusion-matrix\" data-toc-modified-id=\"confusion-matrix-1.3.2\"><span class=\"toc-item-num\">1.3.2&nbsp;&nbsp;</span>confusion matrix</a></span></li><li><span><a href=\"#Prec,-Recall,-Fscore\" data-toc-modified-id=\"Prec,-Recall,-Fscore-1.3.3\"><span class=\"toc-item-num\">1.3.3&nbsp;&nbsp;</span>Prec, Recall, Fscore</a></span></li><li><span><a href=\"#MSE,-accuracy\" data-toc-modified-id=\"MSE,-accuracy-1.3.4\"><span class=\"toc-item-num\">1.3.4&nbsp;&nbsp;</span>MSE, accuracy</a></span></li><li><span><a href=\"#ROC\" data-toc-modified-id=\"ROC-1.3.5\"><span class=\"toc-item-num\">1.3.5&nbsp;&nbsp;</span>ROC</a></span></li><li><span><a href=\"#AUC\" data-toc-modified-id=\"AUC-1.3.6\"><span class=\"toc-item-num\">1.3.6&nbsp;&nbsp;</span>AUC</a></span></li></ul></li><li><span><a href=\"#Comparison\" data-toc-modified-id=\"Comparison-1.4\"><span class=\"toc-item-num\">1.4&nbsp;&nbsp;</span>Comparison</a></span></li></ul></li><li><span><a href=\"#Question-2\" data-toc-modified-id=\"Question-2-2\"><span class=\"toc-item-num\">2&nbsp;&nbsp;</span>Question 2</a></span><ul class=\"toc-item\"><li><span><a href=\"#Kmeans-Choosing-column-1-and-2\" data-toc-modified-id=\"Kmeans-Choosing-column-1-and-2-2.1\"><span class=\"toc-item-num\">2.1&nbsp;&nbsp;</span>Kmeans Choosing column 1 and 2</a></span></li><li><span><a href=\"#Clustering\" data-toc-modified-id=\"Clustering-2.2\"><span class=\"toc-item-num\">2.2&nbsp;&nbsp;</span>Clustering</a></span></li></ul></li><li><span><a href=\"#Question-3\" data-toc-modified-id=\"Question-3-3\"><span class=\"toc-item-num\">3&nbsp;&nbsp;</span>Question 3</a></span><ul class=\"toc-item\"><li><span><a href=\"#Fix-IPs\" data-toc-modified-id=\"Fix-IPs-3.1\"><span class=\"toc-item-num\">3.1&nbsp;&nbsp;</span>Fix IPs</a></span></li><li><span><a href=\"#Apriori\" data-toc-modified-id=\"Apriori-3.2\"><span class=\"toc-item-num\">3.2&nbsp;&nbsp;</span>Apriori</a></span></li></ul></li></ul></div>"
   ]
  },
  {
   "cell_type": "code",
   "execution_count": 119,
   "metadata": {
    "ExecuteTime": {
     "end_time": "2020-03-15T07:14:58.356205Z",
     "start_time": "2020-03-15T07:14:58.353427Z"
    }
   },
   "outputs": [],
   "source": [
    "import pandas as pd"
   ]
  },
  {
   "cell_type": "markdown",
   "metadata": {},
   "source": [
    "# Question 1\n",
    "Write a program to show the implementation of Decision Tree, Naïve-Bayes and\n",
    "Adaboost techniques using the below mentioned dataset..\n",
    "- Handle missing values, If any\n",
    "- Use 5-fold cross validation technique\n",
    "- Prepare the confusion matrix, find out the precision and recall value\n",
    "and use F-measure to access the performance.\n",
    "- Compare the error rate and performance of each techniques using\n",
    "MSE and prediction accuracy as the measures.\n",
    "- Prepare ROC and AUC curve based on the result obtained.\n",
    "- Compare the results obtained using these three techniques in order to\n",
    "assess their performance for the considered dataset.\n"
   ]
  },
  {
   "cell_type": "code",
   "execution_count": 120,
   "metadata": {
    "ExecuteTime": {
     "end_time": "2020-03-15T07:14:58.401392Z",
     "start_time": "2020-03-15T07:14:58.357626Z"
    }
   },
   "outputs": [],
   "source": [
    "credit_data = pd.read_excel('data/Credit card approval.xls',names = [i for i in range(16)])"
   ]
  },
  {
   "cell_type": "code",
   "execution_count": 121,
   "metadata": {
    "ExecuteTime": {
     "end_time": "2020-03-15T07:14:58.416783Z",
     "start_time": "2020-03-15T07:14:58.403095Z"
    }
   },
   "outputs": [
    {
     "data": {
      "text/html": [
       "<div>\n",
       "<style scoped>\n",
       "    .dataframe tbody tr th:only-of-type {\n",
       "        vertical-align: middle;\n",
       "    }\n",
       "\n",
       "    .dataframe tbody tr th {\n",
       "        vertical-align: top;\n",
       "    }\n",
       "\n",
       "    .dataframe thead th {\n",
       "        text-align: right;\n",
       "    }\n",
       "</style>\n",
       "<table border=\"1\" class=\"dataframe\">\n",
       "  <thead>\n",
       "    <tr style=\"text-align: right;\">\n",
       "      <th></th>\n",
       "      <th>0</th>\n",
       "      <th>1</th>\n",
       "      <th>2</th>\n",
       "      <th>3</th>\n",
       "      <th>4</th>\n",
       "      <th>5</th>\n",
       "      <th>6</th>\n",
       "      <th>7</th>\n",
       "      <th>8</th>\n",
       "      <th>9</th>\n",
       "      <th>10</th>\n",
       "      <th>11</th>\n",
       "      <th>12</th>\n",
       "      <th>13</th>\n",
       "      <th>14</th>\n",
       "      <th>15</th>\n",
       "    </tr>\n",
       "  </thead>\n",
       "  <tbody>\n",
       "    <tr>\n",
       "      <th>0</th>\n",
       "      <td>b</td>\n",
       "      <td>30.83</td>\n",
       "      <td>0.000</td>\n",
       "      <td>u</td>\n",
       "      <td>g</td>\n",
       "      <td>w</td>\n",
       "      <td>v</td>\n",
       "      <td>1.25</td>\n",
       "      <td>t</td>\n",
       "      <td>t</td>\n",
       "      <td>1</td>\n",
       "      <td>f</td>\n",
       "      <td>g</td>\n",
       "      <td>202</td>\n",
       "      <td>0</td>\n",
       "      <td>+</td>\n",
       "    </tr>\n",
       "    <tr>\n",
       "      <th>1</th>\n",
       "      <td>a</td>\n",
       "      <td>58.67</td>\n",
       "      <td>4.460</td>\n",
       "      <td>u</td>\n",
       "      <td>g</td>\n",
       "      <td>q</td>\n",
       "      <td>h</td>\n",
       "      <td>3.04</td>\n",
       "      <td>t</td>\n",
       "      <td>t</td>\n",
       "      <td>6</td>\n",
       "      <td>f</td>\n",
       "      <td>g</td>\n",
       "      <td>43</td>\n",
       "      <td>560</td>\n",
       "      <td>+</td>\n",
       "    </tr>\n",
       "    <tr>\n",
       "      <th>2</th>\n",
       "      <td>a</td>\n",
       "      <td>24.5</td>\n",
       "      <td>0.500</td>\n",
       "      <td>u</td>\n",
       "      <td>g</td>\n",
       "      <td>q</td>\n",
       "      <td>h</td>\n",
       "      <td>1.50</td>\n",
       "      <td>t</td>\n",
       "      <td>f</td>\n",
       "      <td>0</td>\n",
       "      <td>f</td>\n",
       "      <td>g</td>\n",
       "      <td>280</td>\n",
       "      <td>824</td>\n",
       "      <td>+</td>\n",
       "    </tr>\n",
       "    <tr>\n",
       "      <th>3</th>\n",
       "      <td>b</td>\n",
       "      <td>27.83</td>\n",
       "      <td>1.540</td>\n",
       "      <td>u</td>\n",
       "      <td>g</td>\n",
       "      <td>w</td>\n",
       "      <td>v</td>\n",
       "      <td>3.75</td>\n",
       "      <td>t</td>\n",
       "      <td>t</td>\n",
       "      <td>5</td>\n",
       "      <td>t</td>\n",
       "      <td>g</td>\n",
       "      <td>100</td>\n",
       "      <td>3</td>\n",
       "      <td>+</td>\n",
       "    </tr>\n",
       "    <tr>\n",
       "      <th>4</th>\n",
       "      <td>b</td>\n",
       "      <td>20.17</td>\n",
       "      <td>5.625</td>\n",
       "      <td>u</td>\n",
       "      <td>g</td>\n",
       "      <td>w</td>\n",
       "      <td>v</td>\n",
       "      <td>1.71</td>\n",
       "      <td>t</td>\n",
       "      <td>f</td>\n",
       "      <td>0</td>\n",
       "      <td>f</td>\n",
       "      <td>s</td>\n",
       "      <td>120</td>\n",
       "      <td>0</td>\n",
       "      <td>+</td>\n",
       "    </tr>\n",
       "  </tbody>\n",
       "</table>\n",
       "</div>"
      ],
      "text/plain": [
       "  0      1      2  3  4  5  6     7  8  9   10 11 12   13   14 15\n",
       "0  b  30.83  0.000  u  g  w  v  1.25  t  t   1  f  g  202    0  +\n",
       "1  a  58.67  4.460  u  g  q  h  3.04  t  t   6  f  g   43  560  +\n",
       "2  a   24.5  0.500  u  g  q  h  1.50  t  f   0  f  g  280  824  +\n",
       "3  b  27.83  1.540  u  g  w  v  3.75  t  t   5  t  g  100    3  +\n",
       "4  b  20.17  5.625  u  g  w  v  1.71  t  f   0  f  s  120    0  +"
      ]
     },
     "execution_count": 121,
     "metadata": {},
     "output_type": "execute_result"
    }
   ],
   "source": [
    "credit_data.head()"
   ]
  },
  {
   "cell_type": "code",
   "execution_count": 122,
   "metadata": {
    "ExecuteTime": {
     "end_time": "2020-03-15T07:14:58.429395Z",
     "start_time": "2020-03-15T07:14:58.418413Z"
    }
   },
   "outputs": [],
   "source": [
    "credit_data = credit_data.fillna(0)"
   ]
  },
  {
   "cell_type": "code",
   "execution_count": 123,
   "metadata": {
    "ExecuteTime": {
     "end_time": "2020-03-15T07:14:58.447169Z",
     "start_time": "2020-03-15T07:14:58.430752Z"
    }
   },
   "outputs": [],
   "source": [
    "for a in [0, 3, 4, 5, 6, 8, 9, 10, 11, 12, 15]:\n",
    "    credit_data[a] = credit_data[a].astype('category').cat.codes"
   ]
  },
  {
   "cell_type": "code",
   "execution_count": 124,
   "metadata": {
    "ExecuteTime": {
     "end_time": "2020-03-15T07:14:58.463108Z",
     "start_time": "2020-03-15T07:14:58.448531Z"
    }
   },
   "outputs": [
    {
     "data": {
      "text/html": [
       "<div>\n",
       "<style scoped>\n",
       "    .dataframe tbody tr th:only-of-type {\n",
       "        vertical-align: middle;\n",
       "    }\n",
       "\n",
       "    .dataframe tbody tr th {\n",
       "        vertical-align: top;\n",
       "    }\n",
       "\n",
       "    .dataframe thead th {\n",
       "        text-align: right;\n",
       "    }\n",
       "</style>\n",
       "<table border=\"1\" class=\"dataframe\">\n",
       "  <thead>\n",
       "    <tr style=\"text-align: right;\">\n",
       "      <th></th>\n",
       "      <th>0</th>\n",
       "      <th>1</th>\n",
       "      <th>2</th>\n",
       "      <th>3</th>\n",
       "      <th>4</th>\n",
       "      <th>5</th>\n",
       "      <th>6</th>\n",
       "      <th>7</th>\n",
       "      <th>8</th>\n",
       "      <th>9</th>\n",
       "      <th>10</th>\n",
       "      <th>11</th>\n",
       "      <th>12</th>\n",
       "      <th>13</th>\n",
       "      <th>14</th>\n",
       "      <th>15</th>\n",
       "    </tr>\n",
       "  </thead>\n",
       "  <tbody>\n",
       "    <tr>\n",
       "      <th>0</th>\n",
       "      <td>2</td>\n",
       "      <td>30.83</td>\n",
       "      <td>0.000</td>\n",
       "      <td>2</td>\n",
       "      <td>1</td>\n",
       "      <td>13</td>\n",
       "      <td>8</td>\n",
       "      <td>1.25</td>\n",
       "      <td>1</td>\n",
       "      <td>1</td>\n",
       "      <td>1</td>\n",
       "      <td>0</td>\n",
       "      <td>0</td>\n",
       "      <td>202</td>\n",
       "      <td>0</td>\n",
       "      <td>0</td>\n",
       "    </tr>\n",
       "    <tr>\n",
       "      <th>1</th>\n",
       "      <td>1</td>\n",
       "      <td>58.67</td>\n",
       "      <td>4.460</td>\n",
       "      <td>2</td>\n",
       "      <td>1</td>\n",
       "      <td>11</td>\n",
       "      <td>4</td>\n",
       "      <td>3.04</td>\n",
       "      <td>1</td>\n",
       "      <td>1</td>\n",
       "      <td>6</td>\n",
       "      <td>0</td>\n",
       "      <td>0</td>\n",
       "      <td>43</td>\n",
       "      <td>560</td>\n",
       "      <td>0</td>\n",
       "    </tr>\n",
       "    <tr>\n",
       "      <th>2</th>\n",
       "      <td>1</td>\n",
       "      <td>24.5</td>\n",
       "      <td>0.500</td>\n",
       "      <td>2</td>\n",
       "      <td>1</td>\n",
       "      <td>11</td>\n",
       "      <td>4</td>\n",
       "      <td>1.50</td>\n",
       "      <td>1</td>\n",
       "      <td>0</td>\n",
       "      <td>0</td>\n",
       "      <td>0</td>\n",
       "      <td>0</td>\n",
       "      <td>280</td>\n",
       "      <td>824</td>\n",
       "      <td>0</td>\n",
       "    </tr>\n",
       "    <tr>\n",
       "      <th>3</th>\n",
       "      <td>2</td>\n",
       "      <td>27.83</td>\n",
       "      <td>1.540</td>\n",
       "      <td>2</td>\n",
       "      <td>1</td>\n",
       "      <td>13</td>\n",
       "      <td>8</td>\n",
       "      <td>3.75</td>\n",
       "      <td>1</td>\n",
       "      <td>1</td>\n",
       "      <td>5</td>\n",
       "      <td>1</td>\n",
       "      <td>0</td>\n",
       "      <td>100</td>\n",
       "      <td>3</td>\n",
       "      <td>0</td>\n",
       "    </tr>\n",
       "    <tr>\n",
       "      <th>4</th>\n",
       "      <td>2</td>\n",
       "      <td>20.17</td>\n",
       "      <td>5.625</td>\n",
       "      <td>2</td>\n",
       "      <td>1</td>\n",
       "      <td>13</td>\n",
       "      <td>8</td>\n",
       "      <td>1.71</td>\n",
       "      <td>1</td>\n",
       "      <td>0</td>\n",
       "      <td>0</td>\n",
       "      <td>0</td>\n",
       "      <td>2</td>\n",
       "      <td>120</td>\n",
       "      <td>0</td>\n",
       "      <td>0</td>\n",
       "    </tr>\n",
       "  </tbody>\n",
       "</table>\n",
       "</div>"
      ],
      "text/plain": [
       "   0      1      2   3   4   5   6     7   8   9   10  11  12   13   14  15\n",
       "0   2  30.83  0.000   2   1  13   8  1.25   1   1   1   0   0  202    0   0\n",
       "1   1  58.67  4.460   2   1  11   4  3.04   1   1   6   0   0   43  560   0\n",
       "2   1   24.5  0.500   2   1  11   4  1.50   1   0   0   0   0  280  824   0\n",
       "3   2  27.83  1.540   2   1  13   8  3.75   1   1   5   1   0  100    3   0\n",
       "4   2  20.17  5.625   2   1  13   8  1.71   1   0   0   0   2  120    0   0"
      ]
     },
     "execution_count": 124,
     "metadata": {},
     "output_type": "execute_result"
    }
   ],
   "source": [
    "credit_data.head()"
   ]
  },
  {
   "cell_type": "code",
   "execution_count": 125,
   "metadata": {
    "ExecuteTime": {
     "end_time": "2020-03-15T07:14:58.475185Z",
     "start_time": "2020-03-15T07:14:58.464802Z"
    }
   },
   "outputs": [],
   "source": [
    "credit_data = credit_data.replace('?',0)"
   ]
  },
  {
   "cell_type": "code",
   "execution_count": 126,
   "metadata": {
    "ExecuteTime": {
     "end_time": "2020-03-15T07:14:58.496602Z",
     "start_time": "2020-03-15T07:14:58.476583Z"
    }
   },
   "outputs": [
    {
     "name": "stdout",
     "output_type": "stream",
     "text": [
      "0 [2 1 0]\n",
      "1 [30.83 58.67 24.5  27.83 20.17 32.08 33.17 22.92 54.42 42.5  22.08 29.92\n",
      " 38.25 48.08 45.83 36.67 28.25 23.25 21.83 19.17 25.   47.75 27.42 41.17\n",
      " 15.83 47.   56.58 57.42 42.08 29.25 42.   49.5  36.75 22.58 27.25 23.\n",
      " 27.75 54.58 34.17 28.92 29.67 39.58 56.42 54.33 41.   31.92 41.5  23.92\n",
      " 25.75 26.   37.42 34.92 34.25 23.33 23.17 44.33 35.17 43.25 56.75 31.67\n",
      " 23.42 20.42 26.67 36.   25.5  19.42 32.33 34.83 38.58 44.25 44.83 20.67\n",
      " 34.08 21.67 21.5  49.58 27.67 39.83  0.   37.17 25.67 34.   49.   62.5\n",
      " 31.42 52.33 28.75 28.58 22.5  28.5  37.5  35.25 18.67 54.83 40.92 19.75\n",
      " 29.17 24.58 33.75 25.42 37.75 52.5  57.83 20.75 39.92 24.75 44.17 23.5\n",
      " 47.67 22.75 34.42 28.42 67.75 47.42 36.25 32.67 48.58 33.58 18.83 26.92\n",
      " 31.25 56.5  43.   22.33 32.83 40.33 30.5  52.83 46.67 58.33 37.33 23.08\n",
      " 32.75 68.67 28.   44.   25.08 32.   60.58 40.83 19.33 41.33 56.   49.83\n",
      " 22.67 27.   26.08 18.42 21.25 57.08 22.42 48.75 40.   40.58 28.67 33.08\n",
      " 21.33 41.75 34.5  48.17 27.58 24.08 24.83 36.33 35.42 71.58 39.5  39.33\n",
      " 24.33 60.08 55.92 53.92 18.92 50.08 65.42 17.58 18.08 19.67 25.17 33.5\n",
      " 58.42 26.17 42.83 38.17 20.5  48.25 28.33 18.75 18.5  45.   40.25 41.42\n",
      " 17.83 18.17 20.   52.17 50.75 17.08 18.33 59.67 18.   37.58 30.67 18.58\n",
      " 16.25 21.17 17.67 16.5  29.5  21.75 18.25 35.75 16.08 69.17 32.92 16.33\n",
      " 22.17 57.58 15.92 31.75 19.   17.5  33.67 30.17 33.25 25.25 34.75 47.33\n",
      " 39.08 42.75 38.92 62.75 32.25 26.75 63.33 30.75 16.   19.5  32.42 30.25\n",
      " 26.83 16.92 24.42 39.42 23.58 21.42 33.   26.33 26.25 28.17 20.83 43.17\n",
      " 56.83 15.17 29.83 31.   51.92 69.5  19.58 22.25 38.42 26.58 35.   29.42\n",
      " 49.17 51.83 58.58 53.33 27.17 25.92 30.58 17.25 27.33 36.5  29.75 52.42\n",
      " 36.17 34.58 21.92 36.58 31.08 30.42 21.08 17.42 39.17 26.5  17.33 23.75\n",
      " 34.67 74.83 45.33 47.25 24.17 39.25 39.   64.08 31.33 21.   13.75 46.\n",
      " 20.25 60.92 30.   22.83 45.17 41.58 55.75 25.33 31.83 33.92 24.92 80.25\n",
      " 30.08 48.33 76.75 51.33 41.92 29.58 32.17 51.42 42.17 43.08 59.5  65.17\n",
      " 20.33 48.5  28.08 73.42 51.58 38.67 46.08 20.08 42.25 16.17 47.83 22.\n",
      " 38.33 25.58 21.58 36.08 38.75 35.58 31.58 15.75 17.92 30.33 47.17 25.83\n",
      " 50.25 36.42]\n",
      "2 [ 0.     4.46   0.5    1.54   5.625  4.     1.04  11.585  4.915  0.83\n",
      "  1.835  6.     6.04  10.5    4.415  0.875  5.875  0.25   8.585 11.25\n",
      "  1.     8.    14.5    6.5    0.585 13.    18.5    8.5   14.79   9.79\n",
      "  7.585  5.125 10.75   1.5    1.585 11.75   9.415  9.17  15.     1.415\n",
      " 13.915 28.     6.75   2.04   0.665  2.5    3.    11.625  4.5   12.25\n",
      " 16.165  0.79   0.835  4.25   0.375 25.125  7.5    5.     7.     5.29\n",
      "  1.165  9.75  19.     3.5    0.625  2.21  12.75  15.5    1.375  3.54\n",
      " 11.     1.75  16.5   12.     2.25   0.75  12.5    1.25   1.125  7.04\n",
      " 10.335  6.21   6.665  9.     5.5    0.54   2.75   9.5   13.5    3.75\n",
      " 16.     0.29   1.665  7.54   0.46  10.    11.5    3.04   2.     0.08\n",
      "  1.71   3.25   2.54  13.585  8.665  9.25   8.17   2.335 19.5    5.665\n",
      "  4.625  0.205  0.96   4.04   5.04   3.165  7.625 10.04  10.25   2.125\n",
      "  9.335  6.625  2.71   9.625 12.54   9.54   8.46  13.75  21.    10.125\n",
      " 25.085  0.21  21.5   11.125 11.045  1.335  0.085  1.21   0.165  5.71\n",
      "  5.415 12.625  0.58   0.415  2.415  0.335  3.125 12.125  2.875 13.665\n",
      " 26.335 10.29   1.29  22.     0.125  1.085  4.085  4.71   6.165  4.585\n",
      " 11.46  14.585  0.17   1.625  2.085  5.085  8.125  2.835  1.79   0.705\n",
      "  2.165  2.29  18.125  3.085 11.665  4.125  1.08  13.335 11.835  4.79\n",
      "  9.96   7.08  25.21   0.67   3.79  22.29   3.335  0.42   1.46   0.04\n",
      " 12.33  12.335  0.915 14.    17.75  20.     5.25   4.165 10.915  4.75\n",
      " 10.415  7.835  0.71   2.46   9.585  3.625  2.665  5.835 12.835 10.665\n",
      "  7.25  10.21   3.29  10.085  3.375]\n",
      "3 [2 3 0 1]\n",
      "4 [1 3 0 2]\n",
      "5 [13 11 10 12  3  9  2  4 14  7  5  1  6  8  0]\n",
      "6 [8 4 1 3 5 9 0 7 2 6]\n",
      "7 [ 1.25   3.04   1.5    3.75   1.71   2.5    6.5    0.04   3.96   3.165\n",
      "  2.165  4.335  1.     5.     0.25   0.96   3.17   0.665  0.75   0.835\n",
      "  7.875  3.085  0.5    5.165 15.     7.     5.04   7.96   7.585  0.415\n",
      "  2.     1.835 14.415  4.5    5.335  8.625 28.5    2.625  0.125  6.04\n",
      "  3.5    0.165  0.875  1.75   0.     7.415  0.085  5.75   6.     3.\n",
      "  1.585  4.29   1.54   1.46   1.625 12.5   13.5   10.75   0.375  0.585\n",
      "  0.455  4.     8.5    9.46   2.25  10.     0.795  1.375  1.29  11.5\n",
      "  6.29  14.     0.335  1.21   7.375  7.5    3.25  13.     5.5    4.25\n",
      "  0.625  5.085  2.75   2.375  8.     1.085  2.54   4.165  1.665 11.\n",
      "  9.     1.335  1.415  1.96   2.585  5.125 15.5    0.71   5.665 18.\n",
      "  5.25   8.665  2.29  20.     2.46  13.875  2.085  4.58   2.71   2.04\n",
      "  0.29   4.75   0.46   0.21   0.54   3.335  2.335  1.165  2.415  2.79\n",
      "  4.625  1.04   6.75   1.875 16.    12.75   5.375  2.125 17.5    3.125\n",
      "  0.79   8.29 ]\n",
      "8 [1 0]\n",
      "9 [1 0]\n",
      "10 [ 1  6  0  5  7 10  3 17  2  9  8 15 11 12 21 20  4 19 22 14 16 13 18]\n",
      "11 [0 1]\n",
      "12 [0 2 1]\n",
      "13 [ 202   43  280  100  120  360  164   80  180   52  128  260    0  320\n",
      "  396   96  200  300  145  500  168  434  583   30  240   70  455  311\n",
      "  216  491  400  239  160  711  250  520  515  420  980  443  140   94\n",
      "  368  288  928  188  112  171  268  167   75  152  176  329  212  410\n",
      "  274  375  408  350  204   40  181  399  440   93   60  395  393   21\n",
      "   29  102  431  370   24   20  129  510  195  144  380   49   50  381\n",
      "  150  117   56  211  230  156   22  228  519  253  487  220   88   73\n",
      "  121  470  136  132  292  154  272  340  108  720  450  232  170 1160\n",
      "  411  460  348  480  640  372  276  221  352  141  178  600  550 2000\n",
      "  225  210  110  356   45   62   92  174   17   86  454  254   28  263\n",
      "  333  312  290  371   99  252  760  560  130  523  680  163  208  383\n",
      "  330  422  840  432   32  186  303  349  224  369   76  231  309  416\n",
      "  465  256]\n",
      "14 [     0    560    824      3  31285   1349    314   1442    200   2690\n",
      "    245   1208   1260     11  10000   5000   4000     35    713    551\n",
      "    500    300    221   2283    100     15    284   1236   5800    730\n",
      "    400  50000    456  15108   2954      2     20     27    225      1\n",
      "     38      5    130    147    210  11202   1332     50    258    567\n",
      "   1000   2510    809    610    150  51100    367    600    247    375\n",
      "    278    827   2072    582   2300   3065   2200      6   1602   2184\n",
      "   3376   2000   7544  10561    837  11177    639   2028   1065    540\n",
      "    158  15000   3000   3257   1655   1430      7    790    396    678\n",
      "   1187   6590    168   1270   1210    742   8851   7059   1704    857\n",
      "   6700   2503   9800    196     14  26726  18027     99    444   1200\n",
      "   2010     13    120     32    722     40    484    204     98   5552\n",
      "    105   2803    126      4     21    173     10     25     42 100000\n",
      "    113      8     44   2732    179     16   1062    251    228     67\n",
      "     12    122   4208   1300    112   1110   1004    286   4500   1212\n",
      "    195     87     17    184    140     18    146     22     55     70\n",
      "     60   1058    769   5200     19    316    350   3552    687   1950\n",
      "     53     41     33     80    351   2100    475    892   4607   2206\n",
      "   5860     28   1391   2279    591    960    690    234    800    990\n",
      "   2197     90    340    347    327   4071    109   1249    134   1344\n",
      "    321    948   2079   2384    458   5298    162   1583     58     59\n",
      "   1400   1465   8000   4700   1097   3290  13212   5777   5124     23\n",
      "   4159    918    768    283    108      9     68    587    141    501\n",
      "    160    390    154    117    246    237    364    537    394    750]\n",
      "15 [0 1]\n"
     ]
    }
   ],
   "source": [
    "for a in credit_data.columns:\n",
    "    print(a, credit_data[a].unique())"
   ]
  },
  {
   "cell_type": "code",
   "execution_count": 127,
   "metadata": {
    "ExecuteTime": {
     "end_time": "2020-03-15T07:14:58.502274Z",
     "start_time": "2020-03-15T07:14:58.497730Z"
    }
   },
   "outputs": [],
   "source": [
    "from sklearn.model_selection import train_test_split\n",
    "X_train, X_test, y_train, y_test = train_test_split(credit_data.drop(15, axis=1), credit_data[15], test_size=0.33, random_state=42)"
   ]
  },
  {
   "cell_type": "markdown",
   "metadata": {},
   "source": [
    "## Decision tree"
   ]
  },
  {
   "cell_type": "code",
   "execution_count": 128,
   "metadata": {
    "ExecuteTime": {
     "end_time": "2020-03-15T07:14:58.513547Z",
     "start_time": "2020-03-15T07:14:58.503202Z"
    }
   },
   "outputs": [],
   "source": [
    "from sklearn.model_selection import cross_val_score\n",
    "from sklearn.tree import DecisionTreeClassifier\n",
    "clf = DecisionTreeClassifier()"
   ]
  },
  {
   "cell_type": "code",
   "execution_count": 129,
   "metadata": {
    "ExecuteTime": {
     "end_time": "2020-03-15T07:14:58.526194Z",
     "start_time": "2020-03-15T07:14:58.514637Z"
    }
   },
   "outputs": [
    {
     "data": {
      "text/plain": [
       "DecisionTreeClassifier(class_weight=None, criterion='gini', max_depth=None,\n",
       "                       max_features=None, max_leaf_nodes=None,\n",
       "                       min_impurity_decrease=0.0, min_impurity_split=None,\n",
       "                       min_samples_leaf=1, min_samples_split=2,\n",
       "                       min_weight_fraction_leaf=0.0, presort=False,\n",
       "                       random_state=None, splitter='best')"
      ]
     },
     "execution_count": 129,
     "metadata": {},
     "output_type": "execute_result"
    }
   ],
   "source": [
    "clf.fit(X_train,y_train)"
   ]
  },
  {
   "cell_type": "markdown",
   "metadata": {},
   "source": [
    "### Cross val"
   ]
  },
  {
   "cell_type": "code",
   "execution_count": 130,
   "metadata": {
    "ExecuteTime": {
     "end_time": "2020-03-15T07:14:58.548216Z",
     "start_time": "2020-03-15T07:14:58.527514Z"
    }
   },
   "outputs": [
    {
     "data": {
      "text/plain": [
       "array([0.80434783, 0.7826087 , 0.7173913 , 0.75555556, 0.84444444])"
      ]
     },
     "execution_count": 130,
     "metadata": {},
     "output_type": "execute_result"
    }
   ],
   "source": [
    "cross_val_score(clf, X_test, y_test, cv=5)"
   ]
  },
  {
   "cell_type": "markdown",
   "metadata": {},
   "source": [
    "### confusion matrix"
   ]
  },
  {
   "cell_type": "code",
   "execution_count": 131,
   "metadata": {
    "ExecuteTime": {
     "end_time": "2020-03-15T07:14:58.553356Z",
     "start_time": "2020-03-15T07:14:58.549338Z"
    }
   },
   "outputs": [
    {
     "data": {
      "text/plain": [
       "array([[ 84,  19],\n",
       "       [ 22, 103]])"
      ]
     },
     "execution_count": 131,
     "metadata": {},
     "output_type": "execute_result"
    }
   ],
   "source": [
    "from sklearn.metrics import confusion_matrix \n",
    "confusion_matrix(y_test, clf.predict(X_test))"
   ]
  },
  {
   "cell_type": "code",
   "execution_count": 132,
   "metadata": {
    "ExecuteTime": {
     "end_time": "2020-03-15T07:14:58.567380Z",
     "start_time": "2020-03-15T07:14:58.554304Z"
    }
   },
   "outputs": [
    {
     "data": {
      "text/plain": [
       "(84, 19, 22, 103)"
      ]
     },
     "execution_count": 132,
     "metadata": {},
     "output_type": "execute_result"
    }
   ],
   "source": [
    "tn, fp, fn, tp = confusion_matrix(y_test, clf.predict(X_test)).ravel()\n",
    "(tn, fp, fn, tp)"
   ]
  },
  {
   "cell_type": "markdown",
   "metadata": {},
   "source": [
    "### Prec, Recall, Fscore"
   ]
  },
  {
   "cell_type": "code",
   "execution_count": 133,
   "metadata": {
    "ExecuteTime": {
     "end_time": "2020-03-15T07:14:58.749294Z",
     "start_time": "2020-03-15T07:14:58.568351Z"
    }
   },
   "outputs": [],
   "source": [
    "from sklearn.metrics import precision_recall_fscore_support"
   ]
  },
  {
   "cell_type": "code",
   "execution_count": 134,
   "metadata": {
    "ExecuteTime": {
     "end_time": "2020-03-15T07:14:58.762670Z",
     "start_time": "2020-03-15T07:14:58.750430Z"
    }
   },
   "outputs": [
    {
     "data": {
      "text/plain": [
       "(0.8208571420819292, 0.8201754385964912, 0.8203739935041875, None)"
      ]
     },
     "execution_count": 134,
     "metadata": {},
     "output_type": "execute_result"
    }
   ],
   "source": [
    "precision_recall_fscore_support(y_test, clf.predict(X_test),average='weighted')\n",
    "#Calculate metrics for each label, and find their average weighted by support "
   ]
  },
  {
   "cell_type": "markdown",
   "metadata": {},
   "source": [
    "### MSE, accuracy"
   ]
  },
  {
   "cell_type": "code",
   "execution_count": 135,
   "metadata": {
    "ExecuteTime": {
     "end_time": "2020-03-15T07:14:58.769768Z",
     "start_time": "2020-03-15T07:14:58.764016Z"
    }
   },
   "outputs": [],
   "source": [
    "from sklearn.metrics import mean_squared_error\n",
    "from sklearn.metrics import accuracy_score"
   ]
  },
  {
   "cell_type": "code",
   "execution_count": 136,
   "metadata": {
    "ExecuteTime": {
     "end_time": "2020-03-15T07:14:58.780693Z",
     "start_time": "2020-03-15T07:14:58.770844Z"
    }
   },
   "outputs": [
    {
     "data": {
      "text/plain": [
       "0.17982456140350878"
      ]
     },
     "execution_count": 136,
     "metadata": {},
     "output_type": "execute_result"
    }
   ],
   "source": [
    "mean_squared_error(y_test, clf.predict(X_test))"
   ]
  },
  {
   "cell_type": "code",
   "execution_count": 137,
   "metadata": {
    "ExecuteTime": {
     "end_time": "2020-03-15T07:14:58.790147Z",
     "start_time": "2020-03-15T07:14:58.783164Z"
    }
   },
   "outputs": [
    {
     "data": {
      "text/plain": [
       "0.8201754385964912"
      ]
     },
     "execution_count": 137,
     "metadata": {},
     "output_type": "execute_result"
    }
   ],
   "source": [
    "accuracy_score(y_test, clf.predict(X_test))"
   ]
  },
  {
   "cell_type": "code",
   "execution_count": 138,
   "metadata": {
    "ExecuteTime": {
     "end_time": "2020-03-15T07:14:58.797757Z",
     "start_time": "2020-03-15T07:14:58.791857Z"
    }
   },
   "outputs": [],
   "source": [
    "from sklearn import metrics\n",
    "import matplotlib.pyplot as plt"
   ]
  },
  {
   "cell_type": "markdown",
   "metadata": {},
   "source": [
    "### ROC"
   ]
  },
  {
   "cell_type": "code",
   "execution_count": 139,
   "metadata": {
    "ExecuteTime": {
     "end_time": "2020-03-15T07:14:58.809903Z",
     "start_time": "2020-03-15T07:14:58.798756Z"
    }
   },
   "outputs": [],
   "source": [
    "fpr, tpr, thresholds = metrics.roc_curve(y_test, clf.predict(X_test))"
   ]
  },
  {
   "cell_type": "code",
   "execution_count": 140,
   "metadata": {
    "ExecuteTime": {
     "end_time": "2020-03-15T07:14:58.914954Z",
     "start_time": "2020-03-15T07:14:58.810967Z"
    }
   },
   "outputs": [
    {
     "data": {
      "text/plain": [
       "[<matplotlib.lines.Line2D at 0x7f913bac1b50>]"
      ]
     },
     "execution_count": 140,
     "metadata": {},
     "output_type": "execute_result"
    },
    {
     "data": {
      "image/png": "[encoded data removed]",
      "text/plain": [
       "<Figure size 432x288 with 1 Axes>"
      ]
     },
     "metadata": {
      "needs_background": "light"
     },
     "output_type": "display_data"
    }
   ],
   "source": [
    "plt.plot(fpr)"
   ]
  },
  {
   "cell_type": "markdown",
   "metadata": {},
   "source": [
    "### AUC"
   ]
  },
  {
   "cell_type": "code",
   "execution_count": 141,
   "metadata": {
    "ExecuteTime": {
     "end_time": "2020-03-15T07:14:58.919399Z",
     "start_time": "2020-03-15T07:14:58.916143Z"
    }
   },
   "outputs": [
    {
     "data": {
      "text/plain": [
       "0.819766990291262"
      ]
     },
     "execution_count": 141,
     "metadata": {},
     "output_type": "execute_result"
    }
   ],
   "source": [
    "auc= metrics.auc(fpr, tpr);auc"
   ]
  },
  {
   "cell_type": "code",
   "execution_count": null,
   "metadata": {},
   "outputs": [],
   "source": []
  },
  {
   "cell_type": "markdown",
   "metadata": {},
   "source": [
    "## Naive Bayes"
   ]
  },
  {
   "cell_type": "code",
   "execution_count": 142,
   "metadata": {
    "ExecuteTime": {
     "end_time": "2020-03-15T07:14:59.173936Z",
     "start_time": "2020-03-15T07:14:59.162438Z"
    }
   },
   "outputs": [],
   "source": [
    "from sklearn.model_selection import cross_val_score\n",
    "from sklearn.naive_bayes import GaussianNB\n",
    "clf = GaussianNB()"
   ]
  },
  {
   "cell_type": "code",
   "execution_count": 143,
   "metadata": {
    "ExecuteTime": {
     "end_time": "2020-03-15T07:14:59.237055Z",
     "start_time": "2020-03-15T07:14:59.175357Z"
    }
   },
   "outputs": [
    {
     "data": {
      "text/plain": [
       "GaussianNB(priors=None, var_smoothing=1e-09)"
      ]
     },
     "execution_count": 143,
     "metadata": {},
     "output_type": "execute_result"
    }
   ],
   "source": [
    "clf.fit(X_train,y_train)"
   ]
  },
  {
   "cell_type": "markdown",
   "metadata": {},
   "source": [
    "### Cross val"
   ]
  },
  {
   "cell_type": "code",
   "execution_count": 144,
   "metadata": {
    "ExecuteTime": {
     "end_time": "2020-03-15T07:14:59.496425Z",
     "start_time": "2020-03-15T07:14:59.238112Z"
    }
   },
   "outputs": [
    {
     "data": {
      "text/plain": [
       "array([0.73913043, 0.73913043, 0.80434783, 0.77777778, 0.8       ])"
      ]
     },
     "execution_count": 144,
     "metadata": {},
     "output_type": "execute_result"
    }
   ],
   "source": [
    "cross_val_score(clf, X_test, y_test, cv=5)"
   ]
  },
  {
   "cell_type": "markdown",
   "metadata": {},
   "source": [
    "### confusion matrix"
   ]
  },
  {
   "cell_type": "code",
   "execution_count": 145,
   "metadata": {
    "ExecuteTime": {
     "end_time": "2020-03-15T07:14:59.508427Z",
     "start_time": "2020-03-15T07:14:59.497521Z"
    }
   },
   "outputs": [
    {
     "data": {
      "text/plain": [
       "array([[ 63,  40],\n",
       "       [ 14, 111]])"
      ]
     },
     "execution_count": 145,
     "metadata": {},
     "output_type": "execute_result"
    }
   ],
   "source": [
    "from sklearn.metrics import confusion_matrix \n",
    "confusion_matrix(y_test, clf.predict(X_test))"
   ]
  },
  {
   "cell_type": "code",
   "execution_count": 146,
   "metadata": {
    "ExecuteTime": {
     "end_time": "2020-03-15T07:14:59.531424Z",
     "start_time": "2020-03-15T07:14:59.509716Z"
    }
   },
   "outputs": [
    {
     "data": {
      "text/plain": [
       "(63, 40, 14, 111)"
      ]
     },
     "execution_count": 146,
     "metadata": {},
     "output_type": "execute_result"
    }
   ],
   "source": [
    "tn, fp, fn, tp = confusion_matrix(y_test, clf.predict(X_test)).ravel()\n",
    "(tn, fp, fn, tp)"
   ]
  },
  {
   "cell_type": "markdown",
   "metadata": {},
   "source": [
    "### Prec, Recall, Fscore"
   ]
  },
  {
   "cell_type": "code",
   "execution_count": 147,
   "metadata": {
    "ExecuteTime": {
     "end_time": "2020-03-15T07:14:59.535010Z",
     "start_time": "2020-03-15T07:14:59.532968Z"
    }
   },
   "outputs": [],
   "source": [
    "from sklearn.metrics import precision_recall_fscore_support"
   ]
  },
  {
   "cell_type": "code",
   "execution_count": 148,
   "metadata": {
    "ExecuteTime": {
     "end_time": "2020-03-15T07:14:59.553648Z",
     "start_time": "2020-03-15T07:14:59.536103Z"
    }
   },
   "outputs": [
    {
     "data": {
      "text/plain": [
       "(0.7726322126810102, 0.7631578947368421, 0.75720823798627, None)"
      ]
     },
     "execution_count": 148,
     "metadata": {},
     "output_type": "execute_result"
    }
   ],
   "source": [
    "precision_recall_fscore_support(y_test, clf.predict(X_test),average='weighted')\n",
    "#Calculate metrics for each label, and find their average weighted by support "
   ]
  },
  {
   "cell_type": "markdown",
   "metadata": {},
   "source": [
    "### MSE, accuracy"
   ]
  },
  {
   "cell_type": "code",
   "execution_count": 149,
   "metadata": {
    "ExecuteTime": {
     "end_time": "2020-03-15T07:14:59.556451Z",
     "start_time": "2020-03-15T07:14:59.554589Z"
    }
   },
   "outputs": [],
   "source": [
    "from sklearn.metrics import mean_squared_error\n",
    "from sklearn.metrics import accuracy_score"
   ]
  },
  {
   "cell_type": "code",
   "execution_count": 150,
   "metadata": {
    "ExecuteTime": {
     "end_time": "2020-03-15T07:14:59.575199Z",
     "start_time": "2020-03-15T07:14:59.557489Z"
    }
   },
   "outputs": [
    {
     "data": {
      "text/plain": [
       "0.23684210526315788"
      ]
     },
     "execution_count": 150,
     "metadata": {},
     "output_type": "execute_result"
    }
   ],
   "source": [
    "mean_squared_error(y_test, clf.predict(X_test))"
   ]
  },
  {
   "cell_type": "code",
   "execution_count": 151,
   "metadata": {
    "ExecuteTime": {
     "end_time": "2020-03-15T07:14:59.586677Z",
     "start_time": "2020-03-15T07:14:59.576358Z"
    }
   },
   "outputs": [
    {
     "data": {
      "text/plain": [
       "0.7631578947368421"
      ]
     },
     "execution_count": 151,
     "metadata": {},
     "output_type": "execute_result"
    }
   ],
   "source": [
    "accuracy_score(y_test, clf.predict(X_test))"
   ]
  },
  {
   "cell_type": "code",
   "execution_count": 152,
   "metadata": {
    "ExecuteTime": {
     "end_time": "2020-03-15T07:14:59.590286Z",
     "start_time": "2020-03-15T07:14:59.587636Z"
    }
   },
   "outputs": [],
   "source": [
    "from sklearn import metrics\n",
    "import matplotlib.pyplot as plt"
   ]
  },
  {
   "cell_type": "markdown",
   "metadata": {},
   "source": [
    "### ROC"
   ]
  },
  {
   "cell_type": "code",
   "execution_count": 153,
   "metadata": {
    "ExecuteTime": {
     "end_time": "2020-03-15T07:14:59.607344Z",
     "start_time": "2020-03-15T07:14:59.591269Z"
    }
   },
   "outputs": [],
   "source": [
    "fpr, tpr, thresholds = metrics.roc_curve(y_test, clf.predict(X_test))"
   ]
  },
  {
   "cell_type": "code",
   "execution_count": 154,
   "metadata": {
    "ExecuteTime": {
     "end_time": "2020-03-15T07:14:59.704081Z",
     "start_time": "2020-03-15T07:14:59.608591Z"
    }
   },
   "outputs": [
    {
     "data": {
      "text/plain": [
       "[<matplotlib.lines.Line2D at 0x7f913bb70990>]"
      ]
     },
     "execution_count": 154,
     "metadata": {},
     "output_type": "execute_result"
    },
    {
     "data": {
      "image/png": "[encoded data removed]",
      "text/plain": [
       "<Figure size 432x288 with 1 Axes>"
      ]
     },
     "metadata": {
      "needs_background": "light"
     },
     "output_type": "display_data"
    }
   ],
   "source": [
    "plt.plot(fpr)"
   ]
  },
  {
   "cell_type": "markdown",
   "metadata": {},
   "source": [
    "### AUC"
   ]
  },
  {
   "cell_type": "code",
   "execution_count": 155,
   "metadata": {
    "ExecuteTime": {
     "end_time": "2020-03-15T07:14:59.708106Z",
     "start_time": "2020-03-15T07:14:59.705115Z"
    }
   },
   "outputs": [
    {
     "data": {
      "text/plain": [
       "0.7498252427184465"
      ]
     },
     "execution_count": 155,
     "metadata": {},
     "output_type": "execute_result"
    }
   ],
   "source": [
    "auc= metrics.auc(fpr, tpr);auc"
   ]
  },
  {
   "cell_type": "code",
   "execution_count": null,
   "metadata": {},
   "outputs": [],
   "source": []
  },
  {
   "cell_type": "markdown",
   "metadata": {},
   "source": [
    "## Adaboost"
   ]
  },
  {
   "cell_type": "code",
   "execution_count": 156,
   "metadata": {
    "ExecuteTime": {
     "end_time": "2020-03-15T07:14:59.173936Z",
     "start_time": "2020-03-15T07:14:59.162438Z"
    }
   },
   "outputs": [],
   "source": [
    "from sklearn.model_selection import cross_val_score\n",
    "from sklearn.ensemble import AdaBoostClassifier\n",
    "clf = AdaBoostClassifier()"
   ]
  },
  {
   "cell_type": "code",
   "execution_count": 157,
   "metadata": {
    "ExecuteTime": {
     "end_time": "2020-03-15T07:14:59.237055Z",
     "start_time": "2020-03-15T07:14:59.175357Z"
    }
   },
   "outputs": [
    {
     "data": {
      "text/plain": [
       "AdaBoostClassifier(algorithm='SAMME.R', base_estimator=None, learning_rate=1.0,\n",
       "                   n_estimators=50, random_state=None)"
      ]
     },
     "execution_count": 157,
     "metadata": {},
     "output_type": "execute_result"
    }
   ],
   "source": [
    "clf.fit(X_train,y_train)"
   ]
  },
  {
   "cell_type": "markdown",
   "metadata": {},
   "source": [
    "### Cross val"
   ]
  },
  {
   "cell_type": "code",
   "execution_count": 158,
   "metadata": {
    "ExecuteTime": {
     "end_time": "2020-03-15T07:14:59.496425Z",
     "start_time": "2020-03-15T07:14:59.238112Z"
    }
   },
   "outputs": [
    {
     "data": {
      "text/plain": [
       "array([0.73913043, 0.7173913 , 0.76086957, 0.82222222, 0.77777778])"
      ]
     },
     "execution_count": 158,
     "metadata": {},
     "output_type": "execute_result"
    }
   ],
   "source": [
    "cross_val_score(clf, X_test, y_test, cv=5)"
   ]
  },
  {
   "cell_type": "markdown",
   "metadata": {},
   "source": [
    "### confusion matrix"
   ]
  },
  {
   "cell_type": "code",
   "execution_count": 159,
   "metadata": {
    "ExecuteTime": {
     "end_time": "2020-03-15T07:14:59.508427Z",
     "start_time": "2020-03-15T07:14:59.497521Z"
    }
   },
   "outputs": [
    {
     "data": {
      "text/plain": [
       "array([[ 88,  15],\n",
       "       [ 25, 100]])"
      ]
     },
     "execution_count": 159,
     "metadata": {},
     "output_type": "execute_result"
    }
   ],
   "source": [
    "from sklearn.metrics import confusion_matrix \n",
    "confusion_matrix(y_test, clf.predict(X_test))"
   ]
  },
  {
   "cell_type": "code",
   "execution_count": 160,
   "metadata": {
    "ExecuteTime": {
     "end_time": "2020-03-15T07:14:59.531424Z",
     "start_time": "2020-03-15T07:14:59.509716Z"
    }
   },
   "outputs": [
    {
     "data": {
      "text/plain": [
       "(88, 15, 25, 100)"
      ]
     },
     "execution_count": 160,
     "metadata": {},
     "output_type": "execute_result"
    }
   ],
   "source": [
    "tn, fp, fn, tp = confusion_matrix(y_test, clf.predict(X_test)).ravel()\n",
    "(tn, fp, fn, tp)"
   ]
  },
  {
   "cell_type": "markdown",
   "metadata": {},
   "source": [
    "### Prec, Recall, Fscore"
   ]
  },
  {
   "cell_type": "code",
   "execution_count": 161,
   "metadata": {
    "ExecuteTime": {
     "end_time": "2020-03-15T07:14:59.535010Z",
     "start_time": "2020-03-15T07:14:59.532968Z"
    }
   },
   "outputs": [],
   "source": [
    "from sklearn.metrics import precision_recall_fscore_support"
   ]
  },
  {
   "cell_type": "code",
   "execution_count": 162,
   "metadata": {
    "ExecuteTime": {
     "end_time": "2020-03-15T07:14:59.553648Z",
     "start_time": "2020-03-15T07:14:59.536103Z"
    }
   },
   "outputs": [
    {
     "data": {
      "text/plain": [
       "(0.8285440419054563, 0.8245614035087719, 0.8249675113710201, None)"
      ]
     },
     "execution_count": 162,
     "metadata": {},
     "output_type": "execute_result"
    }
   ],
   "source": [
    "precision_recall_fscore_support(y_test, clf.predict(X_test),average='weighted')\n",
    "#Calculate metrics for each label, and find their average weighted by support "
   ]
  },
  {
   "cell_type": "markdown",
   "metadata": {},
   "source": [
    "### MSE, accuracy"
   ]
  },
  {
   "cell_type": "code",
   "execution_count": 163,
   "metadata": {
    "ExecuteTime": {
     "end_time": "2020-03-15T07:14:59.556451Z",
     "start_time": "2020-03-15T07:14:59.554589Z"
    }
   },
   "outputs": [],
   "source": [
    "from sklearn.metrics import mean_squared_error\n",
    "from sklearn.metrics import accuracy_score"
   ]
  },
  {
   "cell_type": "code",
   "execution_count": 164,
   "metadata": {
    "ExecuteTime": {
     "end_time": "2020-03-15T07:14:59.575199Z",
     "start_time": "2020-03-15T07:14:59.557489Z"
    }
   },
   "outputs": [
    {
     "data": {
      "text/plain": [
       "0.17543859649122806"
      ]
     },
     "execution_count": 164,
     "metadata": {},
     "output_type": "execute_result"
    }
   ],
   "source": [
    "mean_squared_error(y_test, clf.predict(X_test))"
   ]
  },
  {
   "cell_type": "code",
   "execution_count": 165,
   "metadata": {
    "ExecuteTime": {
     "end_time": "2020-03-15T07:14:59.586677Z",
     "start_time": "2020-03-15T07:14:59.576358Z"
    }
   },
   "outputs": [
    {
     "data": {
      "text/plain": [
       "0.8245614035087719"
      ]
     },
     "execution_count": 165,
     "metadata": {},
     "output_type": "execute_result"
    }
   ],
   "source": [
    "accuracy_score(y_test, clf.predict(X_test))"
   ]
  },
  {
   "cell_type": "code",
   "execution_count": 166,
   "metadata": {
    "ExecuteTime": {
     "end_time": "2020-03-15T07:14:59.590286Z",
     "start_time": "2020-03-15T07:14:59.587636Z"
    }
   },
   "outputs": [],
   "source": [
    "from sklearn import metrics\n",
    "import matplotlib.pyplot as plt"
   ]
  },
  {
   "cell_type": "markdown",
   "metadata": {},
   "source": [
    "### ROC"
   ]
  },
  {
   "cell_type": "code",
   "execution_count": 167,
   "metadata": {
    "ExecuteTime": {
     "end_time": "2020-03-15T07:14:59.607344Z",
     "start_time": "2020-03-15T07:14:59.591269Z"
    }
   },
   "outputs": [],
   "source": [
    "fpr, tpr, thresholds = metrics.roc_curve(y_test, clf.predict(X_test))"
   ]
  },
  {
   "cell_type": "code",
   "execution_count": 168,
   "metadata": {
    "ExecuteTime": {
     "end_time": "2020-03-15T07:14:59.704081Z",
     "start_time": "2020-03-15T07:14:59.608591Z"
    }
   },
   "outputs": [
    {
     "data": {
      "text/plain": [
       "[<matplotlib.lines.Line2D at 0x7f913ba437d0>]"
      ]
     },
     "execution_count": 168,
     "metadata": {},
     "output_type": "execute_result"
    },
    {
     "data": {
      "image/png": "[encoded data removed]",
      "text/plain": [
       "<Figure size 432x288 with 1 Axes>"
      ]
     },
     "metadata": {
      "needs_background": "light"
     },
     "output_type": "display_data"
    }
   ],
   "source": [
    "plt.plot(fpr)"
   ]
  },
  {
   "cell_type": "markdown",
   "metadata": {},
   "source": [
    "### AUC"
   ]
  },
  {
   "cell_type": "code",
   "execution_count": 169,
   "metadata": {
    "ExecuteTime": {
     "end_time": "2020-03-15T07:14:59.708106Z",
     "start_time": "2020-03-15T07:14:59.705115Z"
    }
   },
   "outputs": [
    {
     "data": {
      "text/plain": [
       "0.8271844660194175"
      ]
     },
     "execution_count": 169,
     "metadata": {},
     "output_type": "execute_result"
    }
   ],
   "source": [
    "auc= metrics.auc(fpr, tpr);auc"
   ]
  },
  {
   "cell_type": "markdown",
   "metadata": {},
   "source": [
    "## Comparison"
   ]
  },
  {
   "cell_type": "markdown",
   "metadata": {},
   "source": [
    "- Decision tree : 0.8333333333333334\n",
    "- Naive Bayes : 0.7631578947368421\n",
    "- Adaboost : 0.8245614035087719"
   ]
  },
  {
   "cell_type": "code",
   "execution_count": null,
   "metadata": {},
   "outputs": [],
   "source": []
  },
  {
   "cell_type": "markdown",
   "metadata": {},
   "source": [
    "# Question 2\n",
    "Write a program to show the implementation of K-Means (K=2) and agglomerative\n",
    "hierarchical clustering (single, complete and average linkage) using the below\n",
    "mentioned dataset. Show the resultant clusters using graph and dendrogram.\n",
    "- Consider Euclidean distance as measure\n",
    "- Handle missing values, if any\n",
    "- Implement cross validation\n"
   ]
  },
  {
   "cell_type": "code",
   "execution_count": 291,
   "metadata": {
    "ExecuteTime": {
     "end_time": "2020-03-15T07:44:24.167793Z",
     "start_time": "2020-03-15T07:44:24.129871Z"
    }
   },
   "outputs": [],
   "source": [
    "absent_data = pd.read_excel('data/absent.xls',names = [i for i in range(21)])"
   ]
  },
  {
   "cell_type": "code",
   "execution_count": 292,
   "metadata": {
    "ExecuteTime": {
     "end_time": "2020-03-15T07:44:24.179888Z",
     "start_time": "2020-03-15T07:44:24.168951Z"
    }
   },
   "outputs": [
    {
     "data": {
      "text/html": [
       "<div>\n",
       "<style scoped>\n",
       "    .dataframe tbody tr th:only-of-type {\n",
       "        vertical-align: middle;\n",
       "    }\n",
       "\n",
       "    .dataframe tbody tr th {\n",
       "        vertical-align: top;\n",
       "    }\n",
       "\n",
       "    .dataframe thead th {\n",
       "        text-align: right;\n",
       "    }\n",
       "</style>\n",
       "<table border=\"1\" class=\"dataframe\">\n",
       "  <thead>\n",
       "    <tr style=\"text-align: right;\">\n",
       "      <th></th>\n",
       "      <th>0</th>\n",
       "      <th>1</th>\n",
       "      <th>2</th>\n",
       "      <th>3</th>\n",
       "      <th>4</th>\n",
       "      <th>5</th>\n",
       "      <th>6</th>\n",
       "      <th>7</th>\n",
       "      <th>8</th>\n",
       "      <th>9</th>\n",
       "      <th>...</th>\n",
       "      <th>11</th>\n",
       "      <th>12</th>\n",
       "      <th>13</th>\n",
       "      <th>14</th>\n",
       "      <th>15</th>\n",
       "      <th>16</th>\n",
       "      <th>17</th>\n",
       "      <th>18</th>\n",
       "      <th>19</th>\n",
       "      <th>20</th>\n",
       "    </tr>\n",
       "  </thead>\n",
       "  <tbody>\n",
       "    <tr>\n",
       "      <th>0</th>\n",
       "      <td>36</td>\n",
       "      <td>0</td>\n",
       "      <td>7</td>\n",
       "      <td>3</td>\n",
       "      <td>1</td>\n",
       "      <td>118</td>\n",
       "      <td>13</td>\n",
       "      <td>18</td>\n",
       "      <td>50</td>\n",
       "      <td>239554</td>\n",
       "      <td>...</td>\n",
       "      <td>1</td>\n",
       "      <td>1</td>\n",
       "      <td>1</td>\n",
       "      <td>1</td>\n",
       "      <td>0</td>\n",
       "      <td>0</td>\n",
       "      <td>98</td>\n",
       "      <td>178</td>\n",
       "      <td>31</td>\n",
       "      <td>0</td>\n",
       "    </tr>\n",
       "    <tr>\n",
       "      <th>1</th>\n",
       "      <td>3</td>\n",
       "      <td>23</td>\n",
       "      <td>7</td>\n",
       "      <td>4</td>\n",
       "      <td>1</td>\n",
       "      <td>179</td>\n",
       "      <td>51</td>\n",
       "      <td>18</td>\n",
       "      <td>38</td>\n",
       "      <td>239554</td>\n",
       "      <td>...</td>\n",
       "      <td>0</td>\n",
       "      <td>1</td>\n",
       "      <td>0</td>\n",
       "      <td>1</td>\n",
       "      <td>0</td>\n",
       "      <td>0</td>\n",
       "      <td>89</td>\n",
       "      <td>170</td>\n",
       "      <td>31</td>\n",
       "      <td>2</td>\n",
       "    </tr>\n",
       "    <tr>\n",
       "      <th>2</th>\n",
       "      <td>7</td>\n",
       "      <td>7</td>\n",
       "      <td>7</td>\n",
       "      <td>5</td>\n",
       "      <td>1</td>\n",
       "      <td>279</td>\n",
       "      <td>5</td>\n",
       "      <td>14</td>\n",
       "      <td>39</td>\n",
       "      <td>239554</td>\n",
       "      <td>...</td>\n",
       "      <td>0</td>\n",
       "      <td>1</td>\n",
       "      <td>2</td>\n",
       "      <td>1</td>\n",
       "      <td>1</td>\n",
       "      <td>0</td>\n",
       "      <td>68</td>\n",
       "      <td>168</td>\n",
       "      <td>24</td>\n",
       "      <td>4</td>\n",
       "    </tr>\n",
       "    <tr>\n",
       "      <th>3</th>\n",
       "      <td>11</td>\n",
       "      <td>23</td>\n",
       "      <td>7</td>\n",
       "      <td>5</td>\n",
       "      <td>1</td>\n",
       "      <td>289</td>\n",
       "      <td>36</td>\n",
       "      <td>13</td>\n",
       "      <td>33</td>\n",
       "      <td>239554</td>\n",
       "      <td>...</td>\n",
       "      <td>0</td>\n",
       "      <td>1</td>\n",
       "      <td>2</td>\n",
       "      <td>1</td>\n",
       "      <td>0</td>\n",
       "      <td>1</td>\n",
       "      <td>90</td>\n",
       "      <td>172</td>\n",
       "      <td>30</td>\n",
       "      <td>2</td>\n",
       "    </tr>\n",
       "    <tr>\n",
       "      <th>4</th>\n",
       "      <td>3</td>\n",
       "      <td>23</td>\n",
       "      <td>7</td>\n",
       "      <td>6</td>\n",
       "      <td>1</td>\n",
       "      <td>179</td>\n",
       "      <td>51</td>\n",
       "      <td>18</td>\n",
       "      <td>38</td>\n",
       "      <td>239554</td>\n",
       "      <td>...</td>\n",
       "      <td>0</td>\n",
       "      <td>1</td>\n",
       "      <td>0</td>\n",
       "      <td>1</td>\n",
       "      <td>0</td>\n",
       "      <td>0</td>\n",
       "      <td>89</td>\n",
       "      <td>170</td>\n",
       "      <td>31</td>\n",
       "      <td>2</td>\n",
       "    </tr>\n",
       "  </tbody>\n",
       "</table>\n",
       "<p>5 rows × 21 columns</p>\n",
       "</div>"
      ],
      "text/plain": [
       "   0   1   2   3   4    5   6   7   8       9   ...  11  12  13  14  15  16  \\\n",
       "0  36   0   7   3   1  118  13  18  50  239554  ...   1   1   1   1   0   0   \n",
       "1   3  23   7   4   1  179  51  18  38  239554  ...   0   1   0   1   0   0   \n",
       "2   7   7   7   5   1  279   5  14  39  239554  ...   0   1   2   1   1   0   \n",
       "3  11  23   7   5   1  289  36  13  33  239554  ...   0   1   2   1   0   1   \n",
       "4   3  23   7   6   1  179  51  18  38  239554  ...   0   1   0   1   0   0   \n",
       "\n",
       "   17   18  19  20  \n",
       "0  98  178  31   0  \n",
       "1  89  170  31   2  \n",
       "2  68  168  24   4  \n",
       "3  90  172  30   2  \n",
       "4  89  170  31   2  \n",
       "\n",
       "[5 rows x 21 columns]"
      ]
     },
     "execution_count": 292,
     "metadata": {},
     "output_type": "execute_result"
    }
   ],
   "source": [
    "absent_data.head()"
   ]
  },
  {
   "cell_type": "markdown",
   "metadata": {},
   "source": [
    "## Kmeans Choosing column 1 and 2"
   ]
  },
  {
   "cell_type": "code",
   "execution_count": 300,
   "metadata": {
    "ExecuteTime": {
     "end_time": "2020-03-15T07:48:24.807221Z",
     "start_time": "2020-03-15T07:48:24.801789Z"
    }
   },
   "outputs": [],
   "source": [
    "from matplotlib import pyplot as plt\n",
    "from sklearn.datasets.samples_generator import make_blobs\n",
    "from sklearn.cluster import KMeans\n",
    "import numpy as np"
   ]
  },
  {
   "cell_type": "code",
   "execution_count": 308,
   "metadata": {
    "ExecuteTime": {
     "end_time": "2020-03-15T07:50:31.876471Z",
     "start_time": "2020-03-15T07:50:31.870661Z"
    }
   },
   "outputs": [],
   "source": [
    "data_part = absent_data[[0,1]]"
   ]
  },
  {
   "cell_type": "code",
   "execution_count": 324,
   "metadata": {
    "ExecuteTime": {
     "end_time": "2020-03-15T07:51:57.076248Z",
     "start_time": "2020-03-15T07:51:57.050229Z"
    }
   },
   "outputs": [],
   "source": [
    "kmeans = KMeans(n_clusters=2, init='k-means++', max_iter=300, n_init=10, random_state=0)\n",
    "pred_y = kmeans.fit(data_part)"
   ]
  },
  {
   "cell_type": "code",
   "execution_count": 332,
   "metadata": {
    "ExecuteTime": {
     "end_time": "2020-03-15T07:54:38.843866Z",
     "start_time": "2020-03-15T07:54:38.755258Z"
    }
   },
   "outputs": [
    {
     "data": {
      "text/plain": [
       "array([-13052.50419892, -17162.21127328, -17774.13775728, -13914.06186183,\n",
       "       -13677.73474827])"
      ]
     },
     "execution_count": 332,
     "metadata": {},
     "output_type": "execute_result"
    }
   ],
   "source": [
    "cross_val_score(kmeans,data_part,cv = 5)"
   ]
  },
  {
   "cell_type": "code",
   "execution_count": 325,
   "metadata": {
    "ExecuteTime": {
     "end_time": "2020-03-15T07:51:58.418267Z",
     "start_time": "2020-03-15T07:51:57.642013Z"
    }
   },
   "outputs": [
    {
     "data": {
      "image/png": "[encoded data removed]",
      "text/plain": [
       "<Figure size 432x288 with 1 Axes>"
      ]
     },
     "metadata": {
      "needs_background": "light"
     },
     "output_type": "display_data"
    }
   ],
   "source": [
    "plt.scatter(data_part[0], data_part[1])\n",
    "plt.scatter(kmeans.cluster_centers_[:, 0], kmeans.cluster_centers_[:, 1], s=50, c='red')\n",
    "plt.show()"
   ]
  },
  {
   "cell_type": "code",
   "execution_count": 327,
   "metadata": {
    "ExecuteTime": {
     "end_time": "2020-03-15T07:52:32.245077Z",
     "start_time": "2020-03-15T07:52:32.240625Z"
    },
    "scrolled": true
   },
   "outputs": [
    {
     "data": {
      "text/plain": [
       "{0: array([  0,   6,   9,  10,  11,  14,  18,  19,  22,  26,  36,  38,  39,\n",
       "         40,  44,  47,  49,  50,  51,  52,  54,  55,  58,  60,  62,  63,\n",
       "         64,  66,  67,  68,  69,  72,  73,  75,  78,  80,  87,  89,  91,\n",
       "         92,  93,  94,  97,  98,  99, 101, 102, 103, 105, 106, 107, 109,\n",
       "        110, 111, 112, 113, 114, 116, 117, 118, 119, 120, 121, 122, 123,\n",
       "        124, 125, 126, 127, 128, 130, 131, 132, 133, 134, 136, 137, 141,\n",
       "        143, 144, 145, 146, 147, 148, 149, 150, 152, 154, 155, 156, 159,\n",
       "        160, 161, 162, 165, 169, 170, 173, 174, 175, 176, 177, 180, 181,\n",
       "        182, 184, 186, 188, 189, 191, 193, 195, 196, 199, 207, 208, 213,\n",
       "        214, 215, 217, 219, 221, 223, 226, 227, 229, 230, 231, 233, 234,\n",
       "        236, 237, 238, 240, 242, 243, 244, 250, 252, 255, 256, 257, 259,\n",
       "        260, 261, 262, 263, 265, 268, 273, 276, 278, 281, 283, 292, 293,\n",
       "        294, 295, 298, 301, 305, 307, 308, 310, 312, 313, 314, 315, 316,\n",
       "        317, 319, 321, 324, 326, 329, 331, 333, 334, 335, 338, 342, 343,\n",
       "        344, 347, 348, 353, 354, 357, 358, 365, 368, 370, 372, 377, 381,\n",
       "        383, 386, 389, 390, 391, 392, 396, 401, 402, 403, 405, 406, 409,\n",
       "        410, 412, 415, 418, 419, 420, 421, 423, 425, 427, 430, 434, 435,\n",
       "        436, 437, 439, 440, 442, 443, 444, 448, 452, 453, 455, 456, 457,\n",
       "        459, 460, 461, 462, 464, 465, 466, 467, 469, 470, 472, 476, 481,\n",
       "        482, 490, 491, 493, 494, 495, 496, 499, 500, 502, 503, 506, 507,\n",
       "        508, 509, 511, 512, 514, 517, 523, 525, 527, 528, 529, 530, 532,\n",
       "        533, 535, 537, 538, 541, 542, 544, 545, 546, 549, 551, 556, 557,\n",
       "        558, 559, 564, 565, 566, 567, 569, 570, 573, 575, 577, 579, 585,\n",
       "        586, 588, 590, 591, 595, 598, 599, 603, 608, 610, 612, 613, 616,\n",
       "        618, 620, 623, 625, 626, 627, 632, 634, 636, 641, 643, 650, 653,\n",
       "        654, 656, 658, 661, 663, 665, 666, 667, 668, 670, 671, 672, 674,\n",
       "        675, 676, 678, 680, 681, 682, 683, 684, 685, 686, 687, 688, 689,\n",
       "        692, 695, 696, 697, 699, 704, 706, 707, 708, 709, 710, 712, 714,\n",
       "        715, 716, 718, 719, 721, 722, 727, 730, 732, 738]),\n",
       " 1: array([  1,   2,   3,   4,   5,   7,   8,  12,  13,  15,  16,  17,  20,\n",
       "         21,  23,  24,  25,  27,  28,  29,  30,  31,  32,  33,  34,  35,\n",
       "         37,  41,  42,  43,  45,  46,  48,  53,  56,  57,  59,  61,  65,\n",
       "         70,  71,  74,  76,  77,  79,  81,  82,  83,  84,  85,  86,  88,\n",
       "         90,  95,  96, 100, 104, 108, 115, 129, 135, 138, 139, 140, 142,\n",
       "        151, 153, 157, 158, 163, 164, 166, 167, 168, 171, 172, 178, 179,\n",
       "        183, 185, 187, 190, 192, 194, 197, 198, 200, 201, 202, 203, 204,\n",
       "        205, 206, 209, 210, 211, 212, 216, 218, 220, 222, 224, 225, 228,\n",
       "        232, 235, 239, 241, 245, 246, 247, 248, 249, 251, 253, 254, 258,\n",
       "        264, 266, 267, 269, 270, 271, 272, 274, 275, 277, 279, 280, 282,\n",
       "        284, 285, 286, 287, 288, 289, 290, 291, 296, 297, 299, 300, 302,\n",
       "        303, 304, 306, 309, 311, 318, 320, 322, 323, 325, 327, 328, 330,\n",
       "        332, 336, 337, 339, 340, 341, 345, 346, 349, 350, 351, 352, 355,\n",
       "        356, 359, 360, 361, 362, 363, 364, 366, 367, 369, 371, 373, 374,\n",
       "        375, 376, 378, 379, 380, 382, 384, 385, 387, 388, 393, 394, 395,\n",
       "        397, 398, 399, 400, 404, 407, 408, 411, 413, 414, 416, 417, 422,\n",
       "        424, 426, 428, 429, 431, 432, 433, 438, 441, 445, 446, 447, 449,\n",
       "        450, 451, 454, 458, 463, 468, 471, 473, 474, 475, 477, 478, 479,\n",
       "        480, 483, 484, 485, 486, 487, 488, 489, 492, 497, 498, 501, 504,\n",
       "        505, 510, 513, 515, 516, 518, 519, 520, 521, 522, 524, 526, 531,\n",
       "        534, 536, 539, 540, 543, 547, 548, 550, 552, 553, 554, 555, 560,\n",
       "        561, 562, 563, 568, 571, 572, 574, 576, 578, 580, 581, 582, 583,\n",
       "        584, 587, 589, 592, 593, 594, 596, 597, 600, 601, 602, 604, 605,\n",
       "        606, 607, 609, 611, 614, 615, 617, 619, 621, 622, 624, 628, 629,\n",
       "        630, 631, 633, 635, 637, 638, 639, 640, 642, 644, 645, 646, 647,\n",
       "        648, 649, 651, 652, 655, 657, 659, 660, 662, 664, 669, 673, 677,\n",
       "        679, 690, 691, 693, 694, 698, 700, 701, 702, 703, 705, 711, 713,\n",
       "        717, 720, 723, 724, 725, 726, 728, 729, 731, 733, 734, 735, 736,\n",
       "        737])}"
      ]
     },
     "execution_count": 327,
     "metadata": {},
     "output_type": "execute_result"
    }
   ],
   "source": [
    "mydict = {i: np.where(kmeans.labels_ == i)[0] for i in range(kmeans.n_clusters)};mydict"
   ]
  },
  {
   "cell_type": "markdown",
   "metadata": {},
   "source": [
    "## Clustering"
   ]
  },
  {
   "cell_type": "code",
   "execution_count": 346,
   "metadata": {
    "ExecuteTime": {
     "end_time": "2020-03-15T08:00:25.412927Z",
     "start_time": "2020-03-15T08:00:25.408435Z"
    }
   },
   "outputs": [],
   "source": [
    "from scipy.cluster import hierarchy"
   ]
  },
  {
   "cell_type": "code",
   "execution_count": 348,
   "metadata": {
    "ExecuteTime": {
     "end_time": "2020-03-15T08:01:20.874605Z",
     "start_time": "2020-03-15T08:01:01.719317Z"
    }
   },
   "outputs": [
    {
     "data": {
      "image/png": "[encoded data removed]",
      "text/plain": [
       "<Figure size 432x288 with 1 Axes>"
      ]
     },
     "metadata": {
      "needs_background": "light"
     },
     "output_type": "display_data"
    },
    {
     "data": {
      "image/png": "[encoded data removed]",
      "text/plain": [
       "<Figure size 576x216 with 2 Axes>"
      ]
     },
     "metadata": {
      "needs_background": "light"
     },
     "output_type": "display_data"
    }
   ],
   "source": [
    "Z = hierarchy.linkage(data_part, 'single')\n",
    "plt.figure()\n",
    "dn = hierarchy.dendrogram(Z)\n",
    "hierarchy.set_link_color_palette(['m', 'c', 'y', 'k'])\n",
    "fig, axes = plt.subplots(1, 2, figsize=(8, 3))\n",
    "dn1 = hierarchy.dendrogram(Z,\n",
    "                           ax=axes[0],\n",
    "                           above_threshold_color='y',\n",
    "                           orientation='top')\n",
    "dn2 = hierarchy.dendrogram(Z,\n",
    "                           ax=axes[1],\n",
    "                           above_threshold_color='#bcbddc',\n",
    "                           orientation='right')\n",
    "hierarchy.set_link_color_palette(None)  # reset to default after use\n",
    "plt.show()"
   ]
  },
  {
   "cell_type": "code",
   "execution_count": 349,
   "metadata": {
    "ExecuteTime": {
     "end_time": "2020-03-15T08:02:27.530757Z",
     "start_time": "2020-03-15T08:02:08.505193Z"
    }
   },
   "outputs": [
    {
     "data": {
      "image/png": "[encoded data removed]",
      "text/plain": [
       "<Figure size 432x288 with 1 Axes>"
      ]
     },
     "metadata": {
      "needs_background": "light"
     },
     "output_type": "display_data"
    },
    {
     "data": {
      "image/png": "[encoded data removed]",
      "text/plain": [
       "<Figure size 576x216 with 2 Axes>"
      ]
     },
     "metadata": {
      "needs_background": "light"
     },
     "output_type": "display_data"
    }
   ],
   "source": [
    "Z = hierarchy.linkage(data_part, 'complete')\n",
    "plt.figure()\n",
    "dn = hierarchy.dendrogram(Z)\n",
    "hierarchy.set_link_color_palette(['m', 'c', 'y', 'k'])\n",
    "fig, axes = plt.subplots(1, 2, figsize=(8, 3))\n",
    "dn1 = hierarchy.dendrogram(Z,\n",
    "                           ax=axes[0],\n",
    "                           above_threshold_color='y',\n",
    "                           orientation='top')\n",
    "dn2 = hierarchy.dendrogram(Z,\n",
    "                           ax=axes[1],\n",
    "                           above_threshold_color='#bcbddc',\n",
    "                           orientation='right')\n",
    "hierarchy.set_link_color_palette(None)  # reset to default after use\n",
    "plt.show()"
   ]
  },
  {
   "cell_type": "code",
   "execution_count": 350,
   "metadata": {
    "ExecuteTime": {
     "end_time": "2020-03-15T08:02:50.709240Z",
     "start_time": "2020-03-15T08:02:32.187704Z"
    }
   },
   "outputs": [
    {
     "data": {
      "image/png": "[encoded data removed]",
      "text/plain": [
       "<Figure size 432x288 with 1 Axes>"
      ]
     },
     "metadata": {
      "needs_background": "light"
     },
     "output_type": "display_data"
    },
    {
     "data": {
      "image/png": "[encoded data removed]",
      "text/plain": [
       "<Figure size 576x216 with 2 Axes>"
      ]
     },
     "metadata": {
      "needs_background": "light"
     },
     "output_type": "display_data"
    }
   ],
   "source": [
    "Z = hierarchy.linkage(data_part, 'average')\n",
    "plt.figure()\n",
    "dn = hierarchy.dendrogram(Z)\n",
    "hierarchy.set_link_color_palette(['m', 'c', 'y', 'k'])\n",
    "fig, axes = plt.subplots(1, 2, figsize=(8, 3))\n",
    "dn1 = hierarchy.dendrogram(Z,\n",
    "                           ax=axes[0],\n",
    "                           above_threshold_color='y',\n",
    "                           orientation='top')\n",
    "dn2 = hierarchy.dendrogram(Z,\n",
    "                           ax=axes[1],\n",
    "                           above_threshold_color='#bcbddc',\n",
    "                           orientation='right')\n",
    "hierarchy.set_link_color_palette(None)  # reset to default after use\n",
    "plt.show()"
   ]
  },
  {
   "cell_type": "markdown",
   "metadata": {},
   "source": [
    "# Question 3\n",
    "- Write a program to show the implementation of apriori algorithm using web log usage\n",
    "data for web usage mining purpose. (Consider any publicly available web log data to\n",
    "show the implementation.)"
   ]
  },
  {
   "cell_type": "code",
   "execution_count": 263,
   "metadata": {
    "ExecuteTime": {
     "end_time": "2020-03-15T07:37:37.640206Z",
     "start_time": "2020-03-15T07:37:37.626833Z"
    }
   },
   "outputs": [],
   "source": [
    "web_log = pd.read_csv('data/weblog.csv')"
   ]
  },
  {
   "cell_type": "code",
   "execution_count": 264,
   "metadata": {
    "ExecuteTime": {
     "end_time": "2020-03-15T07:37:37.644683Z",
     "start_time": "2020-03-15T07:37:37.641634Z"
    }
   },
   "outputs": [],
   "source": [
    "web_log = web_log[['IP','URL']]"
   ]
  },
  {
   "cell_type": "code",
   "execution_count": 265,
   "metadata": {
    "ExecuteTime": {
     "end_time": "2020-03-15T07:37:37.658346Z",
     "start_time": "2020-03-15T07:37:37.646124Z"
    }
   },
   "outputs": [
    {
     "data": {
      "text/html": [
       "<div>\n",
       "<style scoped>\n",
       "    .dataframe tbody tr th:only-of-type {\n",
       "        vertical-align: middle;\n",
       "    }\n",
       "\n",
       "    .dataframe tbody tr th {\n",
       "        vertical-align: top;\n",
       "    }\n",
       "\n",
       "    .dataframe thead th {\n",
       "        text-align: right;\n",
       "    }\n",
       "</style>\n",
       "<table border=\"1\" class=\"dataframe\">\n",
       "  <thead>\n",
       "    <tr style=\"text-align: right;\">\n",
       "      <th></th>\n",
       "      <th>IP</th>\n",
       "      <th>URL</th>\n",
       "    </tr>\n",
       "  </thead>\n",
       "  <tbody>\n",
       "    <tr>\n",
       "      <th>0</th>\n",
       "      <td>10.128.2.1</td>\n",
       "      <td>GET /login.php HTTP/1.1</td>\n",
       "    </tr>\n",
       "    <tr>\n",
       "      <th>1</th>\n",
       "      <td>10.128.2.1</td>\n",
       "      <td>POST /process.php HTTP/1.1</td>\n",
       "    </tr>\n",
       "    <tr>\n",
       "      <th>2</th>\n",
       "      <td>10.128.2.1</td>\n",
       "      <td>GET /home.php HTTP/1.1</td>\n",
       "    </tr>\n",
       "    <tr>\n",
       "      <th>3</th>\n",
       "      <td>10.131.2.1</td>\n",
       "      <td>GET /js/vendor/moment.min.js HTTP/1.1</td>\n",
       "    </tr>\n",
       "    <tr>\n",
       "      <th>4</th>\n",
       "      <td>10.130.2.1</td>\n",
       "      <td>GET /bootstrap-3.3.7/js/bootstrap.js HTTP/1.1</td>\n",
       "    </tr>\n",
       "  </tbody>\n",
       "</table>\n",
       "</div>"
      ],
      "text/plain": [
       "           IP                                            URL\n",
       "0  10.128.2.1                        GET /login.php HTTP/1.1\n",
       "1  10.128.2.1                     POST /process.php HTTP/1.1\n",
       "2  10.128.2.1                         GET /home.php HTTP/1.1\n",
       "3  10.131.2.1          GET /js/vendor/moment.min.js HTTP/1.1\n",
       "4  10.130.2.1  GET /bootstrap-3.3.7/js/bootstrap.js HTTP/1.1"
      ]
     },
     "execution_count": 265,
     "metadata": {},
     "output_type": "execute_result"
    }
   ],
   "source": [
    "\n",
    "web_log.head()"
   ]
  },
  {
   "cell_type": "code",
   "execution_count": 266,
   "metadata": {
    "ExecuteTime": {
     "end_time": "2020-03-15T07:37:37.668906Z",
     "start_time": "2020-03-15T07:37:37.659523Z"
    }
   },
   "outputs": [
    {
     "data": {
      "text/plain": [
       "(16007, 2)"
      ]
     },
     "execution_count": 266,
     "metadata": {},
     "output_type": "execute_result"
    }
   ],
   "source": [
    "web_log.shape"
   ]
  },
  {
   "cell_type": "code",
   "execution_count": 267,
   "metadata": {
    "ExecuteTime": {
     "end_time": "2020-03-15T07:37:37.680463Z",
     "start_time": "2020-03-15T07:37:37.670055Z"
    }
   },
   "outputs": [
    {
     "data": {
      "text/plain": [
       "array(['10.128.2.1', '10.131.2.1', '10.130.2.1', '10.129.2.1',\n",
       "       '10.131.0.1', 'chmod:', 'rm:', 'timeout:', 'sh:', 'a.out:', '[Tue',\n",
       "       '[Wed', '[Thu', '[Fri', '[Sat', '[Mon'], dtype=object)"
      ]
     },
     "execution_count": 267,
     "metadata": {},
     "output_type": "execute_result"
    }
   ],
   "source": [
    "web_log['IP'].unique()"
   ]
  },
  {
   "cell_type": "markdown",
   "metadata": {},
   "source": [
    "## Fix IPs"
   ]
  },
  {
   "cell_type": "code",
   "execution_count": 268,
   "metadata": {
    "ExecuteTime": {
     "end_time": "2020-03-15T07:37:37.695882Z",
     "start_time": "2020-03-15T07:37:37.681965Z"
    }
   },
   "outputs": [],
   "source": [
    "web_log = web_log[web_log['IP'].astype('str').apply(lambda x: '10' in x)]"
   ]
  },
  {
   "cell_type": "code",
   "execution_count": 269,
   "metadata": {
    "ExecuteTime": {
     "end_time": "2020-03-15T07:37:37.707605Z",
     "start_time": "2020-03-15T07:37:37.696887Z"
    }
   },
   "outputs": [
    {
     "data": {
      "text/plain": [
       "array(['10.128.2.1', '10.131.2.1', '10.130.2.1', '10.129.2.1',\n",
       "       '10.131.0.1'], dtype=object)"
      ]
     },
     "execution_count": 269,
     "metadata": {},
     "output_type": "execute_result"
    }
   ],
   "source": [
    "web_log['IP'].unique()"
   ]
  },
  {
   "cell_type": "code",
   "execution_count": 270,
   "metadata": {
    "ExecuteTime": {
     "end_time": "2020-03-15T07:37:37.720261Z",
     "start_time": "2020-03-15T07:37:37.709203Z"
    }
   },
   "outputs": [
    {
     "data": {
      "text/plain": [
       "array(['GET /login.php HTTP/1.1', 'POST /process.php HTTP/1.1',\n",
       "       'GET /home.php HTTP/1.1', 'GET /js/vendor/moment.min.js HTTP/1.1',\n",
       "       'GET /bootstrap-3.3.7/js/bootstrap.js HTTP/1.1',\n",
       "       'GET /profile.php?user=bala HTTP/1.1',\n",
       "       'GET /js/jquery.min.js HTTP/1.1', 'GET /js/chart.min.js HTTP/1.1',\n",
       "       'GET /edit.php?name=bala HTTP/1.1', 'GET /logout.php HTTP/1.1',\n",
       "       'GET / HTTP/1.1',\n",
       "       'GET /contestproblem.php?name=RUET%20OJ%20Server%20Testing%20Contest HTTP/1.1',\n",
       "       'GET /css/bootstrap.min.css HTTP/1.1',\n",
       "       'GET /css/font-awesome.min.css HTTP/1.1',\n",
       "       'GET /css/normalize.css HTTP/1.1', 'GET /css/style.css HTTP/1.1',\n",
       "       'GET /js/vendor/modernizr-2.8.3.min.js HTTP/1.1',\n",
       "       'GET /css/main.css HTTP/1.1',\n",
       "       'GET /js/vendor/jquery-1.12.0.min.js HTTP/1.1',\n",
       "       'GET /bootstrap-3.3.7/js/bootstrap.min.js HTTP/1.1',\n",
       "       'GET /fonts/fontawesome-webfont.woff2?v=4.6.3 HTTP/1.1',\n",
       "       'GET /login.php?value=fail HTTP/1.1',\n",
       "       'GET /countdown.php?name=RUET%20OJ%20Server%20Testing%20Contest HTTP/1.1',\n",
       "       'GET /details.php?id=44 HTTP/1.1', 'GET /compiler.php HTTP/1.1',\n",
       "       'GET /contest.php HTTP/1.1', 'GET /details.php?id=46 HTTP/1.1',\n",
       "       'GET /details.php?id=42 HTTP/1.1',\n",
       "       'GET /details.php?id=45 HTTP/1.1',\n",
       "       'GET /contestproblem.php?name=RUET%20OJ%20TLE%20Testing%20Contest HTTP/1.1',\n",
       "       'GET /archive.php HTTP/1.1', 'GET /allsubmission.php HTTP/1.1',\n",
       "       'GET /showcode.php?id=284&nm=xyz_xyz HTTP/1.1',\n",
       "       'GET /showcode.php?id=281&nm=shawon HTTP/1.1',\n",
       "       'GET /index.php HTTP/1.1',\n",
       "       'GET /contestproblem.php?name=Toph%20Contest%202 HTTP/1.1',\n",
       "       'GET /contestproblem.php?name=ncpc%202016 HTTP/1.1',\n",
       "       'GET /details.php?id=3 HTTP/1.1',\n",
       "       'GET /contestsubmission.php?id=4 HTTP/1.1',\n",
       "       'GET /sign.php HTTP/1.1',\n",
       "       'GET /contestsubmission.php?id=13 HTTP/1.1',\n",
       "       'POST /action.php HTTP/1.1', 'GET /description.php?id=72 HTTP/1.1',\n",
       "       'GET /description.php?id=62 HTTP/1.1',\n",
       "       'GET /img/ruet.png HTTP/1.1',\n",
       "       'GET /profile.php?user=ksrsingh HTTP/1.1',\n",
       "       'GET /edit.php?name=ksrsingh HTTP/1.1',\n",
       "       'GET /description.php?id=55 HTTP/1.1',\n",
       "       'GET /submit.php?id=55 HTTP/1.1',\n",
       "       'GET /description.php?id=64 HTTP/1.1',\n",
       "       'GET /submit.php?id=64 HTTP/1.1', 'POST /pcompile.php HTTP/1.1',\n",
       "       'POST /allsubmission.php HTTP/1.1',\n",
       "       'GET /showcode.php?id=285&nm=ksrsingh HTTP/1.1',\n",
       "       'GET /description.php?name=RUET HTTP/1.1',\n",
       "       'GET /profile.php?user=shawon HTTP/1.1',\n",
       "       'GET /allsubmission.php?name=shawon HTTP/1.1',\n",
       "       'GET /contestsubmission.php?id=3&show=shawon HTTP/1.1',\n",
       "       'GET /details.php?id=41 HTTP/1.1',\n",
       "       'GET /archive.php?page=2 HTTP/1.1', 'GET /robots.txt HTTP/1.1',\n",
       "       'GET /fonts/fontawesome-webfont.woff?v=4.6.3 HTTP/1.1',\n",
       "       'GET /login.php HTTP/1.0', 'GET / HTTP/1.0',\n",
       "       'GET /favicon.ico HTTP/1.1', 'GET /details.php?id=33 HTTP/1.1',\n",
       "       'GET /archive.php?page=1 HTTP/1.1',\n",
       "       'GET /profile.php?user=moshiur_cse15 HTTP/1.1',\n",
       "       'GET /profile.php?user=Rakib_1603065 HTTP/1.1',\n",
       "       'GET /allsubmission.php?name=moshiur_cse15 HTTP/1.1',\n",
       "       'GET /description.php?id=71 HTTP/1.1',\n",
       "       'GET /description.php?id=60 HTTP/1.1',\n",
       "       'GET /description.php?id=67 HTTP/1.1',\n",
       "       'GET /profile.php?user=toph HTTP/1.1',\n",
       "       'GET /profile.php?user=DevSkill HTTP/1.1',\n",
       "       'GET /showcode.php?id=286&nm=Rakib_1603065 HTTP/1.1',\n",
       "       'GET /showcode.php?id=287&nm=Riyal_RUET HTTP/1.1',\n",
       "       'GET /showcode.php?id=288&nm=Riyal_RUET HTTP/1.1',\n",
       "       'GET /showcode.php?id=289&nm=Rakib_1603065 HTTP/1.1',\n",
       "       'GET /showcode.php?id=290&nm=Rakib_1603065 HTTP/1.1',\n",
       "       'GET /submit.php?id=67 HTTP/1.1',\n",
       "       'GET /profile.php?user=Riyal_RUET HTTP/1.1',\n",
       "       'GET /description.php?id=58 HTTP/1.1',\n",
       "       'GET /submit.php?id=58 HTTP/1.1',\n",
       "       'GET /description.php?id=63 HTTP/1.1',\n",
       "       'GET /submit.php?id=63 HTTP/1.1',\n",
       "       'GET /description.php?name=The%20Triangle HTTP/1.1',\n",
       "       'GET /description.php?id=68 HTTP/1.1',\n",
       "       'GET /submit.php?id=68 HTTP/1.1',\n",
       "       'GET /allsubmission.php?page=2 HTTP/1.1',\n",
       "       'GET /description.php?name=Many%20a%20little%20makes%20a%20mickle HTTP/1.1',\n",
       "       'GET /description.php?id=73 HTTP/1.1',\n",
       "       'GET /submit.php?id=73 HTTP/1.1',\n",
       "       'GET /contestsubmission.php?id=16 HTTP/1.1',\n",
       "       'GET /profile.php?user=Goni HTTP/1.1',\n",
       "       'GET /showcode.php?id=294&nm=Rakib_1603065 HTTP/1.1',\n",
       "       'GET /details.php?id=43 HTTP/1.1',\n",
       "       'GET /contestsubmit.php?id=45 HTTP/1.1',\n",
       "       'GET /profile.php?user=bruce HTTP/1.1',\n",
       "       'POST /contestsubmission.php HTTP/1.1',\n",
       "       'GET /standings.php?id=16 HTTP/1.1',\n",
       "       'GET /contestsubmission.php?id=16&show=bruce HTTP/1.1',\n",
       "       'GET /profile.php?user=Tazbinur%20Rahaman HTTP/1.1',\n",
       "       'GET /edit.php?name=Tazbinur%20Rahaman HTTP/1.1',\n",
       "       'POST /update.php HTTP/1.1',\n",
       "       'GET /contestproblem.php?name=ncpc_ruet HTTP/1.1',\n",
       "       'GET /details.php?id=9 HTTP/1.1',\n",
       "       'GET /contestsubmit.php?id=42 HTTP/1.1',\n",
       "       'GET /details.php?name=Research%20Items&cod=16 HTTP/1.1',\n",
       "       'GET /contestsubmit.php?id=41 HTTP/1.1',\n",
       "       'GET /details.php?name=Factorial%20Factorization&cod=16 HTTP/1.1',\n",
       "       'GET /details.php?name=Matrix%20For%20My%20Valentine%20&cod=16 HTTP/1.1',\n",
       "       'GET /contestsubmission.php?id=16&page=1 HTTP/1.1',\n",
       "       'GET /contestsubmission.php?id=16&show=tanu_1603070 HTTP/1.1',\n",
       "       'GET /contestproblem.php?name=RUET%20OJ%20Final%20Test HTTP/1.1',\n",
       "       'GET /details.php?id=39 HTTP/1.1',\n",
       "       'GET /contestsubmission.php?id=16&show=samin_1610002 HTTP/1.1',\n",
       "       'GET /contestsubmission.php?id=16&show=dhruba_1603088 HTTP/1.1',\n",
       "       'GET /contestshowcode.php?id=392&nm=dhruba_1603088&cn=16 HTTP/1.1',\n",
       "       'GET /contestsubmission.php?id=14&show=bruce HTTP/1.1',\n",
       "       'POST /compile.php HTTP/1.1',\n",
       "       'GET /profile.php?user=mahadi HTTP/1.1',\n",
       "       'GET /edit.php?name=mahadi HTTP/1.1',\n",
       "       'GET /allsubmission.php?name=mahadi HTTP/1.1',\n",
       "       'GET /editcontestproblem.php?id=45 HTTP/1.1',\n",
       "       'POST /contestproblem.php HTTP/1.1',\n",
       "       'GET /announcement.php HTTP/1.1',\n",
       "       'POST /announcement.php HTTP/1.1',\n",
       "       'GET /contestsubmission.php?id=16&show=superman100 HTTP/1.1',\n",
       "       'GET /contestsubmit.php?id=44 HTTP/1.1',\n",
       "       'GET /profile.php?user=abufarhad HTTP/1.1',\n",
       "       'GET /contestsubmission.php?id=13&show=abufarhad HTTP/1.1',\n",
       "       'GET /standings.php?id=13 HTTP/1.1',\n",
       "       'GET /editcontestproblem.php?id=43 HTTP/1.1',\n",
       "       'GET /profile.php?user=superman100 HTTP/1.1',\n",
       "       'GET /profile.php?user=dhruba_1603088 HTTP/1.1',\n",
       "       'GET /contestproblem.php?name= HTTP/1.1',\n",
       "       'GET /sign.php?value=fail HTTP/1.1',\n",
       "       'GET /contestsubmit.php?id=43 HTTP/1.1',\n",
       "       'GET /details.php?name=Another%20Multiplication%20Game&cod=16 HTTP/1.1',\n",
       "       'POST /home.php HTTP/1.1', 'POST /login.php HTTP/1.1',\n",
       "       'GET /contestsubmission.php?id=16&show=Tasnim_1610007 HTTP/1.1',\n",
       "       'GET /profile.php?user=m.r.saurov HTTP/1.1',\n",
       "       'GET /profile.php?user=Tasnim_1610007 HTTP/1.1',\n",
       "       'GET /edit.php?name=m.r.saurov HTTP/1.1',\n",
       "       'GET /profile.php?user=samin_1610002 HTTP/1.1',\n",
       "       'GET /contestsubmission.php?id=16&page=2 HTTP/1.1',\n",
       "       'GET /profile.php?user=utshab_1603022 HTTP/1.1',\n",
       "       'GET /contestsubmission.php?id=16&show=utshab_1603022 HTTP/1.1',\n",
       "       'GET /contestsubmission.php?id=16&show=FFIsty_1603011 HTTP/1.1',\n",
       "       'GET /editcontestproblem.php?id=41 HTTP/1.1',\n",
       "       'GET /setproblem.php HTTP/1.1', 'POST /archive.php HTTP/1.1',\n",
       "       'GET /description.php?id=76 HTTP/1.1',\n",
       "       'GET /profile.php?user=PKP HTTP/1.1',\n",
       "       'GET /profile.php?user=nasif25 HTTP/1.1',\n",
       "       'GET /editcontestproblem.php?id=42 HTTP/1.1',\n",
       "       'GET /description.php?id=77 HTTP/1.1',\n",
       "       'GET /submit.php?id=76 HTTP/1.1',\n",
       "       'GET /description.php?name=Matrix%20For%20My%20Valentine HTTP/1.1',\n",
       "       'GET /allsubmission.php?page=3 HTTP/1.1',\n",
       "       'GET /profile.php?user=xyz_xyz HTTP/1.1',\n",
       "       'GET /allsubmission.php?page=4 HTTP/1.1',\n",
       "       'GET /allsubmission.php?page=5 HTTP/1.1',\n",
       "       'GET /process.php HTTP/1.0', 'GET /home.php HTTP/1.0',\n",
       "       'GET /standings.php HTTP/1.0', 'GET /details.php HTTP/1.0',\n",
       "       'GET /contestsubmission.php HTTP/1.0',\n",
       "       'GET /profile.php?user=FFIsty_1603011 HTTP/1.1',\n",
       "       'GET /profile.php HTTP/1.0',\n",
       "       'GET /details.php?name=Adjacency%20List&cod=16 HTTP/1.1',\n",
       "       'GET /archive.php HTTP/1.0',\n",
       "       'GET /editcontestproblem.php?id=44 HTTP/1.1',\n",
       "       'GET /description.php?id=78 HTTP/1.1',\n",
       "       'GET /submit.php?id=78 HTTP/1.1', 'GET /submit.php HTTP/1.0',\n",
       "       'GET /showcode.php?id=296&nm=bruce HTTP/1.1',\n",
       "       'GET /pcompile.php HTTP/1.1', 'GET /pcompile.php HTTP/1.0',\n",
       "       'GET /profile.php?user=wbreturn HTTP/1.1',\n",
       "       'GET /fonts/fontawesome-webfont.woff2 HTTP/1.0',\n",
       "       'GET /contestsubmission.php?id=3 HTTP/1.1',\n",
       "       'GET /standings.php?id=3 HTTP/1.1',\n",
       "       'GET /profile.php?user=zerocool HTTP/1.1',\n",
       "       'GET /edit.php?name=zerocool HTTP/1.1',\n",
       "       'GET /allsubmission.php?name=zerocool HTTP/1.1',\n",
       "       'GET /contestsubmission.php?id=13&show=AYSrizon HTTP/1.1',\n",
       "       'GET /details.php?name=Magic%20Square&cod=13 HTTP/1.1',\n",
       "       'GET /css/bootstrap.min.css.map HTTP/1.1',\n",
       "       'GET /profile.php?user=mdshs.shanto HTTP/1.1',\n",
       "       'GET /profile.php?user=ashadullah HTTP/1.1',\n",
       "       'GET /submit.php?id=77 HTTP/1.1',\n",
       "       'GET /showcode.php?id=282&nm=ashadullah HTTP/1.1',\n",
       "       'GET /showcode.php?id=283&nm=ashadullah HTTP/1.1',\n",
       "       'GET /setcontest.php HTTP/1.1',\n",
       "       'GET /dcss/bootstrap-datetimepicker.min.css HTTP/1.1',\n",
       "       'GET /djs/vendor/bootstrap-datetimepicker.js HTTP/1.1',\n",
       "       'GET /dboot/js/bootstrap.min.js HTTP/1.1',\n",
       "       'GET /djquery/jquery-1.8.3.min.js HTTP/1.1',\n",
       "       'GET /djs/bootstrap-datetimepicker.js HTTP/1.1',\n",
       "       'GET /fonts/glyphicons-halflings-regular.woff2 HTTP/1.1',\n",
       "       'POST /contest.php HTTP/1.1',\n",
       "       'GET /editcontest.php?name=RUET%20OJ%20TLE%20Testing%20Contest HTTP/1.1',\n",
       "       'GET /profile.php?user=Shawon HTTP/1.1',\n",
       "       'GET /edit.php?name=shawon HTTP/1.1',\n",
       "       'GET /edit.php?name=ashadullah HTTP/1.1',\n",
       "       'GET /showcode.php?id=280&nm=shawon HTTP/1.1',\n",
       "       'GET /fonts/fontawesome-webfont.eot? HTTP/1.1',\n",
       "       'GET /details.php?id=38 HTTP/1.1',\n",
       "       'GET /fonts/glyphicons-halflings-regular.woff HTTP/1.1',\n",
       "       'POST /profile.php?user=shawon HTTP/1.1',\n",
       "       'GET /contestshowcode.php?id=339&nm=shawon&cn=13 HTTP/1.1',\n",
       "       'GET /contestshowcode.php?id=338&nm=shawon&cn=13 HTTP/1.1',\n",
       "       'GET /createadmin.php HTTP/1.1',\n",
       "       'GET /contestproblem.php?name=RUET%20OJ%20Testing%20Contest%203 HTTP/1.1',\n",
       "       'GET /contestsubmission.php?id=12 HTTP/1.1',\n",
       "       'GET /contestproblem.php?name=RUET%20CSE%20Contest%203 HTTP/1.1',\n",
       "       'GET /contestproblem.php?name=ROJ%20Testing%20Contest%201 HTTP/1.1',\n",
       "       'GET /contestproblem.php?name=RUET%20OJ%20Testing%20Contest%202 HTTP/1.1',\n",
       "       'GET /contestsubmission.php?id=11 HTTP/1.1',\n",
       "       'GET /profile.php?user=st.zuhori HTTP/1.1',\n",
       "       'GET /profile.php?user=Shawon_ICT HTTP/1.1',\n",
       "       'GET /description.php?id=75 HTTP/1.1', 'GET /action.php HTTP/1.0',\n",
       "       'GET /profile.php?user=sanaul HTTP/1.1',\n",
       "       'GET /contestsubmission.php?id=12&page=2 HTTP/1.1',\n",
       "       'GET /profile.php?user=saif_1603035 HTTP/1.1',\n",
       "       'GET /standings.php?id=12 HTTP/1.1',\n",
       "       'GET /profile.php?user=xyz HTTP/1.1',\n",
       "       'GET /contestsubmission.php?id=13&page=3 HTTP/1.1',\n",
       "       'GET /contestsubmission.php?id=13&page=2 HTTP/1.1',\n",
       "       'GET /profile.php?user=emrul_mu HTTP/1.1',\n",
       "       'GET /contestsubmission.php?id=13&page=4 HTTP/1.1',\n",
       "       'GET /showcode.php?id=222&nm=nasif25 HTTP/1.1',\n",
       "       'GET /showcode.php?id=193&nm=shawon HTTP/1.1',\n",
       "       'GET /description.php?name=Google%20feeling%20lucky. HTTP/1.1',\n",
       "       'GET /setcontestproblem.php HTTP/1.1',\n",
       "       'GET /details.php?name=Chessboard&cod=7 HTTP/1.1',\n",
       "       'GET /editcontest.php?name=RUET%20OJ%20Server%20Testing%20Contest HTTP/1.1',\n",
       "       'GET /countdown.php?name=Another%20Multiplication%20Game HTTP/1.1',\n",
       "       'GET /countdown.php HTTP/1.0', 'GET /contestproblem.php HTTP/1.0',\n",
       "       'GET /logout.php HTTP/1.0',\n",
       "       'GET /profile.php?user=mkarzymat HTTP/1.1',\n",
       "       'GET /fonts/fontawesome-webfont.eot?v=4.6.3 HTTP/1.1',\n",
       "       'GET /description.php HTTP/1.0',\n",
       "       'GET /profile.php?user=Shawon14012 HTTP/1.1',\n",
       "       'GET /edit.php?name=Shawon14012 HTTP/1.1',\n",
       "       'GET /showcode.php?id=300&nm=x HTTP/1.1',\n",
       "       'GET /showcode.php?id=301&nm=Shawon14012 HTTP/1.1',\n",
       "       'GET /profile.php?user=sammm HTTP/1.1',\n",
       "       'GET /description.php?id=55%27 HTTP/1.1',\n",
       "       'GET /details.php?id=35 HTTP/1.1',\n",
       "       'GET /details.php?id=34 HTTP/1.1',\n",
       "       'GET /details.php?id=36 HTTP/1.1',\n",
       "       'GET /details.php?id=37 HTTP/1.1',\n",
       "       'GET /profile.php?user=uva HTTP/1.1',\n",
       "       'GET /js/vendor/modernizr-2.8.3.min.js HTTP/1.0',\n",
       "       'HEAD /home.php HTTP/1.1', 'HEAD /login.php HTTP/1.1',\n",
       "       'HEAD //home.php HTTP/1.1', 'GET //home.php HTTP/1.1',\n",
       "       'GET /submit.php?id=71 HTTP/1.1',\n",
       "       'GET /showcode.php?id=304&nm=vinoth HTTP/1.1',\n",
       "       'GET /showcode.php?id=218&nm=shawon HTTP/1.1',\n",
       "       'GET /sign.php HTTP/1.0', 'GET /index.php HTTP/1.0',\n",
       "       'POST /action.php HTTP/1.0', 'POST /process.php HTTP/1.0',\n",
       "       'POST /compile.php HTTP/1.0', 'GET /adminpanel.php HTTP/1.1',\n",
       "       'GET /edit.php HTTP/1.1', 'GET /standings.php?id=14 HTTP/1.1',\n",
       "       'GET /contestsubmission.php?id=14&show=shawon HTTP/1.1',\n",
       "       'GET /standings.php?id=4 HTTP/1.1',\n",
       "       'GET /contestsubmission.php?id=4&show=shawon HTTP/1.1',\n",
       "       'GET /contestsubmission.php?id=10&show=shawon HTTP/1.1',\n",
       "       'GET /details.php?id=20 HTTP/1.1',\n",
       "       'GET /description.php?name=IP%20Checking HTTP/1.1',\n",
       "       'GET /profile.php?user=ham05 HTTP/1.1',\n",
       "       'GET /edit.php?name=ham05 HTTP/1.1',\n",
       "       'GET /profile.php?user=abc145 HTTP/1.1',\n",
       "       'GET /allsubmission.php?name=abc145 HTTP/1.1',\n",
       "       'GET /profile.php?user=qruiger_116 HTTP/1.1',\n",
       "       'GET /allsubmission.php?name=ham05 HTTP/1.1',\n",
       "       'GET /profile.php?user=Aslan HTTP/1.1',\n",
       "       'GET /edit.php?name=Aslan HTTP/1.1',\n",
       "       'GET /showcode.php?id=308&nm=ham05 HTTP/1.1',\n",
       "       'GET /showcode.php?id=313&nm=abc145 HTTP/1.1',\n",
       "       'GET /showcode.php?id=309&nm=ham05 HTTP/1.1'], dtype=object)"
      ]
     },
     "execution_count": 270,
     "metadata": {},
     "output_type": "execute_result"
    }
   ],
   "source": [
    "web_log['URL'].unique()"
   ]
  },
  {
   "cell_type": "code",
   "execution_count": 271,
   "metadata": {
    "ExecuteTime": {
     "end_time": "2020-03-15T07:37:37.728409Z",
     "start_time": "2020-03-15T07:37:37.721374Z"
    }
   },
   "outputs": [
    {
     "data": {
      "text/plain": [
       "(15789, 2)"
      ]
     },
     "execution_count": 271,
     "metadata": {},
     "output_type": "execute_result"
    }
   ],
   "source": [
    "web_log.shape"
   ]
  },
  {
   "cell_type": "code",
   "execution_count": 272,
   "metadata": {
    "ExecuteTime": {
     "end_time": "2020-03-15T07:37:38.041880Z",
     "start_time": "2020-03-15T07:37:37.729415Z"
    }
   },
   "outputs": [
    {
     "data": {
      "text/html": [
       "<div>\n",
       "<style scoped>\n",
       "    .dataframe tbody tr th:only-of-type {\n",
       "        vertical-align: middle;\n",
       "    }\n",
       "\n",
       "    .dataframe tbody tr th {\n",
       "        vertical-align: top;\n",
       "    }\n",
       "\n",
       "    .dataframe thead tr th {\n",
       "        text-align: left;\n",
       "    }\n",
       "</style>\n",
       "<table border=\"1\" class=\"dataframe\">\n",
       "  <thead>\n",
       "    <tr>\n",
       "      <th></th>\n",
       "      <th colspan=\"21\" halign=\"left\">IP</th>\n",
       "    </tr>\n",
       "    <tr>\n",
       "      <th>URL</th>\n",
       "      <th>GET / HTTP/1.0</th>\n",
       "      <th>GET / HTTP/1.1</th>\n",
       "      <th>GET //home.php HTTP/1.1</th>\n",
       "      <th>GET /action.php HTTP/1.0</th>\n",
       "      <th>GET /adminpanel.php HTTP/1.1</th>\n",
       "      <th>GET /allsubmission.php HTTP/1.1</th>\n",
       "      <th>GET /allsubmission.php?name=abc145 HTTP/1.1</th>\n",
       "      <th>GET /allsubmission.php?name=ham05 HTTP/1.1</th>\n",
       "      <th>GET /allsubmission.php?name=mahadi HTTP/1.1</th>\n",
       "      <th>GET /allsubmission.php?name=moshiur_cse15 HTTP/1.1</th>\n",
       "      <th>...</th>\n",
       "      <th>POST /contest.php HTTP/1.1</th>\n",
       "      <th>POST /contestproblem.php HTTP/1.1</th>\n",
       "      <th>POST /contestsubmission.php HTTP/1.1</th>\n",
       "      <th>POST /home.php HTTP/1.1</th>\n",
       "      <th>POST /login.php HTTP/1.1</th>\n",
       "      <th>POST /pcompile.php HTTP/1.1</th>\n",
       "      <th>POST /process.php HTTP/1.0</th>\n",
       "      <th>POST /process.php HTTP/1.1</th>\n",
       "      <th>POST /profile.php?user=shawon HTTP/1.1</th>\n",
       "      <th>POST /update.php HTTP/1.1</th>\n",
       "    </tr>\n",
       "  </thead>\n",
       "  <tbody>\n",
       "    <tr>\n",
       "      <th>0</th>\n",
       "      <td>NaN</td>\n",
       "      <td>NaN</td>\n",
       "      <td>NaN</td>\n",
       "      <td>NaN</td>\n",
       "      <td>NaN</td>\n",
       "      <td>NaN</td>\n",
       "      <td>NaN</td>\n",
       "      <td>NaN</td>\n",
       "      <td>NaN</td>\n",
       "      <td>NaN</td>\n",
       "      <td>...</td>\n",
       "      <td>NaN</td>\n",
       "      <td>NaN</td>\n",
       "      <td>NaN</td>\n",
       "      <td>NaN</td>\n",
       "      <td>NaN</td>\n",
       "      <td>NaN</td>\n",
       "      <td>NaN</td>\n",
       "      <td>NaN</td>\n",
       "      <td>NaN</td>\n",
       "      <td>NaN</td>\n",
       "    </tr>\n",
       "    <tr>\n",
       "      <th>1</th>\n",
       "      <td>NaN</td>\n",
       "      <td>NaN</td>\n",
       "      <td>NaN</td>\n",
       "      <td>NaN</td>\n",
       "      <td>NaN</td>\n",
       "      <td>NaN</td>\n",
       "      <td>NaN</td>\n",
       "      <td>NaN</td>\n",
       "      <td>NaN</td>\n",
       "      <td>NaN</td>\n",
       "      <td>...</td>\n",
       "      <td>NaN</td>\n",
       "      <td>NaN</td>\n",
       "      <td>NaN</td>\n",
       "      <td>NaN</td>\n",
       "      <td>NaN</td>\n",
       "      <td>NaN</td>\n",
       "      <td>NaN</td>\n",
       "      <td>10.128.2.1</td>\n",
       "      <td>NaN</td>\n",
       "      <td>NaN</td>\n",
       "    </tr>\n",
       "    <tr>\n",
       "      <th>2</th>\n",
       "      <td>NaN</td>\n",
       "      <td>NaN</td>\n",
       "      <td>NaN</td>\n",
       "      <td>NaN</td>\n",
       "      <td>NaN</td>\n",
       "      <td>NaN</td>\n",
       "      <td>NaN</td>\n",
       "      <td>NaN</td>\n",
       "      <td>NaN</td>\n",
       "      <td>NaN</td>\n",
       "      <td>...</td>\n",
       "      <td>NaN</td>\n",
       "      <td>NaN</td>\n",
       "      <td>NaN</td>\n",
       "      <td>NaN</td>\n",
       "      <td>NaN</td>\n",
       "      <td>NaN</td>\n",
       "      <td>NaN</td>\n",
       "      <td>NaN</td>\n",
       "      <td>NaN</td>\n",
       "      <td>NaN</td>\n",
       "    </tr>\n",
       "    <tr>\n",
       "      <th>3</th>\n",
       "      <td>NaN</td>\n",
       "      <td>NaN</td>\n",
       "      <td>NaN</td>\n",
       "      <td>NaN</td>\n",
       "      <td>NaN</td>\n",
       "      <td>NaN</td>\n",
       "      <td>NaN</td>\n",
       "      <td>NaN</td>\n",
       "      <td>NaN</td>\n",
       "      <td>NaN</td>\n",
       "      <td>...</td>\n",
       "      <td>NaN</td>\n",
       "      <td>NaN</td>\n",
       "      <td>NaN</td>\n",
       "      <td>NaN</td>\n",
       "      <td>NaN</td>\n",
       "      <td>NaN</td>\n",
       "      <td>NaN</td>\n",
       "      <td>NaN</td>\n",
       "      <td>NaN</td>\n",
       "      <td>NaN</td>\n",
       "    </tr>\n",
       "    <tr>\n",
       "      <th>4</th>\n",
       "      <td>NaN</td>\n",
       "      <td>NaN</td>\n",
       "      <td>NaN</td>\n",
       "      <td>NaN</td>\n",
       "      <td>NaN</td>\n",
       "      <td>NaN</td>\n",
       "      <td>NaN</td>\n",
       "      <td>NaN</td>\n",
       "      <td>NaN</td>\n",
       "      <td>NaN</td>\n",
       "      <td>...</td>\n",
       "      <td>NaN</td>\n",
       "      <td>NaN</td>\n",
       "      <td>NaN</td>\n",
       "      <td>NaN</td>\n",
       "      <td>NaN</td>\n",
       "      <td>NaN</td>\n",
       "      <td>NaN</td>\n",
       "      <td>NaN</td>\n",
       "      <td>NaN</td>\n",
       "      <td>NaN</td>\n",
       "    </tr>\n",
       "  </tbody>\n",
       "</table>\n",
       "<p>5 rows × 292 columns</p>\n",
       "</div>"
      ],
      "text/plain": [
       "                IP                                         \\\n",
       "URL GET / HTTP/1.0 GET / HTTP/1.1 GET //home.php HTTP/1.1   \n",
       "0              NaN            NaN                     NaN   \n",
       "1              NaN            NaN                     NaN   \n",
       "2              NaN            NaN                     NaN   \n",
       "3              NaN            NaN                     NaN   \n",
       "4              NaN            NaN                     NaN   \n",
       "\n",
       "                                                           \\\n",
       "URL GET /action.php HTTP/1.0 GET /adminpanel.php HTTP/1.1   \n",
       "0                        NaN                          NaN   \n",
       "1                        NaN                          NaN   \n",
       "2                        NaN                          NaN   \n",
       "3                        NaN                          NaN   \n",
       "4                        NaN                          NaN   \n",
       "\n",
       "                                     \\\n",
       "URL GET /allsubmission.php HTTP/1.1   \n",
       "0                               NaN   \n",
       "1                               NaN   \n",
       "2                               NaN   \n",
       "3                               NaN   \n",
       "4                               NaN   \n",
       "\n",
       "                                                 \\\n",
       "URL GET /allsubmission.php?name=abc145 HTTP/1.1   \n",
       "0                                           NaN   \n",
       "1                                           NaN   \n",
       "2                                           NaN   \n",
       "3                                           NaN   \n",
       "4                                           NaN   \n",
       "\n",
       "                                                \\\n",
       "URL GET /allsubmission.php?name=ham05 HTTP/1.1   \n",
       "0                                          NaN   \n",
       "1                                          NaN   \n",
       "2                                          NaN   \n",
       "3                                          NaN   \n",
       "4                                          NaN   \n",
       "\n",
       "                                                 \\\n",
       "URL GET /allsubmission.php?name=mahadi HTTP/1.1   \n",
       "0                                           NaN   \n",
       "1                                           NaN   \n",
       "2                                           NaN   \n",
       "3                                           NaN   \n",
       "4                                           NaN   \n",
       "\n",
       "                                                        ...  \\\n",
       "URL GET /allsubmission.php?name=moshiur_cse15 HTTP/1.1  ...   \n",
       "0                                                  NaN  ...   \n",
       "1                                                  NaN  ...   \n",
       "2                                                  NaN  ...   \n",
       "3                                                  NaN  ...   \n",
       "4                                                  NaN  ...   \n",
       "\n",
       "                                                                  \\\n",
       "URL POST /contest.php HTTP/1.1 POST /contestproblem.php HTTP/1.1   \n",
       "0                          NaN                               NaN   \n",
       "1                          NaN                               NaN   \n",
       "2                          NaN                               NaN   \n",
       "3                          NaN                               NaN   \n",
       "4                          NaN                               NaN   \n",
       "\n",
       "                                                                  \\\n",
       "URL POST /contestsubmission.php HTTP/1.1 POST /home.php HTTP/1.1   \n",
       "0                                    NaN                     NaN   \n",
       "1                                    NaN                     NaN   \n",
       "2                                    NaN                     NaN   \n",
       "3                                    NaN                     NaN   \n",
       "4                                    NaN                     NaN   \n",
       "\n",
       "                                                          \\\n",
       "URL POST /login.php HTTP/1.1 POST /pcompile.php HTTP/1.1   \n",
       "0                        NaN                         NaN   \n",
       "1                        NaN                         NaN   \n",
       "2                        NaN                         NaN   \n",
       "3                        NaN                         NaN   \n",
       "4                        NaN                         NaN   \n",
       "\n",
       "                                                           \\\n",
       "URL POST /process.php HTTP/1.0 POST /process.php HTTP/1.1   \n",
       "0                          NaN                        NaN   \n",
       "1                          NaN                 10.128.2.1   \n",
       "2                          NaN                        NaN   \n",
       "3                          NaN                        NaN   \n",
       "4                          NaN                        NaN   \n",
       "\n",
       "                                                                      \n",
       "URL POST /profile.php?user=shawon HTTP/1.1 POST /update.php HTTP/1.1  \n",
       "0                                      NaN                       NaN  \n",
       "1                                      NaN                       NaN  \n",
       "2                                      NaN                       NaN  \n",
       "3                                      NaN                       NaN  \n",
       "4                                      NaN                       NaN  \n",
       "\n",
       "[5 rows x 292 columns]"
      ]
     },
     "execution_count": 272,
     "metadata": {},
     "output_type": "execute_result"
    }
   ],
   "source": [
    "web_log = web_log.pivot(columns='URL'); web_log.head()"
   ]
  },
  {
   "cell_type": "code",
   "execution_count": 273,
   "metadata": {
    "ExecuteTime": {
     "end_time": "2020-03-15T07:37:50.190952Z",
     "start_time": "2020-03-15T07:37:47.400388Z"
    }
   },
   "outputs": [],
   "source": [
    "for a in web_log.columns:\n",
    "    web_log[a] = web_log[a].astype('category').cat.codes"
   ]
  },
  {
   "cell_type": "code",
   "execution_count": 274,
   "metadata": {
    "ExecuteTime": {
     "end_time": "2020-03-15T07:37:52.231904Z",
     "start_time": "2020-03-15T07:37:52.203014Z"
    }
   },
   "outputs": [
    {
     "data": {
      "text/html": [
       "<div>\n",
       "<style scoped>\n",
       "    .dataframe tbody tr th:only-of-type {\n",
       "        vertical-align: middle;\n",
       "    }\n",
       "\n",
       "    .dataframe tbody tr th {\n",
       "        vertical-align: top;\n",
       "    }\n",
       "\n",
       "    .dataframe thead tr th {\n",
       "        text-align: left;\n",
       "    }\n",
       "</style>\n",
       "<table border=\"1\" class=\"dataframe\">\n",
       "  <thead>\n",
       "    <tr>\n",
       "      <th></th>\n",
       "      <th colspan=\"21\" halign=\"left\">IP</th>\n",
       "    </tr>\n",
       "    <tr>\n",
       "      <th>URL</th>\n",
       "      <th>GET / HTTP/1.0</th>\n",
       "      <th>GET / HTTP/1.1</th>\n",
       "      <th>GET //home.php HTTP/1.1</th>\n",
       "      <th>GET /action.php HTTP/1.0</th>\n",
       "      <th>GET /adminpanel.php HTTP/1.1</th>\n",
       "      <th>GET /allsubmission.php HTTP/1.1</th>\n",
       "      <th>GET /allsubmission.php?name=abc145 HTTP/1.1</th>\n",
       "      <th>GET /allsubmission.php?name=ham05 HTTP/1.1</th>\n",
       "      <th>GET /allsubmission.php?name=mahadi HTTP/1.1</th>\n",
       "      <th>GET /allsubmission.php?name=moshiur_cse15 HTTP/1.1</th>\n",
       "      <th>...</th>\n",
       "      <th>POST /contest.php HTTP/1.1</th>\n",
       "      <th>POST /contestproblem.php HTTP/1.1</th>\n",
       "      <th>POST /contestsubmission.php HTTP/1.1</th>\n",
       "      <th>POST /home.php HTTP/1.1</th>\n",
       "      <th>POST /login.php HTTP/1.1</th>\n",
       "      <th>POST /pcompile.php HTTP/1.1</th>\n",
       "      <th>POST /process.php HTTP/1.0</th>\n",
       "      <th>POST /process.php HTTP/1.1</th>\n",
       "      <th>POST /profile.php?user=shawon HTTP/1.1</th>\n",
       "      <th>POST /update.php HTTP/1.1</th>\n",
       "    </tr>\n",
       "  </thead>\n",
       "  <tbody>\n",
       "    <tr>\n",
       "      <th>0</th>\n",
       "      <td>-1</td>\n",
       "      <td>-1</td>\n",
       "      <td>-1</td>\n",
       "      <td>-1</td>\n",
       "      <td>-1</td>\n",
       "      <td>-1</td>\n",
       "      <td>-1</td>\n",
       "      <td>-1</td>\n",
       "      <td>-1</td>\n",
       "      <td>-1</td>\n",
       "      <td>...</td>\n",
       "      <td>-1</td>\n",
       "      <td>-1</td>\n",
       "      <td>-1</td>\n",
       "      <td>-1</td>\n",
       "      <td>-1</td>\n",
       "      <td>-1</td>\n",
       "      <td>-1</td>\n",
       "      <td>-1</td>\n",
       "      <td>-1</td>\n",
       "      <td>-1</td>\n",
       "    </tr>\n",
       "    <tr>\n",
       "      <th>1</th>\n",
       "      <td>-1</td>\n",
       "      <td>-1</td>\n",
       "      <td>-1</td>\n",
       "      <td>-1</td>\n",
       "      <td>-1</td>\n",
       "      <td>-1</td>\n",
       "      <td>-1</td>\n",
       "      <td>-1</td>\n",
       "      <td>-1</td>\n",
       "      <td>-1</td>\n",
       "      <td>...</td>\n",
       "      <td>-1</td>\n",
       "      <td>-1</td>\n",
       "      <td>-1</td>\n",
       "      <td>-1</td>\n",
       "      <td>-1</td>\n",
       "      <td>-1</td>\n",
       "      <td>-1</td>\n",
       "      <td>0</td>\n",
       "      <td>-1</td>\n",
       "      <td>-1</td>\n",
       "    </tr>\n",
       "    <tr>\n",
       "      <th>2</th>\n",
       "      <td>-1</td>\n",
       "      <td>-1</td>\n",
       "      <td>-1</td>\n",
       "      <td>-1</td>\n",
       "      <td>-1</td>\n",
       "      <td>-1</td>\n",
       "      <td>-1</td>\n",
       "      <td>-1</td>\n",
       "      <td>-1</td>\n",
       "      <td>-1</td>\n",
       "      <td>...</td>\n",
       "      <td>-1</td>\n",
       "      <td>-1</td>\n",
       "      <td>-1</td>\n",
       "      <td>-1</td>\n",
       "      <td>-1</td>\n",
       "      <td>-1</td>\n",
       "      <td>-1</td>\n",
       "      <td>-1</td>\n",
       "      <td>-1</td>\n",
       "      <td>-1</td>\n",
       "    </tr>\n",
       "    <tr>\n",
       "      <th>3</th>\n",
       "      <td>-1</td>\n",
       "      <td>-1</td>\n",
       "      <td>-1</td>\n",
       "      <td>-1</td>\n",
       "      <td>-1</td>\n",
       "      <td>-1</td>\n",
       "      <td>-1</td>\n",
       "      <td>-1</td>\n",
       "      <td>-1</td>\n",
       "      <td>-1</td>\n",
       "      <td>...</td>\n",
       "      <td>-1</td>\n",
       "      <td>-1</td>\n",
       "      <td>-1</td>\n",
       "      <td>-1</td>\n",
       "      <td>-1</td>\n",
       "      <td>-1</td>\n",
       "      <td>-1</td>\n",
       "      <td>-1</td>\n",
       "      <td>-1</td>\n",
       "      <td>-1</td>\n",
       "    </tr>\n",
       "    <tr>\n",
       "      <th>4</th>\n",
       "      <td>-1</td>\n",
       "      <td>-1</td>\n",
       "      <td>-1</td>\n",
       "      <td>-1</td>\n",
       "      <td>-1</td>\n",
       "      <td>-1</td>\n",
       "      <td>-1</td>\n",
       "      <td>-1</td>\n",
       "      <td>-1</td>\n",
       "      <td>-1</td>\n",
       "      <td>...</td>\n",
       "      <td>-1</td>\n",
       "      <td>-1</td>\n",
       "      <td>-1</td>\n",
       "      <td>-1</td>\n",
       "      <td>-1</td>\n",
       "      <td>-1</td>\n",
       "      <td>-1</td>\n",
       "      <td>-1</td>\n",
       "      <td>-1</td>\n",
       "      <td>-1</td>\n",
       "    </tr>\n",
       "  </tbody>\n",
       "</table>\n",
       "<p>5 rows × 292 columns</p>\n",
       "</div>"
      ],
      "text/plain": [
       "                IP                                         \\\n",
       "URL GET / HTTP/1.0 GET / HTTP/1.1 GET //home.php HTTP/1.1   \n",
       "0               -1             -1                      -1   \n",
       "1               -1             -1                      -1   \n",
       "2               -1             -1                      -1   \n",
       "3               -1             -1                      -1   \n",
       "4               -1             -1                      -1   \n",
       "\n",
       "                                                           \\\n",
       "URL GET /action.php HTTP/1.0 GET /adminpanel.php HTTP/1.1   \n",
       "0                         -1                           -1   \n",
       "1                         -1                           -1   \n",
       "2                         -1                           -1   \n",
       "3                         -1                           -1   \n",
       "4                         -1                           -1   \n",
       "\n",
       "                                     \\\n",
       "URL GET /allsubmission.php HTTP/1.1   \n",
       "0                                -1   \n",
       "1                                -1   \n",
       "2                                -1   \n",
       "3                                -1   \n",
       "4                                -1   \n",
       "\n",
       "                                                 \\\n",
       "URL GET /allsubmission.php?name=abc145 HTTP/1.1   \n",
       "0                                            -1   \n",
       "1                                            -1   \n",
       "2                                            -1   \n",
       "3                                            -1   \n",
       "4                                            -1   \n",
       "\n",
       "                                                \\\n",
       "URL GET /allsubmission.php?name=ham05 HTTP/1.1   \n",
       "0                                           -1   \n",
       "1                                           -1   \n",
       "2                                           -1   \n",
       "3                                           -1   \n",
       "4                                           -1   \n",
       "\n",
       "                                                 \\\n",
       "URL GET /allsubmission.php?name=mahadi HTTP/1.1   \n",
       "0                                            -1   \n",
       "1                                            -1   \n",
       "2                                            -1   \n",
       "3                                            -1   \n",
       "4                                            -1   \n",
       "\n",
       "                                                        ...  \\\n",
       "URL GET /allsubmission.php?name=moshiur_cse15 HTTP/1.1  ...   \n",
       "0                                                   -1  ...   \n",
       "1                                                   -1  ...   \n",
       "2                                                   -1  ...   \n",
       "3                                                   -1  ...   \n",
       "4                                                   -1  ...   \n",
       "\n",
       "                                                                  \\\n",
       "URL POST /contest.php HTTP/1.1 POST /contestproblem.php HTTP/1.1   \n",
       "0                           -1                                -1   \n",
       "1                           -1                                -1   \n",
       "2                           -1                                -1   \n",
       "3                           -1                                -1   \n",
       "4                           -1                                -1   \n",
       "\n",
       "                                                                  \\\n",
       "URL POST /contestsubmission.php HTTP/1.1 POST /home.php HTTP/1.1   \n",
       "0                                     -1                      -1   \n",
       "1                                     -1                      -1   \n",
       "2                                     -1                      -1   \n",
       "3                                     -1                      -1   \n",
       "4                                     -1                      -1   \n",
       "\n",
       "                                                          \\\n",
       "URL POST /login.php HTTP/1.1 POST /pcompile.php HTTP/1.1   \n",
       "0                         -1                          -1   \n",
       "1                         -1                          -1   \n",
       "2                         -1                          -1   \n",
       "3                         -1                          -1   \n",
       "4                         -1                          -1   \n",
       "\n",
       "                                                           \\\n",
       "URL POST /process.php HTTP/1.0 POST /process.php HTTP/1.1   \n",
       "0                           -1                         -1   \n",
       "1                           -1                          0   \n",
       "2                           -1                         -1   \n",
       "3                           -1                         -1   \n",
       "4                           -1                         -1   \n",
       "\n",
       "                                                                      \n",
       "URL POST /profile.php?user=shawon HTTP/1.1 POST /update.php HTTP/1.1  \n",
       "0                                       -1                        -1  \n",
       "1                                       -1                        -1  \n",
       "2                                       -1                        -1  \n",
       "3                                       -1                        -1  \n",
       "4                                       -1                        -1  \n",
       "\n",
       "[5 rows x 292 columns]"
      ]
     },
     "execution_count": 274,
     "metadata": {},
     "output_type": "execute_result"
    }
   ],
   "source": [
    "web_log.head()"
   ]
  },
  {
   "cell_type": "code",
   "execution_count": 275,
   "metadata": {
    "ExecuteTime": {
     "end_time": "2020-03-15T07:37:53.993209Z",
     "start_time": "2020-03-15T07:37:53.983133Z"
    }
   },
   "outputs": [],
   "source": [
    "web_log =web_log.replace(-1, 0)"
   ]
  },
  {
   "cell_type": "code",
   "execution_count": 276,
   "metadata": {
    "ExecuteTime": {
     "end_time": "2020-03-15T07:38:00.520915Z",
     "start_time": "2020-03-15T07:38:00.497039Z"
    },
    "run_control": {
     "marked": false
    }
   },
   "outputs": [
    {
     "data": {
      "text/html": [
       "<div>\n",
       "<style scoped>\n",
       "    .dataframe tbody tr th:only-of-type {\n",
       "        vertical-align: middle;\n",
       "    }\n",
       "\n",
       "    .dataframe tbody tr th {\n",
       "        vertical-align: top;\n",
       "    }\n",
       "\n",
       "    .dataframe thead tr th {\n",
       "        text-align: left;\n",
       "    }\n",
       "</style>\n",
       "<table border=\"1\" class=\"dataframe\">\n",
       "  <thead>\n",
       "    <tr>\n",
       "      <th></th>\n",
       "      <th colspan=\"21\" halign=\"left\">IP</th>\n",
       "    </tr>\n",
       "    <tr>\n",
       "      <th>URL</th>\n",
       "      <th>GET / HTTP/1.0</th>\n",
       "      <th>GET / HTTP/1.1</th>\n",
       "      <th>GET //home.php HTTP/1.1</th>\n",
       "      <th>GET /action.php HTTP/1.0</th>\n",
       "      <th>GET /adminpanel.php HTTP/1.1</th>\n",
       "      <th>GET /allsubmission.php HTTP/1.1</th>\n",
       "      <th>GET /allsubmission.php?name=abc145 HTTP/1.1</th>\n",
       "      <th>GET /allsubmission.php?name=ham05 HTTP/1.1</th>\n",
       "      <th>GET /allsubmission.php?name=mahadi HTTP/1.1</th>\n",
       "      <th>GET /allsubmission.php?name=moshiur_cse15 HTTP/1.1</th>\n",
       "      <th>...</th>\n",
       "      <th>POST /contest.php HTTP/1.1</th>\n",
       "      <th>POST /contestproblem.php HTTP/1.1</th>\n",
       "      <th>POST /contestsubmission.php HTTP/1.1</th>\n",
       "      <th>POST /home.php HTTP/1.1</th>\n",
       "      <th>POST /login.php HTTP/1.1</th>\n",
       "      <th>POST /pcompile.php HTTP/1.1</th>\n",
       "      <th>POST /process.php HTTP/1.0</th>\n",
       "      <th>POST /process.php HTTP/1.1</th>\n",
       "      <th>POST /profile.php?user=shawon HTTP/1.1</th>\n",
       "      <th>POST /update.php HTTP/1.1</th>\n",
       "    </tr>\n",
       "  </thead>\n",
       "  <tbody>\n",
       "    <tr>\n",
       "      <th>0</th>\n",
       "      <td>0</td>\n",
       "      <td>0</td>\n",
       "      <td>0</td>\n",
       "      <td>0</td>\n",
       "      <td>0</td>\n",
       "      <td>0</td>\n",
       "      <td>0</td>\n",
       "      <td>0</td>\n",
       "      <td>0</td>\n",
       "      <td>0</td>\n",
       "      <td>...</td>\n",
       "      <td>0</td>\n",
       "      <td>0</td>\n",
       "      <td>0</td>\n",
       "      <td>0</td>\n",
       "      <td>0</td>\n",
       "      <td>0</td>\n",
       "      <td>0</td>\n",
       "      <td>0</td>\n",
       "      <td>0</td>\n",
       "      <td>0</td>\n",
       "    </tr>\n",
       "    <tr>\n",
       "      <th>1</th>\n",
       "      <td>0</td>\n",
       "      <td>0</td>\n",
       "      <td>0</td>\n",
       "      <td>0</td>\n",
       "      <td>0</td>\n",
       "      <td>0</td>\n",
       "      <td>0</td>\n",
       "      <td>0</td>\n",
       "      <td>0</td>\n",
       "      <td>0</td>\n",
       "      <td>...</td>\n",
       "      <td>0</td>\n",
       "      <td>0</td>\n",
       "      <td>0</td>\n",
       "      <td>0</td>\n",
       "      <td>0</td>\n",
       "      <td>0</td>\n",
       "      <td>0</td>\n",
       "      <td>0</td>\n",
       "      <td>0</td>\n",
       "      <td>0</td>\n",
       "    </tr>\n",
       "    <tr>\n",
       "      <th>2</th>\n",
       "      <td>0</td>\n",
       "      <td>0</td>\n",
       "      <td>0</td>\n",
       "      <td>0</td>\n",
       "      <td>0</td>\n",
       "      <td>0</td>\n",
       "      <td>0</td>\n",
       "      <td>0</td>\n",
       "      <td>0</td>\n",
       "      <td>0</td>\n",
       "      <td>...</td>\n",
       "      <td>0</td>\n",
       "      <td>0</td>\n",
       "      <td>0</td>\n",
       "      <td>0</td>\n",
       "      <td>0</td>\n",
       "      <td>0</td>\n",
       "      <td>0</td>\n",
       "      <td>0</td>\n",
       "      <td>0</td>\n",
       "      <td>0</td>\n",
       "    </tr>\n",
       "    <tr>\n",
       "      <th>3</th>\n",
       "      <td>0</td>\n",
       "      <td>0</td>\n",
       "      <td>0</td>\n",
       "      <td>0</td>\n",
       "      <td>0</td>\n",
       "      <td>0</td>\n",
       "      <td>0</td>\n",
       "      <td>0</td>\n",
       "      <td>0</td>\n",
       "      <td>0</td>\n",
       "      <td>...</td>\n",
       "      <td>0</td>\n",
       "      <td>0</td>\n",
       "      <td>0</td>\n",
       "      <td>0</td>\n",
       "      <td>0</td>\n",
       "      <td>0</td>\n",
       "      <td>0</td>\n",
       "      <td>0</td>\n",
       "      <td>0</td>\n",
       "      <td>0</td>\n",
       "    </tr>\n",
       "    <tr>\n",
       "      <th>4</th>\n",
       "      <td>0</td>\n",
       "      <td>0</td>\n",
       "      <td>0</td>\n",
       "      <td>0</td>\n",
       "      <td>0</td>\n",
       "      <td>0</td>\n",
       "      <td>0</td>\n",
       "      <td>0</td>\n",
       "      <td>0</td>\n",
       "      <td>0</td>\n",
       "      <td>...</td>\n",
       "      <td>0</td>\n",
       "      <td>0</td>\n",
       "      <td>0</td>\n",
       "      <td>0</td>\n",
       "      <td>0</td>\n",
       "      <td>0</td>\n",
       "      <td>0</td>\n",
       "      <td>0</td>\n",
       "      <td>0</td>\n",
       "      <td>0</td>\n",
       "    </tr>\n",
       "  </tbody>\n",
       "</table>\n",
       "<p>5 rows × 292 columns</p>\n",
       "</div>"
      ],
      "text/plain": [
       "                IP                                         \\\n",
       "URL GET / HTTP/1.0 GET / HTTP/1.1 GET //home.php HTTP/1.1   \n",
       "0                0              0                       0   \n",
       "1                0              0                       0   \n",
       "2                0              0                       0   \n",
       "3                0              0                       0   \n",
       "4                0              0                       0   \n",
       "\n",
       "                                                           \\\n",
       "URL GET /action.php HTTP/1.0 GET /adminpanel.php HTTP/1.1   \n",
       "0                          0                            0   \n",
       "1                          0                            0   \n",
       "2                          0                            0   \n",
       "3                          0                            0   \n",
       "4                          0                            0   \n",
       "\n",
       "                                     \\\n",
       "URL GET /allsubmission.php HTTP/1.1   \n",
       "0                                 0   \n",
       "1                                 0   \n",
       "2                                 0   \n",
       "3                                 0   \n",
       "4                                 0   \n",
       "\n",
       "                                                 \\\n",
       "URL GET /allsubmission.php?name=abc145 HTTP/1.1   \n",
       "0                                             0   \n",
       "1                                             0   \n",
       "2                                             0   \n",
       "3                                             0   \n",
       "4                                             0   \n",
       "\n",
       "                                                \\\n",
       "URL GET /allsubmission.php?name=ham05 HTTP/1.1   \n",
       "0                                            0   \n",
       "1                                            0   \n",
       "2                                            0   \n",
       "3                                            0   \n",
       "4                                            0   \n",
       "\n",
       "                                                 \\\n",
       "URL GET /allsubmission.php?name=mahadi HTTP/1.1   \n",
       "0                                             0   \n",
       "1                                             0   \n",
       "2                                             0   \n",
       "3                                             0   \n",
       "4                                             0   \n",
       "\n",
       "                                                        ...  \\\n",
       "URL GET /allsubmission.php?name=moshiur_cse15 HTTP/1.1  ...   \n",
       "0                                                    0  ...   \n",
       "1                                                    0  ...   \n",
       "2                                                    0  ...   \n",
       "3                                                    0  ...   \n",
       "4                                                    0  ...   \n",
       "\n",
       "                                                                  \\\n",
       "URL POST /contest.php HTTP/1.1 POST /contestproblem.php HTTP/1.1   \n",
       "0                            0                                 0   \n",
       "1                            0                                 0   \n",
       "2                            0                                 0   \n",
       "3                            0                                 0   \n",
       "4                            0                                 0   \n",
       "\n",
       "                                                                  \\\n",
       "URL POST /contestsubmission.php HTTP/1.1 POST /home.php HTTP/1.1   \n",
       "0                                      0                       0   \n",
       "1                                      0                       0   \n",
       "2                                      0                       0   \n",
       "3                                      0                       0   \n",
       "4                                      0                       0   \n",
       "\n",
       "                                                          \\\n",
       "URL POST /login.php HTTP/1.1 POST /pcompile.php HTTP/1.1   \n",
       "0                          0                           0   \n",
       "1                          0                           0   \n",
       "2                          0                           0   \n",
       "3                          0                           0   \n",
       "4                          0                           0   \n",
       "\n",
       "                                                           \\\n",
       "URL POST /process.php HTTP/1.0 POST /process.php HTTP/1.1   \n",
       "0                            0                          0   \n",
       "1                            0                          0   \n",
       "2                            0                          0   \n",
       "3                            0                          0   \n",
       "4                            0                          0   \n",
       "\n",
       "                                                                      \n",
       "URL POST /profile.php?user=shawon HTTP/1.1 POST /update.php HTTP/1.1  \n",
       "0                                        0                         0  \n",
       "1                                        0                         0  \n",
       "2                                        0                         0  \n",
       "3                                        0                         0  \n",
       "4                                        0                         0  \n",
       "\n",
       "[5 rows x 292 columns]"
      ]
     },
     "execution_count": 276,
     "metadata": {},
     "output_type": "execute_result"
    }
   ],
   "source": [
    "web_log.head()"
   ]
  },
  {
   "cell_type": "code",
   "execution_count": 289,
   "metadata": {
    "ExecuteTime": {
     "end_time": "2020-03-15T07:42:15.544785Z",
     "start_time": "2020-03-15T07:42:15.319395Z"
    }
   },
   "outputs": [],
   "source": [
    "web_log[web_log > 0] = 1"
   ]
  },
  {
   "cell_type": "code",
   "execution_count": null,
   "metadata": {},
   "outputs": [],
   "source": []
  },
  {
   "cell_type": "markdown",
   "metadata": {},
   "source": [
    "## Apriori"
   ]
  },
  {
   "cell_type": "code",
   "execution_count": 280,
   "metadata": {
    "ExecuteTime": {
     "end_time": "2020-03-15T07:38:39.923688Z",
     "start_time": "2020-03-15T07:38:39.917933Z"
    }
   },
   "outputs": [],
   "source": [
    "from mlxtend.frequent_patterns import apriori"
   ]
  },
  {
   "cell_type": "code",
   "execution_count": 290,
   "metadata": {
    "ExecuteTime": {
     "end_time": "2020-03-15T07:42:17.931168Z",
     "start_time": "2020-03-15T07:42:17.898563Z"
    }
   },
   "outputs": [
    {
     "data": {
      "text/html": [
       "<div>\n",
       "<style scoped>\n",
       "    .dataframe tbody tr th:only-of-type {\n",
       "        vertical-align: middle;\n",
       "    }\n",
       "\n",
       "    .dataframe tbody tr th {\n",
       "        vertical-align: top;\n",
       "    }\n",
       "\n",
       "    .dataframe thead th {\n",
       "        text-align: right;\n",
       "    }\n",
       "</style>\n",
       "<table border=\"1\" class=\"dataframe\">\n",
       "  <thead>\n",
       "    <tr style=\"text-align: right;\">\n",
       "      <th></th>\n",
       "      <th>support</th>\n",
       "      <th>itemsets</th>\n",
       "    </tr>\n",
       "  </thead>\n",
       "  <tbody>\n",
       "  </tbody>\n",
       "</table>\n",
       "</div>"
      ],
      "text/plain": [
       "Empty DataFrame\n",
       "Columns: [support, itemsets]\n",
       "Index: []"
      ]
     },
     "execution_count": 290,
     "metadata": {},
     "output_type": "execute_result"
    }
   ],
   "source": [
    "apriori(web_log,use_colnames = True)"
   ]
  },
  {
   "cell_type": "code",
   "execution_count": null,
   "metadata": {},
   "outputs": [],
   "source": []
  },
  {
   "cell_type": "code",
   "execution_count": null,
   "metadata": {},
   "outputs": [],
   "source": []
  },
  {
   "cell_type": "code",
   "execution_count": null,
   "metadata": {},
   "outputs": [],
   "source": []
  },
  {
   "cell_type": "code",
   "execution_count": null,
   "metadata": {},
   "outputs": [],
   "source": []
  },
  {
   "cell_type": "code",
   "execution_count": null,
   "metadata": {},
   "outputs": [],
   "source": []
  },
  {
   "cell_type": "code",
   "execution_count": null,
   "metadata": {},
   "outputs": [],
   "source": []
  },
  {
   "cell_type": "code",
   "execution_count": null,
   "metadata": {},
   "outputs": [],
   "source": []
  },
  {
   "cell_type": "code",
   "execution_count": null,
   "metadata": {},
   "outputs": [],
   "source": []
  },
  {
   "cell_type": "code",
   "execution_count": null,
   "metadata": {},
   "outputs": [],
   "source": []
  },
  {
   "cell_type": "code",
   "execution_count": null,
   "metadata": {},
   "outputs": [],
   "source": []
  },
  {
   "cell_type": "code",
   "execution_count": null,
   "metadata": {},
   "outputs": [],
   "source": []
  },
  {
   "cell_type": "code",
   "execution_count": null,
   "metadata": {},
   "outputs": [],
   "source": []
  },
  {
   "cell_type": "code",
   "execution_count": null,
   "metadata": {},
   "outputs": [],
   "source": []
  },
  {
   "cell_type": "code",
   "execution_count": null,
   "metadata": {},
   "outputs": [],
   "source": []
  },
  {
   "cell_type": "code",
   "execution_count": null,
   "metadata": {},
   "outputs": [],
   "source": []
  }
 ],
 "metadata": {
  "kernelspec": {
   "display_name": "Python 3",
   "language": "python",
   "name": "python3"
  },
  "language_info": {
   "codemirror_mode": {
    "name": "ipython",
    "version": 3
   },
   "file_extension": ".py",
   "mimetype": "text/x-python",
   "name": "python",
   "nbconvert_exporter": "python",
   "pygments_lexer": "ipython3",
   "version": "3.7.6"
  },
  "toc": {
   "base_numbering": 1,
   "nav_menu": {},
   "number_sections": true,
   "sideBar": true,
   "skip_h1_title": false,
   "title_cell": "Table of Contents",
   "title_sidebar": "Contents",
   "toc_cell": true,
   "toc_position": {
    "height": "calc(100% - 180px)",
    "left": "10px",
    "top": "150px",
    "width": "384px"
   },
   "toc_section_display": true,
   "toc_window_display": true
  }
 },
 "nbformat": 4,
 "nbformat_minor": 4
}
