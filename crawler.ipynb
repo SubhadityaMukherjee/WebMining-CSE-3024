{
 "cells": [
  {
   "cell_type": "markdown",
   "execution_count": null,
   "metadata": {},
   "outputs": [],
   "source": [
    "## WORK\n",
    "- only take text [ x ]\n",
    "- go through all pages in the found links [x]\n",
    "- search for word in all of them [x]\n",
    "- get all content apply everything from first lab"
   ]
  },
  {
   "cell_type": "code",
   "execution_count": 129,
   "metadata": {},
   "outputs": [],
   "source": [
    "from html.parser import HTMLParser\n",
    "from urllib.request import urlopen\n",
    "from urllib import parse\n",
    "import re"
   ]
  },
  {
   "cell_type": "markdown",
   "execution_count": null,
   "metadata": {},
   "outputs": [],
   "source": [
    "## Crawler"
   ]
  },
  {
   "cell_type": "code",
   "execution_count": 150,
   "metadata": {},
   "outputs": [],
   "source": [
    "class LinkParser(HTMLParser):\n",
    "    def handle_starttag(self,tag, attrs):\n",
    "        if tag==\"a\":\n",
    "            for(key, value) in attrs:\n",
    "                if key == \"href\":\n",
    "                    newUrl = parse.urljoin(self.baseUrl, value)\n",
    "                    self.links+=[newUrl]\n",
    "\n",
    "    def getLinks(self, url):\n",
    "        self.links = []\n",
    "        self.baseUrl = url\n",
    "        try:\n",
    "            response = urlopen(url)\n",
    "            if response.getheader('Content-Type')=='text/html':\n",
    "                htmlBytes = response.read()\n",
    "                htmlString = htmlBytes.decode('utf-8')\n",
    "                self.feed(htmlString)\n",
    "                # print(htmlString)\n",
    "                return htmlString, self.links\n",
    "            else:\n",
    "                return \"\",[]\n",
    "        except Exception as e:\n",
    "            pass"
   ]
  },
  {
   "cell_type": "markdown",
   "execution_count": null,
   "metadata": {},
   "outputs": [],
   "source": [
    "## Get text from HTML"
   ]
  },
  {
   "cell_type": "code",
   "execution_count": 276,
   "metadata": {},
   "outputs": [],
   "source": [
    "def find_text_from_html(htmstr):\n",
    "    all_te = []\n",
    "    str_2 = []\n",
    "    all_te.extend(re.findall(r\"<p[ a-zA-Z0-9\\-\\\"\\=]*>[ \\w]*<\\/p>\",htmstr))\n",
    "    all_te.extend(re.findall(r\"<h[ a-zA-Z0-4\\-\\\"\\=]*>[ \\w]*<\\/h[1-4]>\",htmstr))\n",
    "    # all_te= [re.findall(r\"[\\w]*\",x) for x in all_te]\n",
    "    # print(all_te)\n",
    "    str_f = [re.findall(r\">[\\w ]*<\",x) for x in all_te]\n",
    "    # str_f = [re.findall(r\"[\\w]*\",x) for x in all_te]\n",
    "    [str_2.extend(a) for a in str_f]\n",
    "    finstr = \"\"\n",
    "    for a in str_2:finstr+=a[1:len(a)-1]+\" \" \n",
    "\n",
    "    return finstr"
   ]
  },
  {
   "cell_type": "code",
   "execution_count": 277,
   "metadata": {},
   "outputs": [
    {
     "name": "stdout",
     "output_type": "stream",
     "text": "hello hello this is a test \n"
    }
   ],
   "source": [
    "print(find_text_from_html(\"<p>hello</p><p>hello this is a test</p>\"))"
   ]
  },
  {
   "cell_type": "code",
   "execution_count": 279,
   "metadata": {},
   "outputs": [],
   "source": [
    " def spider(url, word, maxPages):\n",
    "        pagesToVisit = [url]\n",
    "        numberVisited = 0\n",
    "        curr = 0\n",
    "        links = []\n",
    "        text_found = ''\n",
    "        while numberVisited<maxPages and pagesToVisit != []:\n",
    "            numberVisited+=1\n",
    "            url = pagesToVisit[0]\n",
    "            pagesToVisit = pagesToVisit[1:]\n",
    "            try:\n",
    "                print(numberVisited, \"visting\", url)\n",
    "                parser = LinkParser()\n",
    "                # initial\n",
    "                data, links= parser.getLinks(url)\n",
    "            except:\n",
    "                print(\"Failed\")\n",
    "        # print(links)\n",
    "        numberVisited=0\n",
    "        for a in links:\n",
    "            if numberVisited>maxPages:\n",
    "                break\n",
    "            try:\n",
    "                data, links= parser.getLinks(a)\n",
    "                # print(find_text_from_html(data))\n",
    "                text_found+= find_text_from_html(data)\n",
    "                if data.find(word)>-1:\n",
    "                    foundWord = True\n",
    "                    pagesToVisit+= links\n",
    "                    print(f\"Found in {a}\")\n",
    "                else:\n",
    "                    print(f\"Not Found in {a}\")\n",
    "                numberVisited+=1\n",
    "            except Exception as e:\n",
    "                # print(e)\n",
    "                pass\n",
    "        \n",
    "        return text_found\n",
    "        "
   ]
  },
  {
   "cell_type": "markdown",
   "execution_count": null,
   "metadata": {},
   "outputs": [],
   "source": [
    "## Collecting text"
   ]
  },
  {
   "cell_type": "code",
   "execution_count": 280,
   "metadata": {},
   "outputs": [
    {
     "name": "stdout",
     "output_type": "stream",
     "text": "1 visting https://www.w3schools.com/\nFound in https://www.w3schools.com\nFound in https://www.w3schools.com\nFound in https://www.w3schools.com/html/default.asp\nFound in https://www.w3schools.com/css/default.asp\n"
    }
   ],
   "source": [
    "text_found = spider(\"https://www.w3schools.com/\",\"html\",3)"
   ]
  },
  {
   "cell_type": "code",
   "execution_count": 281,
   "metadata": {},
   "outputs": [
    {
     "data": {
      "text/plain": "'The language for building web pages The language for styling web pages The language for styling web pages The language for programming web pages A language for accessing databases A language for accessing databases HTML and CSS JavaScript Server Side Programming Web Building XML Tutorials References Exercises HTML and CSS XML Tutorials JavaScript Programming Server Side Web Building XML Tutorials HTML CSS JavaScript Programming Server Side XML Character Sets HTML and CSS Quizzes JavaScript Programming Server Side XML Quizzes Exercises Quizzes Certificates HTML CSS CSS JavaScript SQL SQL Python A programming language PHP A web server programming language jQuery A JavaScript library for developing web pages Java A programming language A modern CSS framework for faster and better responsive web pages Color Picker Bootstrap A CSS framework for designing better web pages Exercises Test yourself with exercises Web Templates How To Section Web Certificates The language for building web pages The language for styling web pages The language for styling web pages The language for programming web pages A language for accessing databases A language for accessing databases HTML and CSS JavaScript Server Side Programming Web Building XML Tutorials References Exercises HTML and CSS XML Tutorials JavaScript Programming Server Side Web Building XML Tutorials HTML CSS JavaScript Programming Server Side XML Character Sets HTML and CSS Quizzes JavaScript Programming Server Side XML Quizzes Exercises Quizzes Certificates HTML CSS CSS JavaScript SQL SQL Python A programming language PHP A web server programming language jQuery A JavaScript library for developing web pages Java A programming language A modern CSS framework for faster and better responsive web pages Color Picker Bootstrap A CSS framework for designing better web pages Exercises Test yourself with exercises Web Templates How To Section Web Certificates HTML and CSS XML JavaScript Programming Server Side Web Building XML HTML CSS JavaScript Programming Server Side XML Character Sets Exercises Quizzes Certificates Examples in Every Chapter Example HTML Examples HTML Exercises Test Yourself With Exercises HTML Quiz Test HTML References Exercises SHARE Top Tutorials Top References Top Examples Web Certificates HTML and CSS XML JavaScript Programming Server Side Web Building XML HTML CSS JavaScript Programming Server Side XML Character Sets Exercises Quizzes Certificates Examples in Each Chapter CSS Example CSS Examples CSS Templates CSS Exercises and Quiz Test CSS References Exercises SHARE Top Tutorials Top References Top Examples Web Certificates '"
     },
     "execution_count": 281,
     "metadata": {},
     "output_type": "execute_result"
    }
   ],
   "source": [
    "text_found"
   ]
  },
  {
   "cell_type": "markdown",
   "execution_count": null,
   "metadata": {},
   "outputs": [],
   "source": [
    "## Text processing"
   ]
  },
  {
   "cell_type": "code",
   "execution_count": 282,
   "metadata": {},
   "outputs": [],
   "source": [
    "from nltk.corpus import stopwords\n",
    "from nltk.tokenize import word_tokenize\n",
    "stop_words = set(stopwords.words('english'))"
   ]
  },
  {
   "cell_type": "code",
   "execution_count": 284,
   "metadata": {},
   "outputs": [
    {
     "data": {
      "text/plain": "['The',\n 'language',\n 'for',\n 'building',\n 'web',\n 'pages',\n 'The',\n 'language',\n 'for',\n 'styling',\n 'web',\n 'pages',\n 'The',\n 'language',\n 'for',\n 'styling',\n 'web',\n 'pages',\n 'The',\n 'language',\n 'for',\n 'programming',\n 'web',\n 'pages',\n 'A',\n 'language',\n 'for',\n 'accessing',\n 'databases',\n 'A',\n 'language',\n 'for',\n 'accessing',\n 'databases',\n 'HTML',\n 'and',\n 'CSS',\n 'JavaScript',\n 'Server',\n 'Side',\n 'Programming',\n 'Web',\n 'Building',\n 'XML',\n 'Tutorials',\n 'References',\n 'Exercises',\n 'HTML',\n 'and',\n 'CSS',\n 'XML',\n 'Tutorials',\n 'JavaScript',\n 'Programming',\n 'Server',\n 'Side',\n 'Web',\n 'Building',\n 'XML',\n 'Tutorials',\n 'HTML',\n 'CSS',\n 'JavaScript',\n 'Programming',\n 'Server',\n 'Side',\n 'XML',\n 'Character',\n 'Sets',\n 'HTML',\n 'and',\n 'CSS',\n 'Quizzes',\n 'JavaScript',\n 'Programming',\n 'Server',\n 'Side',\n 'XML',\n 'Quizzes',\n 'Exercises',\n 'Quizzes',\n 'Certificates',\n 'HTML',\n 'CSS',\n 'CSS',\n 'JavaScript',\n 'SQL',\n 'SQL',\n 'Python',\n 'A',\n 'programming',\n 'language',\n 'PHP',\n 'A',\n 'web',\n 'server',\n 'programming',\n 'language',\n 'jQuery',\n 'A',\n 'JavaScript',\n 'library',\n 'for',\n 'developing',\n 'web',\n 'pages',\n 'Java',\n 'A',\n 'programming',\n 'language',\n 'A',\n 'modern',\n 'CSS',\n 'framework',\n 'for',\n 'faster',\n 'and',\n 'better',\n 'responsive',\n 'web',\n 'pages',\n 'Color',\n 'Picker',\n 'Bootstrap',\n 'A',\n 'CSS',\n 'framework',\n 'for',\n 'designing',\n 'better',\n 'web',\n 'pages',\n 'Exercises',\n 'Test',\n 'yourself',\n 'with',\n 'exercises',\n 'Web',\n 'Templates',\n 'How',\n 'To',\n 'Section',\n 'Web',\n 'Certificates',\n 'The',\n 'language',\n 'for',\n 'building',\n 'web',\n 'pages',\n 'The',\n 'language',\n 'for',\n 'styling',\n 'web',\n 'pages',\n 'The',\n 'language',\n 'for',\n 'styling',\n 'web',\n 'pages',\n 'The',\n 'language',\n 'for',\n 'programming',\n 'web',\n 'pages',\n 'A',\n 'language',\n 'for',\n 'accessing',\n 'databases',\n 'A',\n 'language',\n 'for',\n 'accessing',\n 'databases',\n 'HTML',\n 'and',\n 'CSS',\n 'JavaScript',\n 'Server',\n 'Side',\n 'Programming',\n 'Web',\n 'Building',\n 'XML',\n 'Tutorials',\n 'References',\n 'Exercises',\n 'HTML',\n 'and',\n 'CSS',\n 'XML',\n 'Tutorials',\n 'JavaScript',\n 'Programming',\n 'Server',\n 'Side',\n 'Web',\n 'Building',\n 'XML',\n 'Tutorials',\n 'HTML',\n 'CSS',\n 'JavaScript',\n 'Programming',\n 'Server',\n 'Side',\n 'XML',\n 'Character',\n 'Sets',\n 'HTML',\n 'and',\n 'CSS',\n 'Quizzes',\n 'JavaScript',\n 'Programming',\n 'Server',\n 'Side',\n 'XML',\n 'Quizzes',\n 'Exercises',\n 'Quizzes',\n 'Certificates',\n 'HTML',\n 'CSS',\n 'CSS',\n 'JavaScript',\n 'SQL',\n 'SQL',\n 'Python',\n 'A',\n 'programming',\n 'language',\n 'PHP',\n 'A',\n 'web',\n 'server',\n 'programming',\n 'language',\n 'jQuery',\n 'A',\n 'JavaScript',\n 'library',\n 'for',\n 'developing',\n 'web',\n 'pages',\n 'Java',\n 'A',\n 'programming',\n 'language',\n 'A',\n 'modern',\n 'CSS',\n 'framework',\n 'for',\n 'faster',\n 'and',\n 'better',\n 'responsive',\n 'web',\n 'pages',\n 'Color',\n 'Picker',\n 'Bootstrap',\n 'A',\n 'CSS',\n 'framework',\n 'for',\n 'designing',\n 'better',\n 'web',\n 'pages',\n 'Exercises',\n 'Test',\n 'yourself',\n 'with',\n 'exercises',\n 'Web',\n 'Templates',\n 'How',\n 'To',\n 'Section',\n 'Web',\n 'Certificates',\n 'HTML',\n 'and',\n 'CSS',\n 'XML',\n 'JavaScript',\n 'Programming',\n 'Server',\n 'Side',\n 'Web',\n 'Building',\n 'XML',\n 'HTML',\n 'CSS',\n 'JavaScript',\n 'Programming',\n 'Server',\n 'Side',\n 'XML',\n 'Character',\n 'Sets',\n 'Exercises',\n 'Quizzes',\n 'Certificates',\n 'Examples',\n 'in',\n 'Every',\n 'Chapter',\n 'Example',\n 'HTML',\n 'Examples',\n 'HTML',\n 'Exercises',\n 'Test',\n 'Yourself',\n 'With',\n 'Exercises',\n 'HTML',\n 'Quiz',\n 'Test',\n 'HTML',\n 'References',\n 'Exercises',\n 'SHARE',\n 'Top',\n 'Tutorials',\n 'Top',\n 'References',\n 'Top',\n 'Examples',\n 'Web',\n 'Certificates',\n 'HTML',\n 'and',\n 'CSS',\n 'XML',\n 'JavaScript',\n 'Programming',\n 'Server',\n 'Side',\n 'Web',\n 'Building',\n 'XML',\n 'HTML',\n 'CSS',\n 'JavaScript',\n 'Programming',\n 'Server',\n 'Side',\n 'XML',\n 'Character',\n 'Sets',\n 'Exercises',\n 'Quizzes',\n 'Certificates',\n 'Examples',\n 'in',\n 'Each',\n 'Chapter',\n 'CSS',\n 'Example',\n 'CSS',\n 'Examples',\n 'CSS',\n 'Templates',\n 'CSS',\n 'Exercises',\n 'and',\n 'Quiz',\n 'Test',\n 'CSS',\n 'References',\n 'Exercises',\n 'SHARE',\n 'Top',\n 'Tutorials',\n 'Top',\n 'References',\n 'Top',\n 'Examples',\n 'Web',\n 'Certificates']"
     },
     "execution_count": 284,
     "metadata": {},
     "output_type": "execute_result"
    }
   ],
   "source": [
    "tokenized_f2 = word_tokenize(text_found); tokenized_f2"
   ]
  },
  {
   "cell_type": "code",
   "execution_count": 285,
   "metadata": {},
   "outputs": [],
   "source": [
    "def rem_st(x):\n",
    "    return [p for p in x if p not in stop_words]"
   ]
  },
  {
   "cell_type": "code",
   "execution_count": 286,
   "metadata": {},
   "outputs": [
    {
     "data": {
      "text/plain": "['The',\n 'language',\n 'building',\n 'web',\n 'pages',\n 'The',\n 'language',\n 'styling',\n 'web',\n 'pages',\n 'The',\n 'language',\n 'styling',\n 'web',\n 'pages',\n 'The',\n 'language',\n 'programming',\n 'web',\n 'pages',\n 'A',\n 'language',\n 'accessing',\n 'databases',\n 'A',\n 'language',\n 'accessing',\n 'databases',\n 'HTML',\n 'CSS',\n 'JavaScript',\n 'Server',\n 'Side',\n 'Programming',\n 'Web',\n 'Building',\n 'XML',\n 'Tutorials',\n 'References',\n 'Exercises',\n 'HTML',\n 'CSS',\n 'XML',\n 'Tutorials',\n 'JavaScript',\n 'Programming',\n 'Server',\n 'Side',\n 'Web',\n 'Building',\n 'XML',\n 'Tutorials',\n 'HTML',\n 'CSS',\n 'JavaScript',\n 'Programming',\n 'Server',\n 'Side',\n 'XML',\n 'Character',\n 'Sets',\n 'HTML',\n 'CSS',\n 'Quizzes',\n 'JavaScript',\n 'Programming',\n 'Server',\n 'Side',\n 'XML',\n 'Quizzes',\n 'Exercises',\n 'Quizzes',\n 'Certificates',\n 'HTML',\n 'CSS',\n 'CSS',\n 'JavaScript',\n 'SQL',\n 'SQL',\n 'Python',\n 'A',\n 'programming',\n 'language',\n 'PHP',\n 'A',\n 'web',\n 'server',\n 'programming',\n 'language',\n 'jQuery',\n 'A',\n 'JavaScript',\n 'library',\n 'developing',\n 'web',\n 'pages',\n 'Java',\n 'A',\n 'programming',\n 'language',\n 'A',\n 'modern',\n 'CSS',\n 'framework',\n 'faster',\n 'better',\n 'responsive',\n 'web',\n 'pages',\n 'Color',\n 'Picker',\n 'Bootstrap',\n 'A',\n 'CSS',\n 'framework',\n 'designing',\n 'better',\n 'web',\n 'pages',\n 'Exercises',\n 'Test',\n 'exercises',\n 'Web',\n 'Templates',\n 'How',\n 'To',\n 'Section',\n 'Web',\n 'Certificates',\n 'The',\n 'language',\n 'building',\n 'web',\n 'pages',\n 'The',\n 'language',\n 'styling',\n 'web',\n 'pages',\n 'The',\n 'language',\n 'styling',\n 'web',\n 'pages',\n 'The',\n 'language',\n 'programming',\n 'web',\n 'pages',\n 'A',\n 'language',\n 'accessing',\n 'databases',\n 'A',\n 'language',\n 'accessing',\n 'databases',\n 'HTML',\n 'CSS',\n 'JavaScript',\n 'Server',\n 'Side',\n 'Programming',\n 'Web',\n 'Building',\n 'XML',\n 'Tutorials',\n 'References',\n 'Exercises',\n 'HTML',\n 'CSS',\n 'XML',\n 'Tutorials',\n 'JavaScript',\n 'Programming',\n 'Server',\n 'Side',\n 'Web',\n 'Building',\n 'XML',\n 'Tutorials',\n 'HTML',\n 'CSS',\n 'JavaScript',\n 'Programming',\n 'Server',\n 'Side',\n 'XML',\n 'Character',\n 'Sets',\n 'HTML',\n 'CSS',\n 'Quizzes',\n 'JavaScript',\n 'Programming',\n 'Server',\n 'Side',\n 'XML',\n 'Quizzes',\n 'Exercises',\n 'Quizzes',\n 'Certificates',\n 'HTML',\n 'CSS',\n 'CSS',\n 'JavaScript',\n 'SQL',\n 'SQL',\n 'Python',\n 'A',\n 'programming',\n 'language',\n 'PHP',\n 'A',\n 'web',\n 'server',\n 'programming',\n 'language',\n 'jQuery',\n 'A',\n 'JavaScript',\n 'library',\n 'developing',\n 'web',\n 'pages',\n 'Java',\n 'A',\n 'programming',\n 'language',\n 'A',\n 'modern',\n 'CSS',\n 'framework',\n 'faster',\n 'better',\n 'responsive',\n 'web',\n 'pages',\n 'Color',\n 'Picker',\n 'Bootstrap',\n 'A',\n 'CSS',\n 'framework',\n 'designing',\n 'better',\n 'web',\n 'pages',\n 'Exercises',\n 'Test',\n 'exercises',\n 'Web',\n 'Templates',\n 'How',\n 'To',\n 'Section',\n 'Web',\n 'Certificates',\n 'HTML',\n 'CSS',\n 'XML',\n 'JavaScript',\n 'Programming',\n 'Server',\n 'Side',\n 'Web',\n 'Building',\n 'XML',\n 'HTML',\n 'CSS',\n 'JavaScript',\n 'Programming',\n 'Server',\n 'Side',\n 'XML',\n 'Character',\n 'Sets',\n 'Exercises',\n 'Quizzes',\n 'Certificates',\n 'Examples',\n 'Every',\n 'Chapter',\n 'Example',\n 'HTML',\n 'Examples',\n 'HTML',\n 'Exercises',\n 'Test',\n 'Yourself',\n 'With',\n 'Exercises',\n 'HTML',\n 'Quiz',\n 'Test',\n 'HTML',\n 'References',\n 'Exercises',\n 'SHARE',\n 'Top',\n 'Tutorials',\n 'Top',\n 'References',\n 'Top',\n 'Examples',\n 'Web',\n 'Certificates',\n 'HTML',\n 'CSS',\n 'XML',\n 'JavaScript',\n 'Programming',\n 'Server',\n 'Side',\n 'Web',\n 'Building',\n 'XML',\n 'HTML',\n 'CSS',\n 'JavaScript',\n 'Programming',\n 'Server',\n 'Side',\n 'XML',\n 'Character',\n 'Sets',\n 'Exercises',\n 'Quizzes',\n 'Certificates',\n 'Examples',\n 'Each',\n 'Chapter',\n 'CSS',\n 'Example',\n 'CSS',\n 'Examples',\n 'CSS',\n 'Templates',\n 'CSS',\n 'Exercises',\n 'Quiz',\n 'Test',\n 'CSS',\n 'References',\n 'Exercises',\n 'SHARE',\n 'Top',\n 'Tutorials',\n 'Top',\n 'References',\n 'Top',\n 'Examples',\n 'Web',\n 'Certificates']"
     },
     "execution_count": 286,
     "metadata": {},
     "output_type": "execute_result"
    }
   ],
   "source": [
    "tokenized_f2_rm = rem_st(tokenized_f2); tokenized_f2_rm"
   ]
  },
  {
   "cell_type": "code",
   "execution_count": 289,
   "metadata": {},
   "outputs": [
    {
     "data": {
      "text/plain": "(389, 354)"
     },
     "execution_count": 289,
     "metadata": {},
     "output_type": "execute_result"
    }
   ],
   "source": [
    "len(tokenized_f2), len(tokenized_f2_rm)"
   ]
  },
  {
   "cell_type": "code",
   "execution_count": 290,
   "metadata": {},
   "outputs": [
    {
     "data": {
      "text/plain": "{'The': [0, 36, 71, 106, 964, 1000, 1035, 1070],\n 'language': [4,\n  40,\n  75,\n  110,\n  147,\n  182,\n  615,\n  653,\n  734,\n  968,\n  1004,\n  1039,\n  1074,\n  1111,\n  1146,\n  1579,\n  1617,\n  1698],\n 'building': [17, 981],\n 'web': [26,\n  61,\n  96,\n  135,\n  630,\n  705,\n  799,\n  869,\n  990,\n  1025,\n  1060,\n  1099,\n  1594,\n  1669,\n  1763,\n  1833],\n 'pages': [30,\n  65,\n  100,\n  139,\n  709,\n  803,\n  873,\n  994,\n  1029,\n  1064,\n  1103,\n  1673,\n  1767,\n  1837],\n 'styling': [53, 88, 1017, 1052],\n 'programming': [123, 603, 641, 722, 1087, 1567, 1605, 1686],\n 'A': [145,\n  180,\n  601,\n  628,\n  669,\n  720,\n  743,\n  832,\n  1109,\n  1144,\n  1565,\n  1592,\n  1633,\n  1684,\n  1707,\n  1796,\n  2226,\n  2571],\n 'accessing': [160, 195, 1124, 1159],\n 'databases': [170, 205, 1134, 1169],\n 'HTML': [215,\n  311,\n  400,\n  463,\n  562,\n  1179,\n  1275,\n  1364,\n  1427,\n  1526,\n  1928,\n  1997,\n  2125,\n  2139,\n  2183,\n  2198,\n  2289,\n  2358],\n 'CSS': [224,\n  320,\n  405,\n  472,\n  567,\n  571,\n  752,\n  834,\n  1188,\n  1284,\n  1369,\n  1436,\n  1531,\n  1535,\n  1716,\n  1798,\n  1937,\n  2002,\n  2298,\n  2363,\n  2477,\n  2489,\n  2502,\n  2516,\n  2544],\n 'JavaScript': [228,\n  338,\n  409,\n  484,\n  575,\n  671,\n  1192,\n  1302,\n  1373,\n  1448,\n  1539,\n  1635,\n  1945,\n  2006,\n  2306,\n  2367],\n 'Server': [239,\n  361,\n  432,\n  507,\n  1203,\n  1325,\n  1396,\n  1471,\n  1968,\n  2029,\n  2329,\n  2390],\n 'Side': [246, 368, 439, 514, 1210, 1332, 1403, 1478, 1975, 2036, 2336, 2397],\n 'Programming': [251,\n  349,\n  420,\n  495,\n  1215,\n  1313,\n  1384,\n  1459,\n  1956,\n  2017,\n  2317,\n  2378],\n 'Web': [263, 373, 918, 947, 1227, 1337, 1882, 1911, 1980, 2272, 2341, 2617],\n 'Building': [267, 377, 1231, 1341, 1984, 2345],\n 'XML': [276,\n  324,\n  386,\n  444,\n  519,\n  1240,\n  1288,\n  1350,\n  1408,\n  1483,\n  1941,\n  1993,\n  2041,\n  2302,\n  2354,\n  2402],\n 'Tutorials': [280, 328, 390, 1244, 1292, 1354, 2234, 2579],\n 'References': [290, 1254, 2203, 2248, 2548, 2593],\n 'Exercises': [301,\n  531,\n  879,\n  1265,\n  1495,\n  1843,\n  2060,\n  2144,\n  2173,\n  2214,\n  2421,\n  2520,\n  2559],\n 'Character': [448, 1412, 2045, 2406],\n 'Sets': [458, 1422, 2055, 2416],\n 'Quizzes': [476, 523, 541, 1440, 1487, 1505, 2070, 2431],\n 'Certificates': [549, 951, 1513, 1915, 2078, 2276, 2439, 2621],\n 'SQL': [586, 590, 1550, 1554],\n 'Python': [594, 1558],\n 'PHP': [624, 1588],\n 'server': [634, 1598],\n 'jQuery': [662, 1626],\n 'library': [682, 1646],\n 'developing': [694, 1658],\n 'Java': [228,\n  338,\n  409,\n  484,\n  575,\n  671,\n  715,\n  1192,\n  1302,\n  1373,\n  1448,\n  1539,\n  1635,\n  1679,\n  1945,\n  2006,\n  2306,\n  2367],\n 'modern': [745, 1709],\n 'framework': [756, 838, 1720, 1802],\n 'faster': [770, 1734],\n 'better': [781, 862, 1745, 1826],\n 'responsive': [788, 1752],\n 'Color': [809, 1773],\n 'Picker': [815, 1779],\n 'Bootstrap': [822, 1786],\n 'designing': [852, 1816],\n 'Test': [889, 1853, 2154, 2193, 2539],\n 'exercises': [908, 1872],\n 'Templates': [922, 1886, 2506],\n 'How': [932, 1896],\n 'To': [936, 1900, 2230, 2244, 2259, 2575, 2589, 2604],\n 'Section': [939, 1903],\n 'Examples': [2091, 2130, 2263, 2452, 2493, 2608],\n 'Every': [2103],\n 'Chapter': [2109, 2469],\n 'Example': [2091, 2117, 2130, 2263, 2452, 2481, 2493, 2608],\n 'Yourself': [2159],\n 'With': [2168],\n 'Quiz': [476, 523, 541, 1440, 1487, 1505, 2070, 2188, 2431, 2534],\n 'SHARE': [2224, 2569],\n 'Top': [2230, 2244, 2259, 2575, 2589, 2604],\n 'Each': [2464]}"
     },
     "execution_count": 290,
     "metadata": {},
     "output_type": "execute_result"
    }
   ],
   "source": [
    "d_doc1 = {}\n",
    "import re\n",
    "for a in tokenized_f2_rm:\n",
    "    d_doc1[a] = [i.start() for i in re.finditer(a, text_found)]\n",
    "d_doc1"
   ]
  },
  {
   "cell_type": "markdown",
   "execution_count": null,
   "metadata": {},
   "outputs": [],
   "source": [
    "## Creating DF"
   ]
  },
  {
   "cell_type": "code",
   "execution_count": 292,
   "metadata": {},
   "outputs": [],
   "source": [
    "import pandas as pd\n",
    "import numpy as np"
   ]
  },
  {
   "cell_type": "code",
   "execution_count": 293,
   "metadata": {},
   "outputs": [
    {
     "data": {
      "text/html": "<div>\n<style scoped>\n    .dataframe tbody tr th:only-of-type {\n        vertical-align: middle;\n    }\n\n    .dataframe tbody tr th {\n        vertical-align: top;\n    }\n\n    .dataframe thead th {\n        text-align: right;\n    }\n</style>\n<table border=\"1\" class=\"dataframe\">\n  <thead>\n    <tr style=\"text-align: right;\">\n      <th></th>\n      <th>term</th>\n      <th>D1</th>\n    </tr>\n  </thead>\n  <tbody>\n  </tbody>\n</table>\n</div>",
      "text/plain": "Empty DataFrame\nColumns: [term, D1]\nIndex: []"
     },
     "execution_count": 293,
     "metadata": {},
     "output_type": "execute_result"
    }
   ],
   "source": [
    "df = pd.DataFrame(columns= ['term','D1']\n",
    ");df"
   ]
  },
  {
   "cell_type": "code",
   "execution_count": 298,
   "metadata": {},
   "outputs": [
    {
     "data": {
      "text/html": "<div>\n<style scoped>\n    .dataframe tbody tr th:only-of-type {\n        vertical-align: middle;\n    }\n\n    .dataframe tbody tr th {\n        vertical-align: top;\n    }\n\n    .dataframe thead th {\n        text-align: right;\n    }\n</style>\n<table border=\"1\" class=\"dataframe\">\n  <thead>\n    <tr style=\"text-align: right;\">\n      <th></th>\n      <th>term</th>\n      <th>D1</th>\n    </tr>\n  </thead>\n  <tbody>\n    <tr>\n      <th>0</th>\n      <td>building</td>\n      <td>NaN</td>\n    </tr>\n    <tr>\n      <th>1</th>\n      <td>The</td>\n      <td>NaN</td>\n    </tr>\n    <tr>\n      <th>2</th>\n      <td>accessing</td>\n      <td>NaN</td>\n    </tr>\n    <tr>\n      <th>3</th>\n      <td>Sets</td>\n      <td>NaN</td>\n    </tr>\n    <tr>\n      <th>4</th>\n      <td>web</td>\n      <td>NaN</td>\n    </tr>\n    <tr>\n      <th>5</th>\n      <td>CSS</td>\n      <td>NaN</td>\n    </tr>\n    <tr>\n      <th>6</th>\n      <td>server</td>\n      <td>NaN</td>\n    </tr>\n    <tr>\n      <th>7</th>\n      <td>jQuery</td>\n      <td>NaN</td>\n    </tr>\n    <tr>\n      <th>8</th>\n      <td>Tutorials</td>\n      <td>NaN</td>\n    </tr>\n    <tr>\n      <th>9</th>\n      <td>Building</td>\n      <td>NaN</td>\n    </tr>\n    <tr>\n      <th>10</th>\n      <td>SQL</td>\n      <td>NaN</td>\n    </tr>\n    <tr>\n      <th>11</th>\n      <td>framework</td>\n      <td>NaN</td>\n    </tr>\n    <tr>\n      <th>12</th>\n      <td>designing</td>\n      <td>NaN</td>\n    </tr>\n    <tr>\n      <th>13</th>\n      <td>Templates</td>\n      <td>NaN</td>\n    </tr>\n    <tr>\n      <th>14</th>\n      <td>Examples</td>\n      <td>NaN</td>\n    </tr>\n    <tr>\n      <th>15</th>\n      <td>Character</td>\n      <td>NaN</td>\n    </tr>\n    <tr>\n      <th>16</th>\n      <td>modern</td>\n      <td>NaN</td>\n    </tr>\n    <tr>\n      <th>17</th>\n      <td>JavaScript</td>\n      <td>NaN</td>\n    </tr>\n    <tr>\n      <th>18</th>\n      <td>To</td>\n      <td>NaN</td>\n    </tr>\n    <tr>\n      <th>19</th>\n      <td>Yourself</td>\n      <td>NaN</td>\n    </tr>\n    <tr>\n      <th>20</th>\n      <td>Top</td>\n      <td>NaN</td>\n    </tr>\n    <tr>\n      <th>21</th>\n      <td>Exercises</td>\n      <td>NaN</td>\n    </tr>\n    <tr>\n      <th>22</th>\n      <td>Server</td>\n      <td>NaN</td>\n    </tr>\n    <tr>\n      <th>23</th>\n      <td>Web</td>\n      <td>NaN</td>\n    </tr>\n    <tr>\n      <th>24</th>\n      <td>Color</td>\n      <td>NaN</td>\n    </tr>\n    <tr>\n      <th>25</th>\n      <td>Picker</td>\n      <td>NaN</td>\n    </tr>\n    <tr>\n      <th>26</th>\n      <td>exercises</td>\n      <td>NaN</td>\n    </tr>\n    <tr>\n      <th>27</th>\n      <td>styling</td>\n      <td>NaN</td>\n    </tr>\n    <tr>\n      <th>28</th>\n      <td>Bootstrap</td>\n      <td>NaN</td>\n    </tr>\n    <tr>\n      <th>29</th>\n      <td>Chapter</td>\n      <td>NaN</td>\n    </tr>\n    <tr>\n      <th>30</th>\n      <td>PHP</td>\n      <td>NaN</td>\n    </tr>\n    <tr>\n      <th>31</th>\n      <td>Test</td>\n      <td>NaN</td>\n    </tr>\n    <tr>\n      <th>32</th>\n      <td>faster</td>\n      <td>NaN</td>\n    </tr>\n    <tr>\n      <th>33</th>\n      <td>databases</td>\n      <td>NaN</td>\n    </tr>\n    <tr>\n      <th>34</th>\n      <td>Java</td>\n      <td>NaN</td>\n    </tr>\n    <tr>\n      <th>35</th>\n      <td>language</td>\n      <td>NaN</td>\n    </tr>\n    <tr>\n      <th>36</th>\n      <td>References</td>\n      <td>NaN</td>\n    </tr>\n    <tr>\n      <th>37</th>\n      <td>Example</td>\n      <td>NaN</td>\n    </tr>\n    <tr>\n      <th>38</th>\n      <td>Certificates</td>\n      <td>NaN</td>\n    </tr>\n    <tr>\n      <th>39</th>\n      <td>responsive</td>\n      <td>NaN</td>\n    </tr>\n    <tr>\n      <th>40</th>\n      <td>pages</td>\n      <td>NaN</td>\n    </tr>\n    <tr>\n      <th>41</th>\n      <td>better</td>\n      <td>NaN</td>\n    </tr>\n    <tr>\n      <th>42</th>\n      <td>Every</td>\n      <td>NaN</td>\n    </tr>\n    <tr>\n      <th>43</th>\n      <td>HTML</td>\n      <td>NaN</td>\n    </tr>\n    <tr>\n      <th>44</th>\n      <td>Each</td>\n      <td>NaN</td>\n    </tr>\n    <tr>\n      <th>45</th>\n      <td>Side</td>\n      <td>NaN</td>\n    </tr>\n    <tr>\n      <th>46</th>\n      <td>A</td>\n      <td>NaN</td>\n    </tr>\n    <tr>\n      <th>47</th>\n      <td>With</td>\n      <td>NaN</td>\n    </tr>\n    <tr>\n      <th>48</th>\n      <td>Section</td>\n      <td>NaN</td>\n    </tr>\n    <tr>\n      <th>49</th>\n      <td>Programming</td>\n      <td>NaN</td>\n    </tr>\n    <tr>\n      <th>50</th>\n      <td>SHARE</td>\n      <td>NaN</td>\n    </tr>\n    <tr>\n      <th>51</th>\n      <td>How</td>\n      <td>NaN</td>\n    </tr>\n    <tr>\n      <th>52</th>\n      <td>developing</td>\n      <td>NaN</td>\n    </tr>\n    <tr>\n      <th>53</th>\n      <td>Python</td>\n      <td>NaN</td>\n    </tr>\n    <tr>\n      <th>54</th>\n      <td>Quiz</td>\n      <td>NaN</td>\n    </tr>\n    <tr>\n      <th>55</th>\n      <td>XML</td>\n      <td>NaN</td>\n    </tr>\n    <tr>\n      <th>56</th>\n      <td>programming</td>\n      <td>NaN</td>\n    </tr>\n    <tr>\n      <th>57</th>\n      <td>Quizzes</td>\n      <td>NaN</td>\n    </tr>\n    <tr>\n      <th>58</th>\n      <td>library</td>\n      <td>NaN</td>\n    </tr>\n  </tbody>\n</table>\n</div>",
      "text/plain": "            term   D1\n0       building  NaN\n1            The  NaN\n2      accessing  NaN\n3           Sets  NaN\n4            web  NaN\n5            CSS  NaN\n6         server  NaN\n7         jQuery  NaN\n8      Tutorials  NaN\n9       Building  NaN\n10           SQL  NaN\n11     framework  NaN\n12     designing  NaN\n13     Templates  NaN\n14      Examples  NaN\n15     Character  NaN\n16        modern  NaN\n17    JavaScript  NaN\n18            To  NaN\n19      Yourself  NaN\n20           Top  NaN\n21     Exercises  NaN\n22        Server  NaN\n23           Web  NaN\n24         Color  NaN\n25        Picker  NaN\n26     exercises  NaN\n27       styling  NaN\n28     Bootstrap  NaN\n29       Chapter  NaN\n30           PHP  NaN\n31          Test  NaN\n32        faster  NaN\n33     databases  NaN\n34          Java  NaN\n35      language  NaN\n36    References  NaN\n37       Example  NaN\n38  Certificates  NaN\n39    responsive  NaN\n40         pages  NaN\n41        better  NaN\n42         Every  NaN\n43          HTML  NaN\n44          Each  NaN\n45          Side  NaN\n46             A  NaN\n47          With  NaN\n48       Section  NaN\n49   Programming  NaN\n50         SHARE  NaN\n51           How  NaN\n52    developing  NaN\n53        Python  NaN\n54          Quiz  NaN\n55           XML  NaN\n56   programming  NaN\n57       Quizzes  NaN\n58       library  NaN"
     },
     "execution_count": 298,
     "metadata": {},
     "output_type": "execute_result"
    }
   ],
   "source": [
    "df['term'] = list(set(list(d_doc1.keys())));df"
   ]
  },
  {
   "cell_type": "code",
   "execution_count": 299,
   "metadata": {},
   "outputs": [],
   "source": [
    "for a in d_doc1:\n",
    "    df.loc[df['term']==a,'D1'] = str(d_doc1[a])"
   ]
  },
  {
   "cell_type": "code",
   "execution_count": 300,
   "metadata": {},
   "outputs": [
    {
     "data": {
      "text/html": "<div>\n<style scoped>\n    .dataframe tbody tr th:only-of-type {\n        vertical-align: middle;\n    }\n\n    .dataframe tbody tr th {\n        vertical-align: top;\n    }\n\n    .dataframe thead th {\n        text-align: right;\n    }\n</style>\n<table border=\"1\" class=\"dataframe\">\n  <thead>\n    <tr style=\"text-align: right;\">\n      <th></th>\n      <th>term</th>\n      <th>D1</th>\n    </tr>\n  </thead>\n  <tbody>\n    <tr>\n      <th>0</th>\n      <td>building</td>\n      <td>[17, 981]</td>\n    </tr>\n    <tr>\n      <th>1</th>\n      <td>The</td>\n      <td>[0, 36, 71, 106, 964, 1000, 1035, 1070]</td>\n    </tr>\n    <tr>\n      <th>2</th>\n      <td>accessing</td>\n      <td>[160, 195, 1124, 1159]</td>\n    </tr>\n    <tr>\n      <th>3</th>\n      <td>Sets</td>\n      <td>[458, 1422, 2055, 2416]</td>\n    </tr>\n    <tr>\n      <th>4</th>\n      <td>web</td>\n      <td>[26, 61, 96, 135, 630, 705, 799, 869, 990, 102...</td>\n    </tr>\n    <tr>\n      <th>5</th>\n      <td>CSS</td>\n      <td>[224, 320, 405, 472, 567, 571, 752, 834, 1188,...</td>\n    </tr>\n    <tr>\n      <th>6</th>\n      <td>server</td>\n      <td>[634, 1598]</td>\n    </tr>\n    <tr>\n      <th>7</th>\n      <td>jQuery</td>\n      <td>[662, 1626]</td>\n    </tr>\n    <tr>\n      <th>8</th>\n      <td>Tutorials</td>\n      <td>[280, 328, 390, 1244, 1292, 1354, 2234, 2579]</td>\n    </tr>\n    <tr>\n      <th>9</th>\n      <td>Building</td>\n      <td>[267, 377, 1231, 1341, 1984, 2345]</td>\n    </tr>\n    <tr>\n      <th>10</th>\n      <td>SQL</td>\n      <td>[586, 590, 1550, 1554]</td>\n    </tr>\n    <tr>\n      <th>11</th>\n      <td>framework</td>\n      <td>[756, 838, 1720, 1802]</td>\n    </tr>\n    <tr>\n      <th>12</th>\n      <td>designing</td>\n      <td>[852, 1816]</td>\n    </tr>\n    <tr>\n      <th>13</th>\n      <td>Templates</td>\n      <td>[922, 1886, 2506]</td>\n    </tr>\n    <tr>\n      <th>14</th>\n      <td>Examples</td>\n      <td>[2091, 2130, 2263, 2452, 2493, 2608]</td>\n    </tr>\n    <tr>\n      <th>15</th>\n      <td>Character</td>\n      <td>[448, 1412, 2045, 2406]</td>\n    </tr>\n    <tr>\n      <th>16</th>\n      <td>modern</td>\n      <td>[745, 1709]</td>\n    </tr>\n    <tr>\n      <th>17</th>\n      <td>JavaScript</td>\n      <td>[228, 338, 409, 484, 575, 671, 1192, 1302, 137...</td>\n    </tr>\n    <tr>\n      <th>18</th>\n      <td>To</td>\n      <td>[936, 1900, 2230, 2244, 2259, 2575, 2589, 2604]</td>\n    </tr>\n    <tr>\n      <th>19</th>\n      <td>Yourself</td>\n      <td>[2159]</td>\n    </tr>\n    <tr>\n      <th>20</th>\n      <td>Top</td>\n      <td>[2230, 2244, 2259, 2575, 2589, 2604]</td>\n    </tr>\n    <tr>\n      <th>21</th>\n      <td>Exercises</td>\n      <td>[301, 531, 879, 1265, 1495, 1843, 2060, 2144, ...</td>\n    </tr>\n    <tr>\n      <th>22</th>\n      <td>Server</td>\n      <td>[239, 361, 432, 507, 1203, 1325, 1396, 1471, 1...</td>\n    </tr>\n    <tr>\n      <th>23</th>\n      <td>Web</td>\n      <td>[263, 373, 918, 947, 1227, 1337, 1882, 1911, 1...</td>\n    </tr>\n    <tr>\n      <th>24</th>\n      <td>Color</td>\n      <td>[809, 1773]</td>\n    </tr>\n    <tr>\n      <th>25</th>\n      <td>Picker</td>\n      <td>[815, 1779]</td>\n    </tr>\n    <tr>\n      <th>26</th>\n      <td>exercises</td>\n      <td>[908, 1872]</td>\n    </tr>\n    <tr>\n      <th>27</th>\n      <td>styling</td>\n      <td>[53, 88, 1017, 1052]</td>\n    </tr>\n    <tr>\n      <th>28</th>\n      <td>Bootstrap</td>\n      <td>[822, 1786]</td>\n    </tr>\n    <tr>\n      <th>29</th>\n      <td>Chapter</td>\n      <td>[2109, 2469]</td>\n    </tr>\n    <tr>\n      <th>30</th>\n      <td>PHP</td>\n      <td>[624, 1588]</td>\n    </tr>\n    <tr>\n      <th>31</th>\n      <td>Test</td>\n      <td>[889, 1853, 2154, 2193, 2539]</td>\n    </tr>\n    <tr>\n      <th>32</th>\n      <td>faster</td>\n      <td>[770, 1734]</td>\n    </tr>\n    <tr>\n      <th>33</th>\n      <td>databases</td>\n      <td>[170, 205, 1134, 1169]</td>\n    </tr>\n    <tr>\n      <th>34</th>\n      <td>Java</td>\n      <td>[228, 338, 409, 484, 575, 671, 715, 1192, 1302...</td>\n    </tr>\n    <tr>\n      <th>35</th>\n      <td>language</td>\n      <td>[4, 40, 75, 110, 147, 182, 615, 653, 734, 968,...</td>\n    </tr>\n    <tr>\n      <th>36</th>\n      <td>References</td>\n      <td>[290, 1254, 2203, 2248, 2548, 2593]</td>\n    </tr>\n    <tr>\n      <th>37</th>\n      <td>Example</td>\n      <td>[2091, 2117, 2130, 2263, 2452, 2481, 2493, 2608]</td>\n    </tr>\n    <tr>\n      <th>38</th>\n      <td>Certificates</td>\n      <td>[549, 951, 1513, 1915, 2078, 2276, 2439, 2621]</td>\n    </tr>\n    <tr>\n      <th>39</th>\n      <td>responsive</td>\n      <td>[788, 1752]</td>\n    </tr>\n    <tr>\n      <th>40</th>\n      <td>pages</td>\n      <td>[30, 65, 100, 139, 709, 803, 873, 994, 1029, 1...</td>\n    </tr>\n    <tr>\n      <th>41</th>\n      <td>better</td>\n      <td>[781, 862, 1745, 1826]</td>\n    </tr>\n    <tr>\n      <th>42</th>\n      <td>Every</td>\n      <td>[2103]</td>\n    </tr>\n    <tr>\n      <th>43</th>\n      <td>HTML</td>\n      <td>[215, 311, 400, 463, 562, 1179, 1275, 1364, 14...</td>\n    </tr>\n    <tr>\n      <th>44</th>\n      <td>Each</td>\n      <td>[2464]</td>\n    </tr>\n    <tr>\n      <th>45</th>\n      <td>Side</td>\n      <td>[246, 368, 439, 514, 1210, 1332, 1403, 1478, 1...</td>\n    </tr>\n    <tr>\n      <th>46</th>\n      <td>A</td>\n      <td>[145, 180, 601, 628, 669, 720, 743, 832, 1109,...</td>\n    </tr>\n    <tr>\n      <th>47</th>\n      <td>With</td>\n      <td>[2168]</td>\n    </tr>\n    <tr>\n      <th>48</th>\n      <td>Section</td>\n      <td>[939, 1903]</td>\n    </tr>\n    <tr>\n      <th>49</th>\n      <td>Programming</td>\n      <td>[251, 349, 420, 495, 1215, 1313, 1384, 1459, 1...</td>\n    </tr>\n    <tr>\n      <th>50</th>\n      <td>SHARE</td>\n      <td>[2224, 2569]</td>\n    </tr>\n    <tr>\n      <th>51</th>\n      <td>How</td>\n      <td>[932, 1896]</td>\n    </tr>\n    <tr>\n      <th>52</th>\n      <td>developing</td>\n      <td>[694, 1658]</td>\n    </tr>\n    <tr>\n      <th>53</th>\n      <td>Python</td>\n      <td>[594, 1558]</td>\n    </tr>\n    <tr>\n      <th>54</th>\n      <td>Quiz</td>\n      <td>[476, 523, 541, 1440, 1487, 1505, 2070, 2188, ...</td>\n    </tr>\n    <tr>\n      <th>55</th>\n      <td>XML</td>\n      <td>[276, 324, 386, 444, 519, 1240, 1288, 1350, 14...</td>\n    </tr>\n    <tr>\n      <th>56</th>\n      <td>programming</td>\n      <td>[123, 603, 641, 722, 1087, 1567, 1605, 1686]</td>\n    </tr>\n    <tr>\n      <th>57</th>\n      <td>Quizzes</td>\n      <td>[476, 523, 541, 1440, 1487, 1505, 2070, 2431]</td>\n    </tr>\n    <tr>\n      <th>58</th>\n      <td>library</td>\n      <td>[682, 1646]</td>\n    </tr>\n  </tbody>\n</table>\n</div>",
      "text/plain": "            term                                                 D1\n0       building                                          [17, 981]\n1            The            [0, 36, 71, 106, 964, 1000, 1035, 1070]\n2      accessing                             [160, 195, 1124, 1159]\n3           Sets                            [458, 1422, 2055, 2416]\n4            web  [26, 61, 96, 135, 630, 705, 799, 869, 990, 102...\n5            CSS  [224, 320, 405, 472, 567, 571, 752, 834, 1188,...\n6         server                                        [634, 1598]\n7         jQuery                                        [662, 1626]\n8      Tutorials      [280, 328, 390, 1244, 1292, 1354, 2234, 2579]\n9       Building                 [267, 377, 1231, 1341, 1984, 2345]\n10           SQL                             [586, 590, 1550, 1554]\n11     framework                             [756, 838, 1720, 1802]\n12     designing                                        [852, 1816]\n13     Templates                                  [922, 1886, 2506]\n14      Examples               [2091, 2130, 2263, 2452, 2493, 2608]\n15     Character                            [448, 1412, 2045, 2406]\n16        modern                                        [745, 1709]\n17    JavaScript  [228, 338, 409, 484, 575, 671, 1192, 1302, 137...\n18            To    [936, 1900, 2230, 2244, 2259, 2575, 2589, 2604]\n19      Yourself                                             [2159]\n20           Top               [2230, 2244, 2259, 2575, 2589, 2604]\n21     Exercises  [301, 531, 879, 1265, 1495, 1843, 2060, 2144, ...\n22        Server  [239, 361, 432, 507, 1203, 1325, 1396, 1471, 1...\n23           Web  [263, 373, 918, 947, 1227, 1337, 1882, 1911, 1...\n24         Color                                        [809, 1773]\n25        Picker                                        [815, 1779]\n26     exercises                                        [908, 1872]\n27       styling                               [53, 88, 1017, 1052]\n28     Bootstrap                                        [822, 1786]\n29       Chapter                                       [2109, 2469]\n30           PHP                                        [624, 1588]\n31          Test                      [889, 1853, 2154, 2193, 2539]\n32        faster                                        [770, 1734]\n33     databases                             [170, 205, 1134, 1169]\n34          Java  [228, 338, 409, 484, 575, 671, 715, 1192, 1302...\n35      language  [4, 40, 75, 110, 147, 182, 615, 653, 734, 968,...\n36    References                [290, 1254, 2203, 2248, 2548, 2593]\n37       Example   [2091, 2117, 2130, 2263, 2452, 2481, 2493, 2608]\n38  Certificates     [549, 951, 1513, 1915, 2078, 2276, 2439, 2621]\n39    responsive                                        [788, 1752]\n40         pages  [30, 65, 100, 139, 709, 803, 873, 994, 1029, 1...\n41        better                             [781, 862, 1745, 1826]\n42         Every                                             [2103]\n43          HTML  [215, 311, 400, 463, 562, 1179, 1275, 1364, 14...\n44          Each                                             [2464]\n45          Side  [246, 368, 439, 514, 1210, 1332, 1403, 1478, 1...\n46             A  [145, 180, 601, 628, 669, 720, 743, 832, 1109,...\n47          With                                             [2168]\n48       Section                                        [939, 1903]\n49   Programming  [251, 349, 420, 495, 1215, 1313, 1384, 1459, 1...\n50         SHARE                                       [2224, 2569]\n51           How                                        [932, 1896]\n52    developing                                        [694, 1658]\n53        Python                                        [594, 1558]\n54          Quiz  [476, 523, 541, 1440, 1487, 1505, 2070, 2188, ...\n55           XML  [276, 324, 386, 444, 519, 1240, 1288, 1350, 14...\n56   programming       [123, 603, 641, 722, 1087, 1567, 1605, 1686]\n57       Quizzes      [476, 523, 541, 1440, 1487, 1505, 2070, 2431]\n58       library                                        [682, 1646]"
     },
     "execution_count": 300,
     "metadata": {},
     "output_type": "execute_result"
    }
   ],
   "source": [
    "df"
   ]
  },
  {
   "cell_type": "code",
   "execution_count": null,
   "metadata": {},
   "outputs": [],
   "source": []
  },
  {
   "cell_type": "code",
   "execution_count": null,
   "metadata": {},
   "outputs": [],
   "source": []
  },
  {
   "cell_type": "code",
   "execution_count": null,
   "metadata": {},
   "outputs": [],
   "source": []
  },
  {
   "cell_type": "code",
   "execution_count": null,
   "metadata": {},
   "outputs": [],
   "source": []
  },
  {
   "cell_type": "code",
   "execution_count": null,
   "metadata": {},
   "outputs": [],
   "source": []
  }
 ],
 "metadata": {},
 "nbformat": 4,
 "nbformat_minor": 2
}