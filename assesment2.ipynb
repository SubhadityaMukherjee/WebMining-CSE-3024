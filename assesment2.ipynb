{
 "cells": [
  {
   "cell_type": "markdown",
   "metadata": {
    "toc": true
   },
   "source": [
    "<h1>Table of Contents<span class=\"tocSkip\"></span></h1>\n",
    "<div class=\"toc\"><ul class=\"toc-item\"><li><span><a href=\"#Assesment-2\" data-toc-modified-id=\"Assesment-2-1\"><span class=\"toc-item-num\">1&nbsp;&nbsp;</span>Assesment 2</a></span><ul class=\"toc-item\"><li><span><a href=\"#Get-data\" data-toc-modified-id=\"Get-data-1.1\"><span class=\"toc-item-num\">1.1&nbsp;&nbsp;</span>Get data</a></span></li></ul></li><li><span><a href=\"#Question-1\" data-toc-modified-id=\"Question-1-2\"><span class=\"toc-item-num\">2&nbsp;&nbsp;</span>Question 1</a></span></li><li><span><a href=\"#Question-4\" data-toc-modified-id=\"Question-4-3\"><span class=\"toc-item-num\">3&nbsp;&nbsp;</span>Question 4</a></span><ul class=\"toc-item\"><li><span><a href=\"#Inverted-Index\" data-toc-modified-id=\"Inverted-Index-3.1\"><span class=\"toc-item-num\">3.1&nbsp;&nbsp;</span>Inverted Index</a></span></li></ul></li><li><span><a href=\"#Question-2\" data-toc-modified-id=\"Question-2-4\"><span class=\"toc-item-num\">4&nbsp;&nbsp;</span>Question 2</a></span><ul class=\"toc-item\"><li><span><a href=\"#Elias-gamma\" data-toc-modified-id=\"Elias-gamma-4.1\"><span class=\"toc-item-num\">4.1&nbsp;&nbsp;</span>Elias gamma</a></span></li><li><span><a href=\"#Elias-delta\" data-toc-modified-id=\"Elias-delta-4.2\"><span class=\"toc-item-num\">4.2&nbsp;&nbsp;</span>Elias delta</a></span><ul class=\"toc-item\"><li><span><a href=\"#Encoding\" data-toc-modified-id=\"Encoding-4.2.1\"><span class=\"toc-item-num\">4.2.1&nbsp;&nbsp;</span>Encoding</a></span></li><li><span><a href=\"#Decoding\" data-toc-modified-id=\"Decoding-4.2.2\"><span class=\"toc-item-num\">4.2.2&nbsp;&nbsp;</span>Decoding</a></span></li></ul></li><li><span><a href=\"#Golomb-and-Golomb-Rice\" data-toc-modified-id=\"Golomb-and-Golomb-Rice-4.3\"><span class=\"toc-item-num\">4.3&nbsp;&nbsp;</span>Golomb and Golomb Rice</a></span></li></ul></li><li><span><a href=\"#Question-3\" data-toc-modified-id=\"Question-3-5\"><span class=\"toc-item-num\">5&nbsp;&nbsp;</span>Question 3</a></span><ul class=\"toc-item\"><li><span><a href=\"#Trie\" data-toc-modified-id=\"Trie-5.1\"><span class=\"toc-item-num\">5.1&nbsp;&nbsp;</span>Trie</a></span></li><li><span><a href=\"#Predictive\" data-toc-modified-id=\"Predictive-5.2\"><span class=\"toc-item-num\">5.2&nbsp;&nbsp;</span>Predictive</a></span></li><li><span><a href=\"#Auto-Correct\" data-toc-modified-id=\"Auto-Correct-5.3\"><span class=\"toc-item-num\">5.3&nbsp;&nbsp;</span>Auto Correct</a></span></li></ul></li><li><span><a href=\"#Playground\" data-toc-modified-id=\"Playground-6\"><span class=\"toc-item-num\">6&nbsp;&nbsp;</span>Playground</a></span></li></ul></div>"
   ]
  },
  {
   "cell_type": "markdown",
   "metadata": {},
   "source": [
    "# Assesment 2\n",
    "- [x] Write a program to show the implementation of a topical cralwer. Develop the crawler\n",
    "program to handle various challenges (such as Parsing, Stemming, Lemmitization, \n",
    "Link Extraction, Canonicalization, Spider Trap etc.) faced by crawler while \n",
    "implementing. (Concurrent crawler of 3 threads)\n",
    "- 2. Write a program to show the implementation of Elias Delta and Golomb Encoding￾decoding (both for m = 2N\n",
    "and M ≠ 2N\n",
    ") techniques. (x=37, b=11, b=8)\n",
    "- [x] Write a program to extract the contents (excluding any tags) from two websites \n",
    "(https://en.wikipedia.org/wiki/Web_mining&https://en.wikipedia.org/wiki/Data_mining) \n",
    "and save the content in two separate .doc file. Construct a trie based on the content \n",
    "retrieved in Q. No. 3 using HashMap. Write a program to show the implementation of\n",
    "Predictive Typing and Auto-Correct using the trie prepared.\n",
    "- [x] Based on the contents of those two documents retrieved in Q. No. 3, prepare one \n",
    "inverted index (with proper representation) and save it in another text file. "
   ]
  },
  {
   "cell_type": "markdown",
   "metadata": {},
   "source": [
    "## Get data"
   ]
  },
  {
   "cell_type": "code",
   "execution_count": 77,
   "metadata": {
    "ExecuteTime": {
     "end_time": "2020-02-06T11:18:29.331236Z",
     "start_time": "2020-02-06T11:18:29.328127Z"
    },
    "run_control": {
     "marked": false
    }
   },
   "outputs": [],
   "source": [
    "from collections import deque\n",
    "from bs4 import BeautifulSoup\n",
    "import sys\n",
    "import urllib\n",
    "from html.parser import HTMLParser\n",
    "from urllib.request import urlopen\n",
    "from urllib import parse\n",
    "import requests    \n",
    "import re    \n",
    "from urllib.parse import urlparse \n",
    "import re\n",
    "import numpy as np\n",
    "from multiprocessing import Pool\n",
    "import os\n",
    "from multiprocessing import Process"
   ]
  },
  {
   "cell_type": "code",
   "execution_count": 3,
   "metadata": {
    "ExecuteTime": {
     "end_time": "2020-02-03T14:22:17.141869Z",
     "start_time": "2020-02-03T14:22:15.076561Z"
    },
    "run_control": {
     "marked": false
    }
   },
   "outputs": [],
   "source": [
    "url = \"https://en.wikipedia.org/wiki/Web_mining\"\n",
    "\n",
    "urlf = urlopen(url)\n",
    "soup = BeautifulSoup(urlf.read(),\"lxml\")\n",
    "with open(\"datawm.txt\",\"w+\") as f:\n",
    "    for a in soup.find_all('p'):\n",
    "        f.write(a.getText()+\"\\n\")\n",
    "        \n",
    "url2 = \"https://en.wikipedia.org/wiki/Data_mining\"\n",
    "urlf = urlopen(url2)\n",
    "soup = BeautifulSoup(urlf.read(),\"lxml\")\n",
    "with open(\"datadm.txt\",\"w+\") as f:\n",
    "    for a in soup.find_all('p'):\n",
    "        f.write(a.getText()+\"\\n\")\n"
   ]
  },
  {
   "cell_type": "code",
   "execution_count": 22,
   "metadata": {
    "ExecuteTime": {
     "end_time": "2020-02-05T13:38:53.999983Z",
     "start_time": "2020-02-05T13:38:53.997070Z"
    },
    "run_control": {
     "marked": false
    }
   },
   "outputs": [],
   "source": [
    "datadm = open(\"datadm.txt\",\"r\").read()\n",
    "datawm = open(\"datawm.txt\",\"r\").read()"
   ]
  },
  {
   "cell_type": "markdown",
   "metadata": {},
   "source": [
    "# Question 1"
   ]
  },
  {
   "cell_type": "code",
   "execution_count": 98,
   "metadata": {
    "ExecuteTime": {
     "end_time": "2020-02-06T11:24:58.518352Z",
     "start_time": "2020-02-06T11:24:58.508857Z"
    }
   },
   "outputs": [],
   "source": [
    "\n",
    "class topicCrawler():    \n",
    "    def __init__(self, starting_url,depth):    \n",
    "        self.starting_url = starting_url    \n",
    "        self.visited = set()  \n",
    "        self.depth = depth\n",
    "\n",
    "    def get_html(self, url):    \n",
    "        try:    \n",
    "            html = requests.get(url)    \n",
    "        except Exception as e:    \n",
    "            print(e)    \n",
    "            return \"\"    \n",
    "        return html.content.decode('latin-1')    \n",
    "\n",
    "    def get_links(self, url):    \n",
    "        html = self.get_html(url)    \n",
    "        parsed = urlparse(url)    \n",
    "        base = f\"{parsed.scheme}://{parsed.netloc}\"    \n",
    "        links = re.findall('''<a\\s+(?:[^>]*?\\s+)?href=\"([^\"]*)\"''', html)    \n",
    "        for i, link in enumerate(links):    \n",
    "            if not urlparse(link).netloc:    \n",
    "                link_with_base = base + link    \n",
    "                links[i] = link_with_base       \n",
    "\n",
    "        return set(filter(lambda x: 'mailto' not in x, links))    \n",
    "\n",
    "    def extract_info(self, url):                                \n",
    "        html = self.get_html(url)                               \n",
    "        return None\n",
    "\n",
    "    def avoid_traps(self, x):\n",
    "        # Checks for = files, weird URLs, long ones, depth of searching, repeats\n",
    "        flag = 0\n",
    "        files = ['.jpg','.png','.pdf']\n",
    "        if len(x)>100:\n",
    "            flag =1\n",
    "        if any([('?' in x),('%' in x),('#' in x),('&' in x)]):\n",
    "            flag =1\n",
    "        if np.sum([1 for a in files if a in x])>0:\n",
    "            flag=1\n",
    "        x = x.replace('//',\"\")\n",
    "        splii = x.split('/')\n",
    "        if len(splii)>self.depth+1:\n",
    "            flag=1\n",
    "        if len(set(splii))!=len(splii):\n",
    "            flag=1\n",
    "        \n",
    "        \n",
    "        return flag\n",
    "    \n",
    "    def remove_traps(self,x):\n",
    "        temp = []\n",
    "        for a in x:\n",
    "            if self.avoid_traps(a)!=1:\n",
    "                temp.append(a)\n",
    "        return temp\n",
    "\n",
    "    def crawl(self, url):     \n",
    "#         print(os.getppid())\n",
    "        print(threading.current_thread())\n",
    "        self.frontier = self.get_links(url)\n",
    "        \n",
    "        self.cleaned = self.remove_traps(self.frontier)\n",
    "        print('Tot:',len(self.frontier),'Cleaned:',len(self.cleaned))\n",
    "        print(self.cleaned)\n",
    "        \n",
    "        \n",
    "        for link in self.get_links(url):    \n",
    "            if link in self.visited:        \n",
    "                continue                    \n",
    "            print(link)                 \n",
    "            self.visited.add(link)            \n",
    "            info = self.extract_info(link)    \n",
    "            self.crawl(link)                  \n",
    "\n",
    "    def start(self):                     \n",
    "        self.crawl(self.starting_url)    "
   ]
  },
  {
   "cell_type": "code",
   "execution_count": 85,
   "metadata": {
    "ExecuteTime": {
     "end_time": "2020-02-06T11:21:06.418119Z",
     "start_time": "2020-02-06T11:21:06.416149Z"
    }
   },
   "outputs": [],
   "source": [
    "from concurrent.futures import ThreadPoolExecutor\n",
    "import threading"
   ]
  },
  {
   "cell_type": "code",
   "execution_count": 100,
   "metadata": {
    "ExecuteTime": {
     "end_time": "2020-02-06T11:25:19.070101Z",
     "start_time": "2020-02-06T11:25:17.655487Z"
    }
   },
   "outputs": [
    {
     "name": "stdout",
     "output_type": "stream",
     "text": [
      "<_MainThread(MainThread, started 140051483219776)>\n",
      "Tot: 841 Cleaned: 572\n",
      "['https://en.wikipedia.org/wiki/Artificial_intelligence', 'https://en.wikipedia.org/wiki/Review_of_Economic_Studies', 'https://en.wikipedia.org/wiki/Autoencoder', 'https://en.wikipedia.org/wiki/Data_reduction', 'https://en.wikipedia.org/wiki/Multilayer_perceptron', 'https://en.wikipedia.org/wiki/Python_(programming_language)', 'https://en.wikipedia.org/wiki/OCLC', 'https://en.wikipedia.org/wiki/Information_system', 'https://en.wikipedia.org/wiki/Structured_prediction', 'https://en.wikipedia.org/wiki/Knowledge_representation_and_reasoning', 'https://en.wikipedia.org/wiki/Template:Data_warehouses', 'https://en.wikipedia.org/wiki/Software_deployment', 'https://en.wikipedia.org/wiki/Help:Contents', 'https://en.wikipedia.org/wiki/Embedded_system', 'https://en.wikipedia.org/wiki/Data_recovery', 'https://en.wikipedia.org/wiki/Virtual_machine', 'https://en.wikipedia.org/wiki/Computability_theory', 'https://en.wikipedia.org/wiki/Intellectual_property', 'https://en.wikipedia.org/wiki/KDD_Conference', 'https://en.wikipedia.org/wiki/Mathematical_optimization', 'https://en.wikipedia.org/wiki/Machine_Learning_(journal)', 'https://en.wikipedia.org/wiki/Template:Machine_learning_bar', 'https://en.wikipedia.org/wiki/Cryptography', 'https://en.wikipedia.org/wiki/Data_dredging', 'https://en.wikipedia.org/wiki/Association_rule_learning', 'https://en.wikipedia.org/wiki/Statistical_hypothesis_testing', 'https://en.wikipedia.org/wiki/Concurrent_computing', 'https://en.wikipedia.org/wiki/Star_schema', 'https://en.wikipedia.org/wiki/Wikipedia:WikiProject_Computer_science', 'https://en.wikipedia.org/wiki/Curlie', 'https://en.wikipedia.org/wiki/Data_analysis', 'https://en.wikipedia.org/wiki/Drug_discovery', 'https://lv.wikipedia.org/wiki/Datizrace', 'https://en.wikipedia.org/wiki/Information_privacy', 'https://en.wikipedia.org/wiki/Electronic_discovery', 'https://en.wikipedia.org/wiki/Behavior_informatics', 'https://en.wikipedia.org/wiki/Software_configuration_management', 'https://en.wikipedia.org/wiki/Dimension_(data_warehouse)', 'https://en.wikipedia.org/wiki/Special:Random', 'https://en.wikipedia.org/wiki/AAAI', 'https://en.wikipedia.org/wiki/Green_computing', 'https://en.wikipedia.org/wiki/Convolutional_neural_network', 'https://en.wikipedia.org/wiki/Reproducibility', 'https://en.wikipedia.org/wiki/Software_maintenance', 'https://en.wikipedia.org/wiki/Rendering_(computer_graphics)', 'https://en.wikipedia.org/wiki/Data_integration', 'https://en.wikipedia.org/wiki/Randomized_algorithm', 'https://en.wikipedia.org/wiki/Trevor_Hastie', 'https://en.wikipedia.org/wiki/BIRCH', 'https://www.mediawiki.org/', 'https://en.wikipedia.org/wiki/Dimensional_modeling', 'https://en.wikipedia.org/wiki/Business_intelligence_software', 'https://en.wikipedia.org/wiki/Open-source_software', 'https://en.wikipedia.org/wiki/Reinforcement_learning', 'https://en.wikipedia.org/wiki/Bootstrap_aggregating', 'https://simple.wikipedia.org/wiki/Data_mining', 'https://en.wikipedia.org/wiki/Domain_driven_data_mining', 'https://en.wikipedia.org/wiki/Computational_geometry', 'https://en.wikipedia.org/wiki/Spatial_index', 'https://en.wikipedia.org/wiki/Formal_language', 'https://en.wikipedia.org/wiki/Outline_of_computer_science', 'https://en.wikipedia.org/wiki/Graphics_processing_unit', 'https://en.wikipedia.org/wiki/Cross-industry_standard_process_for_data_mining', 'https://en.wikipedia.org/wiki/Self-organizing_map', 'https://en.wikipedia.org/wiki/Interpreter_(computing)', 'https://id.wikipedia.org/wiki/Penggalian_data', 'https://en.wikipedia.org/wiki/Michael_Lovell', 'http://www.securityfocus.com/brief/277', 'https://en.wikipedia.org/wiki/Ralph_Kimball', 'https://cs.wikipedia.org/wiki/Data_mining', '//shop.wikimedia.org', 'https://en.wikipedia.org/wiki/Intrusion_detection_system', 'https://en.wikipedia.org/wiki/Wayback_Machine', 'https://en.wikipedia.org/wiki/Multithreading_(computer_architecture)', 'https://en.wikipedia.org/wiki/Category:Wikipedia_articles_with_NDL_identifiers', 'https://en.wikipedia.org/wiki/RapidMiner', 'https://en.wikipedia.org/wiki/Decision_support_system', 'https://en.wikipedia.org/wiki/Megaputer_Intelligence', 'https://en.wikipedia.org/wiki/International_Standard_Book_Number', 'https://en.wikipedia.org/wiki/Social_software', 'https://en.wikipedia.org/wiki/Multimedia_database', 'https://en.wikipedia.org/wiki/Operations_research', 'https://en.wikipedia.org/wiki/Mixed_reality', 'https://en.wikipedia.org/wiki/MOLAP', 'https://en.wikipedia.org/wiki/Data_quality', 'https://en.wikipedia.org/wiki/Book:Computer_science', 'https://en.wikipedia.org/wiki/Special:MyContributions', 'https://en.wikipedia.org/wiki/Microsoft_Academic_Search', 'https://en.wikipedia.org/wiki/Perceptron', 'https://en.wikipedia.org/wiki/HOLAP', 'https://en.wikipedia.org/wiki/Orange_(software)', 'https://en.wikipedia.org/wiki/Digital_object_identifier', 'https://pl.wikipedia.org/wiki/Eksploracja_danych', 'https://en.wikipedia.org/wiki/Data_management', 'https://en.wikipedia.org/wiki/Subspace_clustering', 'https://en.wikipedia.org/wiki/KNIME', 'https://en.wikipedia.org/wiki/Data_(computing)', 'https://en.wikipedia.org/wiki/Information_integration', 'https://en.wikipedia.org/wiki/Text_mining', 'https://en.wikipedia.org/wiki/Data_degradation', 'https://en.wikipedia.org/wiki/Data_loss', 'https://en.wikipedia.org/wiki/Computational_complexity_theory', 'https://en.wikipedia.org/wiki/Automata_theory', 'https://en.wikipedia.org/wiki/Data_science', 'https://en.wikipedia.org/wiki/Mathematical_software', 'https://en.wikipedia.org/wiki/Data_farming', 'https://en.wikipedia.org/wiki/Data_integrity', 'https://az.wikipedia.org/wiki/Data_mining', 'https://en.wikipedia.org/wiki/Computer_architecture', 'https://en.wikipedia.org/wiki/Digital_art', 'https://en.wikipedia.org/wiki/Special:MyTalk', 'https://en.wikipedia.org/wiki/Wikipedia:About', 'https://en.wikipedia.org/wiki/Library_(computing)', 'https://en.wikipedia.org/wiki/Health_informatics', 'https://en.wikipedia.org/wiki/Random_forest', 'https://en.wikipedia.org/wiki/Interdisciplinary', 'https://en.wikipedia.org/wiki/Global_surveillance_disclosure', 'https://en.wikipedia.org/wiki/Canonical_correlation_analysis', 'https://en.wikipedia.org/wiki/Image_compression', 'https://en.wikipedia.org/wiki/Surveillance_capitalism', 'https://en.wikipedia.org/wiki/Control_theory', 'https://en.wikipedia.org/wiki/LIONsolver', '//pubmed.ncbi.nlm.nih.gov/14741005', 'https://en.wikipedia.org/wiki/Edward_Snowden', 'https://en.wikipedia.org/wiki/Social_media_mining', 'https://en.wikipedia.org/wiki/Feature_learning', 'https://en.wikipedia.org/wiki/Process_control', 'https://en.wikipedia.org/wiki/Artificial_neural_network', 'https://en.wikipedia.org/wiki/Profiling_(information_science)', 'https://en.wikipedia.org/wiki/Slowly_changing_dimension', 'https://en.wikipedia.org/wiki/NLTK', 'https://en.wikipedia.org/wiki/Computer_vision', 'https://en.wikipedia.org/wiki/Data_loading', 'https://en.wikipedia.org/wiki/ROLAP', 'https://en.wikipedia.org/wiki/Integrated_Authority_File', 'https://sco.wikipedia.org/wiki/Data_minin', 'https://en.wikipedia.org/wiki/Predictive_Model_Markup_Language', 'https://en.wikipedia.org/wiki/K-nearest_neighbors_classification', 'https://en.wikipedia.org/wiki/Computational_physics', 'https://en.wikipedia.org/wiki/Gregory_I._Piatetsky-Shapiro', 'https://en.wikipedia.org/wiki/SIGKDD', 'https://en.wikipedia.org/wiki/List_of_datasets_for_machine-learning_research', 'https://en.wikipedia.org/wiki/Template_talk:Data', 'https://sl.wikipedia.org/wiki/Podatkovno_rudarjenje', 'https://en.wikipedia.org/wiki/Security_service_(telecommunication)', 'https://en.wikipedia.org/wiki/Intention_mining', 'https://en.wikipedia.org/wiki/Anomaly_detection', 'https://en.wikipedia.org/wiki/Linear_discriminant_analysis', 'https://en.wikipedia.org/wiki/Programming_tool', 'https://en.wikipedia.org/wiki/File:Wiki_letter_w.svg', 'https://en.wikipedia.org/wiki/Dimensionality_reduction', 'https://en.wikipedia.org/wiki/Data_compression', 'https://en.wikipedia.org/wiki/Network_service', 'https://en.wikipedia.org/wiki/Automated_machine_learning', 'https://en.wikipedia.org/wiki/Data_extraction', 'https://en.wikipedia.org/wiki/Computational_learning_theory', 'https://en.wikipedia.org/wiki/Big_Data', 'https://en.wikipedia.org/wiki/Template:Computer_science', 'https://en.wikipedia.org/wiki/Compiler_construction', 'https://en.wikipedia.org/wiki/Data_cleansing', 'https://en.wikipedia.org/wiki/Computational_engineering', 'https://en.wikipedia.org/wiki/Measure_(data_warehouse)', 'https://en.wikipedia.org/wiki/Grammar_induction', 'https://en.wikipedia.org/wiki/Independent_component_analysis', 'https://en.wikipedia.org/wiki/T-distributed_stochastic_neighbor_embedding', 'https://en.wikipedia.org/wiki/Special:RecentChanges', 'https://en.wikipedia.org/wiki/Online_analytical_processing', 'https://en.wikipedia.org/wiki/SPSS_Modeler', 'https://en.wikipedia.org/wiki/Gregory_Piatetsky-Shapiro', 'https://en.wikipedia.org/wiki/STATISTICA', 'https://en.wikipedia.org/wiki/Conference_on_Information_and_Knowledge_Management', 'https://en.wikipedia.org/wiki/Google_Scholar', 'https://en.wikipedia.org/wiki/Data_security', 'https://en.wikipedia.org/wiki/Mean-shift', 'https://en.wikipedia.org/wiki/Data_scrubbing', 'https://en.wikipedia.org/wiki/Tanagra_(machine_learning)', 'https://en.wikipedia.org/wiki/InformationWeek', 'https://en.wikipedia.org/wiki/Category:Data_mining_and_machine_learning_software', 'https://ms.wikipedia.org/wiki/Perlombongan_data', 'https://en.wikipedia.org/wiki/Wikipedia:File_Upload_Wizard', 'https://en.wikipedia.org/wiki/Distributed_artificial_intelligence', 'https://en.wikipedia.org/wiki/Category:Articles_with_Curlie_links', 'https://en.wikipedia.org/wiki/Data_mart', 'https://en.wikipedia.org/wiki/Multivariate_statistics', 'https://en.wikipedia.org/wiki/Data_visualization', 'https://en.wikipedia.org/wiki/MOA_(Massive_Online_Analysis)', 'https://en.wikipedia.org/wiki/Health_Insurance_Portability_and_Accountability_Act', 'https://en.wikipedia.org/wiki/ELKI', 'https://en.wikipedia.org/wiki/Data_preservation', 'https://en.wikipedia.org/wiki/Virtual_reality', 'https://en.wikipedia.org/wiki/Recurrent_neural_network', 'https://en.wikipedia.org/wiki/Portal:Current_events', 'https://en.wikipedia.org/wiki/Dimension_table', 'https://en.wikipedia.org/wiki/Restricted_Boltzmann_machine', 'https://en.wikipedia.org/wiki/Logistic_regression', 'https://en.wikipedia.org/wiki/Qlucore', 'https://sv.wikipedia.org/wiki/Datautvinning', 'https://en.wikipedia.org/wiki/Jerome_H._Friedman', 'https://en.wikipedia.org/wiki/Parallel_computing', 'https://en.wikipedia.org/wiki/Total_Information_Awareness', 'https://en.wikipedia.org/wiki/Integrated_circuit', 'https://nl.wikipedia.org/wiki/Datamining', 'https://en.wikipedia.org/wiki/Morgan_Kaufmann', 'https://en.wikipedia.org/wiki/Philip_S._Yu', 'https://en.wikipedia.org/wiki/Operational_data_store', 'https://en.wikipedia.org/wiki/Solid_modeling', 'https://en.wikipedia.org/wiki/International_Safe_Harbor_Privacy_Principles', '//www.wikimediafoundation.org/', '//www.worldcat.org/oclc/45263753', 'https://en.wikipedia.org/wiki/Torch_(machine_learning)', 'https://en.wikipedia.org/wiki/OPTICS_algorithm', 'https://en.wikipedia.org/wiki/Decision_tree', 'https://en.wikipedia.org/wiki/Statistical_learning_theory', 'https://en.wikipedia.org/wiki/Copyright_law_of_the_United_States', 'https://en.wikipedia.org/wiki/Computational_biology', 'https://en.wikipedia.org/wiki/CIKM_Conference', '//www.jstor.org/stable/1924403', 'https://en.wikipedia.org/wiki/Aggregate_(Data_Warehouse)', 'https://en.wikipedia.org/wiki/Named-entity_recognition', 'https://en.wikipedia.org/wiki/Google_Book_Search_Settlement_Agreement', 'https://en.wikipedia.org/wiki/Decision_rules', 'https://en.wikipedia.org/wiki/Electronic_voting', 'https://en.wikipedia.org/wiki/Buzzword', 'https://en.wikipedia.org/wiki/Scikit-learn', 'https://en.wikipedia.org/wiki/Data_vault_modeling', 'https://en.wikipedia.org/wiki/IBM', 'https://en.wikipedia.org/wiki/Degenerate_dimension', 'https://en.wikipedia.org/wiki/Computer_accessibility', 'https://en.wikipedia.org/wiki/Network_security', '//foundation.wikimedia.org/wiki/Terms_of_Use', 'https://en.wikipedia.org/wiki/Information_extraction', 'https://en.wikipedia.org/wiki/Integrated_development_environment', 'https://en.wikipedia.org/wiki/Neural_networks', 'https://en.wikipedia.org/wiki/Relevance_vector_machine', 'https://en.wikipedia.org/wiki/Analytics', 'https://en.wikipedia.org/wiki/Robert_Tibshirani', 'https://en.wikipedia.org/wiki/Document_management_system', 'https://eu.wikipedia.org/wiki/Datu-meatzaritza', 'https://en.wikipedia.org/wiki/Family_Educational_Rights_and_Privacy_Act', 'https://en.wikipedia.org/wiki/Mathematical_analysis', 'https://en.wikipedia.org/wiki/Hidden_Markov_model', 'https://en.wikipedia.org/wiki/Template_talk:Data_warehouses', 'https://en.wikipedia.org/wiki/Machine_learning', '//ssrn.com/abstract=546782', 'https://en.wikipedia.org/wiki/Wikipedia:Featured_content', 'https://en.wikipedia.org/wiki/Ian_H._Witten', 'https://en.wikipedia.org/wiki/Data_transformation', 'https://en.wikipedia.org/wiki/Occam_learning', 'https://en.wikipedia.org/wiki/Computing_platform', 'https://en.wikipedia.org/wiki/Multiprocessing', 'https://en.wikipedia.org/wiki/Educational_technology', 'https://en.wikipedia.org/wiki/K-means_clustering', 'https://en.wikipedia.org/wiki/Automatic_summarization', 'https://en.wikipedia.org/wiki/Support-vector_machine', 'https://en.wikipedia.org/wiki/Template_talk:Machine_learning_bar', 'https://en.wikipedia.org/wiki/Bayesian_network', 'https://en.wikipedia.org/wiki/Early-arriving_fact', 'https://en.wikipedia.org/wiki/Enterprise_information_system', 'https://en.wikipedia.org/wiki/Category:Computer_science', 'https://en.wikipedia.org/wiki/Data_curation', 'https://en.wikipedia.org/wiki/Ensemble_learning', 'https://en.wikipedia.org/wiki/Java_Data_Mining', 'https://en.wikipedia.org/wiki/Model_of_computation', 'https://en.wikipedia.org/wiki/Network_protocol', 'https://en.wikipedia.org/wiki/Empirical_risk_minimization', 'https://en.wikipedia.org/wiki/Training_set', 'https://en.wikipedia.org/wiki/Computational_chemistry', 'https://en.wikipedia.org/wiki/Software_repository', 'https://en.wikipedia.org/wiki/SIGMOD', 'https://en.wikipedia.org/wiki/Feature_engineering', 'https://en.wikipedia.org/wiki/Programming_language', 'https://en.wikipedia.org/wiki/Oracle_Data_Mining', 'https://en.wikipedia.org/wiki/Template_talk:Computer_science', 'https://en.wikipedia.org/wiki/Photo_manipulation', 'https://en.wikipedia.org/wiki/R_(programming_language)', 'https://en.wikipedia.org/wiki/International_Conference_on_Very_Large_Data_Bases', 'https://en.wikipedia.org/wiki/Reverse_star_schema', 'https://en.wikipedia.org/wiki/Data_collection', 'https://sh.wikipedia.org/wiki/Analiza_podataka', 'https://en.wikipedia.org/wiki/Electronic_design_automation', 'https://en.wikipedia.org/wiki/Boosting_(machine_learning)', 'https://en.wikipedia.org/wiki/UIMA', 'https://en.wikipedia.org/wiki/Help:Category', 'https://en.wikipedia.org/wiki/Open_source_model', 'https://en.wikipedia.org/wiki/Glossary_of_artificial_intelligence', 'https://en.wikipedia.org/wiki/Long_short-term_memory', 'https://en.wikipedia.org/wiki/Data_format_management', 'https://en.wikipedia.org/wiki/Database', 'https://en.wikipedia.org/wiki/Theory_of_computation', 'https://en.wikipedia.org/wiki/Semantics_(computer_science)', 'https://en.wikipedia.org/wiki/Philosophy_of_artificial_intelligence', 'https://en.wikipedia.org/wiki/Java_(programming_language)', 'http://www.kdnuggets.com/data_mining_course/x1-intro-to-data-mining-notes.html', 'https://en.wikipedia.org/wiki/Association_rule_mining', 'https://en.wikipedia.org/wiki/Comparison_of_OLAP_servers', 'https://en.wikipedia.org/wiki/Social_Science_Research_Network', 'https://en.wikipedia.org/wiki/Column-oriented_DBMS', 'https://foundation.wikimedia.org/wiki/Privacy_policy', 'https://en.wikipedia.org/wiki/Information_Society_Directive', 'https://en.wikipedia.org/wiki/Supervised_learning', 'https://en.wikipedia.org/wiki/Printed_circuit_board', 'https://en.wikipedia.org/wiki/DeepDream', 'https://en.wikipedia.org/wiki/Natural_language_processing', 'https://en.wikipedia.org/wiki/Database_Directive', 'https://en.wikipedia.org/wiki/Category:Wikipedia_articles_with_GND_identifiers', 'https://en.wikipedia.org/wiki/International_Conference_on_Machine_Learning', 'https://en.wikipedia.org/wiki/Data_validation', 'https://en.wikipedia.org/wiki/Computer_security_compromised_by_hardware_failure', 'https://en.wikipedia.org/wiki/Metadata', 'https://en.wikipedia.org/wiki/Bing_Liu_(computer_scientist)', 'https://en.wikipedia.org/wiki/Semi-supervised_learning', 'https://commons.wikimedia.org/wiki/Category:Data_mining', 'https://en.wikipedia.org/wiki/Data_dictionary', 'https://en.wikipedia.org/wiki/Network_architecture', 'https://en.wikipedia.org/wiki/Cyberwarfare', 'https://en.wikipedia.org/wiki/Overfitting', 'https://en.wikipedia.org/wiki/StatSoft', 'https://et.wikipedia.org/wiki/Andmekaeve', 'https://en.wikipedia.org/wiki/Lua_(programming_language)', 'https://en.wikipedia.org/wiki/Category:Data_warehousing_products', 'https://it.wikipedia.org/wiki/Data_mining', 'https://en.wikipedia.org/wiki/Open_access', 'https://en.wikipedia.org/wiki/Ubiquitous_computing', 'https://en.wikipedia.org/wiki/Surrogate_key', 'https://en.wikipedia.org/wiki/ACM_Computing_Classification_System', 'https://en.wikipedia.org/wiki/Programming_paradigm', 'https://en.wikipedia.org/wiki/ADVISE', 'https://en.wikipedia.org/wiki/Applied_statistics', 'https://en.wikipedia.org/wiki/Discrete_mathematics', 'https://en.wikipedia.org/wiki/Learning_classifier_system', 'https://mn.wikipedia.org/wiki/Data_mining', 'https://en.wikipedia.org/wiki/Software_construction', 'https://en.wikipedia.org/wiki/Fair_use', 'https://en.wikipedia.org/wiki/Factor_analysis', 'https://en.wikipedia.org/wiki/Temporal_difference_learning', 'https://ru.wikipedia.org/wiki/Data_mining', 'https://en.wikipedia.org/wiki/Computer_science', 'https://en.wikipedia.org/wiki/Academic_journal', 'https://en.wikipedia.org/wiki/Probability', 'https://en.wikipedia.org/wiki/Probably_approximately_correct_learning', 'https://en.wikipedia.org/wiki/Software_framework', 'https://en.wikipedia.org/wiki/Graphical_model', '//en.wikipedia.org/wiki/Wikipedia:Contact_us', 'https://en.wikipedia.org/wiki/Bioinformatics', 'https://en.wikipedia.org/wiki/Exploratory_data_analysis', 'https://en.wikipedia.org/wiki/Copyright_law_of_the_European_Union', 'https://en.wikipedia.org/wiki/Carrot2', 'https://en.wikipedia.org/wiki/Concurrency_(computer_science)', 'https://en.wikipedia.org/wiki/Data_scraping', 'https://en.wikipedia.org/wiki/Algorithm', 'https://en.wikipedia.org/wiki/Dashboard_(business)', 'https://en.wikipedia.org/wiki/Software_development', 'https://en.wikipedia.org/wiki/Category:Formal_sciences', 'https://en.wikipedia.org/wiki/Category:All_articles_with_unsourced_statements', '//foundation.wikimedia.org/wiki/Privacy_policy', 'https://da.wikipedia.org/wiki/Data_mining', 'https://en.wikipedia.org/wiki/Analysis_of_algorithms', 'https://en.wikipedia.org/wiki/Multi-task_learning', 'https://en.wikipedia.org/wiki/Talk:Data_mining', 'https://en.wikipedia.org/wiki/World_Wide_Web', 'https://en.wikipedia.org/wiki/Application_security', 'https://en.wikipedia.org/wiki/Conditional_random_field', 'https://en.wikipedia.org/wiki/Sequential_pattern_mining', 'https://en.wikipedia.org/wiki/Non-negative_matrix_factorization', 'https://en.wikipedia.org/wiki/K-nearest_neighbors_algorithm', 'https://en.wikipedia.org/wiki/Local_outlier_factor', 'https://en.wikipedia.org/wiki/Kluwer_Academic_Publishers', 'https://en.wikipedia.org/wiki/Algorithm_design', 'https://en.wikipedia.org/wiki/Q-learning', 'http://www.kdd.org/curriculum/index.html', 'https://en.wikipedia.org/wiki/SAS_Institute', 'https://en.wikipedia.org/wiki/Data_migration', 'https://en.wikipedia.org/wiki/Category:Webarchive_template_wayback_links', 'https://archive.org/details/dataminingconcep0000kant', 'https://en.wikipedia.org/wiki/Statistical_inference', 'https://en.wikipedia.org/wiki/Misnomer', 'https://en.wikipedia.org/wiki/Category:All_articles_with_specifically_marked_weasel-worded_phrases', 'https://en.wikipedia.org/wiki/Peripheral', 'https://en.wikipedia.org/wiki/Operating_system', 'https://en.wikipedia.org/wiki/Statistics', 'https://en.wikipedia.org/wiki/Very_Large_Scale_Integration', 'http://www.kdd.org/conferences.php', 'https://en.wikipedia.org/wiki/Digital_library', 'https://en.wikipedia.org/wiki/Weka_(machine_learning)', 'https://en.wikipedia.org/wiki/DATADVANCE', 'https://en.wikipedia.org/wiki/E-commerce', 'https://en.wikipedia.org/wiki/Main_Page', 'https://en.wikipedia.org/wiki/Category:CS1_maint:_multiple_names:_authors_list', 'https://en.wikipedia.org/wiki/Data_warehouse', 'https://en.wikipedia.org/wiki/Hierarchical_clustering', 'https://d-nb.info/gnd/4428654-5', 'https://en.wikipedia.org/wiki/Computational_social_science', 'https://en.wikipedia.org/wiki/Category:Articles_to_be_expanded_from_September_2011', 'https://en.wikipedia.org/wiki/Information_theory', 'https://en.wikipedia.org/wiki/Business_intelligence', 'https://en.wikipedia.org/wiki/Data_retention', 'https://en.wikipedia.org/wiki/Oracle_Corporation', 'https://en.wikipedia.org/wiki/Statistical_noise', '//www.worldcat.org/oclc/50055336', 'https://en.wikipedia.org/wiki/Support_vector_machines', 'https://en.wikipedia.org/wiki/Computer_security', 'https://en.wikipedia.org/wiki/PubMed_Identifier', 'https://commons.wikimedia.org/wiki/Category:Computer_science', 'https://en.wikipedia.org/wiki/Network_performance', 'https://en.wikipedia.org/wiki/DBSCAN', 'https://en.wikipedia.org/wiki/Distributed_computing', 'https://en.wikipedia.org/wiki/National_Diet_Library', 'https://en.wikipedia.org/wiki/Computer_hardware', 'https://en.wikipedia.org/wiki/Information_retrieval', 'https://en.wikipedia.org/wiki/Data_library', 'https://en.wikipedia.org/wiki/Digital_marketing', 'https://en.wikipedia.org/wiki/Data', 'https://en.wikipedia.org/wiki/Web_mining', 'https://en.wikipedia.org/wiki/European_Commission', 'https://en.wikipedia.org/wiki/Snowflake_schema', 'https://en.wikipedia.org/wiki/System_on_a_chip', 'https://en.wikipedia.org/wiki/Online_machine_learning', 'https://en.wikipedia.org/wiki/File:Spurious_correlations_-_spelling_bee_spiders.svg', 'https://en.wikipedia.org/wiki/Conference_on_Neural_Information_Processing_Systems', 'https://en.wikipedia.org/wiki/Journal_of_Machine_Learning_Research', 'https://en.wikipedia.org/wiki/General_Architecture_for_Text_Engineering', 'https://en.wikipedia.org/wiki/Cross-validation_(statistics)', 'https://en.wikipedia.org/wiki/SEMMA', 'https://en.wikipedia.org/wiki/CURE_data_clustering_algorithm', 'https://en.wikipedia.org/wiki/Structured_data_analysis_(statistics)', 'https://en.wikipedia.org/wiki/Interaction_design', 'https://en.wikipedia.org/wiki/Regression_analysis', 'https://en.wikipedia.org/wiki/Online_algorithm', 'https://en.wikipedia.org/wiki/Information_security', 'https://en.wikipedia.org/wiki/Stellar_Wind_(code_name)', 'https://en.wikipedia.org/wiki/Software_development_process', 'https://en.wikipedia.org/wiki/Computer_data_storage', 'https://en.wikipedia.org/wiki/Computer_graphics', 'https://en.wikipedia.org/wiki/OLAP_cube', 'https://en.wikipedia.org/wiki/Visualization_(graphics)', 'https://en.wikipedia.org/wiki/Mlpack', 'https://en.wikipedia.org/wiki/JSTOR', 'https://en.wikipedia.org/wiki/Spreadsheets', 'https://en.wikipedia.org/wiki/Springer_Verlag', 'https://en.wikipedia.org/wiki/Predictive_analytics', 'https://en.wikipedia.org/wiki/Web_scraping', 'https://en.wikipedia.org/wiki/Enterprise_software', 'https://en.wikipedia.org/wiki/Gated_recurrent_unit', 'https://en.wikipedia.org/wiki/Social_computing', 'https://en.wikipedia.org/wiki/Microsoft', 'https://foundation.wikimedia.org/wiki/Cookie_statement', 'https://en.wikipedia.org/wiki/Naive_Bayes_classifier', 'https://en.wikipedia.org/wiki/Template:Data', 'https://en.wikipedia.org/wiki/Missing_data', 'https://en.wikipedia.org/wiki/Data_stewardship', 'https://en.wikipedia.org/wiki/Category:Articles_with_unsourced_statements_from_April_2014', 'https://hr.wikipedia.org/wiki/Rudarenje_podataka', 'https://en.wikipedia.org/wiki/Information_processing', 'https://en.wikipedia.org/wiki/Vertica', 'https://en.wikipedia.org/wiki/Category:Commons_category_link_is_on_Wikidata', 'https://en.wikipedia.org/wiki/Decision_tree_learning', 'https://en.wikipedia.org/wiki/Data_fusion', 'https://fi.wikipedia.org/wiki/Tiedonlouhinta', 'https://en.wikipedia.org/wiki/U-Net', 'https://en.wikipedia.org/wiki/NetOwl', 'https://en.wikipedia.org/wiki/Data_Mining_and_Knowledge_Discovery', 'https://en.wikipedia.org/wiki/Domain-specific_language', 'https://en.wikipedia.org/wiki/Modeling_language', 'https://de.wikipedia.org/wiki/Data-Mining', 'https://en.wikipedia.org/wiki/Network_scheduler', 'https://en.wikipedia.org/wiki/Category:Applied_data_mining', 'https://en.wikipedia.org/wiki/Jiawei_Han', 'https://en.wikipedia.org/wiki/Academic_Press', 'https://en.wikipedia.org/wiki/Wikipedia:Contents', 'https://ca.wikipedia.org/wiki/Mineria_de_dades', 'https://en.wikipedia.org/wiki/Computer_animation', 'https://www.wikidata.org/wiki/Q172491', 'https://en.wikipedia.org/wiki/XML', 'https://en.wikipedia.org/wiki/Algorithmic_efficiency', 'https://en.wikipedia.org/wiki/Time_series', 'https://en.wikipedia.org/wiki/Scientific_computing', 'https://en.wikipedia.org/wiki/Genetic_algorithms', 'https://en.wikipedia.org/wiki/Extract,_transform,_load', 'https://en.wikipedia.org/wiki/Data_mining', 'https://en.wikipedia.org/wiki/Bill_Inmon', 'https://en.wikipedia.org/wiki/Microsoft_Analysis_Services', 'https://en.wikipedia.org/wiki/Requirements_analysis', 'https://en.wikipedia.org/wiki/Data_Mining_Extensions', 'https://en.wikipedia.org/wiki/Data_wrangling', 'https://en.wikipedia.org/wiki/XML_for_Analysis', 'https://en.wikipedia.org/wiki/Chemicalize.org', 'https://en.wikipedia.org/wiki/Sixth_normal_form', 'https://cy.wikipedia.org/wiki/Cloddio_data', 'https://en.wikipedia.org/wiki/Data_editing', 'https://en.wikipedia.org/wiki/Special:SpecialPages', 'https://en.wikipedia.org/wiki/Computational_mathematics', 'https://en.wikipedia.org/wiki/GNU_Project', 'https://en.wikipedia.org/wiki/Software_quality', 'https://en.wikipedia.org/wiki/US_Congress', 'https://en.wikipedia.org/wiki/Fact_table', 'https://en.wikipedia.org/wiki/Networking_hardware', 'https://en.wikipedia.org/wiki/Real-time_computing', 'https://en.wikipedia.org/wiki/Fact_(data_warehouse)', 'https://nn.wikipedia.org/wiki/Datautvinning', 'https://en.wikipedia.org/wiki/Principal_component_analysis', 'https://en.wikipedia.org/wiki/Examples_of_data_mining', 'https://en.wikipedia.org/wiki/Geographic_information_system', 'https://en.wikipedia.org/wiki/Electronic_publishing', 'https://en.wikipedia.org/wiki/Learning_to_rank', 'https://en.wikipedia.org/wiki/Natural_Language_Toolkit', 'https://en.wikipedia.org/wiki/Aggregate_function', 'http://www.washingtonspectator.com/articles/20070315surveillance_1.cfm', 'https://en.wikipedia.org/wiki/Prentice_Hall', 'https://en.wikipedia.org/wiki/Deep_learning', 'https://en.wikipedia.org/wiki/Database_system', 'https://en.wikipedia.org/wiki/File:Kernel_Machine.svg', 'https://en.wikipedia.org/wiki/Conference_on_Knowledge_Discovery_and_Data_Mining', 'https://en.wikipedia.org/wiki/Generative_adversarial_network', 'http://www.kdd.org/explorations/about.php', 'https://en.wikipedia.org/wiki/Help:Authority_control', 'https://su.wikipedia.org/wiki/Data_mining', 'https://no.wikipedia.org/wiki/Data_mining', 'https://en.wikipedia.org/wiki/List_of_reporting_software', 'https://en.wikipedia.org/wiki/Video_game', 'https://en.wikipedia.org/wiki/Data_storage', 'https://en.wikipedia.org/wiki/Data_set', 'https://en.wikipedia.org/wiki/Hardware_acceleration', 'https://en.wikipedia.org/wiki/Multilinear_subspace_learning', 'https://en.wikipedia.org/wiki/Wikipedia:Community_portal', 'https://en.wikipedia.org/wiki/Association_for_Computing_Machinery', 'https://en.wikipedia.org/wiki/Hewlett-Packard', 'https://en.wikipedia.org/wiki/Psychometrics', 'https://en.wikipedia.org/wiki/Data_corruption', 'https://en.wikipedia.org/wiki/Unsupervised_learning', 'https://en.wikipedia.org/wiki/Computer_network', 'https://en.wikipedia.org/wiki/Receiver_operating_characteristic', 'https://en.wikipedia.org/wiki/Middleware', 'https://en.wikipedia.org/wiki/Word_processor', 'https://en.wikipedia.org/wiki/Counterpunch.org', 'https://en.wikipedia.org/wiki/Statistical_classification', 'https://en.wikipedia.org/wiki/Limitations_and_exceptions_to_copyright', 'https://en.wikipedia.org/wiki/Automated_planning_and_scheduling', 'https://en.wikipedia.org/wiki/Cross_Industry_Standard_Process_for_Data_Mining', 'https://en.wikipedia.org/wiki/Cluster_analysis', 'https://en.wikipedia.org/wiki/OpenNN', 'https://en.wikipedia.org/wiki/Statistical_model', 'https://en.wikipedia.org/wiki/Data_archaeology', 'https://en.wikipedia.org/wiki/Sequence_mining', 'https://en.wikipedia.org/wiki/Category:Data_mining', 'https://en.wikipedia.org/wiki/Dependability', 'https://en.wikipedia.org/wiki/Data_warehouse_automation', 'https://en.wikipedia.org/wiki/Multi_expression_programming', 'https://en.wikipedia.org/wiki/Programming_language_theory', 'https://en.wikipedia.org/wiki/Wikipedia:Citation_needed', 'https://en.wikipedia.org/wiki/National_Security_Agency', 'https://en.wikipedia.org/wiki/Programming_team', 'https://en.wikipedia.org/wiki/Linear_regression', 'https://en.wikipedia.org/wiki/Usama_Fayyad', 'https://en.wikipedia.org/wiki/Data_pre-processing', 'https://en.wikipedia.org/wiki/Database_management', 'https://en.wikipedia.org/wiki/Anchor_modeling', 'https://en.wikipedia.org/wiki/Software_design', 'https://wikimediafoundation.org/', 'https://en.wikipedia.org/wiki/PSeven', 'https://en.wikipedia.org/wiki/Logic_in_computer_science', 'https://en.wikipedia.org/wiki/Formal_methods', 'https://en.wikipedia.org/wiki/Numerical_analysis', 'https://en.wikipedia.org/wiki/MultiDimensional_eXpressions', 'https://en.wikipedia.org/wiki/Angoss', 'https://en.wikipedia.org/wiki/Agent_mining', 'https://en.wikipedia.org/wiki/Educational_data_mining', 'https://en.wikipedia.org/wiki/Cambridge_University_Press', 'https://en.wikipedia.org/wiki/Wikipedia:General_disclaimer', 'https://en.wikipedia.org/wiki/Outline_of_machine_learning', 'https://en.wikipedia.org/wiki/Personally_identifiable_information', 'https://en.wikipedia.org/wiki/International_Journal_of_Data_Warehousing_and_Mining', 'https://en.wikipedia.org/wiki/Test_set']\n",
      "<_MainThread(MainThread, started 140051483219776)>\n"
     ]
    },
    {
     "name": "stdout",
     "output_type": "stream",
     "text": [
      "Tot: 240 Cleaned: 127\n",
      "['https://en.wikipedia.org/wiki/Data_clustering', 'https://en.wikipedia.org/wiki/Artificial_intelligence', 'https://en.wikipedia.org/wiki/Wikipedia:Citing_sources', 'https://en.wikipedia.org/wiki/Web_scraping', 'https://en.wikipedia.org/wiki/Vector_space_model', 'https://en.wikipedia.org/wiki/Information_management', 'https://en.wikipedia.org/wiki/Autonomous_agent', 'https://foundation.wikimedia.org/wiki/Cookie_statement', 'https://en.wikipedia.org/wiki/Category:All_articles_lacking_in-text_citations', 'https://foundation.wikimedia.org/wiki/Privacy_policy', 'https://en.wikipedia.org/wiki/Semi-structured_data', 'https://en.wikipedia.org/wiki/GB_18030', 'https://en.wikipedia.org/wiki/Help:Contents', 'https://en.wikipedia.org/wiki/Help:Maintenance_template_removal', 'https://en.wikipedia.org/wiki/Personal_data', 'https://en.wikipedia.org/wiki/Natural_language_processing', 'https://en.wikipedia.org/wiki/Personalization', 'http://www.cs.uic.edu/~liub/WebMiningBook.html', 'https://en.wikipedia.org/wiki/Category:All_pages_needing_cleanup', 'https://en.wikipedia.org/wiki/Special:RecentChanges', 'https://en.wikipedia.org/wiki/User_profiling', 'https://en.wikipedia.org/wiki/Big5', 'https://en.wikipedia.org/wiki/Wikipedia:Contents', 'https://en.wikipedia.org/wiki/Wikipedia:Cleanup', 'https://en.wikipedia.org/wiki/XML', 'https://en.wikipedia.org/wiki/Wikipedia:Manual_of_Style', 'https://en.wikipedia.org/wiki/Special:Random', 'https://en.wikipedia.org/wiki/Language_code', 'https://en.wikipedia.org/wiki/Information_source', 'https://en.wikipedia.org/wiki/Wikipedia:File_Upload_Wizard', 'https://en.wikipedia.org/wiki/Data_mining', 'https://en.wikipedia.org/wiki/Categorization', 'https://en.wikipedia.org/wiki/HTML', 'https://en.wikipedia.org/wiki/Wikipedia:When_to_cite', 'https://en.wikipedia.org/wiki/Content_management', 'https://en.wikipedia.org/wiki/Hyperlink', 'https://en.wikipedia.org/wiki/Association_rules', 'https://en.wikipedia.org/wiki/Personalized_marketing', 'https://www.mediawiki.org/', 'https://en.wikipedia.org/wiki/Special:SpecialPages', 'https://en.wikipedia.org/wiki/Opinion_mining', 'https://en.wikipedia.org/wiki/Tf-idf', 'https://en.wikipedia.org/wiki/Odds_ratio', 'https://en.wikipedia.org/wiki/ArXiv', '//en.wikipedia.org/wiki/Wikipedia:Contact_us', 'https://en.wikipedia.org/wiki/Taxonomy_for_search_engines', 'https://en.wikipedia.org/wiki/Web_intelligence', 'https://en.wikipedia.org/wiki/Portal:Current_events', 'https://en.wikipedia.org/wiki/Anonymization', '//foundation.wikimedia.org/wiki/Privacy_policy', 'https://en.wikipedia.org/wiki/Wikipedia:WikiProject_Fact_and_Reference_Check', 'https://en.wikipedia.org/wiki/Internet_privacy', '//shop.wikimedia.org', 'https://en.wikipedia.org/wiki/Category:Articles_using_small_message_boxes', 'https://en.wikipedia.org/wiki/Mutual_information', 'https://en.wikipedia.org/wiki/World_Wide_Web', 'https://en.wikipedia.org/wiki/Chinese_writing', 'https://en.wikipedia.org/wiki/Web_agent', '//www.wikimediafoundation.org/', 'https://en.wikipedia.org/wiki/Talk:Web_mining', 'https://en.wikipedia.org/wiki/Ontology_(information_science)', 'https://en.wikipedia.org/wiki/International_Standard_Book_Number', 'https://themeit.com/web-30-web-sites-become-web-services/', 'https://en.wikipedia.org/wiki/Hypertext', 'https://en.wikipedia.org/wiki/Target_pricing', 'https://en.wikipedia.org/wiki/Bag_of_words', 'https://en.wikipedia.org/wiki/Category:World_Wide_Web', 'https://en.wikipedia.org/wiki/Web-based_application', 'https://en.wikipedia.org/wiki/Unstructured_data', 'https://en.wikipedia.org/wiki/Larry_Page', 'https://en.wikipedia.org/wiki/WebCrawler', 'https://en.wikipedia.org/wiki/Special:MyContributions', 'https://en.wikipedia.org/wiki/Category:Articles_to_be_expanded_from_June_2015', 'https://en.wikipedia.org/wiki/Pattern_analysis', 'https://en.wikipedia.org/wiki/Google', 'https://en.wikipedia.org/wiki/Precision_and_recall', 'https://en.wikipedia.org/wiki/E-commerce', 'https://en.wikipedia.org/wiki/Main_Page', 'https://en.wikipedia.org/wiki/Customer_relationship', '//foundation.wikimedia.org/wiki/Terms_of_Use', 'https://en.wikipedia.org/wiki/Probabilistic_latent_semantic_analysis', 'https://en.wikipedia.org/wiki/Lycos', 'https://en.wikipedia.org/wiki/Profitability', 'https://en.wikipedia.org/wiki/Web_portal', 'https://en.wikipedia.org/wiki/Wikipedia:Community_portal', 'https://en.wikipedia.org/wiki/Web_analytics', 'https://en.wikipedia.org/wiki/Alta_Vista', 'https://en.wikipedia.org/wiki/Machine_learning', 'https://en.wikipedia.org/wiki/Semantic', 'https://de.wikipedia.org/wiki/Web_Mining', 'https://en.wikipedia.org/wiki/Wikipedia:Featured_content', 'https://en.wikipedia.org/wiki/Special:MyTalk', 'https://en.wikipedia.org/wiki/Wikipedia:About', 'https://en.wikipedia.org/wiki/Web_server', 'https://ru.wikipedia.org/wiki/Web_mining', 'https://en.wikipedia.org/wiki/Fight_against_terrorism', 'https://en.wikipedia.org/wiki/Category:All_articles_to_be_expanded', 'https://en.wikipedia.org/wiki/Information_retrieval', 'https://sk.wikipedia.org/wiki/Web_mining', 'https://en.wikipedia.org/wiki/Information_gain', 'https://en.wikipedia.org/wiki/Web_mining', 'https://en.wikipedia.org/wiki/Web_document', 'https://en.wikipedia.org/wiki/Category:Data_mining', 'https://en.wikipedia.org/wiki/Category:Articles_lacking_in-text_citations_from_September_2009', 'https://fr.wikipedia.org/wiki/Fouille_du_web', 'https://en.wikipedia.org/wiki/Cross_entropy', 'https://en.wikipedia.org/wiki/Category:Cleanup_tagged_articles_without_a_reason_field_from_June_2009', 'http://linkanalysis.wlv.ac.uk/', 'https://en.wikipedia.org/wiki/Hyponymy', 'https://wikimediafoundation.org/', 'https://en.wikipedia.org/wiki/User_behavior_analytics', 'https://en.wikipedia.org/wiki/Graph_theory', 'https://en.wikipedia.org/wiki/File:Wiki_letter_w_cropped.svg', 'https://en.wikipedia.org/wiki/MetaCrawler', 'https://en.wikipedia.org/wiki/Category:Articles_needing_cleanup_from_June_2009', 'https://en.wikipedia.org/wiki/Directed_graph', 'https://en.wikipedia.org/wiki/PageRank', 'https://eu.wikipedia.org/wiki/Web-meatzaritza', 'https://en.wikipedia.org/wiki/Category:Web_analytics', 'https://en.wikipedia.org/wiki/Category:Wikipedia_pages_needing_cleanup_from_June_2009', 'https://en.wikipedia.org/wiki/Aliweb', 'https://en.wikipedia.org/wiki/Wikipedia:General_disclaimer', 'https://en.wikipedia.org/wiki/HZ_(character_encoding)', 'https://en.wikipedia.org/wiki/Help:Category', 'https://es.wikipedia.org/wiki/Web_mining', 'https://en.wikipedia.org/wiki/N-gram', 'https://en.wikipedia.org/wiki/Wikipedia:Data_mining_Wikipedia']\n",
      "<_MainThread(MainThread, started 140051483219776)>\n",
      "Tot: 564 Cleaned: 283\n",
      "['https://en.wikipedia.org/wiki/Information_visualization', 'https://de.wikipedia.org/wiki/Text_Mining', 'https://en.wikipedia.org/wiki/Named_entity_recognition', 'https://en.wikipedia.org/wiki/Optical_character_recognition', 'https://en.wikipedia.org/wiki/Help:Contents', '//pubmed.ncbi.nlm.nih.gov/11326264', '//www.worldcat.org/issn/1046-2023', 'https://en.wikipedia.org/wiki/Blog', 'https://en.wikipedia.org/wiki/Voice_user_interface', 'https://en.wikipedia.org/wiki/Corpus_manager', 'https://www.semanticscholar.org/paper/7c7268230881bf41be8d3deb481e7b195299cb00', 'https://en.wikipedia.org/wiki/Novelty_(patent)', 'https://en.wikipedia.org/wiki/Topic_model', 'https://ui.adsabs.harvard.edu/abs/2015PLSCB..11E4630B', 'https://en.wikipedia.org/wiki/Special:Random', 'https://en.wikipedia.org/wiki/Sentence_extraction', 'https://en.wikipedia.org/wiki/University_of_Manchester', 'https://en.wikipedia.org/wiki/Readability', 'https://en.wikipedia.org/wiki/Association_of_European_Research_Libraries', 'https://www.mediawiki.org/', 'https://www.semanticscholar.org/paper/6dfa73c01bb17374f0464179df5fa78d3b05956a', 'https://pl.wikipedia.org/wiki/Text_mining', 'https://en.wikipedia.org/wiki/Truecasing', 'https://en.wikipedia.org/wiki/Category:CS1_Portuguese-language_sources_(pt)', '//pubmed.ncbi.nlm.nih.gov/29775406', '//www.worldcat.org/issn/1370-4621', 'https://en.wikipedia.org/wiki/EPSRC', 'https://en.wikipedia.org/wiki/Speech_recognition', 'https://en.wikipedia.org/wiki/Lillian_Lee_(computer_scientist)', 'https://en.wikipedia.org/wiki/International_Standard_Serial_Number', 'https://en.wikipedia.org/wiki/Syntax_guessing', '//shop.wikimedia.org', 'https://en.wikipedia.org/wiki/Wayback_Machine', 'https://en.wikipedia.org/wiki/Security_appliance', 'https://en.wikipedia.org/wiki/Predictive_text', 'https://en.wikipedia.org/wiki/Stemming', 'https://en.wikipedia.org/wiki/Lemmatisation', 'https://en.wikipedia.org/wiki/International_Standard_Book_Number', 'https://en.wikipedia.org/wiki/CiteSeerX', 'https://en.wikipedia.org/wiki/Neural_machine_translation', 'https://en.wikipedia.org/wiki/Natural_language_user_interface', 'https://et.wikipedia.org/wiki/Tekstikaeve', 'https://en.wikipedia.org/wiki/Gensim', 'https://en.wikipedia.org/wiki/Special:MyContributions', '//pubmed.ncbi.nlm.nih.gov/28069962', 'https://en.wikipedia.org/wiki/Digital_object_identifier', 'http://www.b-eye-network.com/view/6311', 'https://en.wikipedia.org/wiki/Spell_checker', 'https://en.wikipedia.org/wiki/Text_mining', 'https://en.wikipedia.org/wiki/University_of_California,_Berkeley', '//www.worldcat.org/issn/2307-387X', 'https://eu.wikipedia.org/wiki/Testu-meatzaritza', 'https://en.wikipedia.org/wiki/Bibcode', 'https://en.wikipedia.org/wiki/Stop_words', 'https://en.wikipedia.org/wiki/Latent_semantic_analysis', 'https://en.wikipedia.org/wiki/Category:Natural_language_processing', 'https://en.wikipedia.org/wiki/Special:MyTalk', 'https://en.wikipedia.org/wiki/Wikipedia:About', 'https://en.wikipedia.org/wiki/Book', 'https://en.wikipedia.org/wiki/Automated_essay_scoring', 'https://en.wikipedia.org/wiki/Scientific_discovery', 'http://projects.ldc.upenn.edu/ace/', 'https://en.wikipedia.org/wiki/Email', 'https://en.wikipedia.org/wiki/Automatic_identification_and_data_capture', 'https://en.wikipedia.org/wiki/Internet_news', 'https://en.wikipedia.org/wiki/Natural_language_understanding', 'https://en.wikipedia.org/wiki/Tribune_Company', 'https://en.wikipedia.org/wiki/Linguistics', 'https://en.wikipedia.org/wiki/Big_data', 'https://en.wikipedia.org/wiki/Computer-assisted_reviewing', 'https://sl.wikipedia.org/wiki/Rudarjenje_besedil', 'https://www.semanticscholar.org/paper/7194d28bdff2aae64600e1c1c4cbf379cdf42d42', 'https://en.wikipedia.org/wiki/Dimensionality_reduction', 'https://en.wikipedia.org/wiki/BBSRC', 'https://en.wikipedia.org/wiki/Index_(database)', 'https://en.wikipedia.org/wiki/Joint_Information_Systems_Committee', 'https://en.wikipedia.org/wiki/Concept_mining', 'https://en.wikipedia.org/wiki/Customer_attrition', 'https://en.wikipedia.org/wiki/Rule-based_machine_translation', 'https://en.wikipedia.org/wiki/Special:RecentChanges', 'https://en.wikipedia.org/wiki/Category:Statistical_natural_language_processing', 'https://en.wikipedia.org/wiki/Category:Text', 'https://en.wikipedia.org/wiki/Plain_text', 'https://en.wikipedia.org/wiki/Document_processing', 'https://en.wikipedia.org/wiki/Website', 'https://en.wikipedia.org/wiki/Research', 'https://en.wikipedia.org/wiki/Semantic_web', 'https://en.wikipedia.org/wiki/Wikipedia:File_Upload_Wizard', 'https://en.wikipedia.org/wiki/Document_Type_Definition', 'https://en.wikipedia.org/wiki/Nature_(journal)', '//www.worldcat.org/issn/0305-1048', 'https://en.wikipedia.org/wiki/Portal:Current_events', 'https://en.wikipedia.org/wiki/National_Centre_for_Text_Mining', 'https://en.wikipedia.org/wiki/Chatbot', 'https://en.wikipedia.org/wiki/Protein_docking', '//pubmed.ncbi.nlm.nih.gov/25448298', 'http://www-tsujii.is.s.u-tokyo.ac.jp/index.html', 'https://en.wikipedia.org/wiki/Affect_(psychology)', '//www.wikimediafoundation.org/', 'https://en.wikipedia.org/wiki/National_security', 'https://en.wikipedia.org/wiki/Copyright_law_of_the_United_States', 'https://en.wikipedia.org/wiki/Biomedical_text_mining', 'https://en.wikipedia.org/wiki/Named-entity_recognition', 'https://en.wikipedia.org/wiki/Speech_synthesis', 'https://en.wikipedia.org/wiki/Google_Book_Search_Settlement_Agreement', 'https://en.wikipedia.org/wiki/Copyright_law_of_Japan', 'https://en.wikipedia.org/wiki/Compound_term_processing', 'https://nl.wikipedia.org/wiki/Textmining', 'https://en.wikipedia.org/wiki/IBM', 'https://en.wikipedia.org/wiki/WordNet', 'https://en.wikipedia.org/wiki/Information_Awareness_Office', '//foundation.wikimedia.org/wiki/Terms_of_Use', 'https://en.wikipedia.org/wiki/Information_extraction', 'https://en.wikipedia.org/wiki/Grammar_checker', 'https://en.wikipedia.org/wiki/Concordancer', 'https://en.wikipedia.org/wiki/Machine_learning', 'https://en.wikipedia.org/wiki/Interactive_fiction', 'https://en.wikipedia.org/wiki/Wikipedia:Featured_content', 'https://en.wikipedia.org/wiki/Customer_relationship_management', 'https://en.wikipedia.org/wiki/Question_answering', 'https://en.wikipedia.org/wiki/Automatic_summarization', 'https://en.wikipedia.org/wiki/Name_resolution_(semantics_and_text_extraction)', 'https://en.wikipedia.org/wiki/Social_media', 'https://en.wikipedia.org/wiki/Shallow_parsing', 'https://en.wikipedia.org/wiki/UC_Berkeley_School_of_Information', '//www.worldcat.org/issn/1554-0669', 'https://en.wikipedia.org/wiki/Ontology_learning', 'https://en.wikipedia.org/wiki/Psychological_profiling', 'https://en.wikipedia.org/wiki/Annotation', 'https://en.wikipedia.org/wiki/ConceptNet', '//www.worldcat.org/issn/0138-9130', 'https://en.wikipedia.org/wiki/Word-sense_disambiguation', 'https://en.wikipedia.org/wiki/Gender_bias', 'https://en.wikipedia.org/wiki/Help:Category', 'https://en.wikipedia.org/wiki/Research_Council', 'https://en.wikipedia.org/wiki/Database', 'https://en.wikipedia.org/wiki/Statistical', 'https://en.wikipedia.org/wiki/Category:Artificial_intelligence_applications', 'http://EconPapers.repec.org/RePEc:rug:rugwps:07/481', 'https://foundation.wikimedia.org/wiki/Privacy_policy', 'https://en.wikipedia.org/wiki/Text_Analysis_Portal_for_Research', 'https://en.wikipedia.org/wiki/Information_Society_Directive', 'https://en.wikipedia.org/wiki/Sentiment_analysis', 'https://en.wikipedia.org/wiki/Natural_language_processing', 'https://en.wikipedia.org/wiki/E-discovery', 'https://en.wikipedia.org/wiki/Database_Directive', '//www.worldcat.org/issn/1553-7358', 'https://en.wikipedia.org/wiki/News_analytics', 'https://fr.wikipedia.org/wiki/Fouille_de_textes', 'https://en.wikipedia.org/wiki/Biomedical', 'https://en.wikipedia.org/wiki/Bigram', 'https://en.wikipedia.org/wiki/Search_engine', 'https://en.wikipedia.org/wiki/Open_access', 'https://en.wikipedia.org/wiki/Business_rule', 'https://en.wikipedia.org/wiki/Fair_use', 'https://en.wikipedia.org/wiki/Collocation_extraction', 'https://en.wikipedia.org/wiki/Review', '//www.worldcat.org/issn/2157-6904', 'https://en.wikipedia.org/wiki/Bag-of-words_model', 'https://en.wikipedia.org/wiki/Part_of_speech_tagging', 'https://en.wikipedia.org/wiki/Exploratory_data_analysis', 'https://en.wikipedia.org/wiki/Bioinformatics', '//en.wikipedia.org/wiki/Wikipedia:Contact_us', 'https://en.wikipedia.org/wiki/Copyright_law_of_the_European_Union', 'https://en.wikipedia.org/wiki/GoPubMed', 'https://en.wikipedia.org/wiki/Template:Natural_Language_Processing', 'https://en.wikipedia.org/wiki/Algorithm', '//pubmed.ncbi.nlm.nih.gov/30118855', '//foundation.wikimedia.org/wiki/Privacy_policy', 'https://en.wikipedia.org/wiki/Pachinko_allocation', 'https://en.wikipedia.org/wiki/Competitive_intelligence', 'https://en.wikipedia.org/wiki/Full_text_search', 'https://en.wikipedia.org/wiki/Category:Text_mining', 'https://en.wikipedia.org/wiki/Content_analysis', 'https://en.wikipedia.org/wiki/Text_simplification', 'https://en.wikipedia.org/wiki/Sequential_pattern_mining', 'https://en.wikipedia.org/wiki/Record_linkage', 'https://en.wikipedia.org/wiki/Textual_entailment', 'https://en.wikipedia.org/wiki/Machine_translation', 'https://en.wikipedia.org/wiki/Noun_phrase', 'https://www.cs.cmu.edu/~dunja/CFPWshKDD2000.html', 'https://en.wikipedia.org/wiki/Category:Webarchive_template_wayback_links', 'https://en.wikipedia.org/wiki/Computer-assisted_translation', 'https://en.wikipedia.org/wiki/Predictive_classification', '//www.worldcat.org/issn/1522-1539', '//pubmed.ncbi.nlm.nih.gov/18225946', 'http://yatsko.zohosites.com/texor-a-chat-mining-program.html', 'https://id.wikipedia.org/wiki/Penambangan_teks', 'https://en.wikipedia.org/wiki/Structured_data', 'https://ui.adsabs.harvard.edu/abs/2008PLSCB...4...20C', 'https://en.wikipedia.org/wiki/Weka_(machine_learning)', 'https://en.wikipedia.org/wiki/Main_Page', 'https://en.wikipedia.org/wiki/Tag_(metadata)', 'https://en.wikipedia.org/wiki/Business_intelligence', 'https://en.wikipedia.org/wiki/Lexical_analysis', 'https://en.wikipedia.org/wiki/University_of_Alberta', 'https://en.wikipedia.org/wiki/PubMed_Identifier', 'https://www.semanticscholar.org/paper/6b00e77c4c42a6000c05db5f5eb6150863ff31ab', 'https://en.wikipedia.org/wiki/Intelligence_analyst', 'https://en.wikipedia.org/wiki/Category:Computational_linguistics', 'https://en.wikipedia.org/wiki/Commercial_software', '//www.worldcat.org/issn/2093-3681', 'https://en.wikipedia.org/wiki/PubMed_Central', 'https://en.wikipedia.org/wiki/Information_retrieval', 'https://en.wikipedia.org/wiki/List_of_text_mining_software', 'https://en.wikipedia.org/wiki/Web_mining', 'https://en.wikipedia.org/wiki/European_Commission', 'https://en.wikipedia.org/wiki/Biology', 'https://en.wikipedia.org/wiki/Trigram', 'https://en.wikipedia.org/wiki/Coreference', 'https://en.wikipedia.org/wiki/Terminology_extraction', 'http://www.u-tokyo.ac.jp/index_e.html', 'https://en.wikipedia.org/wiki/Parsing', 'http://people.ischool.berkeley.edu/~hearst/text-mining.html', 'https://www.semanticscholar.org/paper/be23a1db3dfe9cef4c2d9956237b67e610ce5005', 'https://en.wikipedia.org/wiki/Relevance_(information_retrieval)', '//pubmed.ncbi.nlm.nih.gov/26650466', 'https://en.wikipedia.org/wiki/N-gram', 'https://en.wikipedia.org/wiki/Document_summarization', 'https://en.wikipedia.org/wiki/Social_sciences', 'https://en.wikipedia.org/wiki/Predictive_analytics', 'https://en.wikipedia.org/wiki/Talk:Text_mining', 'https://www.semanticscholar.org/paper/3bb177388eebd1440b5748d7bb11cbad3adced0f', 'https://en.wikipedia.org/wiki/Life_sciences', 'https://foundation.wikimedia.org/wiki/Cookie_statement', 'https://en.wikipedia.org/wiki/Microsoft', 'https://en.wikipedia.org/wiki/Latent_Dirichlet_allocation', 'https://en.wikipedia.org/wiki/Marti_Hearst', 'https://en.wikipedia.org/wiki/University_of_Tokyo', 'https://en.wikipedia.org/wiki/National_Institutes_of_Health', 'https://en.wikipedia.org/wiki/Category:Applied_data_mining', 'https://en.wikipedia.org/wiki/Template_talk:Natural_Language_Processing', '//pubmed.ncbi.nlm.nih.gov/11326270', 'https://en.wikipedia.org/wiki/Wikipedia:Contents', 'https://en.wikipedia.org/wiki/Text_corpus', '//www.worldcat.org/issn/0027-8424', 'https://en.wikipedia.org/wiki/Market_sentiment', 'http://www.manchester.ac.uk', 'https://en.wikipedia.org/wiki/Spam_filter', 'https://en.wikipedia.org/wiki/Text_clustering', 'https://en.wikipedia.org/wiki/Data_mining', 'https://en.wikipedia.org/wiki/Categorization', 'https://en.wikipedia.org/wiki/Part-of-speech_tagging', 'https://en.wikipedia.org/wiki/Decryption', 'https://en.wikipedia.org/wiki/W-shingling', 'https://en.wikipedia.org/wiki/Counter-intelligence', 'https://en.wikipedia.org/wiki/Special:SpecialPages', 'https://en.wikipedia.org/wiki/Document', 'https://en.wikipedia.org/wiki/Subject-verb-object', 'https://en.wikipedia.org/wiki/Open_source', 'https://en.wikipedia.org/wiki/Homonym', 'https://sv.wikipedia.org/wiki/Text_mining', 'https://en.wikipedia.org/wiki/Automated_online_assistant', 'https://en.wikipedia.org/wiki/Natural_Language_Toolkit', 'https://en.wikipedia.org/wiki/Ad_serving', 'https://en.wikipedia.org/wiki/Example-based_machine_translation', 'https://en.wikipedia.org/wiki/Unstructured_data', 'https://www.semanticscholar.org/paper/94fcea62c4c04f4fb54f45afcdd2c65940efa0b9', 'https://en.wikipedia.org/wiki/Pattern_recognition', 'https://en.wikipedia.org/wiki/Multi-document_summarization', 'https://en.wikipedia.org/wiki/Protein_interactions', 'https://commons.wikimedia.org/wiki/Category:Text_mining', 'https://en.wikipedia.org/wiki/Text_categorization', 'https://en.wikipedia.org/wiki/Wikipedia:Community_portal', 'https://en.wikipedia.org/wiki/Context_(language_use)', '//pubmed.ncbi.nlm.nih.gov/29086438', 'https://en.wikipedia.org/wiki/PubGene', 'https://en.wikipedia.org/wiki/Limitations_and_exceptions_to_copyright', '//www.worldcat.org/issn/0888-8892', 'https://en.wikipedia.org/wiki/Natural_language', 'https://en.wikipedia.org/wiki/AI-complete', 'https://en.wikipedia.org/wiki/Encryption', 'https://en.wikipedia.org/wiki/Information', 'https://en.wikipedia.org/wiki/Speech_corpus', 'http://EconPapers.repec.org/RePEc:rug:rugwps:08/502', 'https://en.wikipedia.org/wiki/Text_segmentation', 'https://wikimediafoundation.org/', '//pubmed.ncbi.nlm.nih.gov/28875048', 'http://www.medallia.com/text-analytics/', 'https://en.wikipedia.org/wiki/Natural_language_generation', '//pubmed.ncbi.nlm.nih.gov/27924014', 'https://en.wikipedia.org/wiki/Wikipedia:General_disclaimer', 'https://www.semanticscholar.org/paper/608d05ed82782a37dde41e97d7da6a9fa4bb53f2']\n"
     ]
    }
   ],
   "source": [
    "\n",
    "executor = ThreadPoolExecutor(max_workers=3)\n",
    "task1 = executor.submit(topicCrawler('https://en.wikipedia.org/wiki/Data_mining',depth=2).start())\n",
    "task2 = executor.submit(topicCrawler('https://en.wikipedia.org/wiki/Web_mining',depth=2).start())\n",
    "task2 = executor.submit(topicCrawler('https://en.wikipedia.org/wiki/Text_mining',depth=2).start())\n"
   ]
  },
  {
   "cell_type": "markdown",
   "metadata": {},
   "source": [
    "# Question 4"
   ]
  },
  {
   "cell_type": "markdown",
   "metadata": {},
   "source": [
    "## Inverted Index"
   ]
  },
  {
   "cell_type": "code",
   "execution_count": 23,
   "metadata": {
    "ExecuteTime": {
     "end_time": "2020-02-05T13:38:55.948708Z",
     "start_time": "2020-02-05T13:38:55.664506Z"
    },
    "run_control": {
     "marked": false
    }
   },
   "outputs": [],
   "source": [
    "from nltk.corpus import stopwords\n",
    "from nltk.tokenize import word_tokenize\n",
    "from collections import Counter\n",
    "\n",
    "stop_words = set(stopwords.words('english'))\n"
   ]
  },
  {
   "cell_type": "code",
   "execution_count": 24,
   "metadata": {
    "ExecuteTime": {
     "end_time": "2020-02-05T13:38:56.337967Z",
     "start_time": "2020-02-05T13:38:56.331524Z"
    },
    "run_control": {
     "marked": false
    }
   },
   "outputs": [],
   "source": [
    "def return_list_indices(word, lis):\n",
    "    temp = []\n",
    "    for i in range(len(lis)):\n",
    "        if lis[i]== word:\n",
    "            temp.append(i)\n",
    "    return temp\n",
    "    "
   ]
  },
  {
   "cell_type": "code",
   "execution_count": 25,
   "metadata": {
    "ExecuteTime": {
     "end_time": "2020-02-05T13:38:58.209489Z",
     "start_time": "2020-02-05T13:38:58.203126Z"
    },
    "run_control": {
     "marked": false
    }
   },
   "outputs": [],
   "source": [
    "def doc_index(x,docname):\n",
    "    data_rem_stop = word_tokenize(x)\n",
    "    data_rem_stop = [x for x in data_rem_stop if x not in stop_words]\n",
    "    data_rem_stop = [x.lower() for x in data_rem_stop if all([len(x)>1,x.isalpha()])]\n",
    "    counts= Counter(data_rem_stop)\n",
    "    temp_dic = {}\n",
    "    for a in set(data_rem_stop):\n",
    "        temp_dic[a] = f\"<{docname},{counts[a]},{return_list_indices(a,data_rem_stop)}>\"\n",
    "#         print(f\"<{docname},{counts[a]},{return_list_indices(a,data_rem_stop)}>\")\n",
    "#         break\n",
    "    return temp_dic\n",
    "    \n"
   ]
  },
  {
   "cell_type": "code",
   "execution_count": 26,
   "metadata": {
    "ExecuteTime": {
     "end_time": "2020-02-05T13:38:59.556594Z",
     "start_time": "2020-02-05T13:38:58.752911Z"
    },
    "run_control": {
     "marked": false
    }
   },
   "outputs": [],
   "source": [
    "dict1 = doc_index(datadm,'id1')"
   ]
  },
  {
   "cell_type": "code",
   "execution_count": 27,
   "metadata": {
    "ExecuteTime": {
     "end_time": "2020-02-05T13:38:59.593528Z",
     "start_time": "2020-02-05T13:38:59.565195Z"
    },
    "run_control": {
     "marked": false
    }
   },
   "outputs": [],
   "source": [
    "dict2 = doc_index(datawm,'id2')"
   ]
  },
  {
   "cell_type": "code",
   "execution_count": 28,
   "metadata": {
    "ExecuteTime": {
     "end_time": "2020-02-05T13:39:13.740337Z",
     "start_time": "2020-02-05T13:39:13.737104Z"
    },
    "scrolled": true
   },
   "outputs": [
    {
     "data": {
      "text/plain": [
       "['inferences', 'analyze', 'campaign', 'semma', 'preparation', 'actually', 'international', 'explorations', 'korea', 'consumers', 'associated', 'refer', 'records', 'congress', 'uncovers', 'more', 'combining', 'sets', 'might', 'jdm', 'property', 'conference', 'principles', 'defined', 'see', 'business', 'curves', 'israel', 'topic', 'raise', 'involves', 'metrics', 'case', 'proprietary', 'removes', 'violation', 'works', 'titled', 'reported', 'knowledge', 'kdd', 'analytics', 'limit', 'uses', 'artificial', 'fishing', 'open', 'rights', 'remaining', 'using', 'icde', 'play', 'give', 'modified', 'compiled', 'reach', 'misnomer', 'tools', 'complexity', 'visualization', 'overcome', 'usually', 'one', 'standard', 'necessary', 'fair', 'referring', 'notable', 'informed', 'new', 'anonymity', 'uncover', 'meet', 'markup', 'selling', 'online', 'personally', 'investigating', 'validation', 'controlled', 'conditions', 'mostly', 'version', 'contexts', 'input', 'forums', 'overridden', 'summary', 'uncovering', 'cases', 'submissions', 'reliable', 'walgreens', 'aliases', 'practice', 'collected', 'industry', 'compromise', 'without', 'material', 'owner', 'occurred', 'premier', 'bases', 'means', 'the', 'for', 'workstation', 'predict', 'lawsuit', 'europe', 'world', 'users', 'companies', 'exploiting', 'happening', 'would', 'inadvertently', 'exposed', 'economic', 'journal', 'storage', 'identifiable', 'applying', 'sufficient', 'well', 'approach', 'violates', 'even', 'connotations', 'time', 'since', 'observations', 'proper', 'archaeology', 'key', 'system', 'once', 'amounts', 'pitch', 'professional', 'like', 'became', 'aol', 'addressed', 'misused', 'libraries', 'database', 'negative', 'later', 'neural', 'program', 'produced', 'hypothesis', 'patrons', 'little', 'private', 'european', 'independently', 'defines', 'extracted', 'behavior', 'directive', 'regression', 'owners', 'buzzword', 'published', 'etc', 'proceedings', 'threat', 'comes', 'rule', 'says', 'tasks', 'other', 'reproduced', 'sequential', 'comprehensible', 'augmented', 'gap', 'strengthen', 'centuries', 'desired', 'however', 'validity', 'awareness', 'association', 'on', 'turn', 'overall', 'correctly', 'there', 'include', 'developed', 'rather', 'including', 'results', 'privacy', 'books', 'necessity', 'prescription', 'consequence', 'updating', 'ranging', 'conferences', 'facilitated', 'aside', 'interpret', 'step', 'occur', 'incomprehensibility', 'it', 'roc', 'snowden', 'variety', 'bad', 'community', 'uk', 'common', 'medicine', 'laws', 'legality', 'law', 'deducible', 'average', 'possibly', 'added', 'hipaa', 'frequently', 'presiding', 'language', 'set', 'called', 'six', 'pmml', 'containing', 'ubiquity', 'solution', 'citation', 'efficiently', 'available', 'requires', 'protected', 'turned', 'while', 'anomaly', 'recommended', 'transformative', 'project', 'evaluate', 'patterns', 'universities', 'find', 'applications', 'based', 'predictive', 'potentially', 'google', 'global', 'pattern', 'revelation', 'exception', 'implications', 'belong', 'exceptions', 'accurate', 'fayyad', 'made', 'economists', 'digital', 'before', 'appropriate', 'sponsorship', 'become', 'to', 'practical', 'result', 'bridges', 'ramasamy', 'found', 'portability', 'legislation', 'exist', 'seen', 'algorithms', 'edward', 'society', 'output', 'unusual', 'structures', 'several', 'theorem', 'practices', 'advise', 'allows', 'these', 'interchangeably', 'originally', 'reporting', 'popular', 'mining', 'provide', 'ethical', 'individuals', 'very', 'montreal', 'azevedo', 'lovell', 'enough', 'agreement', 'subsequently', 'part', 'identification', 'cause', 'essential', 'volume', 'web', 'manipulation', 'resulting', 'withdrawn', 'book', 'power', 'networks', 'introduced', 'thus', 'raised', 'press', 'phrase', 'vector', 'field', 'computing', 'aahc', 'licenses', 'various', 'strong', 'inference', 'application', 'theme', 'newsletter', 'importantly', 'businesses', 'show', 'proliferation', 'provided', 'focus', 'prevent', 'structure', 'cluster', 'company', 'exchanging', 'aware', 'overfitting', 'analysis', 'work', 'emotional', 'bear', 'applies', 'data', 'legitimate', 'make', 'regulatory', 'general', 'insurance', 'science', 'purposes', 'licensing', 'founding', 'conducted', 'consent', 'effectiveness', 'original', 'experimentation', 'positive', 'exploitation', 'methodology', 'subspace', 'accountability', 'biotech', 'pure', 'related', 'intelligence', 'dependencies', 'contain', 'legal', 'hnc', 'not', 'dramatically', 'standards', 'effectively', 'subfield', 'specially', 'noise', 'harbor', 'learned', 'quantities', 'se', 'hypotheses', 'together', 'goal', 'emails', 'researchers', 'suggests', 'processes', 'cover', 'mathematical', 'difference', 'major', 'surveillance', 'considered', 'aaai', 'appeared', 'decision', 'must', 'interesting', 'change', 'article', 'started', 'primary', 'states', 'classify', 'named', 'reviews', 'judge', 'large', 'code', 'grown', 'phases', 'indicated', 'future', 'contrast', 'information', 'masquerades', 'extract', 'exchange', 'valid', 'licences', 'workshop', 'commission', 'variations', 'sigmod', 'statistics', 'rules', 'obligations', 'databases', 'arise', 'second', 'high', 'this', 'increasing', 'controls', 'uthurusamy', 'interest', 'bodily', 'economist', 'per', 'dredging', 'simple', 'background', 'clandestine', 'simplified', 'generally', 'review', 'execute', 'around', 'anonymized', 'size', 'population', 'longstanding', 'supported', 'discoveries', 'previously', 'trees', 'areas', 'gregory', 'pharmaceutical', 'process', 'cross', 'wider', 'commercial', 'facilitates', 'examples', 'annual', 'digitization', 'management', 'hidden', 'define', 'questions', 'teams', 'additional', 'settlement', 'family', 'enforcement', 'transform', 'marketing', 'apparent', 'automatic', 'individual', 'indicates', 'health', 'sigkdd', 'harm', 'snooping', 'subject', 'multivariate', 'aspects', 'example', 'leave', 'extracting', 'appear', 'necessarily', 'efforts', 'educational', 'lawful', 'testing', 'amount', 'source', 'involving', 'according', 'use', 'identified', 'dataset', 'miner', 'short', 'intention', 'highest', 'stored', 'warehouse', 'clustering', 'recommendation', 'research', 'publishers', 'applicable', 'support', 'fully', 'protection', 'academic', 'america', 'accuracy', 'act', 'leading', 'attempts', 'task', 'biannual', 'level', 'consequently', 'computer', 'cleaned', 'extraction', 'unintentionally', 'identify', 'present', 'distinguish', 'stages', 'following', 'hosted', 'content', 'public', 'statistical', 'agency', 'learning', 'mart', 'dmg', 'expose', 'newly', 'prediction', 'used', 'communities', 'peoples', 'search', 'also', 'relation', 'trademarked', 'histories', 'quality', 'technology', 'copyright', 'miners', 'similarly', 'studies', 'direct', 'verify', 'digitisation', 'government', 'reasons', 'covers', 'body', 'readily', 'polls', 'today', 'ways', 'term', 'increasingly', 'performing', 'collection', 'steps', 'sources', 'java', 'rate', 'offer', 'statisticians', 'comparison', 'greater', 'development', 'representatives', 'ability', 'aided', 'exists', 'classes', 'intellectual', 'taiwan', 'kind', 'paper', 'bayes', 'multiple', 'united', 'concise', 'scale', 'format', 'different', 'importance', 'supplant', 'compared', 'mined', 'small', 'analyzing', 'people', 'training', 'regardless', 'limitations', 'intersection', 'automated', 'intelligent', 'under', 'launched', 'algorithm', 'confidentiality', 'missing', 'methods', 'indexed', 'discovered', 'way', 'first', 'trying', 'text', 'acceptance', 'commonly', 'stalled', 'viewed', 'target', 'interdisciplinary', 'indirect', 'trained', 'wherever', 'due', 'week', 'in', 'indices', 'countries', 'limitation', 'cleaning', 'acm', 'topics', 'terms', 'coined', 'within', 'name', 'safe', 'increased', 'spatial', 'san', 'sample', 'applied', 'reaching', 'extensions', 'japan', 'permission', 'unknown', 'majority', 'inadvertent', 'spam', 'machinery', 'financial', 'civil', 'allow', 'problem', 'underway', 'allowing', 'us', 'model', 'filed', 'ruled', 'especially', 'many', 'underscores', 'systems', 'discovery', 'throughout', 'larger', 'draft', 'addresses', 'intended', 'provider', 'failed', 'significant', 'stakeholder', 'may', 'anyone', 'models', 'country', 'sig', 'as', 'processing', 'warehousing', 'measured', 'early', 'obtain', 'group', 'becomes', 'neither', 'santos', 'successors', 'instance', 'groups', 'particular', 'needed', 'usama', 'if', 'where', 'ai', 'contractual', 'machine', 'title', 'test', 'security', 'specific', 'creating', 'released', 'restriction', 'ethics', 'able', 'displayed', 'journalists', 'discovering', 'raw', 'total', 'indiscretion', 'discussion', 'dialogue', 'led', 'actual', 'south', 'year', 'harvesting', 'considerations', 'anonymous', 'passage', 'special', 'provision', 'produce', 'otherwise', 'aggregation', 'regarding', 'techniques', 'manual', 'disclosure', 'issue', 'regulations', 'evaluation', 'interpretation', 'genetic', 'assembled', 'arena', 'amend', 'detection', 'kluwer', 'often', 'machines', 'times', 'parts', 'ferpa', 'identifying', 'currently', 'form', 'hargreaves', 'proposed', 'access', 'active', 'acceptable', 'known', 'final', 'revoke', 'interestingness', 'populations', 'michael', 'critical', 'national', 'via', 'concerns', 'pricing', 'space', 'analyze', 'factors', 'concerned', 'three', 'unscrupulous', 'associated', 'points', 'link', 'focuses', 'hyperlinks', 'more', 'combining', 'relationships', 'might', 'attractive', 'captures', 'defined', 'technically', 'much', 'facilitate', 'involves', 'autonomously', 'insight', 'service', 'retrieval', 'gathered', 'commodity', 'customers', 'works', 'wide', 'aliweb', 'knowledge', 'trade', 'uses', 'divided', 'problems', 'extend', 'differentiated', 'using', 'encourages', 'seco', 'semantic', 'heterogeneity', 'reference', 'tools', 'one', 'usually', 'standard', 'hyponymy', 'vista', 'selling', 'lycos', 'evaluating', 'mutual', 'selection', 'permits', 'summary', 'terminology', 'realize', 'privilege', 'inaccuracies', 'collected', 'requirements', 'score', 'comfort', 'without', 'kinds', 'english', 'the', 'world', 'for', 'users', 'inferred', 'companies', 'topology', 'represent', 'would', 'hz', 'alta', 'demonstrate', 'terrorism', 'collaborative', 'order', 'preventing', 'well', 'approach', 'violates', 'even', 'time', 'since', 'behalf', 'better', 'like', 'accessing', 'others', 'inside', 'database', 'benefit', 'characteristics', 'needs', 'tendency', 'address', 'sophisticated', 'contents', 'site', 'odds', 'behavior', 'servers', 'owners', 'threat', 'outlined', 'rule', 'offers', 'personalized', 'reasoning', 'verification', 'however', 'validity', 'portals', 'judging', 'similar', 'customer', 'there', 'include', 'developed', 'depending', 'tries', 'including', 'results', 'privacy', 'obtained', 'subjective', 'always', 'back', 'interpret', 'logs', 'organize', 'server', 'it', 'lawsuits', 'analyzed', 'community', 'common', 'threats', 'law', 'organized', 'gb', 'faster', 'log', 'save', 'language', 'schema', 'set', 'available', 'good', 'indexing', 'user', 'condition', 'evaluate', 'patterns', 'find', 'applications', 'based', 'another', 'pattern', 'benefits', 'activities', 'made', 'before', 'precision', 'become', 'frameworks', 'to', 'result', 'found', 'legislation', 'essentially', 'algorithms', 'society', 'category', 'utilized', 'structures', 'several', 'practices', 'these', 'legally', 'individuals', 'mining', 'ethical', 'organization', 'provide', 'origin', 'lost', 'integration', 'website', 'inner', 'cause', 'web', 'constitute', 'nature', 'single', 'introduced', 'thus', 'vector', 'strong', 'demonstrated', 'application', 'production', 'show', 'clustered', 'structure', 'corpus', 'acquired', 'company', 'ratio', 'analysis', 'work', 'maintained', 'researches', 'data', 'make', 'interpreting', 'volumes', 'general', 'situation', 'possible', 'could', 'purposes', 'release', 'consent', 'software', 'similarity', 'utilize', 'provides', 'frequency', 'component', 'related', 'integrity', 'predicting', 'reducing', 'personal', 'profitability', 'standards', 'understanding', 'corporations', 'goal', 'researchers', 'retain', 'considered', 'important', 'elements', 'obliged', 'issues', 'basis', 'serious', 'page', 'interesting', 'confirmation', 'poses', 'invasion', 'classify', 'typically', 'unique', 'code', 'reports', 'buy', 'agencies', 'treating', 'information', 'hard', 'extract', 'traded', 'by', 'statistics', 'proposes', 'high', 'this', 'increasing', 'religion', 'orientation', 'collecting', 'merits', 'prompted', 'metacrawler', 'profiles', 'losing', 'browser', 'generally', 'direction', 'affected', 'phase', 'codes', 'denial', 'areas', 'competitor', 'process', 'cross', 'infer', 'type', 'agents', 'management', 'separate', 'questions', 'default', 'additional', 'marketing', 'relevant', 'transform', 'interests', 'individual', 'recall', 'attributes', 'responsible', 'develop', 'resolve', 'authors', 'isolation', 'classified', 'providing', 'according', 'amount', 'involving', 'done', 'pages', 'organizations', 'use', 'generate', 'clustering', 'recommendation', 'pipeline', 'research', 'hyperlink', 'function', 'invaded', 'inverse', 'growing', 'accuracy', 'internet', 'criticized', 'extricate', 'act', 'occurs', 'mouse', 'graph', 'level', 'along', 'look', 'create', 'extraction', 'gain', 'identify', 'content', 'criminal', 'personalization', 'classifier', 'implement', 'complicated', 'promotional', 'used', 'search', 'also', 'some', 'technology', 'studies', 'created', 'avoided', 'government', 'whole', 'usual', 'reacting', 'reveal', 'taxonomies', 'construct', 'classification', 'risk', 'ways', 'term', 'words', 'sources', 'disseminated', 'offer', 'development', 'particularly', 'hypertext', 'degrade', 'area', 'kind', 'entropy', 'usage', 'different', 'importance', 'compared', 'serve', 'people', 'analyzing', 'training', 'evaluative', 'automated', 'intelligent', 'under', 'totally', 'representation', 'algorithm', 'controversial', 'categorize', 'race', 'word', 'generation', 'costs', 'discover', 'methods', 'way', 'opinion', 'browsing', 'advantages', 'text', 'shows', 'target', 'documents', 'building', 'filter', 'fight', 'navigation', 'establish', 'name', 'increased', 'applied', 'utilization', 'feature', 'purpose', 'html', 'instead', 'mainly', 'probabilistic', 'model', 'summarized', 'especially', 'structural', 'many', 'get', 'relationship', 'systems', 'discovery', 'introducing', 'take', 'captured', 'view', 'traced', 'chinese', 'models', 'types', 'rarely', 'as', 'clicks', 'given', 'schemes', 'group', 'sexual', 'two', 'useful', 'likeliness', 'understand', 'capability', 'node', 'particular', 'they', 'theory', 'needed', 'biases', 'utilizing', 'higher', 'sex', 'ai', 'specific', 'attract', 'sites', 'increase', 'discovering', 'eventually', 'try', 'enabled', 'subset', 'identity', 'lack', 'features', 'anonymous', 'trend', 'document', 'regarding', 'techniques', 'bag', 'issue', 'webcrawler', 'apparatuses', 'unstructured', 'querying', 'times', 'identifying', 'concern', 'trading', 'form', 'traditional', 'access', 'costa', 'latent', 'makes', 'connection', 'concerning', 'concerns']"
      ]
     },
     "execution_count": 28,
     "metadata": {},
     "output_type": "execute_result"
    }
   ],
   "source": [
    "all_words = list(dict1.keys())+list(dict2.keys());all_words"
   ]
  },
  {
   "cell_type": "code",
   "execution_count": 29,
   "metadata": {
    "ExecuteTime": {
     "end_time": "2020-02-05T13:39:14.056206Z",
     "start_time": "2020-02-05T13:39:13.741333Z"
    },
    "run_control": {
     "marked": false
    }
   },
   "outputs": [],
   "source": [
    "inverted_index = {**doc_index(datadm,'id1'),**doc_index(datawm,'id2')}"
   ]
  },
  {
   "cell_type": "code",
   "execution_count": 30,
   "metadata": {
    "ExecuteTime": {
     "end_time": "2020-02-05T13:39:14.060700Z",
     "start_time": "2020-02-05T13:39:14.057534Z"
    },
    "run_control": {
     "marked": false
    }
   },
   "outputs": [
    {
     "data": {
      "text/plain": [
       "'<id2,34,[3, 25, 152, 160, 168, 186, 194, 368, 403, 435, 440, 469, 474, 487, 494, 501, 512, 536, 589, 594, 598, 620, 638, 660, 723, 730, 768, 769, 795, 902, 906, 929, 933, 975]>'"
      ]
     },
     "execution_count": 30,
     "metadata": {},
     "output_type": "execute_result"
    }
   ],
   "source": [
    "inverted_index['data']"
   ]
  },
  {
   "cell_type": "code",
   "execution_count": 31,
   "metadata": {
    "ExecuteTime": {
     "end_time": "2020-02-05T13:39:14.094137Z",
     "start_time": "2020-02-05T13:39:14.062209Z"
    },
    "run_control": {
     "marked": false
    }
   },
   "outputs": [],
   "source": [
    "for key, value in inverted_index.items():\n",
    "    if key in dict1 and key in dict2:\n",
    "        inverted_index[key] = str(value) +\",\"+ str(dict1[key])"
   ]
  },
  {
   "cell_type": "code",
   "execution_count": 32,
   "metadata": {
    "ExecuteTime": {
     "end_time": "2020-02-05T13:39:14.108329Z",
     "start_time": "2020-02-05T13:39:14.096300Z"
    },
    "collapsed": true,
    "run_control": {
     "marked": false
    }
   },
   "outputs": [
    {
     "data": {
      "text/plain": [
       "{'inferences': '<id1,1,[301]>', 'analyze': '<id2,1,[628]>,<id1,1,[724]>', 'campaign': '<id1,1,[258]>', 'semma': '<id1,2,[661, 681]>', 'preparation': '<id1,3,[228, 1137, 1177]>', 'actually': '<id1,2,[697, 757]>', 'international': '<id1,4,[449, 485, 945, 975]>', 'explorations': '<id1,2,[482, 956]>', 'korea': '<id1,1,[1566]>', 'consumers': '<id1,1,[1299]>', 'associated': '<id2,1,[360]>,<id1,1,[1091]>', 'refer': '<id1,2,[286, 327]>', 'records': '<id1,2,[169, 173]>', 'congress': '<id1,1,[1343]>', 'uncovers': '<id1,1,[1138]>', 'more': '<id2,1,[318]>,<id1,1,[1385]>', 'combining': '<id2,1,[616]>,<id1,1,[1153]>', 'sets': '<id1,7,[7, 542, 587, 617, 727, 1119, 1227]>', 'might': '<id2,6,[300, 406, 472, 540, 554, 605]>,<id1,2,[211, 1163]>', 'jdm': '<id1,3,[1000, 1004, 1008]>', 'property': '<id1,1,[1459]>', 'conference': '<id1,7,[450, 486, 491, 946, 972, 974, 976]>', 'principles': '<id1,1,[1303]>', 'defined': '<id2,1,[452]>,<id1,1,[625]>', 'see': '<id1,1,[1631]>', 'business': '<id1,5,[108, 430, 1054, 1079, 1371]>', 'curves': '<id1,1,[896]>', 'israel': '<id1,1,[1563]>', 'topic': '<id1,1,[416]>', 'raise': '<id1,1,[1106]>', 'involves': '<id2,1,[737]>,<id1,4,[50, 185, 744, 1152]>', 'metrics': '<id1,1,[60]>', 'case': '<id1,1,[1588]>', 'proprietary': '<id1,1,[1621]>', 'removes': '<id1,1,[736]>', 'violation': '<id1,1,[1273]>', 'works': '<id2,2,[765, 796]>,<id1,1,[1435]>', 'titled': '<id1,1,[954]>', 'reported': '<id1,1,[666]>', 'knowledge': '<id2,4,[387, 431, 662, 980]>,<id1,12,[40, 76, 405, 411, 437, 453, 474, 503, 619, 798, 921, 935]>', 'kdd': '<id1,4,[44, 238, 484, 622]>', 'analytics': '<id1,3,[143, 205, 1021]>', 'limit': '<id1,1,[715]>', 'uses': '<id2,1,[625]>,<id1,4,[265, 838, 1367, 1597]>', 'artificial': '<id1,3,[104, 147, 593]>', 'fishing': '<id1,3,[283, 324, 360]>', 'open': '<id1,1,[1541]>', 'rights': '<id1,4,[1298, 1412, 1451, 1461]>', 'remaining': '<id1,1,[708]>', 'using': '<id2,1,[246]>,<id1,2,[186, 667]>', 'icde': '<id1,1,[971]>', 'play': '<id1,1,[1186]>', 'give': '<id1,1,[1358]>', 'modified': '<id1,1,[1216]>', 'compiled': '<id1,2,[1188, 1195]>', 'reach': '<id1,1,[1331]>', 'misnomer': '<id1,1,[72]>', 'tools': '<id2,3,[203, 685, 714]>,<id1,1,[117]>', 'complexity': '<id1,2,[61, 545]>', 'visualization': '<id1,1,[65]>', 'overcome': '<id1,1,[836]>', 'usually': '<id2,1,[894]>,<id1,2,[184, 595]>', 'one': '<id2,3,[506, 609, 964]>,<id1,2,[1270, 1601]>', 'standard': '<id2,1,[968]>,<id1,5,[633, 658, 992, 999, 1023]>', 'necessary': '<id1,1,[904]>', 'fair': '<id1,4,[1257, 1553, 1560, 1578]>', 'referring': '<id1,1,[144]>', 'notable': '<id1,1,[1073]>', 'informed': '<id1,2,[1359, 1390]>', 'new': '<id1,2,[311, 762]>', 'anonymity': '<id1,1,[1401]>', 'uncover': '<id1,2,[270, 695]>', 'meet': '<id1,2,[900, 912]>', 'markup': '<id1,1,[1026]>', 'selling': '<id2,1,[485]>,<id1,1,[1279]>', 'online': '<id1,1,[66]>', 'personally': '<id1,1,[1251]>', 'investigating': '<id1,1,[770]>', 'validation': '<id1,1,[645]>', 'controlled': '<id1,1,[1427]>', 'conditions': '<id1,1,[1511]>', 'mostly': '<id1,1,[121]>', 'version': '<id1,1,[779]>', 'contexts': '<id1,1,[1105]>', 'input': '<id1,1,[196]>', 'forums': '<id1,1,[445]>', 'overridden': '<id1,1,[1508]>', 'summary': '<id2,1,[52]>,<id1,1,[195]>', 'uncovering': '<id1,1,[582]>', 'cases': '<id1,1,[1104]>', 'submissions': '<id1,1,[498]>', 'reliable': '<id1,1,[299]>', 'walgreens': '<id1,1,[1275]>', 'aliases': '<id1,1,[356]>', 'practice': '<id1,3,[330, 353, 1373]>', 'collected': '<id2,1,[593]>,<id1,1,[1212]>', 'industry': '<id1,1,[991]>', 'compromise': '<id1,1,[1141]>', 'without': '<id2,1,[430]>,<id1,3,[333, 1010, 1438]>', 'material': '<id1,1,[124]>', 'owner': '<id1,1,[1441]>', 'occurred': '<id1,2,[514, 1235]>', 'premier': '<id1,1,[923]>', 'bases': '<id1,1,[980]>', 'means': '<id1,1,[1555]>', 'the': '<id2,16,[45, 252, 409, 433, 482, 509, 556, 592, 666, 733, 839, 875, 896, 909, 943, 951]>,<id1,28,[68, 110, 152, 242, 277, 335, 363, 483, 499, 509, 526, 618, 655, 730, 795, 846, 881, 922, 1099, 1181, 1248, 1354, 1421, 1480, 1512, 1524, 1605, 1617]>', 'for': '<id2,1,[794]>,<id1,5,[206, 374, 857, 1014, 1580]>', 'workstation': '<id1,1,[389]>', 'predict': '<id1,1,[758]>', 'lawsuit': '<id1,1,[1277]>', 'europe': '<id1,3,[1290, 1447, 1523]>', 'world': '<id2,3,[8, 674, 687]>,<id1,1,[1484]>', 'users': '<id2,3,[173, 448, 699]>,<id1,1,[1308]>', 'companies': '<id2,5,[262, 275, 467, 510, 516]>,<id1,3,[1284, 1289, 1311]>', 'exploiting': '<id1,1,[601]>', 'happening': '<id1,1,[794]>', 'would': '<id2,1,[109]>,<id1,2,[867, 876]>', 'inadvertently': '<id1,1,[1245]>', 'exposed': '<id1,1,[1326]>', 'economic': '<id1,1,[349]>', 'journal': '<id1,4,[469, 500, 507, 953]>', 'storage': '<id1,1,[537]>', 'identifiable': '<id1,1,[1252]>', 'applying': '<id1,1,[579]>', 'sufficient': '<id1,1,[792]>', 'well': '<id2,1,[720]>,<id1,2,[97, 1559]>', 'approach': '<id2,1,[734]>,<id1,1,[1392]>', 'violates': '<id2,1,[479]>,<id1,1,[1256]>', 'even': '<id2,1,[297]>,<id1,1,[1224]>', 'connotations': '<id1,1,[373]>', 'time': '<id2,1,[373]>,<id1,2,[376, 714]>', 'since': '<id2,1,[367]>,<id1,4,[381, 940, 949, 1007]>', 'observations': '<id1,1,[737]>', 'proper': '<id1,1,[774]>', 'archaeology': '<id1,1,[400]>', 'key': '<id1,1,[1022]>', 'system': '<id1,2,[102, 223]>', 'once': '<id1,1,[872]>', 'amounts': '<id1,1,[78]>', 'pitch': '<id1,1,[386]>', 'professional': '<id1,1,[924]>', 'like': '<id2,1,[544]>,<id1,1,[322]>', 'became': '<id1,3,[418, 428, 487]>', 'aol': '<id1,1,[1247]>', 'addressed': '<id1,1,[1341]>', 'misused': '<id1,1,[752]>', 'libraries': '<id1,1,[1537]>', 'database': '<id2,5,[124, 722, 761, 809, 828]>,<id1,11,[14, 51, 187, 369, 378, 387, 599, 1432, 1444, 1450, 1463]>', 'negative': '<id1,1,[362]>', 'later': '<id1,2,[465, 477]>', 'neural': '<id1,1,[563]>', 'program': '<id1,1,[1128]>', 'produced': '<id1,1,[803]>', 'hypothesis': '<id1,2,[334, 776]>', 'patrons': '<id1,1,[1274]>', 'little': '<id1,1,[766]>', 'private': '<id1,1,[1166]>', 'european': '<id1,4,[989, 1307, 1430, 1513]>', 'independently': '<id1,1,[1063]>', 'defines': '<id1,1,[637]>', 'extracted': '<id1,1,[1016]>', 'behavior': '<id2,2,[176, 338]>,<id1,2,[760, 1096]>', 'directive': '<id1,2,[1464, 1495]>', 'regression': '<id1,1,[524]>', 'owners': '<id2,1,[491]>,<id1,1,[1460]>', 'buzzword': '<id1,1,[85]>', 'published': '<id1,4,[347, 671, 947, 950]>', 'etc': '<id1,1,[407]>', 'proceedings': '<id1,1,[948]>', 'threat': '<id2,1,[608]>,<id1,1,[1182]>', 'comes': '<id1,1,[1185]>', 'rule': '<id2,1,[565]>,<id1,2,[178, 1387]>', 'says': '<id1,1,[1383]>', 'tasks': '<id1,1,[748]>', 'other': '<id1,1,[395]>', 'reproduced': '<id1,1,[761]>', 'sequential': '<id1,1,[180]>', 'comprehensible': '<id1,1,[33]>', 'augmented': '<id1,1,[550]>', 'gap': '<id1,1,[590]>', 'strengthen': '<id1,1,[1297]>', 'centuries': '<id1,1,[515]>', 'desired': '<id1,3,[855, 901, 913]>', 'however': '<id2,1,[611]>,<id1,8,[308, 424, 629, 662, 1056, 1223, 1300, 1490]>', 'validity': '<id2,2,[366, 931]>,<id1,1,[303]>', 'awareness': '<id1,1,[1127]>', 'association': '<id1,2,[177, 927]>', 'on': '<id1,1,[1465]>', 'turn': '<id1,2,[920, 1285]>', 'overall': '<id1,2,[23, 237]>', 'correctly': '<id1,1,[886]>', 'there': '<id2,2,[374, 829]>,<id1,1,[981]>', 'include': '<id2,1,[384]>,<id1,3,[398, 521, 962]>', 'developed': '<id2,1,[201]>,<id1,1,[1030]>', 'rather': '<id1,2,[1291, 1530]>', 'including': '<id2,1,[231]>,<id1,1,[103]>', 'results': '<id2,1,[240]>,<id1,4,[220, 644, 754, 769]>', 'privacy': '<id2,4,[418, 419, 507, 610]>,<id1,10,[1109, 1131, 1143, 1184, 1272, 1293, 1309, 1339, 1407, 1413]>', 'books': '<id1,1,[1593]>', 'necessity': '<id1,1,[1399]>', 'prescription': '<id1,1,[1280]>', 'consequence': '<id1,1,[1313]>', 'updating': '<id1,1,[67]>', 'ranging': '<id1,1,[357]>', 'conferences': '<id1,2,[959, 970]>', 'facilitated': '<id1,1,[1515]>', 'aside': '<id1,1,[45]>', 'interpret': '<id2,1,[706]>,<id1,1,[917]>', 'step': '<id1,6,[39, 48, 210, 235, 797, 916]>', 'occur': '<id1,2,[807, 1147]>', 'incomprehensibility': '<id1,1,[1394]>', 'it': '<id2,4,[18, 604, 773, 927]>,<id1,6,[83, 459, 588, 627, 819, 1206]>', 'roc': '<id1,1,[895]>', 'snowden': '<id1,1,[1315]>', 'variety': '<id1,1,[355]>', 'bad': '<id1,1,[329]>', 'community': '<id2,1,[220]>,<id1,3,[370, 423, 443]>', 'uk': '<id1,4,[1470, 1481, 1496, 1502]>', 'common': '<id2,1,[955]>,<id1,4,[716, 746, 820, 1145]>', 'medicine': '<id1,1,[1080]>', 'laws': '<id1,2,[1294, 1433]>', 'legality': '<id1,1,[1110]>', 'law': '<id2,1,[533]>,<id1,5,[1122, 1419, 1474, 1504, 1550]>', 'deducible': '<id1,1,[1168]>', 'average': '<id1,1,[1395]>', 'possibly': '<id1,1,[1156]>', 'added': '<id1,1,[133]>', 'hipaa': '<id1,4,[1353, 1355, 1374, 1409]>', 'frequently': '<id1,1,[86]>', 'presiding': '<id1,1,[1586]>', 'language': '<id2,1,[944]>,<id1,2,[1027, 1029]>', 'set': '<id2,1,[885]>,<id1,14,[30, 296, 689, 702, 732, 810, 827, 831, 840, 851, 870, 879, 1197, 1242]>', 'called': '<id1,2,[471, 833]>', 'six': '<id1,2,[638, 745]>', 'pmml': '<id1,1,[1028]>', 'containing': '<id1,1,[738]>', 'ubiquity': '<id1,1,[528]>', 'solution': '<id1,1,[1526]>', 'citation': '<id1,1,[1334]>', 'efficiently': '<id1,1,[612]>', 'available': '<id2,1,[731]>,<id1,4,[1071, 1608, 1616, 1620]>', 'requires': '<id1,2,[1135, 1356]>', 'protected': '<id1,1,[1462]>', 'turned': '<id1,1,[392]>', 'while': '<id1,1,[1083]>', 'anomaly': '<id1,1,[174]>', 'recommended': '<id1,1,[1207]>', 'transformative': '<id1,2,[1572, 1596]>', 'project': '<id1,2,[1592, 1599]>', 'evaluate': '<id2,1,[881]>,<id1,1,[893]>', 'patterns': '<id2,7,[7, 158, 369, 393, 522, 600, 982]>,<id1,21,[4, 75, 166, 192, 273, 304, 512, 519, 584, 696, 707, 802, 812, 825, 848, 875, 883, 899, 911, 919, 1140]>', 'universities': '<id1,1,[1535]>', 'find': '<id2,3,[276, 298, 978]>,<id1,2,[824, 1238]>', 'applications': '<id2,4,[166, 256, 447, 557]>,<id1,4,[1041, 1055, 1607, 1619]>', 'based': '<id2,4,[73, 293, 577, 779]>,<id1,1,[1241]>', 'predictive': '<id1,3,[204, 1020, 1024]>', 'potentially': '<id1,1,[1228]>', 'google': '<id1,2,[1583, 1590]>', 'global': '<id1,1,[1316]>', 'pattern': '<id2,2,[340, 898]>,<id1,1,[181]>', 'revelation': '<id1,1,[1250]>', 'exception': '<id1,3,[1479, 1487, 1497]>', 'implications': '<id1,1,[1089]>', 'belong': '<id1,1,[236]>', 'exceptions': '<id1,1,[1532]>', 'accurate': '<id1,1,[218]>', 'fayyad': '<id1,2,[461, 467]>', 'made': '<id2,2,[441, 595]>,<id1,1,[302]>', 'economists': '<id1,1,[319]>', 'digital': '<id1,1,[1069]>', 'before': '<id2,1,[961]>,<id1,1,[682]>', 'appropriate': '<id1,1,[151]>', 'sponsorship': '<id1,1,[458]>', 'become': '<id2,1,[827]>,<id1,1,[1217]>', 'to': '<id2,1,[851]>,<id1,1,[835]>', 'practical': '<id1,2,[114, 127]>', 'result': '<id2,3,[530, 572, 868]>,<id1,2,[229, 1176]>', 'bridges': '<id1,1,[589]>', 'ramasamy': '<id1,1,[462]>', 'found': '<id2,1,[790]>,<id1,2,[813, 1077]>', 'portability': '<id1,1,[1350]>', 'legislation': '<id2,1,[555]>,<id1,2,[1408, 1428]>', 'exist': '<id1,1,[1453]>', 'seen': '<id1,1,[193]>', 'algorithms': '<id2,3,[196, 539, 567]>,<id1,6,[568, 611, 685, 806, 816, 823]>', 'edward': '<id1,1,[1314]>', 'society': '<id2,1,[258]>,<id1,2,[1494, 1539]>', 'output': '<id1,2,[853, 856]>', 'unusual': '<id1,1,[172]>', 'structures': '<id2,1,[799]>,<id1,1,[64]>', 'several': '<id2,1,[830]>,<id1,3,[668, 888, 1239]>', 'theorem': '<id1,1,[523]>', 'practices': '<id2,1,[553]>,<id1,2,[1259, 1405]>', 'advise': '<id1,1,[1129]>', 'allows': '<id1,1,[1498]>', 'these': '<id2,3,[349, 552, 708]>,<id1,2,[191, 306]>', 'interchangeably': '<id1,1,[440]>', 'originally': '<id1,2,[125, 1204]>', 'reporting': '<id1,1,[231]>', 'popular': '<id1,2,[419, 429]>', 'mining': '<id2,47,[1, 4, 16, 49, 60, 66, 78, 91, 102, 121, 134, 141, 144, 147, 150, 153, 181, 195, 200, 210, 223, 255, 322, 356, 380, 394, 398, 416, 521, 538, 590, 624, 641, 647, 652, 655, 656, 724, 736, 752, 817, 903, 907, 920, 942, 963, 976]>,<id1,73,[1, 17, 37, 71, 81, 113, 132, 155, 179, 182, 209, 234, 247, 264, 289, 338, 366, 379, 388, 394, 427, 436, 452, 473, 493, 502, 577, 636, 643, 657, 674, 684, 694, 729, 743, 750, 805, 815, 822, 843, 860, 907, 938, 961, 964, 986, 995, 998, 1032, 1040, 1050, 1066, 1076, 1086, 1092, 1102, 1115, 1134, 1173, 1283, 1404, 1424, 1434, 1437, 1455, 1477, 1489, 1500, 1520, 1557, 1571, 1604, 1624]>', 'provide': '<id2,3,[697, 701, 726]>,<id1,2,[596, 1363]>', 'ethical': '<id2,2,[411, 586]>,<id1,2,[1088, 1097]>', 'individuals': '<id2,1,[551]>,<id1,6,[1201, 1219, 1234, 1240, 1357, 1396]>', 'very': '<id1,1,[977]>', 'montreal': '<id1,1,[456]>', 'azevedo': '<id1,1,[677]>', 'lovell': '<id1,2,[345, 351]>', 'enough': '<id1,3,[705, 710, 1230]>', 'agreement': '<id1,2,[1322, 1332]>', 'subsequently': '<id1,1,[903]>', 'part': '<id1,3,[232, 1582, 1595]>', 'identification': '<id1,2,[1165, 1233]>', 'cause': '<id2,1,[407]>,<id1,2,[1189, 1262]>', 'essential': '<id1,1,[723]>', 'volume': '<id1,1,[275]>', 'web': '<id2,53,[0, 10, 17, 47, 53, 55, 58, 64, 76, 80, 87, 89, 97, 107, 115, 128, 133, 139, 142, 145, 148, 159, 172, 177, 179, 198, 208, 221, 320, 354, 378, 396, 414, 622, 632, 636, 639, 645, 650, 653, 663, 676, 689, 718, 732, 735, 750, 816, 822, 825, 919, 925, 959]>,<id1,1,[1436]>', 'manipulation': '<id1,1,[538]>', 'resulting': '<id1,1,[852]>', 'withdrawn': '<id1,1,[1009]>', 'book': '<id1,2,[111, 1584]>', 'power': '<id1,1,[530]>', 'networks': '<id1,1,[564]>', 'introduced': '<id2,1,[859]>,<id1,1,[1486]>', 'thus': '<id2,2,[312, 446]>,<id1,1,[790]>', 'raised': '<id1,1,[1130]>', 'press': '<id1,1,[431]>', 'phrase': '<id1,1,[377]>', 'vector': '<id2,2,[834, 843]>,<id1,1,[574]>', 'field': '<id1,3,[508, 560, 926]>', 'computing': '<id1,1,[928]>', 'aahc': '<id1,1,[1384]>', 'licenses': '<id1,2,[1609, 1622]>', 'various': '<id1,1,[1157]>', 'strong': '<id2,1,[564]>,<id1,1,[1292]>', 'inference': '<id1,1,[57]>', 'application': '<id2,3,[2, 151, 615]>,<id1,2,[98, 1612]>', 'theme': '<id1,1,[632]>', 'newsletter': '<id1,1,[480]>', 'importantly': '<id1,1,[1386]>', 'businesses': '<id1,1,[1426]>', 'show': '<id2,1,[381]>,<id1,1,[648]>', 'proliferation': '<id1,1,[527]>', 'provided': '<id1,1,[1286]>', 'focus': '<id1,1,[1525]>', 'prevent': '<id1,1,[793]>', 'structure': '<id2,20,[40, 48, 63, 65, 70, 77, 90, 96, 101, 105, 120, 146, 623, 631, 640, 646, 651, 669, 804, 821]>,<id1,1,[34]>', 'cluster': '<id1,2,[170, 565]>', 'company': '<id2,2,[303, 591]>,<id1,2,[385, 1278]>', 'exchanging': '<id1,1,[1015]>', 'aware': '<id1,1,[1209]>', 'overfitting': '<id1,2,[784, 834]>', 'analysis': '<id2,2,[332, 899]>,<id1,14,[38, 47, 95, 142, 158, 171, 200, 245, 249, 525, 548, 566, 1161, 1180]>', 'work': '<id2,1,[190]>,<id1,1,[1575]>', 'emotional': '<id1,1,[1264]>', 'bear': '<id1,1,[765]>', 'applies': '<id1,1,[1416]>', 'data': '<id2,34,[3, 25, 152, 160, 168, 186, 194, 368, 403, 435, 440, 469, 474, 487, 494, 501, 512, 536, 589, 594, 598, 620, 638, 660, 723, 730, 768, 769, 795, 902, 906, 929, 933, 975]>,<id1,135,[0, 6, 16, 29, 36, 52, 55, 70, 79, 82, 89, 112, 131, 141, 154, 161, 168, 197, 208, 215, 225, 227, 233, 244, 246, 248, 261, 263, 276, 280, 282, 284, 288, 295, 315, 323, 325, 332, 337, 365, 393, 399, 426, 435, 451, 472, 492, 501, 513, 520, 535, 541, 547, 553, 576, 586, 603, 616, 635, 642, 653, 656, 673, 683, 688, 693, 699, 701, 718, 719, 721, 726, 728, 734, 741, 742, 749, 764, 800, 804, 809, 814, 821, 830, 841, 842, 859, 906, 937, 960, 963, 969, 979, 985, 994, 997, 1031, 1039, 1049, 1065, 1070, 1075, 1085, 1101, 1114, 1118, 1133, 1136, 1148, 1150, 1154, 1167, 1172, 1178, 1187, 1190, 1196, 1203, 1211, 1213, 1226, 1282, 1287, 1324, 1400, 1402, 1423, 1446, 1454, 1488, 1519, 1603, 1623, 1626, 1630]>', 'legitimate': '<id1,1,[865]>', 'make': '<id2,3,[113, 514, 558]>,<id1,1,[1164]>', 'regulatory': '<id1,1,[1346]>', 'general': '<id2,1,[876]>,<id1,2,[137, 829]>', 'insurance': '<id1,1,[1349]>', 'science': '<id1,4,[21, 558, 958, 1081]>', 'purposes': '<id2,1,[477]>,<id1,3,[1124, 1179, 1501]>', 'licensing': '<id1,1,[1529]>', 'founding': '<id1,1,[476]>', 'conducted': '<id1,2,[647, 679]>', 'consent': '<id2,1,[432]>,<id1,2,[1360, 1391]>', 'effectiveness': '<id1,1,[256]>', 'original': '<id1,1,[1574]>', 'experimentation': '<id1,1,[358]>', 'positive': '<id1,2,[359, 372]>', 'exploitation': '<id1,1,[1310]>', 'methodology': '<id1,2,[649, 651]>', 'subspace': '<id1,1,[1060]>', 'accountability': '<id1,1,[1351]>', 'biotech': '<id1,1,[1370]>', 'pure': '<id1,1,[1445]>', 'related': '<id2,1,[189]>,<id1,1,[278]>', 'intelligence': '<id1,4,[105, 109, 148, 594]>', 'dependencies': '<id1,1,[176]>', 'contain': '<id1,2,[706, 1229]>', 'legal': '<id1,3,[1442, 1527, 1568]>', 'hnc': '<id1,1,[383]>', 'not': '<id1,1,[811]>', 'dramatically': '<id1,1,[533]>', 'standards': '<id2,1,[587]>,<id1,3,[902, 914, 984]>', 'effectively': '<id1,1,[1305]>', 'subfield': '<id1,1,[19]>', 'specially': '<id1,1,[559]>', 'noise': '<id1,1,[739]>', 'harbor': '<id1,1,[1302]>', 'learned': '<id1,5,[847, 874, 898, 910, 918]>', 'quantities': '<id1,1,[160]>', 'se': '<id1,1,[1175]>', 'hypotheses': '<id1,3,[253, 312, 772]>', 'together': '<id1,1,[1155]>', 'goal': '<id2,1,[46]>,<id1,3,[24, 73, 1388]>', 'emails': '<id1,1,[866]>', 'researchers': '<id2,1,[711]>,<id1,3,[390, 670, 1536]>', 'suggests': '<id1,1,[1044]>', 'processes': '<id1,1,[1003]>', 'cover': '<id1,1,[1058]>', 'mathematical': '<id1,1,[597]>', 'difference': '<id1,1,[243]>', 'major': '<id1,1,[444]>', 'surveillance': '<id1,2,[1082, 1317]>', 'considered': '<id2,3,[187, 420, 517]>,<id1,1,[328]>', 'aaai': '<id1,1,[457]>', 'appeared': '<id1,1,[367]>', 'decision': '<id1,4,[100, 221, 569, 571]>', 'must': '<id1,2,[690, 703]>', 'interesting': '<id2,1,[156]>,<id1,1,[165]>', 'change': '<id1,1,[905]>', 'article': '<id1,2,[346, 1369]>', 'started': '<id1,3,[447, 455, 478]>', 'primary': '<id1,2,[488, 505]>', 'states': '<id1,1,[1338]>', 'classify': '<id2,1,[248]>,<id1,1,[887]>', 'named': '<id1,2,[126, 659]>', 'reviews': '<id1,1,[672]>', 'judge': '<id1,1,[1587]>', 'large': '<id1,8,[5, 77, 139, 159, 274, 585, 704, 978]>', 'code': '<id2,4,[945, 954, 967, 973]>,<id1,1,[1614]>', 'grown': '<id1,1,[543]>', 'phases': '<id1,2,[639, 788]>', 'indicated': '<id1,1,[1267]>', 'future': '<id1,2,[759, 1366]>', 'contrast': '<id1,1,[262]>', 'information': '<id2,18,[14, 33, 83, 127, 214, 422, 613, 661, 672, 703, 715, 749, 758, 770, 813, 886, 891, 917]>,<id1,17,[26, 32, 90, 401, 403, 1093, 1126, 1139, 1231, 1253, 1258, 1281, 1362, 1406, 1493, 1627, 1629]>', 'masquerades': '<id1,1,[354]>', 'extract': '<id2,1,[212]>,<id1,2,[25, 162]>', 'exchange': '<id1,1,[1036]>', 'valid': '<id1,1,[818]>', 'licences': '<id1,1,[1522]>', 'workshop': '<id1,1,[415]>', 'commission': '<id1,1,[1514]>', 'variations': '<id1,1,[631]>', 'sigmod': '<id1,1,[973]>', 'statistics': '<id2,1,[780]>,<id1,4,[13, 22, 96, 592]>', 'rules': '<id1,1,[572]>', 'obligations': '<id1,1,[1144]>', 'databases': '<id1,4,[42, 413, 606, 621]>', 'arise': '<id1,1,[786]>', 'second': '<id1,1,[1482]>', 'high': '<id2,1,[585]>,<id1,1,[1052]>', 'this': '<id2,8,[99, 118, 234, 341, 497, 569, 582, 845]>,<id1,5,[183, 832, 1171, 1260, 1397]>', 'increasing': '<id2,1,[504]>,<id1,1,[529]>', 'controls': '<id1,1,[1347]>', 'uthurusamy': '<id1,1,[463]>', 'interest': '<id1,1,[932]>', 'bodily': '<id1,1,[1265]>', 'economist': '<id1,1,[343]>', 'per': '<id1,1,[1174]>', 'dredging': '<id1,2,[281, 326]>', 'simple': '<id1,1,[778]>', 'background': '<id1,1,[598]>', 'clandestine': '<id1,1,[271]>', 'simplified': '<id1,1,[640]>', 'generally': '<id2,1,[700]>,<id1,1,[371]>', 'review': '<id1,2,[348, 1468]>', 'execute': '<id1,1,[607]>', 'around': '<id1,1,[368]>', 'anonymized': '<id1,1,[1225]>', 'size': '<id1,1,[544]>', 'population': '<id1,1,[294]>', 'longstanding': '<id1,1,[1379]>', 'supported': '<id1,1,[1035]>', 'discoveries': '<id1,1,[556]>', 'previously': '<id1,1,[163]>', 'trees': '<id1,1,[570]>', 'areas': '<id2,1,[193]>,<id1,1,[1418]>', 'gregory': '<id1,1,[408]>', 'pharmaceutical': '<id1,1,[1288]>', 'process': '<id2,2,[342, 570]>,<id1,11,[2, 43, 239, 578, 623, 634, 641, 675, 789, 987, 993]>', 'cross': '<id2,1,[888]>,<id1,1,[990]>', 'wider': '<id1,1,[808]>', 'commercial': '<id1,1,[1117]>', 'facilitates': '<id1,1,[1160]>', 'examples': '<id1,1,[1074]>', 'annual': '<id1,1,[944]>', 'digitization': '<id1,1,[1598]>', 'management': '<id2,2,[814, 938]>,<id1,2,[53, 600]>', 'hidden': '<id1,2,[272, 583]>', 'define': '<id1,1,[983]>', 'questions': '<id2,1,[364]>,<id1,1,[1107]>', 'teams': '<id1,1,[669]>', 'additional': '<id2,2,[335, 612]>,<id1,1,[240]>', 'settlement': '<id1,1,[1585]>', 'family': '<id1,1,[1410]>', 'enforcement': '<id1,1,[1123]>', 'transform': '<id2,2,[824, 971]>,<id1,1,[31]>', 'marketing': '<id2,1,[238]>,<id1,2,[134, 257]>', 'apparent': '<id1,1,[1170]>', 'automatic': '<id1,1,[157]>', 'individual': '<id2,4,[424, 461, 576, 603]>,<id1,2,[1183, 1268]>', 'indicates': '<id1,1,[352]>', 'health': '<id1,1,[1348]>', 'sigkdd': '<id1,4,[479, 481, 939, 955]>', 'harm': '<id1,1,[1266]>', 'snooping': '<id1,2,[285, 361]>', 'subject': '<id1,1,[1457]>', 'multivariate': '<id1,1,[725]>', 'aspects': '<id1,1,[54]>', 'example': '<id1,6,[201, 207, 858, 988, 1059, 1581]>', 'leave': '<id1,1,[1544]>', 'extracting': '<id1,1,[1628]>', 'appear': '<id1,1,[755]>', 'necessarily': '<id1,1,[817]>', 'efforts': '<id1,2,[982, 1295]>', 'educational': '<id1,1,[1411]>', 'lawful': '<id1,2,[1577, 1594]>', 'testing': '<id1,1,[777]>', 'amount': '<id2,1,[500]>,<id1,1,[260]>', 'source': '<id1,2,[717, 1613]>', 'involving': '<id2,1,[413]>,<id1,1,[8]>', 'according': '<id2,1,[634]>,<id1,2,[1208, 1368]>', 'use': '<id2,5,[473, 541, 561, 776, 974]>,<id1,8,[35, 287, 767, 1019, 1422, 1554, 1561, 1579]>', 'identified': '<id1,1,[1222]>', 'dataset': '<id1,1,[254]>', 'miner': '<id1,1,[1191]>', 'short': '<id1,1,[375]>', 'intention': '<id1,1,[581]>', 'highest': '<id1,1,[489]>', 'stored': '<id1,1,[604]>', 'warehouse': '<id1,1,[722]>', 'clustering': '<id2,1,[443]>,<id1,1,[1061]>', 'recommendation': '<id2,1,[348]>,<id1,1,[1466]>', 'research': '<id2,1,[764]>,<id1,4,[446, 496, 506, 1381]>', 'publishers': '<id1,1,[1543]>', 'applicable': '<id1,1,[791]>', 'support': '<id1,3,[101, 222, 573]>', 'fully': '<id1,1,[1325]>', 'protection': '<id1,2,[1378, 1389]>', 'academic': '<id1,2,[442, 952]>', 'america': '<id1,1,[1558]>', 'accuracy': '<id2,1,[914]>,<id1,1,[882]>', 'act': '<id2,1,[742]>,<id1,2,[1352, 1414]>', 'leading': '<id1,2,[650, 1254]>', 'attempts': '<id1,1,[1330]>', 'task': '<id1,2,[156, 1051]>', 'biannual': '<id1,1,[951]>', 'level': '<id2,2,[72, 728]>,<id1,1,[1393]>', 'consequently': '<id1,1,[391]>', 'computer': '<id1,5,[20, 99, 531, 557, 957]>', 'cleaned': '<id1,1,[733]>', 'extraction': '<id2,2,[657, 871]>,<id1,5,[74, 80, 93, 406, 511]>', 'unintentionally': '<id1,1,[751]>', 'identify': '<id2,2,[560, 966]>,<id1,2,[212, 1199]>', 'present': '<id1,4,[698, 828, 967, 1365]>', 'distinguish': '<id1,1,[863]>', 'stages': '<id1,1,[626]>', 'following': '<id1,3,[1210, 1606, 1618]>', 'hosted': '<id1,1,[943]>', 'content': '<id2,10,[42, 59, 143, 346, 654, 665, 751, 923, 937, 939]>,<id1,4,[1476, 1499, 1556, 1570]>', 'public': '<id1,1,[1610]>', 'statistical': '<id1,4,[268, 300, 775, 889]>', 'agency': '<id1,1,[1329]>', 'learning': '<id1,12,[12, 107, 116, 123, 129, 150, 203, 267, 422, 562, 609, 782]>', 'mart': '<id1,1,[720]>', 'dmg': '<id1,2,[1034, 1064]>', 'expose': '<id1,1,[1306]>', 'newly': '<id1,1,[1194]>', 'prediction': '<id1,2,[219, 1046]>', 'used': '<id2,7,[103, 211, 402, 426, 838, 895, 928]>,<id1,14,[199, 216, 250, 309, 320, 339, 380, 397, 439, 652, 686, 892, 1067, 1103]>', 'communities': '<id1,1,[432]>', 'peoples': '<id1,1,[1095]>', 'search': '<id2,1,[683]>,<id1,1,[1243]>', 'also': '<id2,3,[92, 351, 375]>,<id1,7,[49, 84, 966, 1162, 1215, 1505, 1615]>', 'relation': '<id1,1,[1094]>', 'trademarked': '<id1,1,[382]>', 'histories': '<id1,1,[1244]>', 'quality': '<id1,1,[490]>', 'technology': '<id2,6,[228, 235, 247, 357, 382, 401]>,<id1,1,[532]>', 'copyright': '<id1,6,[1431, 1440, 1449, 1473, 1503, 1549]>', 'miners': '<id1,1,[654]>', 'similarly': '<id1,1,[340]>', 'studies': '<id2,1,[188]>,<id1,1,[350]>', 'direct': '<id1,1,[546]>', 'verify': '<id1,1,[801]>', 'digitisation': '<id1,1,[1591]>', 'government': '<id2,2,[232, 244]>,<id1,2,[1116, 1471]>', 'reasons': '<id1,1,[135]>', 'covers': '<id1,2,[120, 1045]>', 'body': '<id1,1,[925]>', 'readily': '<id1,1,[1221]>', 'polls': '<id1,2,[646, 660]>', 'today': '<id1,1,[1072]>', 'ways': '<id2,1,[831]>,<id1,1,[1100]>', 'term': '<id2,1,[853]>,<id1,8,[69, 130, 336, 364, 410, 417, 425, 1084]>', 'increasingly': '<id1,1,[549]>', 'performing': '<id1,1,[773]>', 'collection': '<id1,3,[92, 226, 536]>', 'steps': '<id1,2,[241, 908]>', 'sources': '<id2,2,[44, 673]>,<id1,1,[1158]>', 'java': '<id1,2,[119, 996]>', 'rate': '<id1,1,[495]>', 'offer': '<id2,1,[334]>,<id1,1,[1376]>', 'statisticians': '<id1,1,[318]>', 'comparison': '<id1,1,[680]>', 'greater': '<id1,1,[1377]>', 'development': '<id2,1,[738]>,<id1,1,[1001]>', 'representatives': '<id1,1,[1534]>', 'ability': '<id1,1,[539]>', 'aided': '<id1,1,[555]>', 'exists': '<id1,1,[628]>', 'classes': '<id1,1,[747]>', 'intellectual': '<id1,1,[1458]>', 'taiwan': '<id1,1,[1564]>', 'kind': '<id2,1,[184]>,<id1,1,[194]>', 'paper': '<id1,1,[497]>', 'bayes': '<id1,1,[522]>', 'multiple': '<id1,1,[213]>', 'united': '<id1,1,[1337]>', 'concise': '<id1,1,[709]>', 'scale': '<id1,1,[140]>', 'format': '<id1,1,[1037]>', 'different': '<id2,5,[43, 86, 137, 476, 755]>,<id1,1,[787]>', 'importance': '<id2,1,[848]>,<id1,1,[1053]>', 'supplant': '<id1,1,[1573]>', 'compared': '<id2,1,[949]>,<id1,1,[854]>', 'mined': '<id1,1,[711]>', 'small': '<id1,1,[298]>', 'analyzing': '<id2,1,[390]>,<id1,3,[255, 331, 1625]>', 'people': '<id2,1,[456]>,<id1,1,[665]>', 'training': '<id2,1,[791]>,<id1,2,[826, 869]>', 'regardless': '<id1,1,[259]>', 'limitations': '<id1,1,[1531]>', 'intersection': '<id1,1,[10]>', 'automated': '<id2,2,[21, 680]>,<id1,1,[552]>', 'intelligent': '<id2,2,[713, 717]>,<id1,1,[27]>', 'under': '<id2,1,[865]>,<id1,1,[1429]>', 'launched': '<id1,1,[468]>', 'algorithm': '<id2,1,[877]>,<id1,3,[844, 861, 894]>', 'confidentiality': '<id1,1,[1142]>', 'missing': '<id1,1,[740]>', 'methods': '<id2,1,[900]>,<id1,9,[9, 28, 146, 290, 307, 517, 580, 614, 890]>', 'indexed': '<id1,1,[605]>', 'discovered': '<id1,2,[63, 305]>', 'way': '<id2,1,[385]>,<id1,4,[342, 602, 1146, 1159]>', 'first': '<id1,2,[414, 448]>', 'trying': '<id1,1,[862]>', 'text': '<id2,3,[786, 901, 962]>,<id1,2,[1518, 1602]>', 'acceptance': '<id1,1,[494]>', 'commonly': '<id1,1,[624]>', 'stalled': '<id1,1,[1006]>', 'viewed': '<id1,2,[1567, 1576]>', 'target': '<id2,1,[291]>,<id1,3,[687, 700, 731]>', 'interdisciplinary': '<id1,1,[18]>', 'indirect': '<id1,1,[551]>', 'trained': '<id1,4,[845, 868, 873, 880]>', 'wherever': '<id1,1,[1068]>', 'due': '<id1,1,[1491]>', 'week': '<id1,1,[1372]>', 'in': '<id1,5,[317, 441, 1112, 1269, 1336]>', 'indices': '<id1,1,[190]>', 'countries': '<id1,1,[1562]>', 'limitation': '<id1,1,[1478]>', 'cleaning': '<id1,1,[735]>', 'acm': '<id1,2,[930, 941]>', 'topics': '<id1,1,[965]>', 'terms': '<id1,6,[138, 279, 321, 396, 434, 1510]>', 'coined': '<id1,1,[409]>', 'within': '<id1,1,[712]>', 'name': '<id2,1,[12]>,<id1,1,[1043]>', 'safe': '<id1,1,[1301]>', 'increased': '<id2,1,[499]>,<id1,2,[534, 1319]>', 'spatial': '<id1,1,[189]>', 'san': '<id1,1,[384]>', 'sample': '<id1,3,[291, 763, 871]>', 'applied': '<id2,2,[197, 388]>,<id1,5,[87, 591, 615, 849, 877]>', 'reaching': '<id1,1,[1011]>', 'extensions': '<id1,1,[1057]>', 'japan': '<id1,1,[1485]>', 'permission': '<id1,1,[1439]>', 'unknown': '<id1,1,[164]>', 'majority': '<id1,1,[1425]>', 'inadvertent': '<id1,1,[1249]>', 'spam': '<id1,1,[864]>', 'machinery': '<id1,1,[929]>', 'financial': '<id1,1,[1263]>', 'civil': '<id1,1,[1538]>', 'allow': '<id1,3,[1232, 1475, 1506]>', 'problem': '<id1,2,[780, 785]>', 'underway': '<id1,1,[1296]>', 'allowing': '<id1,1,[613]>', 'us': '<id1,2,[1342, 1548]>', 'model': '<id2,2,[333, 836]>,<id1,2,[56, 1025]>', 'filed': '<id1,1,[1276]>', 'ruled': '<id1,1,[1589]>', 'especially': '<id2,1,[428]>,<id1,1,[1202]>', 'many': '<id2,1,[225]>,<id1,6,[630, 664, 771, 885, 968, 1038]>', 'underscores': '<id1,1,[1398]>', 'systems': '<id2,2,[204, 741]>,<id1,1,[15]>', 'discovery': '<id2,1,[681]>,<id1,11,[41, 404, 412, 438, 454, 475, 504, 610, 620, 799, 936]>', 'throughout': '<id1,1,[1078]>', 'larger': '<id1,2,[293, 314]>', 'draft': '<id1,1,[1013]>', 'addresses': '<id1,1,[1420]>', 'intended': '<id1,1,[1364]>', 'provider': '<id1,1,[1255]>', 'failed': '<id1,1,[1333]>', 'significant': '<id1,1,[756]>', 'stakeholder': '<id1,2,[1516, 1545]>', 'may': '<id1,10,[198, 297, 891, 1087, 1214, 1220, 1375, 1448, 1452, 1547]>', 'anyone': '<id1,1,[1192]>', 'models': '<id2,1,[350]>,<id1,5,[252, 269, 676, 1017, 1047]>', 'country': '<id1,1,[1483]>', 'sig': '<id1,2,[934, 942]>', 'as': '<id2,3,[11, 808, 883]>,<id1,5,[540, 692, 1042, 1312, 1569]>', 'processing': '<id1,2,[91, 554]>', 'warehousing': '<id1,1,[94]>', 'measured': '<id1,1,[884]>', 'early': '<id1,1,[516]>', 'obtain': '<id1,1,[217]>', 'group': '<id2,1,[458]>,<id1,2,[933, 1033]>', 'becomes': '<id1,1,[1456]>', 'neither': '<id1,1,[224]>', 'santos': '<id1,1,[678]>', 'successors': '<id1,1,[1002]>', 'instance': '<id1,1,[1271]>', 'groups': '<id1,3,[167, 214, 1540]>', 'particular': '<id2,2,[217, 745]>,<id1,5,[1018, 1048, 1113, 1323, 1551]>', 'needed': '<id2,1,[874]>,<id1,1,[1335]>', 'usama': '<id1,2,[460, 466]>', 'if': '<id1,2,[897, 909]>', 'where': '<id1,1,[1443]>', 'ai': '<id2,1,[740]>,<id1,1,[420]>', 'contractual': '<id1,1,[1509]>', 'machine': '<id1,11,[11, 106, 115, 122, 128, 149, 202, 266, 421, 561, 781]>', 'title': '<id1,1,[1521]>', 'test': '<id1,5,[251, 313, 839, 850, 878]>', 'security': '<id1,2,[1121, 1328]>', 'specific': '<id2,4,[310, 327, 470, 519]>,<id1,2,[1200, 1417]>', 'creating': '<id1,1,[310]>', 'released': '<id1,1,[1246]>', 'restriction': '<id1,1,[1492]>', 'ethics': '<id1,1,[1111]>', 'able': '<id1,2,[1198, 1237]>', 'displayed': '<id1,1,[1600]>', 'journalists': '<id1,1,[1236]>', 'discovering': '<id2,1,[95]>,<id1,1,[3]>', 'raw': '<id1,1,[46]>', 'total': '<id1,1,[1125]>', 'indiscretion': '<id1,1,[1261]>', 'discussion': '<id1,2,[1320, 1517]>', 'dialogue': '<id1,1,[1546]>', 'led': '<id1,2,[1469, 1533]>', 'actual': '<id1,3,[145, 153, 608]>', 'south': '<id1,1,[1565]>', 'year': '<id1,1,[464]>', 'harvesting': '<id1,1,[402]>', 'considerations': '<id1,2,[58, 62]>', 'anonymous': '<id2,3,[442, 515, 596]>,<id1,2,[1205, 1218]>', 'passage': '<id1,1,[1345]>', 'special': '<id1,1,[931]>', 'provision': '<id1,2,[1507, 1552]>', 'produce': '<id1,1,[753]>', 'otherwise': '<id1,2,[1098, 1169]>', 'aggregation': '<id1,3,[1149, 1151, 1403]>', 'regarding': '<id2,1,[365]>,<id1,2,[1108, 1361]>', 'techniques': '<id2,8,[5, 125, 154, 362, 649, 725, 908, 977]>,<id1,2,[118, 188]>', 'manual': '<id1,1,[510]>', 'disclosure': '<id1,1,[1318]>', 'issue': '<id2,1,[412]>,<id1,1,[1528]>', 'regulations': '<id1,1,[1380]>', 'evaluation': '<id1,1,[837]>', 'interpretation': '<id1,1,[230]>', 'genetic': '<id1,1,[567]>', 'assembled': '<id1,1,[691]>', 'arena': '<id1,1,[1382]>', 'amend': '<id1,1,[1472]>', 'detection': '<id1,1,[175]>', 'kluwer': '<id1,1,[470]>', 'often': '<id1,3,[136, 768, 1090]>', 'machines': '<id1,1,[575]>', 'times': '<id2,1,[855]>,<id1,1,[663]>', 'parts': '<id1,1,[292]>', 'ferpa': '<id1,1,[1415]>', 'identifying': '<id2,1,[259]>,<id1,1,[518]>', 'currently': '<id1,2,[433, 1304]>', 'form': '<id2,1,[438]>,<id1,1,[88]>', 'hargreaves': '<id1,1,[1467]>', 'proposed': '<id1,1,[1062]>', 'access': '<id2,1,[339]>,<id1,3,[1193, 1542, 1611]>', 'active': '<id1,1,[1005]>', 'acceptable': '<id1,1,[713]>', 'known': '<id1,1,[783]>', 'final': '<id1,3,[796, 915, 1012]>', 'revoke': '<id1,1,[1321]>', 'interestingness': '<id1,1,[59]>', 'populations': '<id1,1,[316]>', 'michael': '<id1,1,[344]>', 'critical': '<id1,1,[341]>', 'national': '<id1,2,[1120, 1327]>', 'via': '<id1,1,[1344]>', 'concerns': '<id2,1,[408]>,<id1,2,[1132, 1340]>', 'pricing': '<id2,1,[292]>', 'space': '<id2,2,[835, 844]>', 'factors': '<id2,1,[709]>', 'concerned': '<id2,1,[191]>', 'three': '<id2,1,[136]>', 'unscrupulous': '<id2,1,[619]>', 'points': '<id2,1,[756]>', 'link': '<id2,2,[39, 69]>', 'focuses': '<id2,1,[62]>', 'hyperlinks': '<id2,2,[71, 75]>', 'relationships': '<id2,1,[216]>', 'attractive': '<id2,1,[229]>', 'captures': '<id2,1,[169]>', 'technically': '<id2,1,[57]>', 'much': '<id2,1,[671]>', 'facilitate': '<id2,1,[122]>', 'autonomously': '<id2,1,[743]>', 'insight': '<id2,1,[285]>', 'service': '<id2,1,[574]>', 'retrieval': '<id2,3,[716, 759, 771]>', 'gathered': '<id2,1,[15]>', 'commodity': '<id2,1,[488]>', 'customers': '<id2,3,[279, 299, 317]>', 'wide': '<id2,3,[9, 675, 688]>', 'aliweb': '<id2,1,[694]>', 'trade': '<id2,2,[242, 492]>', 'divided': '<id2,2,[135, 642]>', 'problems': '<id2,1,[359]>', 'extend': '<id2,1,[721]>', 'differentiated': '<id2,1,[753]>', 'encourages': '<id2,1,[489]>', 'seco': '<id2,1,[206]>', 'semantic': '<id2,3,[213, 331, 386]>', 'heterogeneity': '<id2,1,[667]>', 'reference': '<id2,1,[131]>', 'hyponymy': '<id2,1,[215]>', 'vista': '<id2,1,[692]>', 'lycos': '<id2,1,[690]>', 'evaluating': '<id2,1,[879]>', 'mutual': '<id2,1,[890]>', 'selection': '<id2,1,[864]>', 'permits': '<id2,2,[28, 670]>', 'terminology': '<id2,1,[648]>', 'realize': '<id2,1,[847]>', 'privilege': '<id2,1,[575]>', 'inaccuracies': '<id2,1,[528]>', 'requirements': '<id2,1,[287]>', 'score': '<id2,1,[918]>', 'comfort': '<id2,1,[698]>', 'kinds': '<id2,1,[644]>', 'english': '<id2,1,[950]>', 'inferred': '<id2,1,[614]>', 'topology': '<id2,1,[74]>', 'represent': '<id2,2,[784, 832]>', 'hz': '<id2,1,[953]>', 'alta': '<id2,1,[691]>', 'demonstrate': '<id2,1,[352]>', 'terrorism': '<id2,1,[251]>', 'collaborative': '<id2,1,[347]>', 'order': '<id2,2,[161, 811]>', 'preventing': '<id2,1,[534]>', 'behalf': '<id2,1,[744]>', 'better': '<id2,4,[163, 264, 270, 812]>', 'accessing': '<id2,1,[126]>', 'others': '<id2,1,[696]>', 'inside': '<id2,1,[800]>', 'benefit': '<id2,1,[257]>', 'characteristics': '<id2,2,[459, 462]>', 'needs': '<id2,4,[165, 268, 273, 965]>', 'tendency': '<id2,1,[453]>', 'address': '<id2,1,[358]>', 'sophisticated': '<id2,1,[739]>', 'contents': '<id2,1,[526]>', 'site': '<id2,6,[54, 178, 496, 633, 823, 826]>', 'odds': '<id2,1,[892]>', 'servers': '<id2,1,[26]>', 'outlined': '<id2,1,[326]>', 'offers': '<id2,1,[309]>', 'personalized': '<id2,1,[237]>', 'reasoning': '<id2,1,[391]>', 'verification': '<id2,1,[932]>', 'portals': '<id2,1,[926]>', 'judging': '<id2,2,[449, 454]>', 'similar': '<id2,1,[904]>', 'customer': '<id2,7,[265, 269, 272, 286, 306, 311, 316]>', 'depending': '<id2,1,[183]>', 'tries': '<id2,2,[67, 819]>', 'obtained': '<id2,6,[370, 425, 434, 495, 597, 599]>', 'subjective': '<id2,1,[371]>', 'always': '<id2,1,[818]>', 'back': '<id2,1,[602]>', 'logs': '<id2,1,[37]>', 'organize': '<id2,1,[748]>', 'server': '<id2,1,[36]>', 'lawsuits': '<id2,1,[532]>', 'analyzed': '<id2,1,[436]>', 'threats': '<id2,1,[249]>', 'organized': '<id2,1,[31]>', 'gb': '<id2,1,[952]>', 'faster': '<id2,1,[274]>', 'log': '<id2,1,[209]>', 'save': '<id2,1,[280]>', 'schema': '<id2,2,[106, 132]>', 'good': '<id2,1,[110]>', 'indexing': '<id2,1,[684]>', 'user': '<id2,6,[218, 337, 344, 480, 621, 746]>', 'condition': '<id2,1,[866]>', 'another': '<id2,2,[93, 464]>', 'benefits': '<id2,2,[319, 383]>', 'activities': '<id2,2,[35, 261]>', 'precision': '<id2,1,[915]>', 'frameworks': '<id2,1,[328]>', 'essentially': '<id2,2,[224, 478]>', 'category': '<id2,1,[867]>', 'utilized': '<id2,1,[802]>', 'legally': '<id2,1,[524]>', 'organization': '<id2,2,[682, 729]>', 'origin': '<id2,1,[171]>', 'lost': '<id2,1,[421]>', 'integration': '<id2,1,[658]>', 'website': '<id2,2,[38, 490]>', 'inner': '<id2,1,[972]>', 'constitute': '<id2,1,[841]>', 'nature': '<id2,1,[405]>', 'single': '<id2,2,[781, 788]>', 'demonstrated': '<id2,1,[207]>', 'production': '<id2,1,[281]>', 'clustered': '<id2,1,[437]>', 'corpus': '<id2,1,[792]>', 'acquired': '<id2,1,[284]>', 'ratio': '<id2,1,[893]>', 'maintained': '<id2,1,[588]>', 'researches': '<id2,1,[775]>', 'interpreting': '<id2,1,[389]>', 'volumes': '<id2,1,[243]>', 'situation': '<id2,1,[583]>', 'possible': '<id2,1,[114]>', 'could': '<id2,1,[571]>', 'release': '<id2,3,[520, 527, 529]>', 'software': '<id2,1,[202]>', 'similarity': '<id2,1,[84]>', 'utilize': '<id2,1,[797]>', 'provides': '<id2,1,[343]>', 'frequency': '<id2,2,[854, 858]>', 'component': '<id2,1,[922]>', 'integrity': '<id2,1,[934]>', 'predicting': '<id2,1,[253]>', 'reducing': '<id2,1,[313]>', 'personal': '<id2,4,[404, 444, 486, 493]>', 'profitability': '<id2,1,[290]>', 'understanding': '<id2,1,[267]>', 'corporations': '<id2,1,[230]>', 'retain': '<id2,2,[278, 305]>', 'important': '<id2,2,[465, 921]>', 'elements': '<id2,1,[376]>', 'obliged': '<id2,1,[513]>', 'issues': '<id2,1,[400]>', 'basis': '<id2,1,[457]>', 'serious': '<id2,1,[531]>', 'page': '<id2,4,[41, 56, 116, 664]>', 'confirmation': '<id2,1,[930]>', 'poses': '<id2,1,[607]>', 'invasion': '<id2,1,[417]>', 'typically': '<id2,1,[837]>', 'unique': '<id2,1,[377]>', 'reports': '<id2,1,[27]>', 'buy': '<id2,1,[511]>', 'agencies': '<id2,2,[233, 245]>', 'treating': '<id2,1,[455]>', 'hard': '<id2,1,[559]>', 'traded': '<id2,1,[503]>', 'by': '<id2,1,[860]>', 'proposes': '<id2,1,[13]>', 'religion': '<id2,2,[547, 579]>', 'orientation': '<id2,2,[549, 581]>', 'collecting': '<id2,1,[468]>', 'merits': '<id2,2,[463, 912]>', 'prompted': '<id2,1,[710]>', 'metacrawler': '<id2,1,[695]>', 'profiles': '<id2,3,[294, 439, 445]>', 'losing': '<id2,1,[315]>', 'browser': '<id2,1,[34]>', 'direction': '<id2,1,[94]>', 'affected': '<id2,1,[870]>', 'phase': '<id2,1,[395]>', 'codes': '<id2,1,[958]>', 'denial': '<id2,1,[573]>', 'competitor': '<id2,1,[302]>', 'infer': '<id2,1,[820]>', 'type': '<id2,3,[100, 119, 635]>', 'agents': '<id2,1,[719]>', 'separate': '<id2,1,[618]>', 'default': '<id2,1,[301]>', 'relevant': '<id2,1,[345]>', 'interests': '<id2,1,[481]>', 'recall': '<id2,1,[916]>', 'attributes': '<id2,3,[543, 563, 568]>', 'responsible': '<id2,1,[525]>', 'develop': '<id2,1,[712]>', 'resolve': '<id2,1,[852]>', 'authors': '<id2,1,[518]>', 'isolation': '<id2,1,[783]>', 'classified': '<id2,1,[182]>', 'providing': '<id2,2,[130, 307]>', 'done': '<id2,1,[766]>', 'pages': '<id2,3,[81, 108, 129]>', 'organizations': '<id2,1,[29]>', 'generate': '<id2,2,[50, 82]>', 'pipeline': '<id2,1,[924]>', 'hyperlink': '<id2,1,[803]>', 'function': '<id2,1,[880]>', 'invaded': '<id2,1,[508]>', 'inverse': '<id2,1,[856]>', 'growing': '<id2,1,[483]>', 'internet': '<id2,1,[686]>', 'criticized': '<id2,1,[410]>', 'extricate': '<id2,1,[24]>', 'occurs': '<id2,1,[429]>', 'mouse': '<id2,1,[450]>', 'graph': '<id2,1,[626]>', 'along': '<id2,1,[174]>', 'look': '<id2,1,[606]>', 'create': '<id2,1,[399]>', 'gain': '<id2,1,[887]>', 'criminal': '<id2,1,[260]>', 'personalization': '<id2,1,[325]>', 'classifier': '<id2,1,[897]>', 'implement': '<id2,1,[862]>', 'complicated': '<id2,1,[948]>', 'promotional': '<id2,1,[308]>', 'some': '<id2,1,[537]>', 'created': '<id2,1,[295]>', 'avoided': '<id2,1,[584]>', 'whole': '<id2,1,[842]>', 'usual': '<id2,1,[910]>', 'reacting': '<id2,1,[271]>', 'reveal': '<id2,2,[23, 104]>', 'taxonomies': '<id2,1,[936]>', 'construct': '<id2,1,[878]>', 'classification': '<id2,1,[913]>', 'risk': '<id2,1,[314]>', 'words': '<id2,4,[778, 782, 849, 947]>', 'disseminated': '<id2,1,[427]>', 'particularly': '<id2,1,[323]>', 'hypertext': '<id2,1,[677]>', 'degrade': '<id2,1,[372]>', 'area': '<id2,1,[324]>', 'entropy': '<id2,1,[889]>', 'usage': '<id2,15,[140, 149, 157, 167, 180, 185, 199, 222, 321, 355, 379, 392, 397, 415, 566]>', 'serve': '<id2,1,[164]>', 'evaluative': '<id2,1,[911]>', 'totally': '<id2,1,[475]>', 'representation': '<id2,2,[807, 846]>', 'controversial': '<id2,2,[542, 562]>', 'categorize': '<id2,3,[79, 550, 704]>', 'race': '<id2,2,[546, 578]>', 'word': '<id2,2,[789, 957]>', 'generation': '<id2,1,[940]>', 'costs': '<id2,1,[282]>', 'discover': '<id2,4,[6, 68, 155, 747]>', 'opinion': '<id2,1,[941]>', 'browsing': '<id2,1,[175]>', 'advantages': '<id2,1,[226]>', 'shows': '<id2,1,[774]>', 'documents': '<id2,8,[678, 707, 801, 805, 833, 840, 960, 970]>', 'building': '<id2,1,[935]>', 'filter': '<id2,1,[705]>', 'fight': '<id2,1,[250]>', 'navigation': '<id2,1,[111]>', 'establish': '<id2,1,[263]>', 'utilization': '<id2,1,[20]>', 'feature': '<id2,3,[863, 872, 884]>', 'purpose': '<id2,2,[112, 471]>', 'html': '<id2,2,[798, 969]>', 'instead': '<id2,1,[460]>', 'mainly': '<id2,1,[61]>', 'probabilistic': '<id2,1,[329]>', 'summarized': '<id2,1,[763]>', 'structural': '<id2,3,[51, 637, 702]>', 'get': '<id2,1,[30]>', 'relationship': '<id2,2,[85, 266]>', 'introducing': '<id2,1,[123]>', 'take': '<id2,1,[787]>', 'captured': '<id2,1,[502]>', 'view': '<id2,5,[757, 760, 762, 772, 810]>', 'traced': '<id2,1,[601]>', 'chinese': '<id2,2,[946, 956]>', 'types': '<id2,1,[138]>', 'rarely': '<id2,1,[869]>', 'clicks': '<id2,1,[451]>', 'given': '<id2,1,[219]>', 'schemes': '<id2,1,[117]>', 'sexual': '<id2,2,[548, 580]>', 'two': '<id2,4,[192, 617, 643, 754]>', 'useful': '<id2,3,[659, 979, 981]>', 'likeliness': '<id2,1,[505]>', 'understand': '<id2,1,[162]>', 'capability': '<id2,2,[254, 353]>', 'node': '<id2,1,[629]>', 'they': '<id2,3,[288, 296, 523]>', 'theory': '<id2,1,[627]>', 'biases': '<id2,1,[363]>', 'utilizing': '<id2,1,[283]>', 'higher': '<id2,2,[241, 727]>', 'sex': '<id2,1,[545]>', 'attract': '<id2,1,[277]>', 'sites': '<id2,1,[88]>', 'increase': '<id2,1,[289]>', 'eventually': '<id2,1,[239]>', 'try': '<id2,1,[304]>', 'enabled': '<id2,1,[236]>', 'subset': '<id2,1,[873]>', 'identity': '<id2,1,[170]>', 'lack': '<id2,1,[668]>', 'features': '<id2,3,[336, 793, 882]>', 'trend': '<id2,2,[484, 498]>', 'document': '<id2,5,[98, 806, 850, 857, 861]>', 'bag': '<id2,1,[777]>', 'webcrawler': '<id2,1,[693]>', 'apparatuses': '<id2,1,[22]>', 'unstructured': '<id2,3,[32, 767, 785]>', 'querying': '<id2,1,[815]>', 'concern': '<id2,1,[466]>', 'trading': '<id2,1,[535]>', 'traditional': '<id2,2,[361, 905]>', 'costa': '<id2,1,[205]>', 'latent': '<id2,1,[330]>', 'makes': '<id2,3,[19, 227, 679]>', 'connection': '<id2,1,[630]>', 'concerning': '<id2,1,[423]>'}"
      ]
     },
     "execution_count": 32,
     "metadata": {},
     "output_type": "execute_result"
    }
   ],
   "source": [
    "inverted_index"
   ]
  },
  {
   "cell_type": "code",
   "execution_count": 33,
   "metadata": {
    "ExecuteTime": {
     "end_time": "2020-02-05T13:39:14.121756Z",
     "start_time": "2020-02-05T13:39:14.111211Z"
    },
    "run_control": {
     "marked": false
    }
   },
   "outputs": [],
   "source": [
    "with open('inverted_index.txt','w+') as f:\n",
    "    for a in inverted_index:\n",
    "#         temp_l = inverted_index[a]\n",
    "        f.write(f\"{a}, {inverted_index[a]}\\n\")"
   ]
  },
  {
   "cell_type": "code",
   "execution_count": 34,
   "metadata": {
    "ExecuteTime": {
     "end_time": "2020-02-05T13:39:14.250564Z",
     "start_time": "2020-02-05T13:39:14.125826Z"
    },
    "collapsed": true,
    "run_control": {
     "marked": false
    }
   },
   "outputs": [
    {
     "name": "stdout",
     "output_type": "stream",
     "text": [
      "inferences, <id1,1,[301]>\r\n",
      "analyze, <id2,1,[628]>,<id1,1,[724]>\r\n",
      "campaign, <id1,1,[258]>\r\n",
      "semma, <id1,2,[661, 681]>\r\n",
      "preparation, <id1,3,[228, 1137, 1177]>\r\n",
      "actually, <id1,2,[697, 757]>\r\n",
      "international, <id1,4,[449, 485, 945, 975]>\r\n",
      "explorations, <id1,2,[482, 956]>\r\n",
      "korea, <id1,1,[1566]>\r\n",
      "consumers, <id1,1,[1299]>\r\n",
      "associated, <id2,1,[360]>,<id1,1,[1091]>\r\n",
      "refer, <id1,2,[286, 327]>\r\n",
      "records, <id1,2,[169, 173]>\r\n",
      "congress, <id1,1,[1343]>\r\n",
      "uncovers, <id1,1,[1138]>\r\n",
      "more, <id2,1,[318]>,<id1,1,[1385]>\r\n",
      "combining, <id2,1,[616]>,<id1,1,[1153]>\r\n",
      "sets, <id1,7,[7, 542, 587, 617, 727, 1119, 1227]>\r\n",
      "might, <id2,6,[300, 406, 472, 540, 554, 605]>,<id1,2,[211, 1163]>\r\n",
      "jdm, <id1,3,[1000, 1004, 1008]>\r\n",
      "property, <id1,1,[1459]>\r\n",
      "conference, <id1,7,[450, 486, 491, 946, 972, 974, 976]>\r\n",
      "principles, <id1,1,[1303]>\r\n",
      "defined, <id2,1,[452]>,<id1,1,[625]>\r\n",
      "see, <id1,1,[1631]>\r\n",
      "business, <id1,5,[108, 430, 1054, 1079, 1371]>\r\n",
      "curves, <id1,1,[896]>\r\n",
      "israel, <id1,1,[1563]>\r\n",
      "topic, <id1,1,[416]>\r\n",
      "raise, <id1,1,[1106]>\r\n",
      "involves, <id2,1,[737]>,<id1,4,[50, 185, 744, 1152]>\r\n",
      "metrics, <id1,1,[60]>\r\n",
      "case, <id1,1,[1588]>\r\n",
      "proprietary, <id1,1,[1621]>\r\n",
      "removes, <id1,1,[736]>\r\n",
      "violation, <id1,1,[1273]>\r\n",
      "works, <id2,2,[765, 796]>,<id1,1,[1435]>\r\n",
      "titled, <id1,1,[954]>\r\n",
      "reported, <id1,1,[666]>\r\n",
      "knowledge, <id2,4,[387, 431, 662, 980]>,<id1,12,[40, 76, 405, 411, 437, 453, 474, 503, 619, 798, 921, 935]>\r\n",
      "kdd, <id1,4,[44, 238, 484, 622]>\r\n",
      "analytics, <id1,3,[143, 205, 1021]>\r\n",
      "limit, <id1,1,[715]>\r\n",
      "uses, <id2,1,[625]>,<id1,4,[265, 838, 1367, 1597]>\r\n",
      "artificial, <id1,3,[104, 147, 593]>\r\n",
      "fishing, <id1,3,[283, 324, 360]>\r\n",
      "open, <id1,1,[1541]>\r\n",
      "rights, <id1,4,[1298, 1412, 1451, 1461]>\r\n",
      "remaining, <id1,1,[708]>\r\n",
      "using, <id2,1,[246]>,<id1,2,[186, 667]>\r\n",
      "icde, <id1,1,[971]>\r\n",
      "play, <id1,1,[1186]>\r\n",
      "give, <id1,1,[1358]>\r\n",
      "modified, <id1,1,[1216]>\r\n",
      "compiled, <id1,2,[1188, 1195]>\r\n",
      "reach, <id1,1,[1331]>\r\n",
      "misnomer, <id1,1,[72]>\r\n",
      "tools, <id2,3,[203, 685, 714]>,<id1,1,[117]>\r\n",
      "complexity, <id1,2,[61, 545]>\r\n",
      "visualization, <id1,1,[65]>\r\n",
      "overcome, <id1,1,[836]>\r\n",
      "usually, <id2,1,[894]>,<id1,2,[184, 595]>\r\n",
      "one, <id2,3,[506, 609, 964]>,<id1,2,[1270, 1601]>\r\n",
      "standard, <id2,1,[968]>,<id1,5,[633, 658, 992, 999, 1023]>\r\n",
      "necessary, <id1,1,[904]>\r\n",
      "fair, <id1,4,[1257, 1553, 1560, 1578]>\r\n",
      "referring, <id1,1,[144]>\r\n",
      "notable, <id1,1,[1073]>\r\n",
      "informed, <id1,2,[1359, 1390]>\r\n",
      "new, <id1,2,[311, 762]>\r\n",
      "anonymity, <id1,1,[1401]>\r\n",
      "uncover, <id1,2,[270, 695]>\r\n",
      "meet, <id1,2,[900, 912]>\r\n",
      "markup, <id1,1,[1026]>\r\n",
      "selling, <id2,1,[485]>,<id1,1,[1279]>\r\n",
      "online, <id1,1,[66]>\r\n",
      "personally, <id1,1,[1251]>\r\n",
      "investigating, <id1,1,[770]>\r\n",
      "validation, <id1,1,[645]>\r\n",
      "controlled, <id1,1,[1427]>\r\n",
      "conditions, <id1,1,[1511]>\r\n",
      "mostly, <id1,1,[121]>\r\n",
      "version, <id1,1,[779]>\r\n",
      "contexts, <id1,1,[1105]>\r\n",
      "input, <id1,1,[196]>\r\n",
      "forums, <id1,1,[445]>\r\n",
      "overridden, <id1,1,[1508]>\r\n",
      "summary, <id2,1,[52]>,<id1,1,[195]>\r\n",
      "uncovering, <id1,1,[582]>\r\n",
      "cases, <id1,1,[1104]>\r\n",
      "submissions, <id1,1,[498]>\r\n",
      "reliable, <id1,1,[299]>\r\n",
      "walgreens, <id1,1,[1275]>\r\n",
      "aliases, <id1,1,[356]>\r\n",
      "practice, <id1,3,[330, 353, 1373]>\r\n",
      "collected, <id2,1,[593]>,<id1,1,[1212]>\r\n",
      "industry, <id1,1,[991]>\r\n",
      "compromise, <id1,1,[1141]>\r\n",
      "without, <id2,1,[430]>,<id1,3,[333, 1010, 1438]>\r\n",
      "material, <id1,1,[124]>\r\n",
      "owner, <id1,1,[1441]>\r\n",
      "occurred, <id1,2,[514, 1235]>\r\n",
      "premier, <id1,1,[923]>\r\n",
      "bases, <id1,1,[980]>\r\n",
      "means, <id1,1,[1555]>\r\n",
      "the, <id2,16,[45, 252, 409, 433, 482, 509, 556, 592, 666, 733, 839, 875, 896, 909, 943, 951]>,<id1,28,[68, 110, 152, 242, 277, 335, 363, 483, 499, 509, 526, 618, 655, 730, 795, 846, 881, 922, 1099, 1181, 1248, 1354, 1421, 1480, 1512, 1524, 1605, 1617]>\r\n",
      "for, <id2,1,[794]>,<id1,5,[206, 374, 857, 1014, 1580]>\r\n",
      "workstation, <id1,1,[389]>\r\n",
      "predict, <id1,1,[758]>\r\n",
      "lawsuit, <id1,1,[1277]>\r\n",
      "europe, <id1,3,[1290, 1447, 1523]>\r\n",
      "world, <id2,3,[8, 674, 687]>,<id1,1,[1484]>\r\n",
      "users, <id2,3,[173, 448, 699]>,<id1,1,[1308]>\r\n",
      "companies, <id2,5,[262, 275, 467, 510, 516]>,<id1,3,[1284, 1289, 1311]>\r\n",
      "exploiting, <id1,1,[601]>\r\n",
      "happening, <id1,1,[794]>\r\n",
      "would, <id2,1,[109]>,<id1,2,[867, 876]>\r\n",
      "inadvertently, <id1,1,[1245]>\r\n",
      "exposed, <id1,1,[1326]>\r\n",
      "economic, <id1,1,[349]>\r\n",
      "journal, <id1,4,[469, 500, 507, 953]>\r\n",
      "storage, <id1,1,[537]>\r\n",
      "identifiable, <id1,1,[1252]>\r\n",
      "applying, <id1,1,[579]>\r\n",
      "sufficient, <id1,1,[792]>\r\n",
      "well, <id2,1,[720]>,<id1,2,[97, 1559]>\r\n",
      "approach, <id2,1,[734]>,<id1,1,[1392]>\r\n",
      "violates, <id2,1,[479]>,<id1,1,[1256]>\r\n",
      "even, <id2,1,[297]>,<id1,1,[1224]>\r\n",
      "connotations, <id1,1,[373]>\r\n",
      "time, <id2,1,[373]>,<id1,2,[376, 714]>\r\n",
      "since, <id2,1,[367]>,<id1,4,[381, 940, 949, 1007]>\r\n",
      "observations, <id1,1,[737]>\r\n",
      "proper, <id1,1,[774]>\r\n",
      "archaeology, <id1,1,[400]>\r\n",
      "key, <id1,1,[1022]>\r\n",
      "system, <id1,2,[102, 223]>\r\n",
      "once, <id1,1,[872]>\r\n",
      "amounts, <id1,1,[78]>\r\n",
      "pitch, <id1,1,[386]>\r\n",
      "professional, <id1,1,[924]>\r\n",
      "like, <id2,1,[544]>,<id1,1,[322]>\r\n",
      "became, <id1,3,[418, 428, 487]>\r\n",
      "aol, <id1,1,[1247]>\r\n",
      "addressed, <id1,1,[1341]>\r\n",
      "misused, <id1,1,[752]>\r\n",
      "libraries, <id1,1,[1537]>\r\n",
      "database, <id2,5,[124, 722, 761, 809, 828]>,<id1,11,[14, 51, 187, 369, 378, 387, 599, 1432, 1444, 1450, 1463]>\r\n",
      "negative, <id1,1,[362]>\r\n",
      "later, <id1,2,[465, 477]>\r\n",
      "neural, <id1,1,[563]>\r\n",
      "program, <id1,1,[1128]>\r\n",
      "produced, <id1,1,[803]>\r\n",
      "hypothesis, <id1,2,[334, 776]>\r\n",
      "patrons, <id1,1,[1274]>\r\n",
      "little, <id1,1,[766]>\r\n",
      "private, <id1,1,[1166]>\r\n",
      "european, <id1,4,[989, 1307, 1430, 1513]>\r\n",
      "independently, <id1,1,[1063]>\r\n",
      "defines, <id1,1,[637]>\r\n",
      "extracted, <id1,1,[1016]>\r\n",
      "behavior, <id2,2,[176, 338]>,<id1,2,[760, 1096]>\r\n",
      "directive, <id1,2,[1464, 1495]>\r\n",
      "regression, <id1,1,[524]>\r\n",
      "owners, <id2,1,[491]>,<id1,1,[1460]>\r\n",
      "buzzword, <id1,1,[85]>\r\n",
      "published, <id1,4,[347, 671, 947, 950]>\r\n",
      "etc, <id1,1,[407]>\r\n",
      "proceedings, <id1,1,[948]>\r\n",
      "threat, <id2,1,[608]>,<id1,1,[1182]>\r\n",
      "comes, <id1,1,[1185]>\r\n",
      "rule, <id2,1,[565]>,<id1,2,[178, 1387]>\r\n",
      "says, <id1,1,[1383]>\r\n",
      "tasks, <id1,1,[748]>\r\n",
      "other, <id1,1,[395]>\r\n",
      "reproduced, <id1,1,[761]>\r\n",
      "sequential, <id1,1,[180]>\r\n",
      "comprehensible, <id1,1,[33]>\r\n",
      "augmented, <id1,1,[550]>\r\n",
      "gap, <id1,1,[590]>\r\n",
      "strengthen, <id1,1,[1297]>\r\n",
      "centuries, <id1,1,[515]>\r\n",
      "desired, <id1,3,[855, 901, 913]>\r\n",
      "however, <id2,1,[611]>,<id1,8,[308, 424, 629, 662, 1056, 1223, 1300, 1490]>\r\n",
      "validity, <id2,2,[366, 931]>,<id1,1,[303]>\r\n",
      "awareness, <id1,1,[1127]>\r\n",
      "association, <id1,2,[177, 927]>\r\n",
      "on, <id1,1,[1465]>\r\n",
      "turn, <id1,2,[920, 1285]>\r\n",
      "overall, <id1,2,[23, 237]>\r\n",
      "correctly, <id1,1,[886]>\r\n",
      "there, <id2,2,[374, 829]>,<id1,1,[981]>\r\n",
      "include, <id2,1,[384]>,<id1,3,[398, 521, 962]>\r\n",
      "developed, <id2,1,[201]>,<id1,1,[1030]>\r\n",
      "rather, <id1,2,[1291, 1530]>\r\n",
      "including, <id2,1,[231]>,<id1,1,[103]>\r\n",
      "results, <id2,1,[240]>,<id1,4,[220, 644, 754, 769]>\r\n",
      "privacy, <id2,4,[418, 419, 507, 610]>,<id1,10,[1109, 1131, 1143, 1184, 1272, 1293, 1309, 1339, 1407, 1413]>\r\n",
      "books, <id1,1,[1593]>\r\n",
      "necessity, <id1,1,[1399]>\r\n",
      "prescription, <id1,1,[1280]>\r\n",
      "consequence, <id1,1,[1313]>\r\n",
      "updating, <id1,1,[67]>\r\n",
      "ranging, <id1,1,[357]>\r\n",
      "conferences, <id1,2,[959, 970]>\r\n",
      "facilitated, <id1,1,[1515]>\r\n",
      "aside, <id1,1,[45]>\r\n",
      "interpret, <id2,1,[706]>,<id1,1,[917]>\r\n",
      "step, <id1,6,[39, 48, 210, 235, 797, 916]>\r\n",
      "occur, <id1,2,[807, 1147]>\r\n",
      "incomprehensibility, <id1,1,[1394]>\r\n",
      "it, <id2,4,[18, 604, 773, 927]>,<id1,6,[83, 459, 588, 627, 819, 1206]>\r\n",
      "roc, <id1,1,[895]>\r\n",
      "snowden, <id1,1,[1315]>\r\n",
      "variety, <id1,1,[355]>\r\n",
      "bad, <id1,1,[329]>\r\n",
      "community, <id2,1,[220]>,<id1,3,[370, 423, 443]>\r\n",
      "uk, <id1,4,[1470, 1481, 1496, 1502]>\r\n",
      "common, <id2,1,[955]>,<id1,4,[716, 746, 820, 1145]>\r\n",
      "medicine, <id1,1,[1080]>\r\n",
      "laws, <id1,2,[1294, 1433]>\r\n",
      "legality, <id1,1,[1110]>\r\n",
      "law, <id2,1,[533]>,<id1,5,[1122, 1419, 1474, 1504, 1550]>\r\n",
      "deducible, <id1,1,[1168]>\r\n",
      "average, <id1,1,[1395]>\r\n",
      "possibly, <id1,1,[1156]>\r\n",
      "added, <id1,1,[133]>\r\n",
      "hipaa, <id1,4,[1353, 1355, 1374, 1409]>\r\n",
      "frequently, <id1,1,[86]>\r\n",
      "presiding, <id1,1,[1586]>\r\n",
      "language, <id2,1,[944]>,<id1,2,[1027, 1029]>\r\n",
      "set, <id2,1,[885]>,<id1,14,[30, 296, 689, 702, 732, 810, 827, 831, 840, 851, 870, 879, 1197, 1242]>\r\n",
      "called, <id1,2,[471, 833]>\r\n",
      "six, <id1,2,[638, 745]>\r\n",
      "pmml, <id1,1,[1028]>\r\n",
      "containing, <id1,1,[738]>\r\n",
      "ubiquity, <id1,1,[528]>\r\n",
      "solution, <id1,1,[1526]>\r\n",
      "citation, <id1,1,[1334]>\r\n",
      "efficiently, <id1,1,[612]>\r\n",
      "available, <id2,1,[731]>,<id1,4,[1071, 1608, 1616, 1620]>\r\n",
      "requires, <id1,2,[1135, 1356]>\r\n",
      "protected, <id1,1,[1462]>\r\n",
      "turned, <id1,1,[392]>\r\n",
      "while, <id1,1,[1083]>\r\n",
      "anomaly, <id1,1,[174]>\r\n",
      "recommended, <id1,1,[1207]>\r\n",
      "transformative, <id1,2,[1572, 1596]>\r\n",
      "project, <id1,2,[1592, 1599]>\r\n",
      "evaluate, <id2,1,[881]>,<id1,1,[893]>\r\n",
      "patterns, <id2,7,[7, 158, 369, 393, 522, 600, 982]>,<id1,21,[4, 75, 166, 192, 273, 304, 512, 519, 584, 696, 707, 802, 812, 825, 848, 875, 883, 899, 911, 919, 1140]>\r\n",
      "universities, <id1,1,[1535]>\r\n",
      "find, <id2,3,[276, 298, 978]>,<id1,2,[824, 1238]>\r\n",
      "applications, <id2,4,[166, 256, 447, 557]>,<id1,4,[1041, 1055, 1607, 1619]>\r\n",
      "based, <id2,4,[73, 293, 577, 779]>,<id1,1,[1241]>\r\n",
      "predictive, <id1,3,[204, 1020, 1024]>\r\n",
      "potentially, <id1,1,[1228]>\r\n",
      "google, <id1,2,[1583, 1590]>\r\n",
      "global, <id1,1,[1316]>\r\n",
      "pattern, <id2,2,[340, 898]>,<id1,1,[181]>\r\n",
      "revelation, <id1,1,[1250]>\r\n",
      "exception, <id1,3,[1479, 1487, 1497]>\r\n",
      "implications, <id1,1,[1089]>\r\n",
      "belong, <id1,1,[236]>\r\n",
      "exceptions, <id1,1,[1532]>\r\n",
      "accurate, <id1,1,[218]>\r\n",
      "fayyad, <id1,2,[461, 467]>\r\n",
      "made, <id2,2,[441, 595]>,<id1,1,[302]>\r\n",
      "economists, <id1,1,[319]>\r\n",
      "digital, <id1,1,[1069]>\r\n",
      "before, <id2,1,[961]>,<id1,1,[682]>\r\n",
      "appropriate, <id1,1,[151]>\r\n",
      "sponsorship, <id1,1,[458]>\r\n",
      "become, <id2,1,[827]>,<id1,1,[1217]>\r\n",
      "to, <id2,1,[851]>,<id1,1,[835]>\r\n",
      "practical, <id1,2,[114, 127]>\r\n",
      "result, <id2,3,[530, 572, 868]>,<id1,2,[229, 1176]>\r\n",
      "bridges, <id1,1,[589]>\r\n",
      "ramasamy, <id1,1,[462]>\r\n",
      "found, <id2,1,[790]>,<id1,2,[813, 1077]>\r\n",
      "portability, <id1,1,[1350]>\r\n",
      "legislation, <id2,1,[555]>,<id1,2,[1408, 1428]>\r\n",
      "exist, <id1,1,[1453]>\r\n",
      "seen, <id1,1,[193]>\r\n",
      "algorithms, <id2,3,[196, 539, 567]>,<id1,6,[568, 611, 685, 806, 816, 823]>\r\n",
      "edward, <id1,1,[1314]>\r\n",
      "society, <id2,1,[258]>,<id1,2,[1494, 1539]>\r\n",
      "output, <id1,2,[853, 856]>\r\n",
      "unusual, <id1,1,[172]>\r\n",
      "structures, <id2,1,[799]>,<id1,1,[64]>\r\n",
      "several, <id2,1,[830]>,<id1,3,[668, 888, 1239]>\r\n",
      "theorem, <id1,1,[523]>\r\n",
      "practices, <id2,1,[553]>,<id1,2,[1259, 1405]>\r\n",
      "advise, <id1,1,[1129]>\r\n",
      "allows, <id1,1,[1498]>\r\n",
      "these, <id2,3,[349, 552, 708]>,<id1,2,[191, 306]>\r\n",
      "interchangeably, <id1,1,[440]>\r\n",
      "originally, <id1,2,[125, 1204]>\r\n",
      "reporting, <id1,1,[231]>\r\n",
      "popular, <id1,2,[419, 429]>\r\n",
      "mining, <id2,47,[1, 4, 16, 49, 60, 66, 78, 91, 102, 121, 134, 141, 144, 147, 150, 153, 181, 195, 200, 210, 223, 255, 322, 356, 380, 394, 398, 416, 521, 538, 590, 624, 641, 647, 652, 655, 656, 724, 736, 752, 817, 903, 907, 920, 942, 963, 976]>,<id1,73,[1, 17, 37, 71, 81, 113, 132, 155, 179, 182, 209, 234, 247, 264, 289, 338, 366, 379, 388, 394, 427, 436, 452, 473, 493, 502, 577, 636, 643, 657, 674, 684, 694, 729, 743, 750, 805, 815, 822, 843, 860, 907, 938, 961, 964, 986, 995, 998, 1032, 1040, 1050, 1066, 1076, 1086, 1092, 1102, 1115, 1134, 1173, 1283, 1404, 1424, 1434, 1437, 1455, 1477, 1489, 1500, 1520, 1557, 1571, 1604, 1624]>\r\n",
      "provide, <id2,3,[697, 701, 726]>,<id1,2,[596, 1363]>\r\n",
      "ethical, <id2,2,[411, 586]>,<id1,2,[1088, 1097]>\r\n",
      "individuals, <id2,1,[551]>,<id1,6,[1201, 1219, 1234, 1240, 1357, 1396]>\r\n",
      "very, <id1,1,[977]>\r\n",
      "montreal, <id1,1,[456]>\r\n",
      "azevedo, <id1,1,[677]>\r\n",
      "lovell, <id1,2,[345, 351]>\r\n",
      "enough, <id1,3,[705, 710, 1230]>\r\n",
      "agreement, <id1,2,[1322, 1332]>\r\n",
      "subsequently, <id1,1,[903]>\r\n",
      "part, <id1,3,[232, 1582, 1595]>\r\n",
      "identification, <id1,2,[1165, 1233]>\r\n",
      "cause, <id2,1,[407]>,<id1,2,[1189, 1262]>\r\n",
      "essential, <id1,1,[723]>\r\n",
      "volume, <id1,1,[275]>\r\n",
      "web, <id2,53,[0, 10, 17, 47, 53, 55, 58, 64, 76, 80, 87, 89, 97, 107, 115, 128, 133, 139, 142, 145, 148, 159, 172, 177, 179, 198, 208, 221, 320, 354, 378, 396, 414, 622, 632, 636, 639, 645, 650, 653, 663, 676, 689, 718, 732, 735, 750, 816, 822, 825, 919, 925, 959]>,<id1,1,[1436]>\r\n",
      "manipulation, <id1,1,[538]>\r\n",
      "resulting, <id1,1,[852]>\r\n",
      "withdrawn, <id1,1,[1009]>\r\n",
      "book, <id1,2,[111, 1584]>\r\n",
      "power, <id1,1,[530]>\r\n",
      "networks, <id1,1,[564]>\r\n",
      "introduced, <id2,1,[859]>,<id1,1,[1486]>\r\n",
      "thus, <id2,2,[312, 446]>,<id1,1,[790]>\r\n",
      "raised, <id1,1,[1130]>\r\n",
      "press, <id1,1,[431]>\r\n",
      "phrase, <id1,1,[377]>\r\n",
      "vector, <id2,2,[834, 843]>,<id1,1,[574]>\r\n",
      "field, <id1,3,[508, 560, 926]>\r\n",
      "computing, <id1,1,[928]>\r\n",
      "aahc, <id1,1,[1384]>\r\n",
      "licenses, <id1,2,[1609, 1622]>\r\n",
      "various, <id1,1,[1157]>\r\n",
      "strong, <id2,1,[564]>,<id1,1,[1292]>\r\n",
      "inference, <id1,1,[57]>\r\n",
      "application, <id2,3,[2, 151, 615]>,<id1,2,[98, 1612]>\r\n",
      "theme, <id1,1,[632]>\r\n",
      "newsletter, <id1,1,[480]>\r\n",
      "importantly, <id1,1,[1386]>\r\n",
      "businesses, <id1,1,[1426]>\r\n",
      "show, <id2,1,[381]>,<id1,1,[648]>\r\n",
      "proliferation, <id1,1,[527]>\r\n",
      "provided, <id1,1,[1286]>\r\n",
      "focus, <id1,1,[1525]>\r\n",
      "prevent, <id1,1,[793]>\r\n",
      "structure, <id2,20,[40, 48, 63, 65, 70, 77, 90, 96, 101, 105, 120, 146, 623, 631, 640, 646, 651, 669, 804, 821]>,<id1,1,[34]>\r\n",
      "cluster, <id1,2,[170, 565]>\r\n",
      "company, <id2,2,[303, 591]>,<id1,2,[385, 1278]>\r\n",
      "exchanging, <id1,1,[1015]>\r\n",
      "aware, <id1,1,[1209]>\r\n",
      "overfitting, <id1,2,[784, 834]>\r\n",
      "analysis, <id2,2,[332, 899]>,<id1,14,[38, 47, 95, 142, 158, 171, 200, 245, 249, 525, 548, 566, 1161, 1180]>\r\n",
      "work, <id2,1,[190]>,<id1,1,[1575]>\r\n",
      "emotional, <id1,1,[1264]>\r\n",
      "bear, <id1,1,[765]>\r\n",
      "applies, <id1,1,[1416]>\r\n",
      "data, <id2,34,[3, 25, 152, 160, 168, 186, 194, 368, 403, 435, 440, 469, 474, 487, 494, 501, 512, 536, 589, 594, 598, 620, 638, 660, 723, 730, 768, 769, 795, 902, 906, 929, 933, 975]>,<id1,135,[0, 6, 16, 29, 36, 52, 55, 70, 79, 82, 89, 112, 131, 141, 154, 161, 168, 197, 208, 215, 225, 227, 233, 244, 246, 248, 261, 263, 276, 280, 282, 284, 288, 295, 315, 323, 325, 332, 337, 365, 393, 399, 426, 435, 451, 472, 492, 501, 513, 520, 535, 541, 547, 553, 576, 586, 603, 616, 635, 642, 653, 656, 673, 683, 688, 693, 699, 701, 718, 719, 721, 726, 728, 734, 741, 742, 749, 764, 800, 804, 809, 814, 821, 830, 841, 842, 859, 906, 937, 960, 963, 969, 979, 985, 994, 997, 1031, 1039, 1049, 1065, 1070, 1075, 1085, 1101, 1114, 1118, 1133, 1136, 1148, 1150, 1154, 1167, 1172, 1178, 1187, 1190, 1196, 1203, 1211, 1213, 1226, 1282, 1287, 1324, 1400, 1402, 1423, 1446, 1454, 1488, 1519, 1603, 1623, 1626, 1630]>\r\n",
      "legitimate, <id1,1,[865]>\r\n",
      "make, <id2,3,[113, 514, 558]>,<id1,1,[1164]>\r\n",
      "regulatory, <id1,1,[1346]>\r\n",
      "general, <id2,1,[876]>,<id1,2,[137, 829]>\r\n",
      "insurance, <id1,1,[1349]>\r\n",
      "science, <id1,4,[21, 558, 958, 1081]>\r\n",
      "purposes, <id2,1,[477]>,<id1,3,[1124, 1179, 1501]>\r\n",
      "licensing, <id1,1,[1529]>\r\n",
      "founding, <id1,1,[476]>\r\n",
      "conducted, <id1,2,[647, 679]>\r\n",
      "consent, <id2,1,[432]>,<id1,2,[1360, 1391]>\r\n",
      "effectiveness, <id1,1,[256]>\r\n",
      "original, <id1,1,[1574]>\r\n",
      "experimentation, <id1,1,[358]>\r\n",
      "positive, <id1,2,[359, 372]>\r\n",
      "exploitation, <id1,1,[1310]>\r\n",
      "methodology, <id1,2,[649, 651]>\r\n",
      "subspace, <id1,1,[1060]>\r\n",
      "accountability, <id1,1,[1351]>\r\n",
      "biotech, <id1,1,[1370]>\r\n",
      "pure, <id1,1,[1445]>\r\n",
      "related, <id2,1,[189]>,<id1,1,[278]>\r\n",
      "intelligence, <id1,4,[105, 109, 148, 594]>\r\n",
      "dependencies, <id1,1,[176]>\r\n",
      "contain, <id1,2,[706, 1229]>\r\n",
      "legal, <id1,3,[1442, 1527, 1568]>\r\n",
      "hnc, <id1,1,[383]>\r\n",
      "not, <id1,1,[811]>\r\n",
      "dramatically, <id1,1,[533]>\r\n",
      "standards, <id2,1,[587]>,<id1,3,[902, 914, 984]>\r\n",
      "effectively, <id1,1,[1305]>\r\n",
      "subfield, <id1,1,[19]>\r\n",
      "specially, <id1,1,[559]>\r\n",
      "noise, <id1,1,[739]>\r\n",
      "harbor, <id1,1,[1302]>\r\n",
      "learned, <id1,5,[847, 874, 898, 910, 918]>\r\n",
      "quantities, <id1,1,[160]>\r\n",
      "se, <id1,1,[1175]>\r\n",
      "hypotheses, <id1,3,[253, 312, 772]>\r\n",
      "together, <id1,1,[1155]>\r\n",
      "goal, <id2,1,[46]>,<id1,3,[24, 73, 1388]>\r\n",
      "emails, <id1,1,[866]>\r\n",
      "researchers, <id2,1,[711]>,<id1,3,[390, 670, 1536]>\r\n",
      "suggests, <id1,1,[1044]>\r\n",
      "processes, <id1,1,[1003]>\r\n",
      "cover, <id1,1,[1058]>\r\n",
      "mathematical, <id1,1,[597]>\r\n",
      "difference, <id1,1,[243]>\r\n",
      "major, <id1,1,[444]>\r\n",
      "surveillance, <id1,2,[1082, 1317]>\r\n",
      "considered, <id2,3,[187, 420, 517]>,<id1,1,[328]>\r\n",
      "aaai, <id1,1,[457]>\r\n",
      "appeared, <id1,1,[367]>\r\n",
      "decision, <id1,4,[100, 221, 569, 571]>\r\n",
      "must, <id1,2,[690, 703]>\r\n",
      "interesting, <id2,1,[156]>,<id1,1,[165]>\r\n",
      "change, <id1,1,[905]>\r\n",
      "article, <id1,2,[346, 1369]>\r\n",
      "started, <id1,3,[447, 455, 478]>\r\n",
      "primary, <id1,2,[488, 505]>\r\n",
      "states, <id1,1,[1338]>\r\n",
      "classify, <id2,1,[248]>,<id1,1,[887]>\r\n",
      "named, <id1,2,[126, 659]>\r\n",
      "reviews, <id1,1,[672]>\r\n",
      "judge, <id1,1,[1587]>\r\n",
      "large, <id1,8,[5, 77, 139, 159, 274, 585, 704, 978]>\r\n",
      "code, <id2,4,[945, 954, 967, 973]>,<id1,1,[1614]>\r\n",
      "grown, <id1,1,[543]>\r\n",
      "phases, <id1,2,[639, 788]>\r\n",
      "indicated, <id1,1,[1267]>\r\n",
      "future, <id1,2,[759, 1366]>\r\n",
      "contrast, <id1,1,[262]>\r\n",
      "information, <id2,18,[14, 33, 83, 127, 214, 422, 613, 661, 672, 703, 715, 749, 758, 770, 813, 886, 891, 917]>,<id1,17,[26, 32, 90, 401, 403, 1093, 1126, 1139, 1231, 1253, 1258, 1281, 1362, 1406, 1493, 1627, 1629]>\r\n",
      "masquerades, <id1,1,[354]>\r\n",
      "extract, <id2,1,[212]>,<id1,2,[25, 162]>\r\n",
      "exchange, <id1,1,[1036]>\r\n",
      "valid, <id1,1,[818]>\r\n",
      "licences, <id1,1,[1522]>\r\n",
      "workshop, <id1,1,[415]>\r\n",
      "commission, <id1,1,[1514]>\r\n",
      "variations, <id1,1,[631]>\r\n",
      "sigmod, <id1,1,[973]>\r\n",
      "statistics, <id2,1,[780]>,<id1,4,[13, 22, 96, 592]>\r\n",
      "rules, <id1,1,[572]>\r\n",
      "obligations, <id1,1,[1144]>\r\n",
      "databases, <id1,4,[42, 413, 606, 621]>\r\n",
      "arise, <id1,1,[786]>\r\n",
      "second, <id1,1,[1482]>\r\n",
      "high, <id2,1,[585]>,<id1,1,[1052]>\r\n",
      "this, <id2,8,[99, 118, 234, 341, 497, 569, 582, 845]>,<id1,5,[183, 832, 1171, 1260, 1397]>\r\n",
      "increasing, <id2,1,[504]>,<id1,1,[529]>\r\n",
      "controls, <id1,1,[1347]>\r\n",
      "uthurusamy, <id1,1,[463]>\r\n",
      "interest, <id1,1,[932]>\r\n",
      "bodily, <id1,1,[1265]>\r\n",
      "economist, <id1,1,[343]>\r\n",
      "per, <id1,1,[1174]>\r\n",
      "dredging, <id1,2,[281, 326]>\r\n",
      "simple, <id1,1,[778]>\r\n",
      "background, <id1,1,[598]>\r\n",
      "clandestine, <id1,1,[271]>\r\n",
      "simplified, <id1,1,[640]>\r\n",
      "generally, <id2,1,[700]>,<id1,1,[371]>\r\n",
      "review, <id1,2,[348, 1468]>\r\n",
      "execute, <id1,1,[607]>\r\n",
      "around, <id1,1,[368]>\r\n",
      "anonymized, <id1,1,[1225]>\r\n",
      "size, <id1,1,[544]>\r\n",
      "population, <id1,1,[294]>\r\n",
      "longstanding, <id1,1,[1379]>\r\n",
      "supported, <id1,1,[1035]>\r\n",
      "discoveries, <id1,1,[556]>\r\n",
      "previously, <id1,1,[163]>\r\n",
      "trees, <id1,1,[570]>\r\n",
      "areas, <id2,1,[193]>,<id1,1,[1418]>\r\n",
      "gregory, <id1,1,[408]>\r\n",
      "pharmaceutical, <id1,1,[1288]>\r\n",
      "process, <id2,2,[342, 570]>,<id1,11,[2, 43, 239, 578, 623, 634, 641, 675, 789, 987, 993]>\r\n",
      "cross, <id2,1,[888]>,<id1,1,[990]>\r\n",
      "wider, <id1,1,[808]>\r\n",
      "commercial, <id1,1,[1117]>\r\n",
      "facilitates, <id1,1,[1160]>\r\n",
      "examples, <id1,1,[1074]>\r\n",
      "annual, <id1,1,[944]>\r\n",
      "digitization, <id1,1,[1598]>\r\n",
      "management, <id2,2,[814, 938]>,<id1,2,[53, 600]>\r\n",
      "hidden, <id1,2,[272, 583]>\r\n",
      "define, <id1,1,[983]>\r\n",
      "questions, <id2,1,[364]>,<id1,1,[1107]>\r\n",
      "teams, <id1,1,[669]>\r\n",
      "additional, <id2,2,[335, 612]>,<id1,1,[240]>\r\n",
      "settlement, <id1,1,[1585]>\r\n",
      "family, <id1,1,[1410]>\r\n",
      "enforcement, <id1,1,[1123]>\r\n",
      "transform, <id2,2,[824, 971]>,<id1,1,[31]>\r\n",
      "marketing, <id2,1,[238]>,<id1,2,[134, 257]>\r\n",
      "apparent, <id1,1,[1170]>\r\n",
      "automatic, <id1,1,[157]>\r\n",
      "individual, <id2,4,[424, 461, 576, 603]>,<id1,2,[1183, 1268]>\r\n",
      "indicates, <id1,1,[352]>\r\n",
      "health, <id1,1,[1348]>\r\n",
      "sigkdd, <id1,4,[479, 481, 939, 955]>\r\n",
      "harm, <id1,1,[1266]>\r\n",
      "snooping, <id1,2,[285, 361]>\r\n",
      "subject, <id1,1,[1457]>\r\n",
      "multivariate, <id1,1,[725]>\r\n",
      "aspects, <id1,1,[54]>\r\n",
      "example, <id1,6,[201, 207, 858, 988, 1059, 1581]>\r\n",
      "leave, <id1,1,[1544]>\r\n",
      "extracting, <id1,1,[1628]>\r\n",
      "appear, <id1,1,[755]>\r\n",
      "necessarily, <id1,1,[817]>\r\n",
      "efforts, <id1,2,[982, 1295]>\r\n",
      "educational, <id1,1,[1411]>\r\n",
      "lawful, <id1,2,[1577, 1594]>\r\n",
      "testing, <id1,1,[777]>\r\n",
      "amount, <id2,1,[500]>,<id1,1,[260]>\r\n",
      "source, <id1,2,[717, 1613]>\r\n",
      "involving, <id2,1,[413]>,<id1,1,[8]>\r\n",
      "according, <id2,1,[634]>,<id1,2,[1208, 1368]>\r\n",
      "use, <id2,5,[473, 541, 561, 776, 974]>,<id1,8,[35, 287, 767, 1019, 1422, 1554, 1561, 1579]>\r\n",
      "identified, <id1,1,[1222]>\r\n",
      "dataset, <id1,1,[254]>\r\n",
      "miner, <id1,1,[1191]>\r\n",
      "short, <id1,1,[375]>\r\n",
      "intention, <id1,1,[581]>\r\n",
      "highest, <id1,1,[489]>\r\n",
      "stored, <id1,1,[604]>\r\n",
      "warehouse, <id1,1,[722]>\r\n",
      "clustering, <id2,1,[443]>,<id1,1,[1061]>\r\n",
      "recommendation, <id2,1,[348]>,<id1,1,[1466]>\r\n",
      "research, <id2,1,[764]>,<id1,4,[446, 496, 506, 1381]>\r\n",
      "publishers, <id1,1,[1543]>\r\n",
      "applicable, <id1,1,[791]>\r\n",
      "support, <id1,3,[101, 222, 573]>\r\n",
      "fully, <id1,1,[1325]>\r\n",
      "protection, <id1,2,[1378, 1389]>\r\n",
      "academic, <id1,2,[442, 952]>\r\n",
      "america, <id1,1,[1558]>\r\n",
      "accuracy, <id2,1,[914]>,<id1,1,[882]>\r\n",
      "act, <id2,1,[742]>,<id1,2,[1352, 1414]>\r\n",
      "leading, <id1,2,[650, 1254]>\r\n",
      "attempts, <id1,1,[1330]>\r\n",
      "task, <id1,2,[156, 1051]>\r\n",
      "biannual, <id1,1,[951]>\r\n",
      "level, <id2,2,[72, 728]>,<id1,1,[1393]>\r\n",
      "consequently, <id1,1,[391]>\r\n",
      "computer, <id1,5,[20, 99, 531, 557, 957]>\r\n",
      "cleaned, <id1,1,[733]>\r\n",
      "extraction, <id2,2,[657, 871]>,<id1,5,[74, 80, 93, 406, 511]>\r\n",
      "unintentionally, <id1,1,[751]>\r\n",
      "identify, <id2,2,[560, 966]>,<id1,2,[212, 1199]>\r\n",
      "present, <id1,4,[698, 828, 967, 1365]>\r\n",
      "distinguish, <id1,1,[863]>\r\n",
      "stages, <id1,1,[626]>\r\n",
      "following, <id1,3,[1210, 1606, 1618]>\r\n",
      "hosted, <id1,1,[943]>\r\n",
      "content, <id2,10,[42, 59, 143, 346, 654, 665, 751, 923, 937, 939]>,<id1,4,[1476, 1499, 1556, 1570]>\r\n",
      "public, <id1,1,[1610]>\r\n",
      "statistical, <id1,4,[268, 300, 775, 889]>\r\n",
      "agency, <id1,1,[1329]>\r\n",
      "learning, <id1,12,[12, 107, 116, 123, 129, 150, 203, 267, 422, 562, 609, 782]>\r\n",
      "mart, <id1,1,[720]>\r\n",
      "dmg, <id1,2,[1034, 1064]>\r\n",
      "expose, <id1,1,[1306]>\r\n",
      "newly, <id1,1,[1194]>\r\n",
      "prediction, <id1,2,[219, 1046]>\r\n",
      "used, <id2,7,[103, 211, 402, 426, 838, 895, 928]>,<id1,14,[199, 216, 250, 309, 320, 339, 380, 397, 439, 652, 686, 892, 1067, 1103]>\r\n",
      "communities, <id1,1,[432]>\r\n",
      "peoples, <id1,1,[1095]>\r\n",
      "search, <id2,1,[683]>,<id1,1,[1243]>\r\n",
      "also, <id2,3,[92, 351, 375]>,<id1,7,[49, 84, 966, 1162, 1215, 1505, 1615]>\r\n",
      "relation, <id1,1,[1094]>\r\n",
      "trademarked, <id1,1,[382]>\r\n",
      "histories, <id1,1,[1244]>\r\n",
      "quality, <id1,1,[490]>\r\n",
      "technology, <id2,6,[228, 235, 247, 357, 382, 401]>,<id1,1,[532]>\r\n",
      "copyright, <id1,6,[1431, 1440, 1449, 1473, 1503, 1549]>\r\n",
      "miners, <id1,1,[654]>\r\n",
      "similarly, <id1,1,[340]>\r\n",
      "studies, <id2,1,[188]>,<id1,1,[350]>\r\n",
      "direct, <id1,1,[546]>\r\n",
      "verify, <id1,1,[801]>\r\n",
      "digitisation, <id1,1,[1591]>\r\n",
      "government, <id2,2,[232, 244]>,<id1,2,[1116, 1471]>\r\n",
      "reasons, <id1,1,[135]>\r\n",
      "covers, <id1,2,[120, 1045]>\r\n",
      "body, <id1,1,[925]>\r\n",
      "readily, <id1,1,[1221]>\r\n",
      "polls, <id1,2,[646, 660]>\r\n",
      "today, <id1,1,[1072]>\r\n",
      "ways, <id2,1,[831]>,<id1,1,[1100]>\r\n",
      "term, <id2,1,[853]>,<id1,8,[69, 130, 336, 364, 410, 417, 425, 1084]>\r\n",
      "increasingly, <id1,1,[549]>\r\n",
      "performing, <id1,1,[773]>\r\n",
      "collection, <id1,3,[92, 226, 536]>\r\n",
      "steps, <id1,2,[241, 908]>\r\n",
      "sources, <id2,2,[44, 673]>,<id1,1,[1158]>\r\n",
      "java, <id1,2,[119, 996]>\r\n",
      "rate, <id1,1,[495]>\r\n",
      "offer, <id2,1,[334]>,<id1,1,[1376]>\r\n",
      "statisticians, <id1,1,[318]>\r\n",
      "comparison, <id1,1,[680]>\r\n",
      "greater, <id1,1,[1377]>\r\n",
      "development, <id2,1,[738]>,<id1,1,[1001]>\r\n",
      "representatives, <id1,1,[1534]>\r\n",
      "ability, <id1,1,[539]>\r\n",
      "aided, <id1,1,[555]>\r\n",
      "exists, <id1,1,[628]>\r\n",
      "classes, <id1,1,[747]>\r\n",
      "intellectual, <id1,1,[1458]>\r\n",
      "taiwan, <id1,1,[1564]>\r\n",
      "kind, <id2,1,[184]>,<id1,1,[194]>\r\n",
      "paper, <id1,1,[497]>\r\n",
      "bayes, <id1,1,[522]>\r\n",
      "multiple, <id1,1,[213]>\r\n",
      "united, <id1,1,[1337]>\r\n",
      "concise, <id1,1,[709]>\r\n",
      "scale, <id1,1,[140]>\r\n",
      "format, <id1,1,[1037]>\r\n",
      "different, <id2,5,[43, 86, 137, 476, 755]>,<id1,1,[787]>\r\n",
      "importance, <id2,1,[848]>,<id1,1,[1053]>\r\n",
      "supplant, <id1,1,[1573]>\r\n",
      "compared, <id2,1,[949]>,<id1,1,[854]>\r\n",
      "mined, <id1,1,[711]>\r\n",
      "small, <id1,1,[298]>\r\n",
      "analyzing, <id2,1,[390]>,<id1,3,[255, 331, 1625]>\r\n",
      "people, <id2,1,[456]>,<id1,1,[665]>\r\n",
      "training, <id2,1,[791]>,<id1,2,[826, 869]>\r\n",
      "regardless, <id1,1,[259]>\r\n",
      "limitations, <id1,1,[1531]>\r\n",
      "intersection, <id1,1,[10]>\r\n",
      "automated, <id2,2,[21, 680]>,<id1,1,[552]>\r\n",
      "intelligent, <id2,2,[713, 717]>,<id1,1,[27]>\r\n",
      "under, <id2,1,[865]>,<id1,1,[1429]>\r\n",
      "launched, <id1,1,[468]>\r\n",
      "algorithm, <id2,1,[877]>,<id1,3,[844, 861, 894]>\r\n",
      "confidentiality, <id1,1,[1142]>\r\n",
      "missing, <id1,1,[740]>\r\n",
      "methods, <id2,1,[900]>,<id1,9,[9, 28, 146, 290, 307, 517, 580, 614, 890]>\r\n",
      "indexed, <id1,1,[605]>\r\n",
      "discovered, <id1,2,[63, 305]>\r\n",
      "way, <id2,1,[385]>,<id1,4,[342, 602, 1146, 1159]>\r\n",
      "first, <id1,2,[414, 448]>\r\n",
      "trying, <id1,1,[862]>\r\n",
      "text, <id2,3,[786, 901, 962]>,<id1,2,[1518, 1602]>\r\n",
      "acceptance, <id1,1,[494]>\r\n",
      "commonly, <id1,1,[624]>\r\n",
      "stalled, <id1,1,[1006]>\r\n",
      "viewed, <id1,2,[1567, 1576]>\r\n",
      "target, <id2,1,[291]>,<id1,3,[687, 700, 731]>\r\n",
      "interdisciplinary, <id1,1,[18]>\r\n",
      "indirect, <id1,1,[551]>\r\n",
      "trained, <id1,4,[845, 868, 873, 880]>\r\n",
      "wherever, <id1,1,[1068]>\r\n",
      "due, <id1,1,[1491]>\r\n",
      "week, <id1,1,[1372]>\r\n",
      "in, <id1,5,[317, 441, 1112, 1269, 1336]>\r\n",
      "indices, <id1,1,[190]>\r\n",
      "countries, <id1,1,[1562]>\r\n",
      "limitation, <id1,1,[1478]>\r\n",
      "cleaning, <id1,1,[735]>\r\n",
      "acm, <id1,2,[930, 941]>\r\n",
      "topics, <id1,1,[965]>\r\n",
      "terms, <id1,6,[138, 279, 321, 396, 434, 1510]>\r\n",
      "coined, <id1,1,[409]>\r\n",
      "within, <id1,1,[712]>\r\n",
      "name, <id2,1,[12]>,<id1,1,[1043]>\r\n",
      "safe, <id1,1,[1301]>\r\n",
      "increased, <id2,1,[499]>,<id1,2,[534, 1319]>\r\n",
      "spatial, <id1,1,[189]>\r\n",
      "san, <id1,1,[384]>\r\n",
      "sample, <id1,3,[291, 763, 871]>\r\n",
      "applied, <id2,2,[197, 388]>,<id1,5,[87, 591, 615, 849, 877]>\r\n",
      "reaching, <id1,1,[1011]>\r\n",
      "extensions, <id1,1,[1057]>\r\n",
      "japan, <id1,1,[1485]>\r\n",
      "permission, <id1,1,[1439]>\r\n",
      "unknown, <id1,1,[164]>\r\n",
      "majority, <id1,1,[1425]>\r\n",
      "inadvertent, <id1,1,[1249]>\r\n",
      "spam, <id1,1,[864]>\r\n",
      "machinery, <id1,1,[929]>\r\n",
      "financial, <id1,1,[1263]>\r\n",
      "civil, <id1,1,[1538]>\r\n",
      "allow, <id1,3,[1232, 1475, 1506]>\r\n",
      "problem, <id1,2,[780, 785]>\r\n",
      "underway, <id1,1,[1296]>\r\n",
      "allowing, <id1,1,[613]>\r\n",
      "us, <id1,2,[1342, 1548]>\r\n",
      "model, <id2,2,[333, 836]>,<id1,2,[56, 1025]>\r\n",
      "filed, <id1,1,[1276]>\r\n",
      "ruled, <id1,1,[1589]>\r\n",
      "especially, <id2,1,[428]>,<id1,1,[1202]>\r\n",
      "many, <id2,1,[225]>,<id1,6,[630, 664, 771, 885, 968, 1038]>\r\n",
      "underscores, <id1,1,[1398]>\r\n",
      "systems, <id2,2,[204, 741]>,<id1,1,[15]>\r\n",
      "discovery, <id2,1,[681]>,<id1,11,[41, 404, 412, 438, 454, 475, 504, 610, 620, 799, 936]>\r\n",
      "throughout, <id1,1,[1078]>\r\n",
      "larger, <id1,2,[293, 314]>\r\n",
      "draft, <id1,1,[1013]>\r\n",
      "addresses, <id1,1,[1420]>\r\n",
      "intended, <id1,1,[1364]>\r\n",
      "provider, <id1,1,[1255]>\r\n",
      "failed, <id1,1,[1333]>\r\n",
      "significant, <id1,1,[756]>\r\n",
      "stakeholder, <id1,2,[1516, 1545]>\r\n",
      "may, <id1,10,[198, 297, 891, 1087, 1214, 1220, 1375, 1448, 1452, 1547]>\r\n",
      "anyone, <id1,1,[1192]>\r\n",
      "models, <id2,1,[350]>,<id1,5,[252, 269, 676, 1017, 1047]>\r\n",
      "country, <id1,1,[1483]>\r\n",
      "sig, <id1,2,[934, 942]>\r\n",
      "as, <id2,3,[11, 808, 883]>,<id1,5,[540, 692, 1042, 1312, 1569]>\r\n",
      "processing, <id1,2,[91, 554]>\r\n",
      "warehousing, <id1,1,[94]>\r\n",
      "measured, <id1,1,[884]>\r\n",
      "early, <id1,1,[516]>\r\n",
      "obtain, <id1,1,[217]>\r\n",
      "group, <id2,1,[458]>,<id1,2,[933, 1033]>\r\n",
      "becomes, <id1,1,[1456]>\r\n",
      "neither, <id1,1,[224]>\r\n",
      "santos, <id1,1,[678]>\r\n",
      "successors, <id1,1,[1002]>\r\n",
      "instance, <id1,1,[1271]>\r\n",
      "groups, <id1,3,[167, 214, 1540]>\r\n",
      "particular, <id2,2,[217, 745]>,<id1,5,[1018, 1048, 1113, 1323, 1551]>\r\n",
      "needed, <id2,1,[874]>,<id1,1,[1335]>\r\n",
      "usama, <id1,2,[460, 466]>\r\n",
      "if, <id1,2,[897, 909]>\r\n",
      "where, <id1,1,[1443]>\r\n",
      "ai, <id2,1,[740]>,<id1,1,[420]>\r\n",
      "contractual, <id1,1,[1509]>\r\n",
      "machine, <id1,11,[11, 106, 115, 122, 128, 149, 202, 266, 421, 561, 781]>\r\n",
      "title, <id1,1,[1521]>\r\n",
      "test, <id1,5,[251, 313, 839, 850, 878]>\r\n",
      "security, <id1,2,[1121, 1328]>\r\n",
      "specific, <id2,4,[310, 327, 470, 519]>,<id1,2,[1200, 1417]>\r\n",
      "creating, <id1,1,[310]>\r\n",
      "released, <id1,1,[1246]>\r\n",
      "restriction, <id1,1,[1492]>\r\n",
      "ethics, <id1,1,[1111]>\r\n",
      "able, <id1,2,[1198, 1237]>\r\n",
      "displayed, <id1,1,[1600]>\r\n",
      "journalists, <id1,1,[1236]>\r\n",
      "discovering, <id2,1,[95]>,<id1,1,[3]>\r\n",
      "raw, <id1,1,[46]>\r\n",
      "total, <id1,1,[1125]>\r\n",
      "indiscretion, <id1,1,[1261]>\r\n",
      "discussion, <id1,2,[1320, 1517]>\r\n",
      "dialogue, <id1,1,[1546]>\r\n",
      "led, <id1,2,[1469, 1533]>\r\n",
      "actual, <id1,3,[145, 153, 608]>\r\n",
      "south, <id1,1,[1565]>\r\n",
      "year, <id1,1,[464]>\r\n",
      "harvesting, <id1,1,[402]>\r\n",
      "considerations, <id1,2,[58, 62]>\r\n",
      "anonymous, <id2,3,[442, 515, 596]>,<id1,2,[1205, 1218]>\r\n",
      "passage, <id1,1,[1345]>\r\n",
      "special, <id1,1,[931]>\r\n",
      "provision, <id1,2,[1507, 1552]>\r\n",
      "produce, <id1,1,[753]>\r\n",
      "otherwise, <id1,2,[1098, 1169]>\r\n",
      "aggregation, <id1,3,[1149, 1151, 1403]>\r\n",
      "regarding, <id2,1,[365]>,<id1,2,[1108, 1361]>\r\n",
      "techniques, <id2,8,[5, 125, 154, 362, 649, 725, 908, 977]>,<id1,2,[118, 188]>\r\n",
      "manual, <id1,1,[510]>\r\n",
      "disclosure, <id1,1,[1318]>\r\n",
      "issue, <id2,1,[412]>,<id1,1,[1528]>\r\n",
      "regulations, <id1,1,[1380]>\r\n",
      "evaluation, <id1,1,[837]>\r\n",
      "interpretation, <id1,1,[230]>\r\n",
      "genetic, <id1,1,[567]>\r\n",
      "assembled, <id1,1,[691]>\r\n",
      "arena, <id1,1,[1382]>\r\n",
      "amend, <id1,1,[1472]>\r\n",
      "detection, <id1,1,[175]>\r\n",
      "kluwer, <id1,1,[470]>\r\n",
      "often, <id1,3,[136, 768, 1090]>\r\n",
      "machines, <id1,1,[575]>\r\n",
      "times, <id2,1,[855]>,<id1,1,[663]>\r\n",
      "parts, <id1,1,[292]>\r\n",
      "ferpa, <id1,1,[1415]>\r\n",
      "identifying, <id2,1,[259]>,<id1,1,[518]>\r\n",
      "currently, <id1,2,[433, 1304]>\r\n",
      "form, <id2,1,[438]>,<id1,1,[88]>\r\n",
      "hargreaves, <id1,1,[1467]>\r\n",
      "proposed, <id1,1,[1062]>\r\n",
      "access, <id2,1,[339]>,<id1,3,[1193, 1542, 1611]>\r\n",
      "active, <id1,1,[1005]>\r\n",
      "acceptable, <id1,1,[713]>\r\n",
      "known, <id1,1,[783]>\r\n",
      "final, <id1,3,[796, 915, 1012]>\r\n",
      "revoke, <id1,1,[1321]>\r\n",
      "interestingness, <id1,1,[59]>\r\n",
      "populations, <id1,1,[316]>\r\n",
      "michael, <id1,1,[344]>\r\n",
      "critical, <id1,1,[341]>\r\n",
      "national, <id1,2,[1120, 1327]>\r\n",
      "via, <id1,1,[1344]>\r\n",
      "concerns, <id2,1,[408]>,<id1,2,[1132, 1340]>\r\n",
      "pricing, <id2,1,[292]>\r\n",
      "space, <id2,2,[835, 844]>\r\n",
      "factors, <id2,1,[709]>\r\n",
      "concerned, <id2,1,[191]>\r\n",
      "three, <id2,1,[136]>\r\n",
      "unscrupulous, <id2,1,[619]>\r\n",
      "points, <id2,1,[756]>\r\n",
      "link, <id2,2,[39, 69]>\r\n",
      "focuses, <id2,1,[62]>\r\n",
      "hyperlinks, <id2,2,[71, 75]>\r\n",
      "relationships, <id2,1,[216]>\r\n",
      "attractive, <id2,1,[229]>\r\n",
      "captures, <id2,1,[169]>\r\n",
      "technically, <id2,1,[57]>\r\n",
      "much, <id2,1,[671]>\r\n",
      "facilitate, <id2,1,[122]>\r\n",
      "autonomously, <id2,1,[743]>\r\n",
      "insight, <id2,1,[285]>\r\n",
      "service, <id2,1,[574]>\r\n",
      "retrieval, <id2,3,[716, 759, 771]>\r\n",
      "gathered, <id2,1,[15]>\r\n",
      "commodity, <id2,1,[488]>\r\n",
      "customers, <id2,3,[279, 299, 317]>\r\n",
      "wide, <id2,3,[9, 675, 688]>\r\n",
      "aliweb, <id2,1,[694]>\r\n",
      "trade, <id2,2,[242, 492]>\r\n",
      "divided, <id2,2,[135, 642]>\r\n",
      "problems, <id2,1,[359]>\r\n",
      "extend, <id2,1,[721]>\r\n",
      "differentiated, <id2,1,[753]>\r\n",
      "encourages, <id2,1,[489]>\r\n",
      "seco, <id2,1,[206]>\r\n",
      "semantic, <id2,3,[213, 331, 386]>\r\n",
      "heterogeneity, <id2,1,[667]>\r\n",
      "reference, <id2,1,[131]>\r\n",
      "hyponymy, <id2,1,[215]>\r\n",
      "vista, <id2,1,[692]>\r\n",
      "lycos, <id2,1,[690]>\r\n",
      "evaluating, <id2,1,[879]>\r\n",
      "mutual, <id2,1,[890]>\r\n",
      "selection, <id2,1,[864]>\r\n",
      "permits, <id2,2,[28, 670]>\r\n",
      "terminology, <id2,1,[648]>\r\n",
      "realize, <id2,1,[847]>\r\n",
      "privilege, <id2,1,[575]>\r\n",
      "inaccuracies, <id2,1,[528]>\r\n",
      "requirements, <id2,1,[287]>\r\n",
      "score, <id2,1,[918]>\r\n",
      "comfort, <id2,1,[698]>\r\n",
      "kinds, <id2,1,[644]>\r\n",
      "english, <id2,1,[950]>\r\n",
      "inferred, <id2,1,[614]>\r\n",
      "topology, <id2,1,[74]>\r\n",
      "represent, <id2,2,[784, 832]>\r\n",
      "hz, <id2,1,[953]>\r\n",
      "alta, <id2,1,[691]>\r\n",
      "demonstrate, <id2,1,[352]>\r\n",
      "terrorism, <id2,1,[251]>\r\n",
      "collaborative, <id2,1,[347]>\r\n",
      "order, <id2,2,[161, 811]>\r\n",
      "preventing, <id2,1,[534]>\r\n",
      "behalf, <id2,1,[744]>\r\n",
      "better, <id2,4,[163, 264, 270, 812]>\r\n",
      "accessing, <id2,1,[126]>\r\n",
      "others, <id2,1,[696]>\r\n",
      "inside, <id2,1,[800]>\r\n",
      "benefit, <id2,1,[257]>\r\n",
      "characteristics, <id2,2,[459, 462]>\r\n",
      "needs, <id2,4,[165, 268, 273, 965]>\r\n",
      "tendency, <id2,1,[453]>\r\n",
      "address, <id2,1,[358]>\r\n",
      "sophisticated, <id2,1,[739]>\r\n",
      "contents, <id2,1,[526]>\r\n",
      "site, <id2,6,[54, 178, 496, 633, 823, 826]>\r\n",
      "odds, <id2,1,[892]>\r\n",
      "servers, <id2,1,[26]>\r\n",
      "outlined, <id2,1,[326]>\r\n",
      "offers, <id2,1,[309]>\r\n",
      "personalized, <id2,1,[237]>\r\n",
      "reasoning, <id2,1,[391]>\r\n",
      "verification, <id2,1,[932]>\r\n",
      "portals, <id2,1,[926]>\r\n",
      "judging, <id2,2,[449, 454]>\r\n",
      "similar, <id2,1,[904]>\r\n",
      "customer, <id2,7,[265, 269, 272, 286, 306, 311, 316]>\r\n",
      "depending, <id2,1,[183]>\r\n",
      "tries, <id2,2,[67, 819]>\r\n",
      "obtained, <id2,6,[370, 425, 434, 495, 597, 599]>\r\n",
      "subjective, <id2,1,[371]>\r\n",
      "always, <id2,1,[818]>\r\n",
      "back, <id2,1,[602]>\r\n",
      "logs, <id2,1,[37]>\r\n",
      "organize, <id2,1,[748]>\r\n",
      "server, <id2,1,[36]>\r\n",
      "lawsuits, <id2,1,[532]>\r\n",
      "analyzed, <id2,1,[436]>\r\n",
      "threats, <id2,1,[249]>\r\n",
      "organized, <id2,1,[31]>\r\n",
      "gb, <id2,1,[952]>\r\n",
      "faster, <id2,1,[274]>\r\n",
      "log, <id2,1,[209]>\r\n",
      "save, <id2,1,[280]>\r\n",
      "schema, <id2,2,[106, 132]>\r\n",
      "good, <id2,1,[110]>\r\n",
      "indexing, <id2,1,[684]>\r\n",
      "user, <id2,6,[218, 337, 344, 480, 621, 746]>\r\n",
      "condition, <id2,1,[866]>\r\n",
      "another, <id2,2,[93, 464]>\r\n",
      "benefits, <id2,2,[319, 383]>\r\n",
      "activities, <id2,2,[35, 261]>\r\n",
      "precision, <id2,1,[915]>\r\n",
      "frameworks, <id2,1,[328]>\r\n",
      "essentially, <id2,2,[224, 478]>\r\n",
      "category, <id2,1,[867]>\r\n",
      "utilized, <id2,1,[802]>\r\n",
      "legally, <id2,1,[524]>\r\n",
      "organization, <id2,2,[682, 729]>\r\n",
      "origin, <id2,1,[171]>\r\n",
      "lost, <id2,1,[421]>\r\n",
      "integration, <id2,1,[658]>\r\n",
      "website, <id2,2,[38, 490]>\r\n",
      "inner, <id2,1,[972]>\r\n",
      "constitute, <id2,1,[841]>\r\n",
      "nature, <id2,1,[405]>\r\n",
      "single, <id2,2,[781, 788]>\r\n",
      "demonstrated, <id2,1,[207]>\r\n",
      "production, <id2,1,[281]>\r\n",
      "clustered, <id2,1,[437]>\r\n",
      "corpus, <id2,1,[792]>\r\n",
      "acquired, <id2,1,[284]>\r\n",
      "ratio, <id2,1,[893]>\r\n",
      "maintained, <id2,1,[588]>\r\n",
      "researches, <id2,1,[775]>\r\n",
      "interpreting, <id2,1,[389]>\r\n",
      "volumes, <id2,1,[243]>\r\n",
      "situation, <id2,1,[583]>\r\n",
      "possible, <id2,1,[114]>\r\n",
      "could, <id2,1,[571]>\r\n",
      "release, <id2,3,[520, 527, 529]>\r\n",
      "software, <id2,1,[202]>\r\n",
      "similarity, <id2,1,[84]>\r\n",
      "utilize, <id2,1,[797]>\r\n",
      "provides, <id2,1,[343]>\r\n",
      "frequency, <id2,2,[854, 858]>\r\n",
      "component, <id2,1,[922]>\r\n",
      "integrity, <id2,1,[934]>\r\n",
      "predicting, <id2,1,[253]>\r\n",
      "reducing, <id2,1,[313]>\r\n",
      "personal, <id2,4,[404, 444, 486, 493]>\r\n",
      "profitability, <id2,1,[290]>\r\n",
      "understanding, <id2,1,[267]>\r\n",
      "corporations, <id2,1,[230]>\r\n",
      "retain, <id2,2,[278, 305]>\r\n",
      "important, <id2,2,[465, 921]>\r\n",
      "elements, <id2,1,[376]>\r\n",
      "obliged, <id2,1,[513]>\r\n",
      "issues, <id2,1,[400]>\r\n",
      "basis, <id2,1,[457]>\r\n",
      "serious, <id2,1,[531]>\r\n",
      "page, <id2,4,[41, 56, 116, 664]>\r\n",
      "confirmation, <id2,1,[930]>\r\n",
      "poses, <id2,1,[607]>\r\n",
      "invasion, <id2,1,[417]>\r\n",
      "typically, <id2,1,[837]>\r\n",
      "unique, <id2,1,[377]>\r\n",
      "reports, <id2,1,[27]>\r\n",
      "buy, <id2,1,[511]>\r\n",
      "agencies, <id2,2,[233, 245]>\r\n",
      "treating, <id2,1,[455]>\r\n",
      "hard, <id2,1,[559]>\r\n",
      "traded, <id2,1,[503]>\r\n",
      "by, <id2,1,[860]>\r\n",
      "proposes, <id2,1,[13]>\r\n",
      "religion, <id2,2,[547, 579]>\r\n",
      "orientation, <id2,2,[549, 581]>\r\n",
      "collecting, <id2,1,[468]>\r\n",
      "merits, <id2,2,[463, 912]>\r\n",
      "prompted, <id2,1,[710]>\r\n",
      "metacrawler, <id2,1,[695]>\r\n",
      "profiles, <id2,3,[294, 439, 445]>\r\n",
      "losing, <id2,1,[315]>\r\n",
      "browser, <id2,1,[34]>\r\n",
      "direction, <id2,1,[94]>\r\n",
      "affected, <id2,1,[870]>\r\n",
      "phase, <id2,1,[395]>\r\n",
      "codes, <id2,1,[958]>\r\n",
      "denial, <id2,1,[573]>\r\n",
      "competitor, <id2,1,[302]>\r\n",
      "infer, <id2,1,[820]>\r\n",
      "type, <id2,3,[100, 119, 635]>\r\n",
      "agents, <id2,1,[719]>\r\n",
      "separate, <id2,1,[618]>\r\n",
      "default, <id2,1,[301]>\r\n",
      "relevant, <id2,1,[345]>\r\n",
      "interests, <id2,1,[481]>\r\n",
      "recall, <id2,1,[916]>\r\n",
      "attributes, <id2,3,[543, 563, 568]>\r\n",
      "responsible, <id2,1,[525]>\r\n",
      "develop, <id2,1,[712]>\r\n",
      "resolve, <id2,1,[852]>\r\n",
      "authors, <id2,1,[518]>\r\n",
      "isolation, <id2,1,[783]>\r\n",
      "classified, <id2,1,[182]>\r\n",
      "providing, <id2,2,[130, 307]>\r\n",
      "done, <id2,1,[766]>\r\n",
      "pages, <id2,3,[81, 108, 129]>\r\n",
      "organizations, <id2,1,[29]>\r\n",
      "generate, <id2,2,[50, 82]>\r\n",
      "pipeline, <id2,1,[924]>\r\n",
      "hyperlink, <id2,1,[803]>\r\n",
      "function, <id2,1,[880]>\r\n",
      "invaded, <id2,1,[508]>\r\n",
      "inverse, <id2,1,[856]>\r\n",
      "growing, <id2,1,[483]>\r\n",
      "internet, <id2,1,[686]>\r\n",
      "criticized, <id2,1,[410]>\r\n",
      "extricate, <id2,1,[24]>\r\n",
      "occurs, <id2,1,[429]>\r\n",
      "mouse, <id2,1,[450]>\r\n",
      "graph, <id2,1,[626]>\r\n",
      "along, <id2,1,[174]>\r\n",
      "look, <id2,1,[606]>\r\n",
      "create, <id2,1,[399]>\r\n",
      "gain, <id2,1,[887]>\r\n",
      "criminal, <id2,1,[260]>\r\n",
      "personalization, <id2,1,[325]>\r\n",
      "classifier, <id2,1,[897]>\r\n",
      "implement, <id2,1,[862]>\r\n",
      "complicated, <id2,1,[948]>\r\n",
      "promotional, <id2,1,[308]>\r\n",
      "some, <id2,1,[537]>\r\n",
      "created, <id2,1,[295]>\r\n",
      "avoided, <id2,1,[584]>\r\n",
      "whole, <id2,1,[842]>\r\n",
      "usual, <id2,1,[910]>\r\n",
      "reacting, <id2,1,[271]>\r\n",
      "reveal, <id2,2,[23, 104]>\r\n",
      "taxonomies, <id2,1,[936]>\r\n",
      "construct, <id2,1,[878]>\r\n",
      "classification, <id2,1,[913]>\r\n",
      "risk, <id2,1,[314]>\r\n",
      "words, <id2,4,[778, 782, 849, 947]>\r\n",
      "disseminated, <id2,1,[427]>\r\n",
      "particularly, <id2,1,[323]>\r\n",
      "hypertext, <id2,1,[677]>\r\n",
      "degrade, <id2,1,[372]>\r\n",
      "area, <id2,1,[324]>\r\n",
      "entropy, <id2,1,[889]>\r\n",
      "usage, <id2,15,[140, 149, 157, 167, 180, 185, 199, 222, 321, 355, 379, 392, 397, 415, 566]>\r\n",
      "serve, <id2,1,[164]>\r\n",
      "evaluative, <id2,1,[911]>\r\n",
      "totally, <id2,1,[475]>\r\n",
      "representation, <id2,2,[807, 846]>\r\n",
      "controversial, <id2,2,[542, 562]>\r\n",
      "categorize, <id2,3,[79, 550, 704]>\r\n",
      "race, <id2,2,[546, 578]>\r\n",
      "word, <id2,2,[789, 957]>\r\n",
      "generation, <id2,1,[940]>\r\n",
      "costs, <id2,1,[282]>\r\n",
      "discover, <id2,4,[6, 68, 155, 747]>\r\n",
      "opinion, <id2,1,[941]>\r\n",
      "browsing, <id2,1,[175]>\r\n",
      "advantages, <id2,1,[226]>\r\n",
      "shows, <id2,1,[774]>\r\n",
      "documents, <id2,8,[678, 707, 801, 805, 833, 840, 960, 970]>\r\n",
      "building, <id2,1,[935]>\r\n",
      "filter, <id2,1,[705]>\r\n",
      "fight, <id2,1,[250]>\r\n",
      "navigation, <id2,1,[111]>\r\n",
      "establish, <id2,1,[263]>\r\n",
      "utilization, <id2,1,[20]>\r\n",
      "feature, <id2,3,[863, 872, 884]>\r\n",
      "purpose, <id2,2,[112, 471]>\r\n",
      "html, <id2,2,[798, 969]>\r\n",
      "instead, <id2,1,[460]>\r\n",
      "mainly, <id2,1,[61]>\r\n",
      "probabilistic, <id2,1,[329]>\r\n",
      "summarized, <id2,1,[763]>\r\n",
      "structural, <id2,3,[51, 637, 702]>\r\n",
      "get, <id2,1,[30]>\r\n",
      "relationship, <id2,2,[85, 266]>\r\n",
      "introducing, <id2,1,[123]>\r\n",
      "take, <id2,1,[787]>\r\n",
      "captured, <id2,1,[502]>\r\n",
      "view, <id2,5,[757, 760, 762, 772, 810]>\r\n",
      "traced, <id2,1,[601]>\r\n",
      "chinese, <id2,2,[946, 956]>\r\n",
      "types, <id2,1,[138]>\r\n",
      "rarely, <id2,1,[869]>\r\n",
      "clicks, <id2,1,[451]>\r\n",
      "given, <id2,1,[219]>\r\n",
      "schemes, <id2,1,[117]>\r\n",
      "sexual, <id2,2,[548, 580]>\r\n",
      "two, <id2,4,[192, 617, 643, 754]>\r\n",
      "useful, <id2,3,[659, 979, 981]>\r\n",
      "likeliness, <id2,1,[505]>\r\n",
      "understand, <id2,1,[162]>\r\n",
      "capability, <id2,2,[254, 353]>\r\n",
      "node, <id2,1,[629]>\r\n",
      "they, <id2,3,[288, 296, 523]>\r\n",
      "theory, <id2,1,[627]>\r\n",
      "biases, <id2,1,[363]>\r\n",
      "utilizing, <id2,1,[283]>\r\n",
      "higher, <id2,2,[241, 727]>\r\n",
      "sex, <id2,1,[545]>\r\n",
      "attract, <id2,1,[277]>\r\n",
      "sites, <id2,1,[88]>\r\n",
      "increase, <id2,1,[289]>\r\n",
      "eventually, <id2,1,[239]>\r\n",
      "try, <id2,1,[304]>\r\n",
      "enabled, <id2,1,[236]>\r\n",
      "subset, <id2,1,[873]>\r\n",
      "identity, <id2,1,[170]>\r\n",
      "lack, <id2,1,[668]>\r\n",
      "features, <id2,3,[336, 793, 882]>\r\n",
      "trend, <id2,2,[484, 498]>\r\n",
      "document, <id2,5,[98, 806, 850, 857, 861]>\r\n",
      "bag, <id2,1,[777]>\r\n",
      "webcrawler, <id2,1,[693]>\r\n",
      "apparatuses, <id2,1,[22]>\r\n",
      "unstructured, <id2,3,[32, 767, 785]>\r\n",
      "querying, <id2,1,[815]>\r\n",
      "concern, <id2,1,[466]>\r\n",
      "trading, <id2,1,[535]>\r\n",
      "traditional, <id2,2,[361, 905]>\r\n",
      "costa, <id2,1,[205]>\r\n",
      "latent, <id2,1,[330]>\r\n",
      "makes, <id2,3,[19, 227, 679]>\r\n",
      "connection, <id2,1,[630]>\r\n",
      "concerning, <id2,1,[423]>\r\n"
     ]
    }
   ],
   "source": [
    "!cat inverted_index.txt"
   ]
  },
  {
   "cell_type": "markdown",
   "metadata": {},
   "source": [
    "# Question 2"
   ]
  },
  {
   "cell_type": "markdown",
   "metadata": {},
   "source": [
    "## Elias gamma"
   ]
  },
  {
   "cell_type": "code",
   "execution_count": 35,
   "metadata": {
    "ExecuteTime": {
     "end_time": "2020-02-05T13:39:14.255333Z",
     "start_time": "2020-02-05T13:39:14.252287Z"
    },
    "run_control": {
     "marked": false
    }
   },
   "outputs": [],
   "source": [
    "def elias_gamma(x):\n",
    "    temp = bin(x)[2::]; temp\n",
    "    return ''.join(['0' for i in range(len(temp)-1)])+temp"
   ]
  },
  {
   "cell_type": "code",
   "execution_count": 36,
   "metadata": {
    "ExecuteTime": {
     "end_time": "2020-02-05T13:39:14.275190Z",
     "start_time": "2020-02-05T13:39:14.256559Z"
    },
    "run_control": {
     "marked": false
    }
   },
   "outputs": [
    {
     "data": {
      "text/plain": [
       "'00000100101'"
      ]
     },
     "execution_count": 36,
     "metadata": {},
     "output_type": "execute_result"
    }
   ],
   "source": [
    "elias_gamma(37)"
   ]
  },
  {
   "cell_type": "markdown",
   "metadata": {},
   "source": [
    "## Elias delta"
   ]
  },
  {
   "cell_type": "code",
   "execution_count": 37,
   "metadata": {
    "ExecuteTime": {
     "end_time": "2020-02-05T13:39:14.285669Z",
     "start_time": "2020-02-05T13:39:14.276486Z"
    },
    "run_control": {
     "marked": false
    }
   },
   "outputs": [],
   "source": [
    "import numpy as np"
   ]
  },
  {
   "cell_type": "markdown",
   "metadata": {},
   "source": [
    "### Encoding"
   ]
  },
  {
   "cell_type": "code",
   "execution_count": 38,
   "metadata": {
    "ExecuteTime": {
     "end_time": "2020-02-05T13:39:14.296563Z",
     "start_time": "2020-02-05T13:39:14.286697Z"
    },
    "run_control": {
     "marked": false
    }
   },
   "outputs": [],
   "source": [
    "def elias_delta_enc(x):\n",
    "    temp = 1+np.floor(np.log2(x))\n",
    "    print(temp)\n",
    "    gam = elias_gamma(int(temp))\n",
    "    print(gam)\n",
    "    binrep = bin(x)[3:]\n",
    "    print(gam+binrep)\n",
    "    return gam+binrep\n",
    "    "
   ]
  },
  {
   "cell_type": "code",
   "execution_count": 39,
   "metadata": {
    "ExecuteTime": {
     "end_time": "2020-02-05T13:39:14.309485Z",
     "start_time": "2020-02-05T13:39:14.297464Z"
    },
    "run_control": {
     "marked": false
    }
   },
   "outputs": [
    {
     "name": "stdout",
     "output_type": "stream",
     "text": [
      "4.0\n",
      "00100\n",
      "00100001\n"
     ]
    },
    {
     "data": {
      "text/plain": [
       "'00100001'"
      ]
     },
     "execution_count": 39,
     "metadata": {},
     "output_type": "execute_result"
    }
   ],
   "source": [
    "elias_delta_enc(9)"
   ]
  },
  {
   "cell_type": "markdown",
   "metadata": {},
   "source": [
    "### Decoding"
   ]
  },
  {
   "cell_type": "code",
   "execution_count": 40,
   "metadata": {
    "ExecuteTime": {
     "end_time": "2020-02-05T13:39:14.319430Z",
     "start_time": "2020-02-05T13:39:14.310640Z"
    },
    "run_control": {
     "marked": false
    }
   },
   "outputs": [],
   "source": [
    "def elias_delta_dec(x):\n",
    "    l = x.find('1');l\n",
    "    print(l)\n",
    "    m = 2*l\n",
    "    print('1'+x[m+1::])\n",
    "    return int('1'+x[m+1::],2)"
   ]
  },
  {
   "cell_type": "code",
   "execution_count": 41,
   "metadata": {
    "ExecuteTime": {
     "end_time": "2020-02-05T13:39:14.331315Z",
     "start_time": "2020-02-05T13:39:14.320351Z"
    },
    "run_control": {
     "marked": false
    }
   },
   "outputs": [
    {
     "name": "stdout",
     "output_type": "stream",
     "text": [
      "2\n",
      "1011\n"
     ]
    },
    {
     "data": {
      "text/plain": [
       "11"
      ]
     },
     "execution_count": 41,
     "metadata": {},
     "output_type": "execute_result"
    }
   ],
   "source": [
    "elias_delta_dec('00100011')"
   ]
  },
  {
   "cell_type": "code",
   "execution_count": 42,
   "metadata": {
    "ExecuteTime": {
     "end_time": "2020-02-05T13:39:14.342830Z",
     "start_time": "2020-02-05T13:39:14.332432Z"
    },
    "run_control": {
     "marked": false
    }
   },
   "outputs": [
    {
     "name": "stdout",
     "output_type": "stream",
     "text": [
      "6.0\n",
      "00110\n",
      "0011000010\n",
      "2\n",
      "100010\n"
     ]
    },
    {
     "data": {
      "text/plain": [
       "34"
      ]
     },
     "execution_count": 42,
     "metadata": {},
     "output_type": "execute_result"
    }
   ],
   "source": [
    "elias_delta_dec(elias_delta_enc(34))"
   ]
  },
  {
   "cell_type": "markdown",
   "metadata": {},
   "source": [
    "## Golomb and Golomb Rice"
   ]
  },
  {
   "cell_type": "code",
   "execution_count": 43,
   "metadata": {
    "ExecuteTime": {
     "end_time": "2020-02-05T13:39:14.355737Z",
     "start_time": "2020-02-05T13:39:14.343629Z"
    },
    "run_control": {
     "marked": false
    }
   },
   "outputs": [],
   "source": [
    "# (x=37, b=11, b=8)"
   ]
  },
  {
   "cell_type": "code",
   "execution_count": 1,
   "metadata": {
    "ExecuteTime": {
     "end_time": "2020-02-06T10:46:52.105634Z",
     "start_time": "2020-02-06T10:46:52.103503Z"
    },
    "run_control": {
     "marked": false
    }
   },
   "outputs": [],
   "source": [
    "def unary(x):\n",
    "    return ''.join(['0' for i in range(x)])+'1'"
   ]
  },
  {
   "cell_type": "code",
   "execution_count": 125,
   "metadata": {
    "ExecuteTime": {
     "end_time": "2020-02-06T11:31:48.304525Z",
     "start_time": "2020-02-06T11:31:48.302223Z"
    }
   },
   "outputs": [],
   "source": [
    "def binary(x):\n",
    "    return bin(x)"
   ]
  },
  {
   "cell_type": "code",
   "execution_count": 2,
   "metadata": {
    "ExecuteTime": {
     "end_time": "2020-02-06T10:46:52.782362Z",
     "start_time": "2020-02-06T10:46:52.775358Z"
    },
    "run_control": {
     "marked": false
    }
   },
   "outputs": [
    {
     "data": {
      "text/plain": [
       "'000001'"
      ]
     },
     "execution_count": 2,
     "metadata": {},
     "output_type": "execute_result"
    }
   ],
   "source": [
    "unary(5)"
   ]
  },
  {
   "cell_type": "code",
   "execution_count": 121,
   "metadata": {
    "ExecuteTime": {
     "end_time": "2020-02-06T11:31:29.373558Z",
     "start_time": "2020-02-06T11:31:29.370376Z"
    },
    "run_control": {
     "marked": false
    }
   },
   "outputs": [],
   "source": [
    "def golomb(s,m):\n",
    "    k= int(np.ceil(np.log2(m)))\n",
    "    r = s%m\n",
    "    t = 2**k-m\n",
    "    un = unary(int(np.floor(8/7)))\n",
    "    print(r,t)\n",
    "    if r<=t:\n",
    "        k = k-1\n",
    "    else:\n",
    "        r = r+t\n",
    "    print(r)\n",
    "    bi = binary(r)\n",
    "    return un,bi\n",
    "    "
   ]
  },
  {
   "cell_type": "code",
   "execution_count": 122,
   "metadata": {
    "ExecuteTime": {
     "end_time": "2020-02-06T11:31:30.055757Z",
     "start_time": "2020-02-06T11:31:30.052420Z"
    },
    "run_control": {
     "marked": false
    }
   },
   "outputs": [
    {
     "name": "stdout",
     "output_type": "stream",
     "text": [
      "1 1\n",
      "1\n"
     ]
    },
    {
     "data": {
      "text/plain": [
       "('01', '0b1')"
      ]
     },
     "execution_count": 122,
     "metadata": {},
     "output_type": "execute_result"
    }
   ],
   "source": [
    "golomb(8,7)"
   ]
  },
  {
   "cell_type": "code",
   "execution_count": null,
   "metadata": {
    "run_control": {
     "marked": false
    }
   },
   "outputs": [],
   "source": []
  },
  {
   "cell_type": "code",
   "execution_count": null,
   "metadata": {
    "run_control": {
     "marked": false
    }
   },
   "outputs": [],
   "source": []
  },
  {
   "cell_type": "markdown",
   "metadata": {},
   "source": [
    "# Question 3"
   ]
  },
  {
   "cell_type": "code",
   "execution_count": 50,
   "metadata": {
    "ExecuteTime": {
     "end_time": "2020-02-05T13:39:26.670083Z",
     "start_time": "2020-02-05T13:39:26.667866Z"
    },
    "run_control": {
     "marked": false
    }
   },
   "outputs": [],
   "source": [
    "def letter_chunck(x):\n",
    "    temp = []\n",
    "    for a in x:\n",
    "        temp.append(a[0])\n",
    "    return set(temp)"
   ]
  },
  {
   "cell_type": "code",
   "execution_count": 51,
   "metadata": {
    "ExecuteTime": {
     "end_time": "2020-02-05T13:39:27.880399Z",
     "start_time": "2020-02-05T13:39:27.872477Z"
    },
    "run_control": {
     "marked": false
    },
    "scrolled": true
   },
   "outputs": [
    {
     "data": {
      "text/plain": [
       "{'v', 's', 'h', 'd', 'e', 'f', 'g', 'j', 'c', 'w', 'n', 'r', 'y', 't', 'o', 'a', 'q', 'i', 'p', 'b', 'm', 'l', 'k', 'u'}"
      ]
     },
     "execution_count": 51,
     "metadata": {},
     "output_type": "execute_result"
    }
   ],
   "source": [
    "lc = letter_chunck(inverted_index);lc"
   ]
  },
  {
   "cell_type": "code",
   "execution_count": 52,
   "metadata": {
    "ExecuteTime": {
     "end_time": "2020-02-05T13:39:28.489045Z",
     "start_time": "2020-02-05T13:39:28.486803Z"
    },
    "run_control": {
     "marked": false
    }
   },
   "outputs": [],
   "source": [
    "hmap_trie = {}"
   ]
  },
  {
   "cell_type": "code",
   "execution_count": 53,
   "metadata": {
    "ExecuteTime": {
     "end_time": "2020-02-05T13:39:32.114703Z",
     "start_time": "2020-02-05T13:39:32.109894Z"
    },
    "run_control": {
     "marked": false
    }
   },
   "outputs": [],
   "source": [
    "for a in lc:\n",
    "    hmap_trie[a] = {}\n",
    "    temp_letter= {}\n",
    "    for b in inverted_index:\n",
    "        if b[0] == a:\n",
    "            temp_letter[b]=inverted_index[b]\n",
    "    hmap_trie[a] = temp_letter"
   ]
  },
  {
   "cell_type": "markdown",
   "metadata": {},
   "source": [
    "## Trie"
   ]
  },
  {
   "cell_type": "code",
   "execution_count": 54,
   "metadata": {
    "ExecuteTime": {
     "end_time": "2020-02-05T13:39:32.322331Z",
     "start_time": "2020-02-05T13:39:32.116380Z"
    },
    "run_control": {
     "marked": false
    }
   },
   "outputs": [
    {
     "data": {
      "text/plain": [
       "{'v': {'violation': '<id1,1,[1273]>', 'visualization': '<id1,1,[65]>', 'validation': '<id1,1,[645]>', 'version': '<id1,1,[779]>', 'violates': '<id2,1,[479]>,<id1,1,[1256]>', 'validity': '<id2,2,[366, 931]>,<id1,1,[303]>', 'variety': '<id1,1,[355]>', 'very': '<id1,1,[977]>', 'volume': '<id1,1,[275]>', 'vector': '<id2,2,[834, 843]>,<id1,1,[574]>', 'various': '<id1,1,[1157]>', 'valid': '<id1,1,[818]>', 'variations': '<id1,1,[631]>', 'verify': '<id1,1,[801]>', 'viewed': '<id1,2,[1567, 1576]>', 'via': '<id1,1,[1344]>', 'vista': '<id2,1,[692]>', 'verification': '<id2,1,[932]>', 'volumes': '<id2,1,[243]>', 'view': '<id2,5,[757, 760, 762, 772, 810]>'}, 's': {'semma': '<id1,2,[661, 681]>', 'sets': '<id1,7,[7, 542, 587, 617, 727, 1119, 1227]>', 'see': '<id1,1,[1631]>', 'standard': '<id2,1,[968]>,<id1,5,[633, 658, 992, 999, 1023]>', 'selling': '<id2,1,[485]>,<id1,1,[1279]>', 'summary': '<id2,1,[52]>,<id1,1,[195]>', 'submissions': '<id1,1,[498]>', 'storage': '<id1,1,[537]>', 'sufficient': '<id1,1,[792]>', 'since': '<id2,1,[367]>,<id1,4,[381, 940, 949, 1007]>', 'system': '<id1,2,[102, 223]>', 'says': '<id1,1,[1383]>', 'sequential': '<id1,1,[180]>', 'strengthen': '<id1,1,[1297]>', 'step': '<id1,6,[39, 48, 210, 235, 797, 916]>', 'snowden': '<id1,1,[1315]>', 'set': '<id2,1,[885]>,<id1,14,[30, 296, 689, 702, 732, 810, 827, 831, 840, 851, 870, 879, 1197, 1242]>', 'six': '<id1,2,[638, 745]>', 'solution': '<id1,1,[1526]>', 'sponsorship': '<id1,1,[458]>', 'seen': '<id1,1,[193]>', 'society': '<id2,1,[258]>,<id1,2,[1494, 1539]>', 'structures': '<id2,1,[799]>,<id1,1,[64]>', 'several': '<id2,1,[830]>,<id1,3,[668, 888, 1239]>', 'subsequently': '<id1,1,[903]>', 'strong': '<id2,1,[564]>,<id1,1,[1292]>', 'show': '<id2,1,[381]>,<id1,1,[648]>', 'structure': '<id2,20,[40, 48, 63, 65, 70, 77, 90, 96, 101, 105, 120, 146, 623, 631, 640, 646, 651, 669, 804, 821]>,<id1,1,[34]>', 'science': '<id1,4,[21, 558, 958, 1081]>', 'subspace': '<id1,1,[1060]>', 'standards': '<id2,1,[587]>,<id1,3,[902, 914, 984]>', 'subfield': '<id1,1,[19]>', 'specially': '<id1,1,[559]>', 'se': '<id1,1,[1175]>', 'suggests': '<id1,1,[1044]>', 'surveillance': '<id1,2,[1082, 1317]>', 'started': '<id1,3,[447, 455, 478]>', 'states': '<id1,1,[1338]>', 'sigmod': '<id1,1,[973]>', 'statistics': '<id2,1,[780]>,<id1,4,[13, 22, 96, 592]>', 'second': '<id1,1,[1482]>', 'simple': '<id1,1,[778]>', 'simplified': '<id1,1,[640]>', 'size': '<id1,1,[544]>', 'supported': '<id1,1,[1035]>', 'settlement': '<id1,1,[1585]>', 'sigkdd': '<id1,4,[479, 481, 939, 955]>', 'snooping': '<id1,2,[285, 361]>', 'subject': '<id1,1,[1457]>', 'source': '<id1,2,[717, 1613]>', 'short': '<id1,1,[375]>', 'stored': '<id1,1,[604]>', 'support': '<id1,3,[101, 222, 573]>', 'stages': '<id1,1,[626]>', 'statistical': '<id1,4,[268, 300, 775, 889]>', 'search': '<id2,1,[683]>,<id1,1,[1243]>', 'similarly': '<id1,1,[340]>', 'studies': '<id2,1,[188]>,<id1,1,[350]>', 'steps': '<id1,2,[241, 908]>', 'sources': '<id2,2,[44, 673]>,<id1,1,[1158]>', 'statisticians': '<id1,1,[318]>', 'scale': '<id1,1,[140]>', 'supplant': '<id1,1,[1573]>', 'small': '<id1,1,[298]>', 'stalled': '<id1,1,[1006]>', 'safe': '<id1,1,[1301]>', 'spatial': '<id1,1,[189]>', 'san': '<id1,1,[384]>', 'sample': '<id1,3,[291, 763, 871]>', 'spam': '<id1,1,[864]>', 'systems': '<id2,2,[204, 741]>,<id1,1,[15]>', 'significant': '<id1,1,[756]>', 'stakeholder': '<id1,2,[1516, 1545]>', 'sig': '<id1,2,[934, 942]>', 'santos': '<id1,1,[678]>', 'successors': '<id1,1,[1002]>', 'security': '<id1,2,[1121, 1328]>', 'specific': '<id2,4,[310, 327, 470, 519]>,<id1,2,[1200, 1417]>', 'south': '<id1,1,[1565]>', 'special': '<id1,1,[931]>', 'space': '<id2,2,[835, 844]>', 'service': '<id2,1,[574]>', 'seco': '<id2,1,[206]>', 'semantic': '<id2,3,[213, 331, 386]>', 'selection': '<id2,1,[864]>', 'score': '<id2,1,[918]>', 'sophisticated': '<id2,1,[739]>', 'site': '<id2,6,[54, 178, 496, 633, 823, 826]>', 'servers': '<id2,1,[26]>', 'similar': '<id2,1,[904]>', 'subjective': '<id2,1,[371]>', 'server': '<id2,1,[36]>', 'save': '<id2,1,[280]>', 'schema': '<id2,2,[106, 132]>', 'single': '<id2,2,[781, 788]>', 'situation': '<id2,1,[583]>', 'software': '<id2,1,[202]>', 'similarity': '<id2,1,[84]>', 'serious': '<id2,1,[531]>', 'separate': '<id2,1,[618]>', 'some': '<id2,1,[537]>', 'serve': '<id2,1,[164]>', 'shows': '<id2,1,[774]>', 'summarized': '<id2,1,[763]>', 'structural': '<id2,3,[51, 637, 702]>', 'schemes': '<id2,1,[117]>', 'sexual': '<id2,2,[548, 580]>', 'sex': '<id2,1,[545]>', 'sites': '<id2,1,[88]>', 'subset': '<id2,1,[873]>'}, 'h': {'happening': '<id1,1,[794]>', 'hypothesis': '<id1,2,[334, 776]>', 'however': '<id2,1,[611]>,<id1,8,[308, 424, 629, 662, 1056, 1223, 1300, 1490]>', 'hipaa': '<id1,4,[1353, 1355, 1374, 1409]>', 'hnc': '<id1,1,[383]>', 'harbor': '<id1,1,[1302]>', 'hypotheses': '<id1,3,[253, 312, 772]>', 'high': '<id2,1,[585]>,<id1,1,[1052]>', 'hidden': '<id1,2,[272, 583]>', 'health': '<id1,1,[1348]>', 'harm': '<id1,1,[1266]>', 'highest': '<id1,1,[489]>', 'hosted': '<id1,1,[943]>', 'histories': '<id1,1,[1244]>', 'harvesting': '<id1,1,[402]>', 'hargreaves': '<id1,1,[1467]>', 'hyperlinks': '<id2,2,[71, 75]>', 'heterogeneity': '<id2,1,[667]>', 'hyponymy': '<id2,1,[215]>', 'hz': '<id2,1,[953]>', 'hard': '<id2,1,[559]>', 'hyperlink': '<id2,1,[803]>', 'hypertext': '<id2,1,[677]>', 'html': '<id2,2,[798, 969]>', 'higher': '<id2,2,[241, 727]>'}, 'd': {'defined': '<id2,1,[452]>,<id1,1,[625]>', 'database': '<id2,5,[124, 722, 761, 809, 828]>,<id1,11,[14, 51, 187, 369, 378, 387, 599, 1432, 1444, 1450, 1463]>', 'defines': '<id1,1,[637]>', 'directive': '<id1,2,[1464, 1495]>', 'desired': '<id1,3,[855, 901, 913]>', 'developed': '<id2,1,[201]>,<id1,1,[1030]>', 'deducible': '<id1,1,[1168]>', 'digital': '<id1,1,[1069]>', 'data': '<id2,34,[3, 25, 152, 160, 168, 186, 194, 368, 403, 435, 440, 469, 474, 487, 494, 501, 512, 536, 589, 594, 598, 620, 638, 660, 723, 730, 768, 769, 795, 902, 906, 929, 933, 975]>,<id1,135,[0, 6, 16, 29, 36, 52, 55, 70, 79, 82, 89, 112, 131, 141, 154, 161, 168, 197, 208, 215, 225, 227, 233, 244, 246, 248, 261, 263, 276, 280, 282, 284, 288, 295, 315, 323, 325, 332, 337, 365, 393, 399, 426, 435, 451, 472, 492, 501, 513, 520, 535, 541, 547, 553, 576, 586, 603, 616, 635, 642, 653, 656, 673, 683, 688, 693, 699, 701, 718, 719, 721, 726, 728, 734, 741, 742, 749, 764, 800, 804, 809, 814, 821, 830, 841, 842, 859, 906, 937, 960, 963, 969, 979, 985, 994, 997, 1031, 1039, 1049, 1065, 1070, 1075, 1085, 1101, 1114, 1118, 1133, 1136, 1148, 1150, 1154, 1167, 1172, 1178, 1187, 1190, 1196, 1203, 1211, 1213, 1226, 1282, 1287, 1324, 1400, 1402, 1423, 1446, 1454, 1488, 1519, 1603, 1623, 1626, 1630]>', 'dependencies': '<id1,1,[176]>', 'dramatically': '<id1,1,[533]>', 'difference': '<id1,1,[243]>', 'decision': '<id1,4,[100, 221, 569, 571]>', 'databases': '<id1,4,[42, 413, 606, 621]>', 'dredging': '<id1,2,[281, 326]>', 'discoveries': '<id1,1,[556]>', 'digitization': '<id1,1,[1598]>', 'define': '<id1,1,[983]>', 'dataset': '<id1,1,[254]>', 'distinguish': '<id1,1,[863]>', 'dmg': '<id1,2,[1034, 1064]>', 'direct': '<id1,1,[546]>', 'digitisation': '<id1,1,[1591]>', 'development': '<id2,1,[738]>,<id1,1,[1001]>', 'different': '<id2,5,[43, 86, 137, 476, 755]>,<id1,1,[787]>', 'discovered': '<id1,2,[63, 305]>', 'due': '<id1,1,[1491]>', 'discovery': '<id2,1,[681]>,<id1,11,[41, 404, 412, 438, 454, 475, 504, 610, 620, 799, 936]>', 'draft': '<id1,1,[1013]>', 'displayed': '<id1,1,[1600]>', 'discovering': '<id2,1,[95]>,<id1,1,[3]>', 'discussion': '<id1,2,[1320, 1517]>', 'dialogue': '<id1,1,[1546]>', 'disclosure': '<id1,1,[1318]>', 'detection': '<id1,1,[175]>', 'divided': '<id2,2,[135, 642]>', 'differentiated': '<id2,1,[753]>', 'demonstrate': '<id2,1,[352]>', 'depending': '<id2,1,[183]>', 'demonstrated': '<id2,1,[207]>', 'direction': '<id2,1,[94]>', 'denial': '<id2,1,[573]>', 'default': '<id2,1,[301]>', 'develop': '<id2,1,[712]>', 'done': '<id2,1,[766]>', 'disseminated': '<id2,1,[427]>', 'degrade': '<id2,1,[372]>', 'discover': '<id2,4,[6, 68, 155, 747]>', 'documents': '<id2,8,[678, 707, 801, 805, 833, 840, 960, 970]>', 'document': '<id2,5,[98, 806, 850, 857, 861]>'}, 'e': {'explorations': '<id1,2,[482, 956]>', 'europe': '<id1,3,[1290, 1447, 1523]>', 'exploiting': '<id1,1,[601]>', 'exposed': '<id1,1,[1326]>', 'economic': '<id1,1,[349]>', 'even': '<id2,1,[297]>,<id1,1,[1224]>', 'european': '<id1,4,[989, 1307, 1430, 1513]>', 'extracted': '<id1,1,[1016]>', 'etc': '<id1,1,[407]>', 'efficiently': '<id1,1,[612]>', 'evaluate': '<id2,1,[881]>,<id1,1,[893]>', 'exception': '<id1,3,[1479, 1487, 1497]>', 'exceptions': '<id1,1,[1532]>', 'economists': '<id1,1,[319]>', 'exist': '<id1,1,[1453]>', 'edward': '<id1,1,[1314]>', 'ethical': '<id2,2,[411, 586]>,<id1,2,[1088, 1097]>', 'enough': '<id1,3,[705, 710, 1230]>', 'essential': '<id1,1,[723]>', 'exchanging': '<id1,1,[1015]>', 'emotional': '<id1,1,[1264]>', 'effectiveness': '<id1,1,[256]>', 'experimentation': '<id1,1,[358]>', 'exploitation': '<id1,1,[1310]>', 'effectively': '<id1,1,[1305]>', 'emails': '<id1,1,[866]>', 'extract': '<id2,1,[212]>,<id1,2,[25, 162]>', 'exchange': '<id1,1,[1036]>', 'economist': '<id1,1,[343]>', 'execute': '<id1,1,[607]>', 'examples': '<id1,1,[1074]>', 'enforcement': '<id1,1,[1123]>', 'example': '<id1,6,[201, 207, 858, 988, 1059, 1581]>', 'extracting': '<id1,1,[1628]>', 'efforts': '<id1,2,[982, 1295]>', 'educational': '<id1,1,[1411]>', 'extraction': '<id2,2,[657, 871]>,<id1,5,[74, 80, 93, 406, 511]>', 'expose': '<id1,1,[1306]>', 'exists': '<id1,1,[628]>', 'extensions': '<id1,1,[1057]>', 'especially': '<id2,1,[428]>,<id1,1,[1202]>', 'early': '<id1,1,[516]>', 'ethics': '<id1,1,[1111]>', 'evaluation': '<id1,1,[837]>', 'extend': '<id2,1,[721]>', 'encourages': '<id2,1,[489]>', 'evaluating': '<id2,1,[879]>', 'english': '<id2,1,[950]>', 'essentially': '<id2,2,[224, 478]>', 'elements': '<id2,1,[376]>', 'extricate': '<id2,1,[24]>', 'entropy': '<id2,1,[889]>', 'evaluative': '<id2,1,[911]>', 'establish': '<id2,1,[263]>', 'eventually': '<id2,1,[239]>', 'enabled': '<id2,1,[236]>'}, 'f': {'fishing': '<id1,3,[283, 324, 360]>', 'fair': '<id1,4,[1257, 1553, 1560, 1578]>', 'forums': '<id1,1,[445]>', 'for': '<id2,1,[794]>,<id1,5,[206, 374, 857, 1014, 1580]>', 'facilitated': '<id1,1,[1515]>', 'frequently': '<id1,1,[86]>', 'find': '<id2,3,[276, 298, 978]>,<id1,2,[824, 1238]>', 'fayyad': '<id1,2,[461, 467]>', 'found': '<id2,1,[790]>,<id1,2,[813, 1077]>', 'field': '<id1,3,[508, 560, 926]>', 'focus': '<id1,1,[1525]>', 'founding': '<id1,1,[476]>', 'future': '<id1,2,[759, 1366]>', 'facilitates': '<id1,1,[1160]>', 'family': '<id1,1,[1410]>', 'fully': '<id1,1,[1325]>', 'following': '<id1,3,[1210, 1606, 1618]>', 'format': '<id1,1,[1037]>', 'first': '<id1,2,[414, 448]>', 'financial': '<id1,1,[1263]>', 'filed': '<id1,1,[1276]>', 'failed': '<id1,1,[1333]>', 'ferpa': '<id1,1,[1415]>', 'form': '<id2,1,[438]>,<id1,1,[88]>', 'final': '<id1,3,[796, 915, 1012]>', 'factors': '<id2,1,[709]>', 'focuses': '<id2,1,[62]>', 'facilitate': '<id2,1,[122]>', 'faster': '<id2,1,[274]>', 'frameworks': '<id2,1,[328]>', 'frequency': '<id2,2,[854, 858]>', 'function': '<id2,1,[880]>', 'filter': '<id2,1,[705]>', 'fight': '<id2,1,[250]>', 'feature': '<id2,3,[863, 872, 884]>', 'features': '<id2,3,[336, 793, 882]>'}, 'g': {'give': '<id1,1,[1358]>', 'gap': '<id1,1,[590]>', 'google': '<id1,2,[1583, 1590]>', 'global': '<id1,1,[1316]>', 'general': '<id2,1,[876]>,<id1,2,[137, 829]>', 'goal': '<id2,1,[46]>,<id1,3,[24, 73, 1388]>', 'grown': '<id1,1,[543]>', 'generally': '<id2,1,[700]>,<id1,1,[371]>', 'gregory': '<id1,1,[408]>', 'government': '<id2,2,[232, 244]>,<id1,2,[1116, 1471]>', 'greater': '<id1,1,[1377]>', 'group': '<id2,1,[458]>,<id1,2,[933, 1033]>', 'groups': '<id1,3,[167, 214, 1540]>', 'genetic': '<id1,1,[567]>', 'gathered': '<id2,1,[15]>', 'gb': '<id2,1,[952]>', 'good': '<id2,1,[110]>', 'generate': '<id2,2,[50, 82]>', 'growing': '<id2,1,[483]>', 'graph': '<id2,1,[626]>', 'gain': '<id2,1,[887]>', 'generation': '<id2,1,[940]>', 'get': '<id2,1,[30]>', 'given': '<id2,1,[219]>'}, 'j': {'jdm': '<id1,3,[1000, 1004, 1008]>', 'journal': '<id1,4,[469, 500, 507, 953]>', 'judge': '<id1,1,[1587]>', 'java': '<id1,2,[119, 996]>', 'japan': '<id1,1,[1485]>', 'journalists': '<id1,1,[1236]>', 'judging': '<id2,2,[449, 454]>'}, 'c': {'campaign': '<id1,1,[258]>', 'consumers': '<id1,1,[1299]>', 'congress': '<id1,1,[1343]>', 'combining': '<id2,1,[616]>,<id1,1,[1153]>', 'conference': '<id1,7,[450, 486, 491, 946, 972, 974, 976]>', 'curves': '<id1,1,[896]>', 'case': '<id1,1,[1588]>', 'compiled': '<id1,2,[1188, 1195]>', 'complexity': '<id1,2,[61, 545]>', 'controlled': '<id1,1,[1427]>', 'conditions': '<id1,1,[1511]>', 'contexts': '<id1,1,[1105]>', 'cases': '<id1,1,[1104]>', 'collected': '<id2,1,[593]>,<id1,1,[1212]>', 'compromise': '<id1,1,[1141]>', 'companies': '<id2,5,[262, 275, 467, 510, 516]>,<id1,3,[1284, 1289, 1311]>', 'connotations': '<id1,1,[373]>', 'comes': '<id1,1,[1185]>', 'comprehensible': '<id1,1,[33]>', 'centuries': '<id1,1,[515]>', 'correctly': '<id1,1,[886]>', 'consequence': '<id1,1,[1313]>', 'conferences': '<id1,2,[959, 970]>', 'community': '<id2,1,[220]>,<id1,3,[370, 423, 443]>', 'common': '<id2,1,[955]>,<id1,4,[716, 746, 820, 1145]>', 'called': '<id1,2,[471, 833]>', 'containing': '<id1,1,[738]>', 'citation': '<id1,1,[1334]>', 'cause': '<id2,1,[407]>,<id1,2,[1189, 1262]>', 'computing': '<id1,1,[928]>', 'cluster': '<id1,2,[170, 565]>', 'company': '<id2,2,[303, 591]>,<id1,2,[385, 1278]>', 'conducted': '<id1,2,[647, 679]>', 'consent': '<id2,1,[432]>,<id1,2,[1360, 1391]>', 'contain': '<id1,2,[706, 1229]>', 'cover': '<id1,1,[1058]>', 'considered': '<id2,3,[187, 420, 517]>,<id1,1,[328]>', 'change': '<id1,1,[905]>', 'classify': '<id2,1,[248]>,<id1,1,[887]>', 'code': '<id2,4,[945, 954, 967, 973]>,<id1,1,[1614]>', 'contrast': '<id1,1,[262]>', 'commission': '<id1,1,[1514]>', 'controls': '<id1,1,[1347]>', 'clandestine': '<id1,1,[271]>', 'cross': '<id2,1,[888]>,<id1,1,[990]>', 'commercial': '<id1,1,[1117]>', 'clustering': '<id2,1,[443]>,<id1,1,[1061]>', 'consequently': '<id1,1,[391]>', 'computer': '<id1,5,[20, 99, 531, 557, 957]>', 'cleaned': '<id1,1,[733]>', 'content': '<id2,10,[42, 59, 143, 346, 654, 665, 751, 923, 937, 939]>,<id1,4,[1476, 1499, 1556, 1570]>', 'communities': '<id1,1,[432]>', 'copyright': '<id1,6,[1431, 1440, 1449, 1473, 1503, 1549]>', 'covers': '<id1,2,[120, 1045]>', 'collection': '<id1,3,[92, 226, 536]>', 'comparison': '<id1,1,[680]>', 'classes': '<id1,1,[747]>', 'concise': '<id1,1,[709]>', 'compared': '<id2,1,[949]>,<id1,1,[854]>', 'confidentiality': '<id1,1,[1142]>', 'commonly': '<id1,1,[624]>', 'countries': '<id1,1,[1562]>', 'cleaning': '<id1,1,[735]>', 'coined': '<id1,1,[409]>', 'civil': '<id1,1,[1538]>', 'country': '<id1,1,[1483]>', 'contractual': '<id1,1,[1509]>', 'creating': '<id1,1,[310]>', 'considerations': '<id1,2,[58, 62]>', 'currently': '<id1,2,[433, 1304]>', 'critical': '<id1,1,[341]>', 'concerns': '<id2,1,[408]>,<id1,2,[1132, 1340]>', 'concerned': '<id2,1,[191]>', 'captures': '<id2,1,[169]>', 'commodity': '<id2,1,[488]>', 'customers': '<id2,3,[279, 299, 317]>', 'comfort': '<id2,1,[698]>', 'collaborative': '<id2,1,[347]>', 'characteristics': '<id2,2,[459, 462]>', 'contents': '<id2,1,[526]>', 'customer': '<id2,7,[265, 269, 272, 286, 306, 311, 316]>', 'condition': '<id2,1,[866]>', 'category': '<id2,1,[867]>', 'constitute': '<id2,1,[841]>', 'clustered': '<id2,1,[437]>', 'corpus': '<id2,1,[792]>', 'could': '<id2,1,[571]>', 'component': '<id2,1,[922]>', 'corporations': '<id2,1,[230]>', 'confirmation': '<id2,1,[930]>', 'collecting': '<id2,1,[468]>', 'codes': '<id2,1,[958]>', 'competitor': '<id2,1,[302]>', 'classified': '<id2,1,[182]>', 'criticized': '<id2,1,[410]>', 'create': '<id2,1,[399]>', 'criminal': '<id2,1,[260]>', 'classifier': '<id2,1,[897]>', 'complicated': '<id2,1,[948]>', 'created': '<id2,1,[295]>', 'construct': '<id2,1,[878]>', 'classification': '<id2,1,[913]>', 'controversial': '<id2,2,[542, 562]>', 'categorize': '<id2,3,[79, 550, 704]>', 'costs': '<id2,1,[282]>', 'captured': '<id2,1,[502]>', 'chinese': '<id2,2,[946, 956]>', 'clicks': '<id2,1,[451]>', 'capability': '<id2,2,[254, 353]>', 'concern': '<id2,1,[466]>', 'costa': '<id2,1,[205]>', 'connection': '<id2,1,[630]>', 'concerning': '<id2,1,[423]>'}, 'w': {'works': '<id2,2,[765, 796]>,<id1,1,[1435]>', 'walgreens': '<id1,1,[1275]>', 'without': '<id2,1,[430]>,<id1,3,[333, 1010, 1438]>', 'workstation': '<id1,1,[389]>', 'world': '<id2,3,[8, 674, 687]>,<id1,1,[1484]>', 'would': '<id2,1,[109]>,<id1,2,[867, 876]>', 'well': '<id2,1,[720]>,<id1,2,[97, 1559]>', 'while': '<id1,1,[1083]>', 'web': '<id2,53,[0, 10, 17, 47, 53, 55, 58, 64, 76, 80, 87, 89, 97, 107, 115, 128, 133, 139, 142, 145, 148, 159, 172, 177, 179, 198, 208, 221, 320, 354, 378, 396, 414, 622, 632, 636, 639, 645, 650, 653, 663, 676, 689, 718, 732, 735, 750, 816, 822, 825, 919, 925, 959]>,<id1,1,[1436]>', 'withdrawn': '<id1,1,[1009]>', 'work': '<id2,1,[190]>,<id1,1,[1575]>', 'workshop': '<id1,1,[415]>', 'wider': '<id1,1,[808]>', 'warehouse': '<id1,1,[722]>', 'ways': '<id2,1,[831]>,<id1,1,[1100]>', 'way': '<id2,1,[385]>,<id1,4,[342, 602, 1146, 1159]>', 'wherever': '<id1,1,[1068]>', 'week': '<id1,1,[1372]>', 'within': '<id1,1,[712]>', 'warehousing': '<id1,1,[94]>', 'where': '<id1,1,[1443]>', 'wide': '<id2,3,[9, 675, 688]>', 'website': '<id2,2,[38, 490]>', 'whole': '<id2,1,[842]>', 'words': '<id2,4,[778, 782, 849, 947]>', 'word': '<id2,2,[789, 957]>', 'webcrawler': '<id2,1,[693]>'}, 'n': {'necessary': '<id1,1,[904]>', 'notable': '<id1,1,[1073]>', 'new': '<id1,2,[311, 762]>', 'negative': '<id1,1,[362]>', 'neural': '<id1,1,[563]>', 'necessity': '<id1,1,[1399]>', 'networks': '<id1,1,[564]>', 'newsletter': '<id1,1,[480]>', 'not': '<id1,1,[811]>', 'noise': '<id1,1,[739]>', 'named': '<id1,2,[126, 659]>', 'necessarily': '<id1,1,[817]>', 'newly': '<id1,1,[1194]>', 'name': '<id2,1,[12]>,<id1,1,[1043]>', 'neither': '<id1,1,[224]>', 'needed': '<id2,1,[874]>,<id1,1,[1335]>', 'national': '<id1,2,[1120, 1327]>', 'needs': '<id2,4,[165, 268, 273, 965]>', 'nature': '<id2,1,[405]>', 'navigation': '<id2,1,[111]>', 'node': '<id2,1,[629]>'}, 'r': {'refer': '<id1,2,[286, 327]>', 'records': '<id1,2,[169, 173]>', 'raise': '<id1,1,[1106]>', 'removes': '<id1,1,[736]>', 'reported': '<id1,1,[666]>', 'rights': '<id1,4,[1298, 1412, 1451, 1461]>', 'remaining': '<id1,1,[708]>', 'reach': '<id1,1,[1331]>', 'referring': '<id1,1,[144]>', 'reliable': '<id1,1,[299]>', 'regression': '<id1,1,[524]>', 'rule': '<id2,1,[565]>,<id1,2,[178, 1387]>', 'reproduced': '<id1,1,[761]>', 'rather': '<id1,2,[1291, 1530]>', 'results': '<id2,1,[240]>,<id1,4,[220, 644, 754, 769]>', 'ranging': '<id1,1,[357]>', 'roc': '<id1,1,[895]>', 'requires': '<id1,2,[1135, 1356]>', 'recommended': '<id1,1,[1207]>', 'revelation': '<id1,1,[1250]>', 'result': '<id2,3,[530, 572, 868]>,<id1,2,[229, 1176]>', 'ramasamy': '<id1,1,[462]>', 'reporting': '<id1,1,[231]>', 'resulting': '<id1,1,[852]>', 'raised': '<id1,1,[1130]>', 'regulatory': '<id1,1,[1346]>', 'related': '<id2,1,[189]>,<id1,1,[278]>', 'researchers': '<id2,1,[711]>,<id1,3,[390, 670, 1536]>', 'reviews': '<id1,1,[672]>', 'rules': '<id1,1,[572]>', 'review': '<id1,2,[348, 1468]>', 'recommendation': '<id2,1,[348]>,<id1,1,[1466]>', 'research': '<id2,1,[764]>,<id1,4,[446, 496, 506, 1381]>', 'relation': '<id1,1,[1094]>', 'reasons': '<id1,1,[135]>', 'readily': '<id1,1,[1221]>', 'rate': '<id1,1,[495]>', 'representatives': '<id1,1,[1534]>', 'regardless': '<id1,1,[259]>', 'reaching': '<id1,1,[1011]>', 'ruled': '<id1,1,[1589]>', 'released': '<id1,1,[1246]>', 'restriction': '<id1,1,[1492]>', 'raw': '<id1,1,[46]>', 'regarding': '<id2,1,[365]>,<id1,2,[1108, 1361]>', 'regulations': '<id1,1,[1380]>', 'revoke': '<id1,1,[1321]>', 'relationships': '<id2,1,[216]>', 'retrieval': '<id2,3,[716, 759, 771]>', 'reference': '<id2,1,[131]>', 'realize': '<id2,1,[847]>', 'requirements': '<id2,1,[287]>', 'represent': '<id2,2,[784, 832]>', 'reasoning': '<id2,1,[391]>', 'ratio': '<id2,1,[893]>', 'researches': '<id2,1,[775]>', 'release': '<id2,3,[520, 527, 529]>', 'reducing': '<id2,1,[313]>', 'retain': '<id2,2,[278, 305]>', 'reports': '<id2,1,[27]>', 'religion': '<id2,2,[547, 579]>', 'relevant': '<id2,1,[345]>', 'recall': '<id2,1,[916]>', 'responsible': '<id2,1,[525]>', 'resolve': '<id2,1,[852]>', 'reacting': '<id2,1,[271]>', 'reveal': '<id2,2,[23, 104]>', 'risk': '<id2,1,[314]>', 'representation': '<id2,2,[807, 846]>', 'race': '<id2,2,[546, 578]>', 'relationship': '<id2,2,[85, 266]>', 'rarely': '<id2,1,[869]>'}, 'y': {'year': '<id1,1,[464]>'}, 't': {'topic': '<id1,1,[416]>', 'titled': '<id1,1,[954]>', 'tools': '<id2,3,[203, 685, 714]>,<id1,1,[117]>', 'the': '<id2,16,[45, 252, 409, 433, 482, 509, 556, 592, 666, 733, 839, 875, 896, 909, 943, 951]>,<id1,28,[68, 110, 152, 242, 277, 335, 363, 483, 499, 509, 526, 618, 655, 730, 795, 846, 881, 922, 1099, 1181, 1248, 1354, 1421, 1480, 1512, 1524, 1605, 1617]>', 'time': '<id2,1,[373]>,<id1,2,[376, 714]>', 'threat': '<id2,1,[608]>,<id1,1,[1182]>', 'tasks': '<id1,1,[748]>', 'turn': '<id1,2,[920, 1285]>', 'there': '<id2,2,[374, 829]>,<id1,1,[981]>', 'turned': '<id1,1,[392]>', 'transformative': '<id1,2,[1572, 1596]>', 'to': '<id2,1,[851]>,<id1,1,[835]>', 'theorem': '<id1,1,[523]>', 'these': '<id2,3,[349, 552, 708]>,<id1,2,[191, 306]>', 'thus': '<id2,2,[312, 446]>,<id1,1,[790]>', 'theme': '<id1,1,[632]>', 'together': '<id1,1,[1155]>', 'this': '<id2,8,[99, 118, 234, 341, 497, 569, 582, 845]>,<id1,5,[183, 832, 1171, 1260, 1397]>', 'trees': '<id1,1,[570]>', 'teams': '<id1,1,[669]>', 'transform': '<id2,2,[824, 971]>,<id1,1,[31]>', 'testing': '<id1,1,[777]>', 'task': '<id1,2,[156, 1051]>', 'trademarked': '<id1,1,[382]>', 'technology': '<id2,6,[228, 235, 247, 357, 382, 401]>,<id1,1,[532]>', 'today': '<id1,1,[1072]>', 'term': '<id2,1,[853]>,<id1,8,[69, 130, 336, 364, 410, 417, 425, 1084]>', 'taiwan': '<id1,1,[1564]>', 'training': '<id2,1,[791]>,<id1,2,[826, 869]>', 'trying': '<id1,1,[862]>', 'text': '<id2,3,[786, 901, 962]>,<id1,2,[1518, 1602]>', 'target': '<id2,1,[291]>,<id1,3,[687, 700, 731]>', 'trained': '<id1,4,[845, 868, 873, 880]>', 'topics': '<id1,1,[965]>', 'terms': '<id1,6,[138, 279, 321, 396, 434, 1510]>', 'throughout': '<id1,1,[1078]>', 'title': '<id1,1,[1521]>', 'test': '<id1,5,[251, 313, 839, 850, 878]>', 'total': '<id1,1,[1125]>', 'techniques': '<id2,8,[5, 125, 154, 362, 649, 725, 908, 977]>,<id1,2,[118, 188]>', 'times': '<id2,1,[855]>,<id1,1,[663]>', 'three': '<id2,1,[136]>', 'technically': '<id2,1,[57]>', 'trade': '<id2,2,[242, 492]>', 'terminology': '<id2,1,[648]>', 'topology': '<id2,1,[74]>', 'terrorism': '<id2,1,[251]>', 'tendency': '<id2,1,[453]>', 'tries': '<id2,2,[67, 819]>', 'threats': '<id2,1,[249]>', 'typically': '<id2,1,[837]>', 'treating': '<id2,1,[455]>', 'traded': '<id2,1,[503]>', 'type': '<id2,3,[100, 119, 635]>', 'taxonomies': '<id2,1,[936]>', 'totally': '<id2,1,[475]>', 'take': '<id2,1,[787]>', 'traced': '<id2,1,[601]>', 'types': '<id2,1,[138]>', 'two': '<id2,4,[192, 617, 643, 754]>', 'they': '<id2,3,[288, 296, 523]>', 'theory': '<id2,1,[627]>', 'try': '<id2,1,[304]>', 'trend': '<id2,2,[484, 498]>', 'trading': '<id2,1,[535]>', 'traditional': '<id2,2,[361, 905]>'}, 'o': {'open': '<id1,1,[1541]>', 'overcome': '<id1,1,[836]>', 'one': '<id2,3,[506, 609, 964]>,<id1,2,[1270, 1601]>', 'online': '<id1,1,[66]>', 'overridden': '<id1,1,[1508]>', 'owner': '<id1,1,[1441]>', 'occurred': '<id1,2,[514, 1235]>', 'observations': '<id1,1,[737]>', 'once': '<id1,1,[872]>', 'owners': '<id2,1,[491]>,<id1,1,[1460]>', 'other': '<id1,1,[395]>', 'on': '<id1,1,[1465]>', 'overall': '<id1,2,[23, 237]>', 'occur': '<id1,2,[807, 1147]>', 'output': '<id1,2,[853, 856]>', 'originally': '<id1,2,[125, 1204]>', 'overfitting': '<id1,2,[784, 834]>', 'original': '<id1,1,[1574]>', 'obligations': '<id1,1,[1144]>', 'offer': '<id2,1,[334]>,<id1,1,[1376]>', 'obtain': '<id1,1,[217]>', 'otherwise': '<id1,2,[1098, 1169]>', 'often': '<id1,3,[136, 768, 1090]>', 'order': '<id2,2,[161, 811]>', 'others': '<id2,1,[696]>', 'odds': '<id2,1,[892]>', 'outlined': '<id2,1,[326]>', 'offers': '<id2,1,[309]>', 'obtained': '<id2,6,[370, 425, 434, 495, 597, 599]>', 'organize': '<id2,1,[748]>', 'organized': '<id2,1,[31]>', 'organization': '<id2,2,[682, 729]>', 'origin': '<id2,1,[171]>', 'obliged': '<id2,1,[513]>', 'orientation': '<id2,2,[549, 581]>', 'organizations': '<id2,1,[29]>', 'occurs': '<id2,1,[429]>', 'opinion': '<id2,1,[941]>'}, 'a': {'analyze': '<id2,1,[628]>,<id1,1,[724]>', 'actually': '<id1,2,[697, 757]>', 'associated': '<id2,1,[360]>,<id1,1,[1091]>', 'analytics': '<id1,3,[143, 205, 1021]>', 'artificial': '<id1,3,[104, 147, 593]>', 'anonymity': '<id1,1,[1401]>', 'aliases': '<id1,1,[356]>', 'applying': '<id1,1,[579]>', 'approach': '<id2,1,[734]>,<id1,1,[1392]>', 'archaeology': '<id1,1,[400]>', 'amounts': '<id1,1,[78]>', 'aol': '<id1,1,[1247]>', 'addressed': '<id1,1,[1341]>', 'augmented': '<id1,1,[550]>', 'awareness': '<id1,1,[1127]>', 'association': '<id1,2,[177, 927]>', 'aside': '<id1,1,[45]>', 'average': '<id1,1,[1395]>', 'added': '<id1,1,[133]>', 'available': '<id2,1,[731]>,<id1,4,[1071, 1608, 1616, 1620]>', 'anomaly': '<id1,1,[174]>', 'applications': '<id2,4,[166, 256, 447, 557]>,<id1,4,[1041, 1055, 1607, 1619]>', 'accurate': '<id1,1,[218]>', 'appropriate': '<id1,1,[151]>', 'algorithms': '<id2,3,[196, 539, 567]>,<id1,6,[568, 611, 685, 806, 816, 823]>', 'advise': '<id1,1,[1129]>', 'allows': '<id1,1,[1498]>', 'azevedo': '<id1,1,[677]>', 'agreement': '<id1,2,[1322, 1332]>', 'aahc': '<id1,1,[1384]>', 'application': '<id2,3,[2, 151, 615]>,<id1,2,[98, 1612]>', 'aware': '<id1,1,[1209]>', 'analysis': '<id2,2,[332, 899]>,<id1,14,[38, 47, 95, 142, 158, 171, 200, 245, 249, 525, 548, 566, 1161, 1180]>', 'applies': '<id1,1,[1416]>', 'accountability': '<id1,1,[1351]>', 'aaai': '<id1,1,[457]>', 'appeared': '<id1,1,[367]>', 'article': '<id1,2,[346, 1369]>', 'arise': '<id1,1,[786]>', 'around': '<id1,1,[368]>', 'anonymized': '<id1,1,[1225]>', 'areas': '<id2,1,[193]>,<id1,1,[1418]>', 'annual': '<id1,1,[944]>', 'additional': '<id2,2,[335, 612]>,<id1,1,[240]>', 'apparent': '<id1,1,[1170]>', 'automatic': '<id1,1,[157]>', 'aspects': '<id1,1,[54]>', 'appear': '<id1,1,[755]>', 'amount': '<id2,1,[500]>,<id1,1,[260]>', 'according': '<id2,1,[634]>,<id1,2,[1208, 1368]>', 'applicable': '<id1,1,[791]>', 'academic': '<id1,2,[442, 952]>', 'america': '<id1,1,[1558]>', 'accuracy': '<id2,1,[914]>,<id1,1,[882]>', 'act': '<id2,1,[742]>,<id1,2,[1352, 1414]>', 'attempts': '<id1,1,[1330]>', 'agency': '<id1,1,[1329]>', 'also': '<id2,3,[92, 351, 375]>,<id1,7,[49, 84, 966, 1162, 1215, 1505, 1615]>', 'ability': '<id1,1,[539]>', 'aided': '<id1,1,[555]>', 'analyzing': '<id2,1,[390]>,<id1,3,[255, 331, 1625]>', 'automated': '<id2,2,[21, 680]>,<id1,1,[552]>', 'algorithm': '<id2,1,[877]>,<id1,3,[844, 861, 894]>', 'acceptance': '<id1,1,[494]>', 'acm': '<id1,2,[930, 941]>', 'applied': '<id2,2,[197, 388]>,<id1,5,[87, 591, 615, 849, 877]>', 'allow': '<id1,3,[1232, 1475, 1506]>', 'allowing': '<id1,1,[613]>', 'addresses': '<id1,1,[1420]>', 'anyone': '<id1,1,[1192]>', 'as': '<id2,3,[11, 808, 883]>,<id1,5,[540, 692, 1042, 1312, 1569]>', 'ai': '<id2,1,[740]>,<id1,1,[420]>', 'able': '<id1,2,[1198, 1237]>', 'actual': '<id1,3,[145, 153, 608]>', 'anonymous': '<id2,3,[442, 515, 596]>,<id1,2,[1205, 1218]>', 'aggregation': '<id1,3,[1149, 1151, 1403]>', 'assembled': '<id1,1,[691]>', 'arena': '<id1,1,[1382]>', 'amend': '<id1,1,[1472]>', 'access': '<id2,1,[339]>,<id1,3,[1193, 1542, 1611]>', 'active': '<id1,1,[1005]>', 'acceptable': '<id1,1,[713]>', 'attractive': '<id2,1,[229]>', 'autonomously': '<id2,1,[743]>', 'aliweb': '<id2,1,[694]>', 'alta': '<id2,1,[691]>', 'accessing': '<id2,1,[126]>', 'address': '<id2,1,[358]>', 'always': '<id2,1,[818]>', 'analyzed': '<id2,1,[436]>', 'another': '<id2,2,[93, 464]>', 'activities': '<id2,2,[35, 261]>', 'acquired': '<id2,1,[284]>', 'agencies': '<id2,2,[233, 245]>', 'affected': '<id2,1,[870]>', 'agents': '<id2,1,[719]>', 'attributes': '<id2,3,[543, 563, 568]>', 'authors': '<id2,1,[518]>', 'along': '<id2,1,[174]>', 'avoided': '<id2,1,[584]>', 'area': '<id2,1,[324]>', 'advantages': '<id2,1,[226]>', 'attract': '<id2,1,[277]>', 'apparatuses': '<id2,1,[22]>'}, 'q': {'quantities': '<id1,1,[160]>', 'questions': '<id2,1,[364]>,<id1,1,[1107]>', 'quality': '<id1,1,[490]>', 'querying': '<id2,1,[815]>'}, 'i': {'inferences': '<id1,1,[301]>', 'international': '<id1,4,[449, 485, 945, 975]>', 'israel': '<id1,1,[1563]>', 'involves': '<id2,1,[737]>,<id1,4,[50, 185, 744, 1152]>', 'icde': '<id1,1,[971]>', 'informed': '<id1,2,[1359, 1390]>', 'investigating': '<id1,1,[770]>', 'input': '<id1,1,[196]>', 'industry': '<id1,1,[991]>', 'inadvertently': '<id1,1,[1245]>', 'identifiable': '<id1,1,[1252]>', 'independently': '<id1,1,[1063]>', 'include': '<id2,1,[384]>,<id1,3,[398, 521, 962]>', 'including': '<id2,1,[231]>,<id1,1,[103]>', 'interpret': '<id2,1,[706]>,<id1,1,[917]>', 'incomprehensibility': '<id1,1,[1394]>', 'it': '<id2,4,[18, 604, 773, 927]>,<id1,6,[83, 459, 588, 627, 819, 1206]>', 'implications': '<id1,1,[1089]>', 'interchangeably': '<id1,1,[440]>', 'individuals': '<id2,1,[551]>,<id1,6,[1201, 1219, 1234, 1240, 1357, 1396]>', 'identification': '<id1,2,[1165, 1233]>', 'introduced': '<id2,1,[859]>,<id1,1,[1486]>', 'inference': '<id1,1,[57]>', 'importantly': '<id1,1,[1386]>', 'insurance': '<id1,1,[1349]>', 'intelligence': '<id1,4,[105, 109, 148, 594]>', 'interesting': '<id2,1,[156]>,<id1,1,[165]>', 'indicated': '<id1,1,[1267]>', 'information': '<id2,18,[14, 33, 83, 127, 214, 422, 613, 661, 672, 703, 715, 749, 758, 770, 813, 886, 891, 917]>,<id1,17,[26, 32, 90, 401, 403, 1093, 1126, 1139, 1231, 1253, 1258, 1281, 1362, 1406, 1493, 1627, 1629]>', 'increasing': '<id2,1,[504]>,<id1,1,[529]>', 'interest': '<id1,1,[932]>', 'individual': '<id2,4,[424, 461, 576, 603]>,<id1,2,[1183, 1268]>', 'indicates': '<id1,1,[352]>', 'involving': '<id2,1,[413]>,<id1,1,[8]>', 'identified': '<id1,1,[1222]>', 'intention': '<id1,1,[581]>', 'identify': '<id2,2,[560, 966]>,<id1,2,[212, 1199]>', 'increasingly': '<id1,1,[549]>', 'intellectual': '<id1,1,[1458]>', 'importance': '<id2,1,[848]>,<id1,1,[1053]>', 'intersection': '<id1,1,[10]>', 'intelligent': '<id2,2,[713, 717]>,<id1,1,[27]>', 'indexed': '<id1,1,[605]>', 'interdisciplinary': '<id1,1,[18]>', 'indirect': '<id1,1,[551]>', 'in': '<id1,5,[317, 441, 1112, 1269, 1336]>', 'indices': '<id1,1,[190]>', 'increased': '<id2,1,[499]>,<id1,2,[534, 1319]>', 'inadvertent': '<id1,1,[1249]>', 'intended': '<id1,1,[1364]>', 'instance': '<id1,1,[1271]>', 'if': '<id1,2,[897, 909]>', 'indiscretion': '<id1,1,[1261]>', 'issue': '<id2,1,[412]>,<id1,1,[1528]>', 'interpretation': '<id1,1,[230]>', 'identifying': '<id2,1,[259]>,<id1,1,[518]>', 'interestingness': '<id1,1,[59]>', 'insight': '<id2,1,[285]>', 'inaccuracies': '<id2,1,[528]>', 'inferred': '<id2,1,[614]>', 'inside': '<id2,1,[800]>', 'indexing': '<id2,1,[684]>', 'integration': '<id2,1,[658]>', 'inner': '<id2,1,[972]>', 'interpreting': '<id2,1,[389]>', 'integrity': '<id2,1,[934]>', 'important': '<id2,2,[465, 921]>', 'issues': '<id2,1,[400]>', 'invasion': '<id2,1,[417]>', 'infer': '<id2,1,[820]>', 'interests': '<id2,1,[481]>', 'isolation': '<id2,1,[783]>', 'invaded': '<id2,1,[508]>', 'inverse': '<id2,1,[856]>', 'internet': '<id2,1,[686]>', 'implement': '<id2,1,[862]>', 'instead': '<id2,1,[460]>', 'introducing': '<id2,1,[123]>', 'increase': '<id2,1,[289]>', 'identity': '<id2,1,[170]>'}, 'p': {'preparation': '<id1,3,[228, 1137, 1177]>', 'property': '<id1,1,[1459]>', 'principles': '<id1,1,[1303]>', 'proprietary': '<id1,1,[1621]>', 'play': '<id1,1,[1186]>', 'personally': '<id1,1,[1251]>', 'practice': '<id1,3,[330, 353, 1373]>', 'premier': '<id1,1,[923]>', 'predict': '<id1,1,[758]>', 'proper': '<id1,1,[774]>', 'pitch': '<id1,1,[386]>', 'professional': '<id1,1,[924]>', 'program': '<id1,1,[1128]>', 'produced': '<id1,1,[803]>', 'patrons': '<id1,1,[1274]>', 'private': '<id1,1,[1166]>', 'published': '<id1,4,[347, 671, 947, 950]>', 'proceedings': '<id1,1,[948]>', 'privacy': '<id2,4,[418, 419, 507, 610]>,<id1,10,[1109, 1131, 1143, 1184, 1272, 1293, 1309, 1339, 1407, 1413]>', 'prescription': '<id1,1,[1280]>', 'possibly': '<id1,1,[1156]>', 'presiding': '<id1,1,[1586]>', 'pmml': '<id1,1,[1028]>', 'protected': '<id1,1,[1462]>', 'project': '<id1,2,[1592, 1599]>', 'patterns': '<id2,7,[7, 158, 369, 393, 522, 600, 982]>,<id1,21,[4, 75, 166, 192, 273, 304, 512, 519, 584, 696, 707, 802, 812, 825, 848, 875, 883, 899, 911, 919, 1140]>', 'predictive': '<id1,3,[204, 1020, 1024]>', 'potentially': '<id1,1,[1228]>', 'pattern': '<id2,2,[340, 898]>,<id1,1,[181]>', 'practical': '<id1,2,[114, 127]>', 'portability': '<id1,1,[1350]>', 'practices': '<id2,1,[553]>,<id1,2,[1259, 1405]>', 'popular': '<id1,2,[419, 429]>', 'provide': '<id2,3,[697, 701, 726]>,<id1,2,[596, 1363]>', 'part': '<id1,3,[232, 1582, 1595]>', 'power': '<id1,1,[530]>', 'press': '<id1,1,[431]>', 'phrase': '<id1,1,[377]>', 'proliferation': '<id1,1,[527]>', 'provided': '<id1,1,[1286]>', 'prevent': '<id1,1,[793]>', 'purposes': '<id2,1,[477]>,<id1,3,[1124, 1179, 1501]>', 'positive': '<id1,2,[359, 372]>', 'pure': '<id1,1,[1445]>', 'processes': '<id1,1,[1003]>', 'primary': '<id1,2,[488, 505]>', 'phases': '<id1,2,[639, 788]>', 'per': '<id1,1,[1174]>', 'population': '<id1,1,[294]>', 'previously': '<id1,1,[163]>', 'pharmaceutical': '<id1,1,[1288]>', 'process': '<id2,2,[342, 570]>,<id1,11,[2, 43, 239, 578, 623, 634, 641, 675, 789, 987, 993]>', 'publishers': '<id1,1,[1543]>', 'protection': '<id1,2,[1378, 1389]>', 'present': '<id1,4,[698, 828, 967, 1365]>', 'public': '<id1,1,[1610]>', 'prediction': '<id1,2,[219, 1046]>', 'peoples': '<id1,1,[1095]>', 'polls': '<id1,2,[646, 660]>', 'performing': '<id1,1,[773]>', 'paper': '<id1,1,[497]>', 'people': '<id2,1,[456]>,<id1,1,[665]>', 'permission': '<id1,1,[1439]>', 'problem': '<id1,2,[780, 785]>', 'provider': '<id1,1,[1255]>', 'processing': '<id1,2,[91, 554]>', 'particular': '<id2,2,[217, 745]>,<id1,5,[1018, 1048, 1113, 1323, 1551]>', 'passage': '<id1,1,[1345]>', 'provision': '<id1,2,[1507, 1552]>', 'produce': '<id1,1,[753]>', 'parts': '<id1,1,[292]>', 'proposed': '<id1,1,[1062]>', 'populations': '<id1,1,[316]>', 'pricing': '<id2,1,[292]>', 'points': '<id2,1,[756]>', 'problems': '<id2,1,[359]>', 'permits': '<id2,2,[28, 670]>', 'privilege': '<id2,1,[575]>', 'preventing': '<id2,1,[534]>', 'personalized': '<id2,1,[237]>', 'portals': '<id2,1,[926]>', 'precision': '<id2,1,[915]>', 'production': '<id2,1,[281]>', 'possible': '<id2,1,[114]>', 'provides': '<id2,1,[343]>', 'predicting': '<id2,1,[253]>', 'personal': '<id2,4,[404, 444, 486, 493]>', 'profitability': '<id2,1,[290]>', 'page': '<id2,4,[41, 56, 116, 664]>', 'poses': '<id2,1,[607]>', 'proposes': '<id2,1,[13]>', 'prompted': '<id2,1,[710]>', 'profiles': '<id2,3,[294, 439, 445]>', 'phase': '<id2,1,[395]>', 'providing': '<id2,2,[130, 307]>', 'pages': '<id2,3,[81, 108, 129]>', 'pipeline': '<id2,1,[924]>', 'personalization': '<id2,1,[325]>', 'promotional': '<id2,1,[308]>', 'particularly': '<id2,1,[323]>', 'purpose': '<id2,2,[112, 471]>', 'probabilistic': '<id2,1,[329]>'}, 'b': {'business': '<id1,5,[108, 430, 1054, 1079, 1371]>', 'bases': '<id1,1,[980]>', 'became': '<id1,3,[418, 428, 487]>', 'behavior': '<id2,2,[176, 338]>,<id1,2,[760, 1096]>', 'buzzword': '<id1,1,[85]>', 'books': '<id1,1,[1593]>', 'bad': '<id1,1,[329]>', 'based': '<id2,4,[73, 293, 577, 779]>,<id1,1,[1241]>', 'belong': '<id1,1,[236]>', 'before': '<id2,1,[961]>,<id1,1,[682]>', 'become': '<id2,1,[827]>,<id1,1,[1217]>', 'bridges': '<id1,1,[589]>', 'book': '<id1,2,[111, 1584]>', 'businesses': '<id1,1,[1426]>', 'bear': '<id1,1,[765]>', 'biotech': '<id1,1,[1370]>', 'bodily': '<id1,1,[1265]>', 'background': '<id1,1,[598]>', 'biannual': '<id1,1,[951]>', 'body': '<id1,1,[925]>', 'bayes': '<id1,1,[522]>', 'becomes': '<id1,1,[1456]>', 'behalf': '<id2,1,[744]>', 'better': '<id2,4,[163, 264, 270, 812]>', 'benefit': '<id2,1,[257]>', 'back': '<id2,1,[602]>', 'benefits': '<id2,2,[319, 383]>', 'basis': '<id2,1,[457]>', 'buy': '<id2,1,[511]>', 'by': '<id2,1,[860]>', 'browser': '<id2,1,[34]>', 'browsing': '<id2,1,[175]>', 'building': '<id2,1,[935]>', 'biases': '<id2,1,[363]>', 'bag': '<id2,1,[777]>'}, 'm': {'more': '<id2,1,[318]>,<id1,1,[1385]>', 'might': '<id2,6,[300, 406, 472, 540, 554, 605]>,<id1,2,[211, 1163]>', 'metrics': '<id1,1,[60]>', 'modified': '<id1,1,[1216]>', 'misnomer': '<id1,1,[72]>', 'meet': '<id1,2,[900, 912]>', 'markup': '<id1,1,[1026]>', 'mostly': '<id1,1,[121]>', 'material': '<id1,1,[124]>', 'means': '<id1,1,[1555]>', 'misused': '<id1,1,[752]>', 'medicine': '<id1,1,[1080]>', 'made': '<id2,2,[441, 595]>,<id1,1,[302]>', 'mining': '<id2,47,[1, 4, 16, 49, 60, 66, 78, 91, 102, 121, 134, 141, 144, 147, 150, 153, 181, 195, 200, 210, 223, 255, 322, 356, 380, 394, 398, 416, 521, 538, 590, 624, 641, 647, 652, 655, 656, 724, 736, 752, 817, 903, 907, 920, 942, 963, 976]>,<id1,73,[1, 17, 37, 71, 81, 113, 132, 155, 179, 182, 209, 234, 247, 264, 289, 338, 366, 379, 388, 394, 427, 436, 452, 473, 493, 502, 577, 636, 643, 657, 674, 684, 694, 729, 743, 750, 805, 815, 822, 843, 860, 907, 938, 961, 964, 986, 995, 998, 1032, 1040, 1050, 1066, 1076, 1086, 1092, 1102, 1115, 1134, 1173, 1283, 1404, 1424, 1434, 1437, 1455, 1477, 1489, 1500, 1520, 1557, 1571, 1604, 1624]>', 'montreal': '<id1,1,[456]>', 'manipulation': '<id1,1,[538]>', 'make': '<id2,3,[113, 514, 558]>,<id1,1,[1164]>', 'methodology': '<id1,2,[649, 651]>', 'mathematical': '<id1,1,[597]>', 'major': '<id1,1,[444]>', 'must': '<id1,2,[690, 703]>', 'masquerades': '<id1,1,[354]>', 'management': '<id2,2,[814, 938]>,<id1,2,[53, 600]>', 'marketing': '<id2,1,[238]>,<id1,2,[134, 257]>', 'multivariate': '<id1,1,[725]>', 'miner': '<id1,1,[1191]>', 'mart': '<id1,1,[720]>', 'miners': '<id1,1,[654]>', 'multiple': '<id1,1,[213]>', 'mined': '<id1,1,[711]>', 'missing': '<id1,1,[740]>', 'methods': '<id2,1,[900]>,<id1,9,[9, 28, 146, 290, 307, 517, 580, 614, 890]>', 'majority': '<id1,1,[1425]>', 'machinery': '<id1,1,[929]>', 'model': '<id2,2,[333, 836]>,<id1,2,[56, 1025]>', 'many': '<id2,1,[225]>,<id1,6,[630, 664, 771, 885, 968, 1038]>', 'may': '<id1,10,[198, 297, 891, 1087, 1214, 1220, 1375, 1448, 1452, 1547]>', 'models': '<id2,1,[350]>,<id1,5,[252, 269, 676, 1017, 1047]>', 'measured': '<id1,1,[884]>', 'machine': '<id1,11,[11, 106, 115, 122, 128, 149, 202, 266, 421, 561, 781]>', 'manual': '<id1,1,[510]>', 'machines': '<id1,1,[575]>', 'michael': '<id1,1,[344]>', 'much': '<id2,1,[671]>', 'mutual': '<id2,1,[890]>', 'maintained': '<id2,1,[588]>', 'merits': '<id2,2,[463, 912]>', 'metacrawler': '<id2,1,[695]>', 'mouse': '<id2,1,[450]>', 'mainly': '<id2,1,[61]>', 'makes': '<id2,3,[19, 227, 679]>'}, 'l': {'limit': '<id1,1,[715]>', 'lawsuit': '<id1,1,[1277]>', 'like': '<id2,1,[544]>,<id1,1,[322]>', 'libraries': '<id1,1,[1537]>', 'later': '<id1,2,[465, 477]>', 'little': '<id1,1,[766]>', 'laws': '<id1,2,[1294, 1433]>', 'legality': '<id1,1,[1110]>', 'law': '<id2,1,[533]>,<id1,5,[1122, 1419, 1474, 1504, 1550]>', 'language': '<id2,1,[944]>,<id1,2,[1027, 1029]>', 'legislation': '<id2,1,[555]>,<id1,2,[1408, 1428]>', 'lovell': '<id1,2,[345, 351]>', 'licenses': '<id1,2,[1609, 1622]>', 'legitimate': '<id1,1,[865]>', 'licensing': '<id1,1,[1529]>', 'legal': '<id1,3,[1442, 1527, 1568]>', 'learned': '<id1,5,[847, 874, 898, 910, 918]>', 'large': '<id1,8,[5, 77, 139, 159, 274, 585, 704, 978]>', 'licences': '<id1,1,[1522]>', 'longstanding': '<id1,1,[1379]>', 'leave': '<id1,1,[1544]>', 'lawful': '<id1,2,[1577, 1594]>', 'leading': '<id1,2,[650, 1254]>', 'level': '<id2,2,[72, 728]>,<id1,1,[1393]>', 'learning': '<id1,12,[12, 107, 116, 123, 129, 150, 203, 267, 422, 562, 609, 782]>', 'limitations': '<id1,1,[1531]>', 'launched': '<id1,1,[468]>', 'limitation': '<id1,1,[1478]>', 'larger': '<id1,2,[293, 314]>', 'led': '<id1,2,[1469, 1533]>', 'link': '<id2,2,[39, 69]>', 'lycos': '<id2,1,[690]>', 'logs': '<id2,1,[37]>', 'lawsuits': '<id2,1,[532]>', 'log': '<id2,1,[209]>', 'legally': '<id2,1,[524]>', 'lost': '<id2,1,[421]>', 'losing': '<id2,1,[315]>', 'look': '<id2,1,[606]>', 'likeliness': '<id2,1,[505]>', 'lack': '<id2,1,[668]>', 'latent': '<id2,1,[330]>'}, 'k': {'korea': '<id1,1,[1566]>', 'knowledge': '<id2,4,[387, 431, 662, 980]>,<id1,12,[40, 76, 405, 411, 437, 453, 474, 503, 619, 798, 921, 935]>', 'kdd': '<id1,4,[44, 238, 484, 622]>', 'key': '<id1,1,[1022]>', 'kind': '<id2,1,[184]>,<id1,1,[194]>', 'kluwer': '<id1,1,[470]>', 'known': '<id1,1,[783]>', 'kinds': '<id2,1,[644]>'}, 'u': {'uncovers': '<id1,1,[1138]>', 'uses': '<id2,1,[625]>,<id1,4,[265, 838, 1367, 1597]>', 'using': '<id2,1,[246]>,<id1,2,[186, 667]>', 'usually': '<id2,1,[894]>,<id1,2,[184, 595]>', 'uncover': '<id1,2,[270, 695]>', 'uncovering': '<id1,1,[582]>', 'users': '<id2,3,[173, 448, 699]>,<id1,1,[1308]>', 'updating': '<id1,1,[67]>', 'uk': '<id1,4,[1470, 1481, 1496, 1502]>', 'ubiquity': '<id1,1,[528]>', 'universities': '<id1,1,[1535]>', 'unusual': '<id1,1,[172]>', 'uthurusamy': '<id1,1,[463]>', 'use': '<id2,5,[473, 541, 561, 776, 974]>,<id1,8,[35, 287, 767, 1019, 1422, 1554, 1561, 1579]>', 'unintentionally': '<id1,1,[751]>', 'used': '<id2,7,[103, 211, 402, 426, 838, 895, 928]>,<id1,14,[199, 216, 250, 309, 320, 339, 380, 397, 439, 652, 686, 892, 1067, 1103]>', 'united': '<id1,1,[1337]>', 'under': '<id2,1,[865]>,<id1,1,[1429]>', 'unknown': '<id1,1,[164]>', 'underway': '<id1,1,[1296]>', 'us': '<id1,2,[1342, 1548]>', 'underscores': '<id1,1,[1398]>', 'usama': '<id1,2,[460, 466]>', 'unscrupulous': '<id2,1,[619]>', 'user': '<id2,6,[218, 337, 344, 480, 621, 746]>', 'utilized': '<id2,1,[802]>', 'utilize': '<id2,1,[797]>', 'understanding': '<id2,1,[267]>', 'unique': '<id2,1,[377]>', 'usual': '<id2,1,[910]>', 'usage': '<id2,15,[140, 149, 157, 167, 180, 185, 199, 222, 321, 355, 379, 392, 397, 415, 566]>', 'utilization': '<id2,1,[20]>', 'useful': '<id2,3,[659, 979, 981]>', 'understand': '<id2,1,[162]>', 'utilizing': '<id2,1,[283]>', 'unstructured': '<id2,3,[32, 767, 785]>'}}"
      ]
     },
     "execution_count": 54,
     "metadata": {},
     "output_type": "execute_result"
    }
   ],
   "source": [
    "hmap_trie"
   ]
  },
  {
   "cell_type": "code",
   "execution_count": 55,
   "metadata": {
    "ExecuteTime": {
     "end_time": "2020-02-05T13:39:32.332462Z",
     "start_time": "2020-02-05T13:39:32.326113Z"
    },
    "run_control": {
     "marked": false
    },
    "scrolled": true
   },
   "outputs": [
    {
     "data": {
      "text/plain": [
       "{'happening': '<id1,1,[794]>', 'hypothesis': '<id1,2,[334, 776]>', 'however': '<id2,1,[611]>,<id1,8,[308, 424, 629, 662, 1056, 1223, 1300, 1490]>', 'hipaa': '<id1,4,[1353, 1355, 1374, 1409]>', 'hnc': '<id1,1,[383]>', 'harbor': '<id1,1,[1302]>', 'hypotheses': '<id1,3,[253, 312, 772]>', 'high': '<id2,1,[585]>,<id1,1,[1052]>', 'hidden': '<id1,2,[272, 583]>', 'health': '<id1,1,[1348]>', 'harm': '<id1,1,[1266]>', 'highest': '<id1,1,[489]>', 'hosted': '<id1,1,[943]>', 'histories': '<id1,1,[1244]>', 'harvesting': '<id1,1,[402]>', 'hargreaves': '<id1,1,[1467]>', 'hyperlinks': '<id2,2,[71, 75]>', 'heterogeneity': '<id2,1,[667]>', 'hyponymy': '<id2,1,[215]>', 'hz': '<id2,1,[953]>', 'hard': '<id2,1,[559]>', 'hyperlink': '<id2,1,[803]>', 'hypertext': '<id2,1,[677]>', 'html': '<id2,2,[798, 969]>', 'higher': '<id2,2,[241, 727]>'}"
      ]
     },
     "execution_count": 55,
     "metadata": {},
     "output_type": "execute_result"
    }
   ],
   "source": [
    "hmap_trie['h']"
   ]
  },
  {
   "cell_type": "markdown",
   "metadata": {
    "run_control": {
     "marked": false
    }
   },
   "source": [
    "## Predictive"
   ]
  },
  {
   "cell_type": "code",
   "execution_count": 56,
   "metadata": {
    "ExecuteTime": {
     "end_time": "2020-02-05T13:39:32.342818Z",
     "start_time": "2020-02-05T13:39:32.333700Z"
    },
    "run_control": {
     "marked": false
    }
   },
   "outputs": [],
   "source": [
    "def make_trie(words):\n",
    "    root = dict()\n",
    "    for word in words:\n",
    "        current_dict = root\n",
    "        for letter in word:\n",
    "#             print(letter)\n",
    "            current_dict = current_dict.setdefault(letter, {})\n",
    "        current_dict['listWords'] = word\n",
    "    return root"
   ]
  },
  {
   "cell_type": "code",
   "execution_count": 103,
   "metadata": {
    "ExecuteTime": {
     "end_time": "2020-02-05T13:49:56.394749Z",
     "start_time": "2020-02-05T13:49:56.389320Z"
    },
    "run_control": {
     "marked": false
    }
   },
   "outputs": [
    {
     "data": {
      "text/plain": [
       "{'i': {'n': {'f': {'e': {'r': {'e': {'n': {'c': {'e': {'s': {'listWords': 'inferences'}, 'listWords': 'inference'}}}}, 'r': {'e': {'d': {'listWords': 'inferred'}}}, 'listWords': 'infer'}}, 'o': {'r': {'m': {'e': {'d': {'listWords': 'informed'}}, 'a': {'t': {'i': {'o': {'n': {'listWords': 'information'}}}}}}}}}, 't': {'e': {'r': {'n': {'a': {'t': {'i': {'o': {'n': {'a': {'l': {'listWords': 'international'}}}}}}}, 'e': {'t': {'listWords': 'internet'}}}, 'p': {'r': {'e': {'t': {'listWords': 'interpret', 'i': {'n': {'g': {'listWords': 'interpreting'}}}, 'a': {'t': {'i': {'o': {'n': {'listWords': 'interpretation'}}}}}}}}}, 'c': {'h': {'a': {'n': {'g': {'e': {'a': {'b': {'l': {'y': {'listWords': 'interchangeably'}}}}}}}}}}, 'e': {'s': {'t': {'i': {'n': {'g': {'listWords': 'interesting', 'n': {'e': {'s': {'s': {'listWords': 'interestingness'}}}}}}}, 'listWords': 'interest', 's': {'listWords': 'interests'}}}}, 's': {'e': {'c': {'t': {'i': {'o': {'n': {'listWords': 'intersection'}}}}}}}, 'd': {'i': {'s': {'c': {'i': {'p': {'l': {'i': {'n': {'a': {'r': {'y': {'listWords': 'interdisciplinary'}}}}}}}}}}}}}, 'g': {'r': {'a': {'t': {'i': {'o': {'n': {'listWords': 'integration'}}}}}, 'i': {'t': {'y': {'listWords': 'integrity'}}}}}, 'l': {'l': {'i': {'g': {'e': {'n': {'c': {'e': {'listWords': 'intelligence'}}, 't': {'listWords': 'intelligent'}}}}}, 'e': {'c': {'t': {'u': {'a': {'l': {'listWords': 'intellectual'}}}}}}}}, 'n': {'t': {'i': {'o': {'n': {'listWords': 'intention'}}}}, 'd': {'e': {'d': {'listWords': 'intended'}}}}}, 'r': {'o': {'d': {'u': {'c': {'e': {'d': {'listWords': 'introduced'}}, 'i': {'n': {'g': {'listWords': 'introducing'}}}}}}}}}, 'v': {'o': {'l': {'v': {'e': {'s': {'listWords': 'involves'}}, 'i': {'n': {'g': {'listWords': 'involving'}}}}}}, 'e': {'s': {'t': {'i': {'g': {'a': {'t': {'i': {'n': {'g': {'listWords': 'investigating'}}}}}}}}}, 'r': {'s': {'e': {'listWords': 'inverse'}}}}, 'a': {'s': {'i': {'o': {'n': {'listWords': 'invasion'}}}}, 'd': {'e': {'d': {'listWords': 'invaded'}}}}}, 's': {'i': {'g': {'h': {'t': {'listWords': 'insight'}}}, 'd': {'e': {'listWords': 'inside'}}}, 'u': {'r': {'a': {'n': {'c': {'e': {'listWords': 'insurance'}}}}}}, 't': {'e': {'a': {'d': {'listWords': 'instead'}}}, 'a': {'n': {'c': {'e': {'listWords': 'instance'}}}}}}, 'p': {'u': {'t': {'listWords': 'input'}}}, 'a': {'c': {'c': {'u': {'r': {'a': {'c': {'i': {'e': {'s': {'listWords': 'inaccuracies'}}}}}}}}}, 'd': {'v': {'e': {'r': {'t': {'e': {'n': {'t': {'l': {'y': {'listWords': 'inadvertently'}}, 'listWords': 'inadvertent'}}}}}}}}}, 'd': {'u': {'s': {'t': {'r': {'y': {'listWords': 'industry'}}}}}, 'e': {'p': {'e': {'n': {'d': {'e': {'n': {'t': {'l': {'y': {'listWords': 'independently'}}}}}}}}}, 'x': {'i': {'n': {'g': {'listWords': 'indexing'}}}, 'e': {'d': {'listWords': 'indexed'}}}}, 'i': {'v': {'i': {'d': {'u': {'a': {'l': {'s': {'listWords': 'individuals'}, 'listWords': 'individual'}}}}}}, 'c': {'a': {'t': {'e': {'d': {'listWords': 'indicated'}, 's': {'listWords': 'indicates'}}}}, 'e': {'s': {'listWords': 'indices'}}}, 'r': {'e': {'c': {'t': {'listWords': 'indirect'}}}}, 's': {'c': {'r': {'e': {'t': {'i': {'o': {'n': {'listWords': 'indiscretion'}}}}}}}}}}, 'c': {'l': {'u': {'d': {'e': {'listWords': 'include'}, 'i': {'n': {'g': {'listWords': 'including'}}}}}}, 'o': {'m': {'p': {'r': {'e': {'h': {'e': {'n': {'s': {'i': {'b': {'i': {'l': {'i': {'t': {'y': {'listWords': 'incomprehensibility'}}}}}}}}}}}}}}}}, 'r': {'e': {'a': {'s': {'i': {'n': {'g': {'listWords': 'increasing', 'l': {'y': {'listWords': 'increasingly'}}}}}, 'e': {'d': {'listWords': 'increased'}, 'listWords': 'increase'}}}}}}, 'n': {'e': {'r': {'listWords': 'inner'}}}, 'listWords': 'in'}, 's': {'r': {'a': {'e': {'l': {'listWords': 'israel'}}}}, 's': {'u': {'e': {'s': {'listWords': 'issues'}, 'listWords': 'issue'}}}, 'o': {'l': {'a': {'t': {'i': {'o': {'n': {'listWords': 'isolation'}}}}}}}}, 'c': {'d': {'e': {'listWords': 'icde'}}}, 'd': {'e': {'n': {'t': {'i': {'f': {'i': {'a': {'b': {'l': {'e': {'listWords': 'identifiable'}}}}, 'c': {'a': {'t': {'i': {'o': {'n': {'listWords': 'identification'}}}}}}, 'e': {'d': {'listWords': 'identified'}}}, 'y': {'listWords': 'identify', 'i': {'n': {'g': {'listWords': 'identifying'}}}}}, 't': {'y': {'listWords': 'identity'}}}}}}}, 't': {'listWords': 'it'}, 'm': {'p': {'l': {'i': {'c': {'a': {'t': {'i': {'o': {'n': {'s': {'listWords': 'implications'}}}}}}}}, 'e': {'m': {'e': {'n': {'t': {'listWords': 'implement'}}}}}}, 'o': {'r': {'t': {'a': {'n': {'t': {'l': {'y': {'listWords': 'importantly'}}, 'listWords': 'important'}, 'c': {'e': {'listWords': 'importance'}}}}}}}}}, 'f': {'listWords': 'if'}}, 'p': {'r': {'i': {'c': {'i': {'n': {'g': {'listWords': 'pricing'}}}}, 'n': {'c': {'i': {'p': {'l': {'e': {'s': {'listWords': 'principles'}}}}}}}, 'v': {'i': {'l': {'e': {'g': {'e': {'listWords': 'privilege'}}}}}, 'a': {'t': {'e': {'listWords': 'private'}}, 'c': {'y': {'listWords': 'privacy'}}}}, 'm': {'a': {'r': {'y': {'listWords': 'primary'}}}}}, 'e': {'p': {'a': {'r': {'a': {'t': {'i': {'o': {'n': {'listWords': 'preparation'}}}}}}}}, 'm': {'i': {'e': {'r': {'listWords': 'premier'}}}}, 'd': {'i': {'c': {'t': {'listWords': 'predict', 'i': {'v': {'e': {'listWords': 'predictive'}}, 'n': {'g': {'listWords': 'predicting'}}, 'o': {'n': {'listWords': 'prediction'}}}}}}}, 'v': {'e': {'n': {'t': {'i': {'n': {'g': {'listWords': 'preventing'}}}, 'listWords': 'prevent'}}}, 'i': {'o': {'u': {'s': {'l': {'y': {'listWords': 'previously'}}}}}}}, 's': {'c': {'r': {'i': {'p': {'t': {'i': {'o': {'n': {'listWords': 'prescription'}}}}}}}}, 'i': {'d': {'i': {'n': {'g': {'listWords': 'presiding'}}}}}, 's': {'listWords': 'press'}, 'e': {'n': {'t': {'listWords': 'present'}}}}, 'c': {'i': {'s': {'i': {'o': {'n': {'listWords': 'precision'}}}}}}}, 'o': {'p': {'e': {'r': {'t': {'y': {'listWords': 'property'}}, 'listWords': 'proper'}}, 'r': {'i': {'e': {'t': {'a': {'r': {'y': {'listWords': 'proprietary'}}}}}}}, 'o': {'s': {'e': {'s': {'listWords': 'proposes'}, 'd': {'listWords': 'proposed'}}}}}, 'b': {'l': {'e': {'m': {'s': {'listWords': 'problems'}, 'listWords': 'problem'}}}, 'a': {'b': {'i': {'l': {'i': {'s': {'t': {'i': {'c': {'listWords': 'probabilistic'}}}}}}}}}}, 'f': {'e': {'s': {'s': {'i': {'o': {'n': {'a': {'l': {'listWords': 'professional'}}}}}}}}, 'i': {'t': {'a': {'b': {'i': {'l': {'i': {'t': {'y': {'listWords': 'profitability'}}}}}}}}, 'l': {'e': {'s': {'listWords': 'profiles'}}}}}, 'g': {'r': {'a': {'m': {'listWords': 'program'}}}}, 'd': {'u': {'c': {'e': {'d': {'listWords': 'produced'}, 'listWords': 'produce'}, 't': {'i': {'o': {'n': {'listWords': 'production'}}}}}}}, 'c': {'e': {'e': {'d': {'i': {'n': {'g': {'s': {'listWords': 'proceedings'}}}}}}, 's': {'s': {'e': {'s': {'listWords': 'processes'}}, 'listWords': 'process', 'i': {'n': {'g': {'listWords': 'processing'}}}}}}}, 't': {'e': {'c': {'t': {'e': {'d': {'listWords': 'protected'}}, 'i': {'o': {'n': {'listWords': 'protection'}}}}}}}, 'j': {'e': {'c': {'t': {'listWords': 'project'}}}}, 'v': {'i': {'d': {'e': {'listWords': 'provide', 'd': {'listWords': 'provided'}, 's': {'listWords': 'provides'}, 'r': {'listWords': 'provider'}}, 'i': {'n': {'g': {'listWords': 'providing'}}}}, 's': {'i': {'o': {'n': {'listWords': 'provision'}}}}}}, 'l': {'i': {'f': {'e': {'r': {'a': {'t': {'i': {'o': {'n': {'listWords': 'proliferation'}}}}}}}}}}, 'm': {'p': {'t': {'e': {'d': {'listWords': 'prompted'}}}}, 'o': {'t': {'i': {'o': {'n': {'a': {'l': {'listWords': 'promotional'}}}}}}}}}, 'a': {'c': {'t': {'i': {'c': {'e': {'listWords': 'practice', 's': {'listWords': 'practices'}}, 'a': {'l': {'listWords': 'practical'}}}}}}}}, 'o': {'i': {'n': {'t': {'s': {'listWords': 'points'}}}}, 'r': {'t': {'a': {'l': {'s': {'listWords': 'portals'}}, 'b': {'i': {'l': {'i': {'t': {'y': {'listWords': 'portability'}}}}}}}}}, 's': {'s': {'i': {'b': {'l': {'y': {'listWords': 'possibly'}, 'e': {'listWords': 'possible'}}}}}, 'i': {'t': {'i': {'v': {'e': {'listWords': 'positive'}}}}}, 'e': {'s': {'listWords': 'poses'}}}, 't': {'e': {'n': {'t': {'i': {'a': {'l': {'l': {'y': {'listWords': 'potentially'}}}}}}}}}, 'p': {'u': {'l': {'a': {'r': {'listWords': 'popular'}, 't': {'i': {'o': {'n': {'listWords': 'population', 's': {'listWords': 'populations'}}}}}}}}}, 'w': {'e': {'r': {'listWords': 'power'}}}, 'l': {'l': {'s': {'listWords': 'polls'}}}}, 'l': {'a': {'y': {'listWords': 'play'}}}, 'e': {'r': {'s': {'o': {'n': {'a': {'l': {'l': {'y': {'listWords': 'personally'}}, 'i': {'z': {'e': {'d': {'listWords': 'personalized'}}, 'a': {'t': {'i': {'o': {'n': {'listWords': 'personalization'}}}}}}}, 'listWords': 'personal'}}}}}, 'm': {'i': {'t': {'s': {'listWords': 'permits'}}, 's': {'s': {'i': {'o': {'n': {'listWords': 'permission'}}}}}}}, 'listWords': 'per', 'f': {'o': {'r': {'m': {'i': {'n': {'g': {'listWords': 'performing'}}}}}}}}, 'o': {'p': {'l': {'e': {'s': {'listWords': 'peoples'}, 'listWords': 'people'}}}}}, 'i': {'t': {'c': {'h': {'listWords': 'pitch'}}}, 'p': {'e': {'l': {'i': {'n': {'e': {'listWords': 'pipeline'}}}}}}}, 'a': {'t': {'r': {'o': {'n': {'s': {'listWords': 'patrons'}}}}, 't': {'e': {'r': {'n': {'s': {'listWords': 'patterns'}, 'listWords': 'pattern'}}}}}, 'r': {'t': {'i': {'c': {'u': {'l': {'a': {'r': {'l': {'y': {'listWords': 'particularly'}}, 'listWords': 'particular'}}}}}}, 'listWords': 'part', 's': {'listWords': 'parts'}}}, 'g': {'e': {'listWords': 'page', 's': {'listWords': 'pages'}}}, 'p': {'e': {'r': {'listWords': 'paper'}}}, 's': {'s': {'a': {'g': {'e': {'listWords': 'passage'}}}}}}, 'u': {'b': {'l': {'i': {'s': {'h': {'e': {'d': {'listWords': 'published'}, 'r': {'s': {'listWords': 'publishers'}}}}}, 'c': {'listWords': 'public'}}}}, 'r': {'p': {'o': {'s': {'e': {'s': {'listWords': 'purposes'}, 'listWords': 'purpose'}}}}, 'e': {'listWords': 'pure'}}}, 'm': {'m': {'l': {'listWords': 'pmml'}}}, 'h': {'r': {'a': {'s': {'e': {'listWords': 'phrase'}}}}, 'a': {'s': {'e': {'s': {'listWords': 'phases'}, 'listWords': 'phase'}}, 'r': {'m': {'a': {'c': {'e': {'u': {'t': {'i': {'c': {'a': {'l': {'listWords': 'pharmaceutical'}}}}}}}}}}}}}}, 's': {'p': {'a': {'c': {'e': {'listWords': 'space'}}, 't': {'i': {'a': {'l': {'listWords': 'spatial'}}}}, 'm': {'listWords': 'spam'}}, 'o': {'n': {'s': {'o': {'r': {'s': {'h': {'i': {'p': {'listWords': 'sponsorship'}}}}}}}}}, 'e': {'c': {'i': {'a': {'l': {'l': {'y': {'listWords': 'specially'}}, 'listWords': 'special'}}, 'f': {'i': {'c': {'listWords': 'specific'}}}}}}}, 'e': {'m': {'m': {'a': {'listWords': 'semma'}}, 'a': {'n': {'t': {'i': {'c': {'listWords': 'semantic'}}}}}}, 't': {'s': {'listWords': 'sets'}, 'listWords': 'set', 't': {'l': {'e': {'m': {'e': {'n': {'t': {'listWords': 'settlement'}}}}}}}}, 'e': {'listWords': 'see', 'n': {'listWords': 'seen'}}, 'r': {'v': {'i': {'c': {'e': {'listWords': 'service'}}}, 'e': {'r': {'s': {'listWords': 'servers'}, 'listWords': 'server'}, 'listWords': 'serve'}}, 'i': {'o': {'u': {'s': {'listWords': 'serious'}}}}}, 'c': {'o': {'listWords': 'seco', 'n': {'d': {'listWords': 'second'}}}, 'u': {'r': {'i': {'t': {'y': {'listWords': 'security'}}}}}}, 'l': {'l': {'i': {'n': {'g': {'listWords': 'selling'}}}}, 'e': {'c': {'t': {'i': {'o': {'n': {'listWords': 'selection'}}}}}}}, 'q': {'u': {'e': {'n': {'t': {'i': {'a': {'l': {'listWords': 'sequential'}}}}}}}}, 'v': {'e': {'r': {'a': {'l': {'listWords': 'several'}}}}}, 'listWords': 'se', 'p': {'a': {'r': {'a': {'t': {'e': {'listWords': 'separate'}}}}}}, 'a': {'r': {'c': {'h': {'listWords': 'search'}}}}, 'x': {'u': {'a': {'l': {'listWords': 'sexual'}}}, 'listWords': 'sex'}}, 't': {'a': {'n': {'d': {'a': {'r': {'d': {'listWords': 'standard', 's': {'listWords': 'standards'}}}}}}, 'r': {'t': {'e': {'d': {'listWords': 'started'}}}}, 't': {'e': {'s': {'listWords': 'states'}}, 'i': {'s': {'t': {'i': {'c': {'s': {'listWords': 'statistics'}, 'a': {'l': {'listWords': 'statistical'}}, 'i': {'a': {'n': {'s': {'listWords': 'statisticians'}}}}}}}}}}, 'g': {'e': {'s': {'listWords': 'stages'}}}, 'l': {'l': {'e': {'d': {'listWords': 'stalled'}}}}, 'k': {'e': {'h': {'o': {'l': {'d': {'e': {'r': {'listWords': 'stakeholder'}}}}}}}}}, 'o': {'r': {'a': {'g': {'e': {'listWords': 'storage'}}}, 'e': {'d': {'listWords': 'stored'}}}}, 'r': {'e': {'n': {'g': {'t': {'h': {'e': {'n': {'listWords': 'strengthen'}}}}}}}, 'u': {'c': {'t': {'u': {'r': {'e': {'s': {'listWords': 'structures'}, 'listWords': 'structure'}, 'a': {'l': {'listWords': 'structural'}}}}}}}, 'o': {'n': {'g': {'listWords': 'strong'}}}}, 'e': {'p': {'listWords': 'step', 's': {'listWords': 'steps'}}}, 'u': {'d': {'i': {'e': {'s': {'listWords': 'studies'}}}}}}, 'u': {'m': {'m': {'a': {'r': {'y': {'listWords': 'summary'}, 'i': {'z': {'e': {'d': {'listWords': 'summarized'}}}}}}}}, 'b': {'m': {'i': {'s': {'s': {'i': {'o': {'n': {'s': {'listWords': 'submissions'}}}}}}}}, 'j': {'e': {'c': {'t': {'i': {'v': {'e': {'listWords': 'subjective'}}}, 'listWords': 'subject'}}}}, 's': {'e': {'q': {'u': {'e': {'n': {'t': {'l': {'y': {'listWords': 'subsequently'}}}}}}}, 't': {'listWords': 'subset'}}, 'p': {'a': {'c': {'e': {'listWords': 'subspace'}}}}}, 'f': {'i': {'e': {'l': {'d': {'listWords': 'subfield'}}}}}}, 'f': {'f': {'i': {'c': {'i': {'e': {'n': {'t': {'listWords': 'sufficient'}}}}}}}}, 'g': {'g': {'e': {'s': {'t': {'s': {'listWords': 'suggests'}}}}}}, 'r': {'v': {'e': {'i': {'l': {'l': {'a': {'n': {'c': {'e': {'listWords': 'surveillance'}}}}}}}}}}, 'p': {'p': {'o': {'r': {'t': {'e': {'d': {'listWords': 'supported'}}, 'listWords': 'support'}}}, 'l': {'a': {'n': {'t': {'listWords': 'supplant'}}}}}}, 'c': {'c': {'e': {'s': {'s': {'o': {'r': {'s': {'listWords': 'successors'}}}}}}}}}, 'c': {'o': {'r': {'e': {'listWords': 'score'}}}, 'h': {'e': {'m': {'a': {'listWords': 'schema'}, 'e': {'s': {'listWords': 'schemes'}}}}}, 'i': {'e': {'n': {'c': {'e': {'listWords': 'science'}}}}}, 'a': {'l': {'e': {'listWords': 'scale'}}}}, 'i': {'n': {'c': {'e': {'listWords': 'since'}}, 'g': {'l': {'e': {'listWords': 'single'}}}}, 't': {'e': {'listWords': 'site', 's': {'listWords': 'sites'}}, 'u': {'a': {'t': {'i': {'o': {'n': {'listWords': 'situation'}}}}}}}, 'm': {'i': {'l': {'a': {'r': {'listWords': 'similar', 'i': {'t': {'y': {'listWords': 'similarity'}}}, 'l': {'y': {'listWords': 'similarly'}}}}}}, 'p': {'l': {'e': {'listWords': 'simple'}, 'i': {'f': {'i': {'e': {'d': {'listWords': 'simplified'}}}}}}}}, 'x': {'listWords': 'six'}, 'g': {'m': {'o': {'d': {'listWords': 'sigmod'}}}, 'k': {'d': {'d': {'listWords': 'sigkdd'}}}, 'n': {'i': {'f': {'i': {'c': {'a': {'n': {'t': {'listWords': 'significant'}}}}}}}}, 'listWords': 'sig'}, 'z': {'e': {'listWords': 'size'}}}, 'y': {'s': {'t': {'e': {'m': {'listWords': 'system', 's': {'listWords': 'systems'}}}}}}, 'o': {'p': {'h': {'i': {'s': {'t': {'i': {'c': {'a': {'t': {'e': {'d': {'listWords': 'sophisticated'}}}}}}}}}}}, 'l': {'u': {'t': {'i': {'o': {'n': {'listWords': 'solution'}}}}}}, 'c': {'i': {'e': {'t': {'y': {'listWords': 'society'}}}}}, 'f': {'t': {'w': {'a': {'r': {'e': {'listWords': 'software'}}}}}}, 'u': {'r': {'c': {'e': {'listWords': 'source', 's': {'listWords': 'sources'}}}}, 't': {'h': {'listWords': 'south'}}}, 'm': {'e': {'listWords': 'some'}}}, 'a': {'y': {'s': {'listWords': 'says'}}, 'v': {'e': {'listWords': 'save'}}, 'f': {'e': {'listWords': 'safe'}}, 'n': {'listWords': 'san', 't': {'o': {'s': {'listWords': 'santos'}}}}, 'm': {'p': {'l': {'e': {'listWords': 'sample'}}}}}, 'n': {'o': {'w': {'d': {'e': {'n': {'listWords': 'snowden'}}}}, 'o': {'p': {'i': {'n': {'g': {'listWords': 'snooping'}}}}}}}, 'h': {'o': {'w': {'listWords': 'show', 's': {'listWords': 'shows'}}, 'r': {'t': {'listWords': 'short'}}}}, 'm': {'a': {'l': {'l': {'listWords': 'small'}}}}}, 'a': {'n': {'a': {'l': {'y': {'z': {'e': {'listWords': 'analyze', 'd': {'listWords': 'analyzed'}}, 'i': {'n': {'g': {'listWords': 'analyzing'}}}}, 't': {'i': {'c': {'s': {'listWords': 'analytics'}}}}, 's': {'i': {'s': {'listWords': 'analysis'}}}}}}, 'o': {'n': {'y': {'m': {'i': {'t': {'y': {'listWords': 'anonymity'}}, 'z': {'e': {'d': {'listWords': 'anonymized'}}}}, 'o': {'u': {'s': {'listWords': 'anonymous'}}}}}}, 'm': {'a': {'l': {'y': {'listWords': 'anomaly'}}}}, 't': {'h': {'e': {'r': {'listWords': 'another'}}}}}, 'n': {'u': {'a': {'l': {'listWords': 'annual'}}}}, 'y': {'o': {'n': {'e': {'listWords': 'anyone'}}}}}, 'c': {'t': {'u': {'a': {'l': {'l': {'y': {'listWords': 'actually'}}, 'listWords': 'actual'}}}, 'i': {'v': {'i': {'t': {'i': {'e': {'s': {'listWords': 'activities'}}}}}, 'e': {'listWords': 'active'}}}, 'listWords': 'act'}, 'c': {'e': {'s': {'s': {'i': {'n': {'g': {'listWords': 'accessing'}}}, 'listWords': 'access'}}, 'p': {'t': {'a': {'n': {'c': {'e': {'listWords': 'acceptance'}}}, 'b': {'l': {'e': {'listWords': 'acceptable'}}}}}}}, 'u': {'r': {'a': {'t': {'e': {'listWords': 'accurate'}}, 'c': {'y': {'listWords': 'accuracy'}}}}}, 'o': {'u': {'n': {'t': {'a': {'b': {'i': {'l': {'i': {'t': {'y': {'listWords': 'accountability'}}}}}}}}}}, 'r': {'d': {'i': {'n': {'g': {'listWords': 'according'}}}}}}}, 'q': {'u': {'i': {'r': {'e': {'d': {'listWords': 'acquired'}}}}}}, 'a': {'d': {'e': {'m': {'i': {'c': {'listWords': 'academic'}}}}}}, 'm': {'listWords': 'acm'}}, 's': {'s': {'o': {'c': {'i': {'a': {'t': {'e': {'d': {'listWords': 'associated'}}, 'i': {'o': {'n': {'listWords': 'association'}}}}}}}}, 'e': {'m': {'b': {'l': {'e': {'d': {'listWords': 'assembled'}}}}}}}, 'i': {'d': {'e': {'listWords': 'aside'}}}, 'p': {'e': {'c': {'t': {'s': {'listWords': 'aspects'}}}}}, 'listWords': 'as'}, 't': {'t': {'r': {'a': {'c': {'t': {'i': {'v': {'e': {'listWords': 'attractive'}}}, 'listWords': 'attract'}}}, 'i': {'b': {'u': {'t': {'e': {'s': {'listWords': 'attributes'}}}}}}}, 'e': {'m': {'p': {'t': {'s': {'listWords': 'attempts'}}}}}}}, 'u': {'t': {'o': {'n': {'o': {'m': {'o': {'u': {'s': {'l': {'y': {'listWords': 'autonomously'}}}}}}}}, 'm': {'a': {'t': {'i': {'c': {'listWords': 'automatic'}}, 'e': {'d': {'listWords': 'automated'}}}}}}, 'h': {'o': {'r': {'s': {'listWords': 'authors'}}}}}, 'g': {'m': {'e': {'n': {'t': {'e': {'d': {'listWords': 'augmented'}}}}}}}}, 'l': {'i': {'w': {'e': {'b': {'listWords': 'aliweb'}}}, 'a': {'s': {'e': {'s': {'listWords': 'aliases'}}}}}, 't': {'a': {'listWords': 'alta'}}, 'w': {'a': {'y': {'s': {'listWords': 'always'}}}}, 'g': {'o': {'r': {'i': {'t': {'h': {'m': {'s': {'listWords': 'algorithms'}, 'listWords': 'algorithm'}}}}}}}, 'l': {'o': {'w': {'s': {'listWords': 'allows'}, 'listWords': 'allow', 'i': {'n': {'g': {'listWords': 'allowing'}}}}}}, 'o': {'n': {'g': {'listWords': 'along'}}}, 's': {'o': {'listWords': 'also'}}}, 'r': {'t': {'i': {'f': {'i': {'c': {'i': {'a': {'l': {'listWords': 'artificial'}}}}}}, 'c': {'l': {'e': {'listWords': 'article'}}}}}, 'c': {'h': {'a': {'e': {'o': {'l': {'o': {'g': {'y': {'listWords': 'archaeology'}}}}}}}}}, 'i': {'s': {'e': {'listWords': 'arise'}}}, 'o': {'u': {'n': {'d': {'listWords': 'around'}}}}, 'e': {'a': {'s': {'listWords': 'areas'}, 'listWords': 'area'}, 'n': {'a': {'listWords': 'arena'}}}}, 'p': {'p': {'l': {'y': {'i': {'n': {'g': {'listWords': 'applying'}}}}, 'i': {'c': {'a': {'t': {'i': {'o': {'n': {'s': {'listWords': 'applications'}, 'listWords': 'application'}}}}, 'b': {'l': {'e': {'listWords': 'applicable'}}}}}, 'e': {'s': {'listWords': 'applies'}, 'd': {'listWords': 'applied'}}}}, 'r': {'o': {'a': {'c': {'h': {'listWords': 'approach'}}}, 'p': {'r': {'i': {'a': {'t': {'e': {'listWords': 'appropriate'}}}}}}}}, 'e': {'a': {'r': {'e': {'d': {'listWords': 'appeared'}}, 'listWords': 'appear'}}}, 'a': {'r': {'e': {'n': {'t': {'listWords': 'apparent'}}}, 'a': {'t': {'u': {'s': {'e': {'s': {'listWords': 'apparatuses'}}}}}}}}}}, 'm': {'o': {'u': {'n': {'t': {'s': {'listWords': 'amounts'}, 'listWords': 'amount'}}}}, 'e': {'r': {'i': {'c': {'a': {'listWords': 'america'}}}}, 'n': {'d': {'listWords': 'amend'}}}}, 'o': {'l': {'listWords': 'aol'}}, 'd': {'d': {'r': {'e': {'s': {'s': {'e': {'d': {'listWords': 'addressed'}, 's': {'listWords': 'addresses'}}, 'listWords': 'address'}}}}, 'e': {'d': {'listWords': 'added'}}, 'i': {'t': {'i': {'o': {'n': {'a': {'l': {'listWords': 'additional'}}}}}}}}, 'v': {'i': {'s': {'e': {'listWords': 'advise'}}}, 'a': {'n': {'t': {'a': {'g': {'e': {'s': {'listWords': 'advantages'}}}}}}}}}, 'w': {'a': {'r': {'e': {'n': {'e': {'s': {'s': {'listWords': 'awareness'}}}}, 'listWords': 'aware'}}}}, 'v': {'e': {'r': {'a': {'g': {'e': {'listWords': 'average'}}}}}, 'a': {'i': {'l': {'a': {'b': {'l': {'e': {'listWords': 'available'}}}}}}}, 'o': {'i': {'d': {'e': {'d': {'listWords': 'avoided'}}}}}}, 'z': {'e': {'v': {'e': {'d': {'o': {'listWords': 'azevedo'}}}}}}, 'g': {'r': {'e': {'e': {'m': {'e': {'n': {'t': {'listWords': 'agreement'}}}}}}}, 'e': {'n': {'c': {'i': {'e': {'s': {'listWords': 'agencies'}}}, 'y': {'listWords': 'agency'}}, 't': {'s': {'listWords': 'agents'}}}}, 'g': {'r': {'e': {'g': {'a': {'t': {'i': {'o': {'n': {'listWords': 'aggregation'}}}}}}}}}}, 'a': {'h': {'c': {'listWords': 'aahc'}}, 'a': {'i': {'listWords': 'aaai'}}}, 'f': {'f': {'e': {'c': {'t': {'e': {'d': {'listWords': 'affected'}}}}}}}, 'b': {'i': {'l': {'i': {'t': {'y': {'listWords': 'ability'}}}}}, 'l': {'e': {'listWords': 'able'}}}, 'i': {'d': {'e': {'d': {'listWords': 'aided'}}}, 'listWords': 'ai'}}, 'c': {'a': {'m': {'p': {'a': {'i': {'g': {'n': {'listWords': 'campaign'}}}}}}, 'p': {'t': {'u': {'r': {'e': {'s': {'listWords': 'captures'}, 'd': {'listWords': 'captured'}}}}}, 'a': {'b': {'i': {'l': {'i': {'t': {'y': {'listWords': 'capability'}}}}}}}}, 's': {'e': {'listWords': 'case', 's': {'listWords': 'cases'}}}, 'l': {'l': {'e': {'d': {'listWords': 'called'}}}}, 't': {'e': {'g': {'o': {'r': {'y': {'listWords': 'category'}, 'i': {'z': {'e': {'listWords': 'categorize'}}}}}}}}, 'u': {'s': {'e': {'listWords': 'cause'}}}}, 'o': {'n': {'c': {'e': {'r': {'n': {'e': {'d': {'listWords': 'concerned'}}, 'listWords': 'concern', 'i': {'n': {'g': {'listWords': 'concerning'}}}, 's': {'listWords': 'concerns'}}}}, 'i': {'s': {'e': {'listWords': 'concise'}}}}, 's': {'u': {'m': {'e': {'r': {'s': {'listWords': 'consumers'}}}}}, 'e': {'q': {'u': {'e': {'n': {'c': {'e': {'listWords': 'consequence'}}, 't': {'l': {'y': {'listWords': 'consequently'}}}}}}}, 'n': {'t': {'listWords': 'consent'}}}, 't': {'i': {'t': {'u': {'t': {'e': {'listWords': 'constitute'}}}}}, 'r': {'u': {'c': {'t': {'listWords': 'construct'}}}}}, 'i': {'d': {'e': {'r': {'e': {'d': {'listWords': 'considered'}}, 'a': {'t': {'i': {'o': {'n': {'s': {'listWords': 'considerations'}}}}}}}}}}}, 'g': {'r': {'e': {'s': {'s': {'listWords': 'congress'}}}}}, 'f': {'e': {'r': {'e': {'n': {'c': {'e': {'listWords': 'conference', 's': {'listWords': 'conferences'}}}}}}}, 'i': {'r': {'m': {'a': {'t': {'i': {'o': {'n': {'listWords': 'confirmation'}}}}}}}, 'd': {'e': {'n': {'t': {'i': {'a': {'l': {'i': {'t': {'y': {'listWords': 'confidentiality'}}}}}}}}}}}}, 't': {'r': {'o': {'l': {'l': {'e': {'d': {'listWords': 'controlled'}}}, 's': {'listWords': 'controls'}}, 'v': {'e': {'r': {'s': {'i': {'a': {'l': {'listWords': 'controversial'}}}}}}}}, 'a': {'s': {'t': {'listWords': 'contrast'}}, 'c': {'t': {'u': {'a': {'l': {'listWords': 'contractual'}}}}}}}, 'e': {'x': {'t': {'s': {'listWords': 'contexts'}}}, 'n': {'t': {'s': {'listWords': 'contents'}, 'listWords': 'content'}}}, 'a': {'i': {'n': {'i': {'n': {'g': {'listWords': 'containing'}}}, 'listWords': 'contain'}}}}, 'd': {'i': {'t': {'i': {'o': {'n': {'s': {'listWords': 'conditions'}, 'listWords': 'condition'}}}}}, 'u': {'c': {'t': {'e': {'d': {'listWords': 'conducted'}}}}}}, 'n': {'o': {'t': {'a': {'t': {'i': {'o': {'n': {'s': {'listWords': 'connotations'}}}}}}}}, 'e': {'c': {'t': {'i': {'o': {'n': {'listWords': 'connection'}}}}}}}}, 'm': {'b': {'i': {'n': {'i': {'n': {'g': {'listWords': 'combining'}}}}}}, 'm': {'o': {'d': {'i': {'t': {'y': {'listWords': 'commodity'}}}}, 'n': {'listWords': 'common', 'l': {'y': {'listWords': 'commonly'}}}}, 'u': {'n': {'i': {'t': {'y': {'listWords': 'community'}, 'i': {'e': {'s': {'listWords': 'communities'}}}}}}}, 'i': {'s': {'s': {'i': {'o': {'n': {'listWords': 'commission'}}}}}}, 'e': {'r': {'c': {'i': {'a': {'l': {'listWords': 'commercial'}}}}}}}, 'p': {'i': {'l': {'e': {'d': {'listWords': 'compiled'}}}}, 'l': {'e': {'x': {'i': {'t': {'y': {'listWords': 'complexity'}}}}}, 'i': {'c': {'a': {'t': {'e': {'d': {'listWords': 'complicated'}}}}}}}, 'r': {'o': {'m': {'i': {'s': {'e': {'listWords': 'compromise'}}}}}, 'e': {'h': {'e': {'n': {'s': {'i': {'b': {'l': {'e': {'listWords': 'comprehensible'}}}}}}}}}}, 'a': {'n': {'i': {'e': {'s': {'listWords': 'companies'}}}, 'y': {'listWords': 'company'}}, 'r': {'i': {'s': {'o': {'n': {'listWords': 'comparison'}}}}, 'e': {'d': {'listWords': 'compared'}}}}, 'u': {'t': {'i': {'n': {'g': {'listWords': 'computing'}}}, 'e': {'r': {'listWords': 'computer'}}}}, 'o': {'n': {'e': {'n': {'t': {'listWords': 'component'}}}}}, 'e': {'t': {'i': {'t': {'o': {'r': {'listWords': 'competitor'}}}}}}}, 'f': {'o': {'r': {'t': {'listWords': 'comfort'}}}}, 'e': {'s': {'listWords': 'comes'}}}, 'l': {'l': {'e': {'c': {'t': {'e': {'d': {'listWords': 'collected'}}, 'i': {'n': {'g': {'listWords': 'collecting'}}, 'o': {'n': {'listWords': 'collection'}}}}}}, 'a': {'b': {'o': {'r': {'a': {'t': {'i': {'v': {'e': {'listWords': 'collaborative'}}}}}}}}}}}, 'r': {'r': {'e': {'c': {'t': {'l': {'y': {'listWords': 'correctly'}}}}}}, 'p': {'u': {'s': {'listWords': 'corpus'}}, 'o': {'r': {'a': {'t': {'i': {'o': {'n': {'s': {'listWords': 'corporations'}}}}}}}}}}, 'u': {'l': {'d': {'listWords': 'could'}}, 'n': {'t': {'r': {'i': {'e': {'s': {'listWords': 'countries'}}}, 'y': {'listWords': 'country'}}}}}, 'v': {'e': {'r': {'listWords': 'cover', 's': {'listWords': 'covers'}}}}, 'd': {'e': {'listWords': 'code', 's': {'listWords': 'codes'}}}, 'p': {'y': {'r': {'i': {'g': {'h': {'t': {'listWords': 'copyright'}}}}}}}, 's': {'t': {'s': {'listWords': 'costs'}, 'a': {'listWords': 'costa'}}}, 'i': {'n': {'e': {'d': {'listWords': 'coined'}}}}}, 'u': {'r': {'v': {'e': {'s': {'listWords': 'curves'}}}, 'r': {'e': {'n': {'t': {'l': {'y': {'listWords': 'currently'}}}}}}}, 's': {'t': {'o': {'m': {'e': {'r': {'s': {'listWords': 'customers'}, 'listWords': 'customer'}}}}}}}, 'h': {'a': {'r': {'a': {'c': {'t': {'e': {'r': {'i': {'s': {'t': {'i': {'c': {'s': {'listWords': 'characteristics'}}}}}}}}}}}}, 'n': {'g': {'e': {'listWords': 'change'}}}}, 'i': {'n': {'e': {'s': {'e': {'listWords': 'chinese'}}}}}}, 'e': {'n': {'t': {'u': {'r': {'i': {'e': {'s': {'listWords': 'centuries'}}}}}}}}, 'i': {'t': {'a': {'t': {'i': {'o': {'n': {'listWords': 'citation'}}}}}}, 'v': {'i': {'l': {'listWords': 'civil'}}}}, 'l': {'u': {'s': {'t': {'e': {'r': {'e': {'d': {'listWords': 'clustered'}}, 'listWords': 'cluster', 'i': {'n': {'g': {'listWords': 'clustering'}}}}}}}}, 'a': {'s': {'s': {'i': {'f': {'y': {'listWords': 'classify'}, 'i': {'e': {'d': {'listWords': 'classified'}, 'r': {'listWords': 'classifier'}}, 'c': {'a': {'t': {'i': {'o': {'n': {'listWords': 'classification'}}}}}}}}}, 'e': {'s': {'listWords': 'classes'}}}}, 'n': {'d': {'e': {'s': {'t': {'i': {'n': {'e': {'listWords': 'clandestine'}}}}}}}}}, 'e': {'a': {'n': {'e': {'d': {'listWords': 'cleaned'}}, 'i': {'n': {'g': {'listWords': 'cleaning'}}}}}}, 'i': {'c': {'k': {'s': {'listWords': 'clicks'}}}}}, 'r': {'o': {'s': {'s': {'listWords': 'cross'}}}, 'i': {'t': {'i': {'c': {'i': {'z': {'e': {'d': {'listWords': 'criticized'}}}}, 'a': {'l': {'listWords': 'critical'}}}}}, 'm': {'i': {'n': {'a': {'l': {'listWords': 'criminal'}}}}}}, 'e': {'a': {'t': {'e': {'listWords': 'create', 'd': {'listWords': 'created'}}, 'i': {'n': {'g': {'listWords': 'creating'}}}}}}}}, 'f': {'a': {'c': {'t': {'o': {'r': {'s': {'listWords': 'factors'}}}}, 'i': {'l': {'i': {'t': {'a': {'t': {'e': {'listWords': 'facilitate', 'd': {'listWords': 'facilitated'}, 's': {'listWords': 'facilitates'}}}}}}}}}, 'i': {'r': {'listWords': 'fair'}, 'l': {'e': {'d': {'listWords': 'failed'}}}}, 's': {'t': {'e': {'r': {'listWords': 'faster'}}}}, 'y': {'y': {'a': {'d': {'listWords': 'fayyad'}}}}, 'm': {'i': {'l': {'y': {'listWords': 'family'}}}}}, 'o': {'c': {'u': {'s': {'e': {'s': {'listWords': 'focuses'}}, 'listWords': 'focus'}}}, 'r': {'u': {'m': {'s': {'listWords': 'forums'}}}, 'listWords': 'for', 'm': {'a': {'t': {'listWords': 'format'}}, 'listWords': 'form'}}, 'u': {'n': {'d': {'listWords': 'found', 'i': {'n': {'g': {'listWords': 'founding'}}}}}}, 'l': {'l': {'o': {'w': {'i': {'n': {'g': {'listWords': 'following'}}}}}}}}, 'i': {'s': {'h': {'i': {'n': {'g': {'listWords': 'fishing'}}}}}, 'n': {'d': {'listWords': 'find'}, 'a': {'n': {'c': {'i': {'a': {'l': {'listWords': 'financial'}}}}}, 'l': {'listWords': 'final'}}}, 'e': {'l': {'d': {'listWords': 'field'}}}, 'r': {'s': {'t': {'listWords': 'first'}}}, 'l': {'t': {'e': {'r': {'listWords': 'filter'}}}, 'e': {'d': {'listWords': 'filed'}}}, 'g': {'h': {'t': {'listWords': 'fight'}}}}, 'r': {'e': {'q': {'u': {'e': {'n': {'t': {'l': {'y': {'listWords': 'frequently'}}}, 'c': {'y': {'listWords': 'frequency'}}}}}}}, 'a': {'m': {'e': {'w': {'o': {'r': {'k': {'s': {'listWords': 'frameworks'}}}}}}}}}, 'u': {'t': {'u': {'r': {'e': {'listWords': 'future'}}}}, 'l': {'l': {'y': {'listWords': 'fully'}}}, 'n': {'c': {'t': {'i': {'o': {'n': {'listWords': 'function'}}}}}}}, 'e': {'a': {'t': {'u': {'r': {'e': {'listWords': 'feature', 's': {'listWords': 'features'}}}}}}, 'r': {'p': {'a': {'listWords': 'ferpa'}}}}}, 'e': {'x': {'p': {'l': {'o': {'r': {'a': {'t': {'i': {'o': {'n': {'s': {'listWords': 'explorations'}}}}}}}, 'i': {'t': {'i': {'n': {'g': {'listWords': 'exploiting'}}}, 'a': {'t': {'i': {'o': {'n': {'listWords': 'exploitation'}}}}}}}}}, 'o': {'s': {'e': {'d': {'listWords': 'exposed'}, 'listWords': 'expose'}}}, 'e': {'r': {'i': {'m': {'e': {'n': {'t': {'a': {'t': {'i': {'o': {'n': {'listWords': 'experimentation'}}}}}}}}}}}}}, 't': {'e': {'n': {'d': {'listWords': 'extend'}, 's': {'i': {'o': {'n': {'s': {'listWords': 'extensions'}}}}}}}, 'r': {'a': {'c': {'t': {'e': {'d': {'listWords': 'extracted'}}, 'listWords': 'extract', 'i': {'n': {'g': {'listWords': 'extracting'}}, 'o': {'n': {'listWords': 'extraction'}}}}}}, 'i': {'c': {'a': {'t': {'e': {'listWords': 'extricate'}}}}}}}, 'c': {'e': {'p': {'t': {'i': {'o': {'n': {'listWords': 'exception', 's': {'listWords': 'exceptions'}}}}}}}, 'h': {'a': {'n': {'g': {'i': {'n': {'g': {'listWords': 'exchanging'}}}, 'e': {'listWords': 'exchange'}}}}}}, 'i': {'s': {'t': {'listWords': 'exist', 's': {'listWords': 'exists'}}}}, 'e': {'c': {'u': {'t': {'e': {'listWords': 'execute'}}}}}, 'a': {'m': {'p': {'l': {'e': {'s': {'listWords': 'examples'}, 'listWords': 'example'}}}}}}, 'n': {'c': {'o': {'u': {'r': {'a': {'g': {'e': {'s': {'listWords': 'encourages'}}}}}}}}, 'g': {'l': {'i': {'s': {'h': {'listWords': 'english'}}}}}, 'o': {'u': {'g': {'h': {'listWords': 'enough'}}}}, 'f': {'o': {'r': {'c': {'e': {'m': {'e': {'n': {'t': {'listWords': 'enforcement'}}}}}}}}}, 't': {'r': {'o': {'p': {'y': {'listWords': 'entropy'}}}}}, 'a': {'b': {'l': {'e': {'d': {'listWords': 'enabled'}}}}}}, 'v': {'a': {'l': {'u': {'a': {'t': {'i': {'n': {'g': {'listWords': 'evaluating'}}, 'v': {'e': {'listWords': 'evaluative'}}, 'o': {'n': {'listWords': 'evaluation'}}}, 'e': {'listWords': 'evaluate'}}}}}}, 'e': {'n': {'listWords': 'even', 't': {'u': {'a': {'l': {'l': {'y': {'listWords': 'eventually'}}}}}}}}}, 'u': {'r': {'o': {'p': {'e': {'listWords': 'europe', 'a': {'n': {'listWords': 'european'}}}}}}}, 'c': {'o': {'n': {'o': {'m': {'i': {'c': {'listWords': 'economic'}, 's': {'t': {'s': {'listWords': 'economists'}, 'listWords': 'economist'}}}}}}}}, 't': {'c': {'listWords': 'etc'}, 'h': {'i': {'c': {'a': {'l': {'listWords': 'ethical'}}, 's': {'listWords': 'ethics'}}}}}, 'f': {'f': {'i': {'c': {'i': {'e': {'n': {'t': {'l': {'y': {'listWords': 'efficiently'}}}}}}}}, 'e': {'c': {'t': {'i': {'v': {'e': {'n': {'e': {'s': {'s': {'listWords': 'effectiveness'}}}}, 'l': {'y': {'listWords': 'effectively'}}}}}}}}, 'o': {'r': {'t': {'s': {'listWords': 'efforts'}}}}}}, 'd': {'w': {'a': {'r': {'d': {'listWords': 'edward'}}}}, 'u': {'c': {'a': {'t': {'i': {'o': {'n': {'a': {'l': {'listWords': 'educational'}}}}}}}}}}, 's': {'s': {'e': {'n': {'t': {'i': {'a': {'l': {'l': {'y': {'listWords': 'essentially'}}, 'listWords': 'essential'}}}}}}}, 't': {'a': {'b': {'l': {'i': {'s': {'h': {'listWords': 'establish'}}}}}}}, 'p': {'e': {'c': {'i': {'a': {'l': {'l': {'y': {'listWords': 'especially'}}}}}}}}}, 'm': {'o': {'t': {'i': {'o': {'n': {'a': {'l': {'listWords': 'emotional'}}}}}}}, 'a': {'i': {'l': {'s': {'listWords': 'emails'}}}}}, 'l': {'e': {'m': {'e': {'n': {'t': {'s': {'listWords': 'elements'}}}}}}}, 'a': {'r': {'l': {'y': {'listWords': 'early'}}}}}, 'k': {'o': {'r': {'e': {'a': {'listWords': 'korea'}}}}, 'n': {'o': {'w': {'l': {'e': {'d': {'g': {'e': {'listWords': 'knowledge'}}}}}, 'n': {'listWords': 'known'}}}}, 'd': {'d': {'listWords': 'kdd'}}, 'i': {'n': {'d': {'s': {'listWords': 'kinds'}, 'listWords': 'kind'}}}, 'e': {'y': {'listWords': 'key'}}, 'l': {'u': {'w': {'e': {'r': {'listWords': 'kluwer'}}}}}}, 't': {'h': {'r': {'e': {'e': {'listWords': 'three'}, 'a': {'t': {'listWords': 'threat', 's': {'listWords': 'threats'}}}}, 'o': {'u': {'g': {'h': {'o': {'u': {'t': {'listWords': 'throughout'}}}}}}}}, 'e': {'listWords': 'the', 'r': {'e': {'listWords': 'there'}}, 'o': {'r': {'e': {'m': {'listWords': 'theorem'}}, 'y': {'listWords': 'theory'}}}, 's': {'e': {'listWords': 'these'}}, 'm': {'e': {'listWords': 'theme'}}, 'y': {'listWords': 'they'}}, 'u': {'s': {'listWords': 'thus'}}, 'i': {'s': {'listWords': 'this'}}}, 'o': {'p': {'i': {'c': {'listWords': 'topic', 's': {'listWords': 'topics'}}}, 'o': {'l': {'o': {'g': {'y': {'listWords': 'topology'}}}}}}, 'o': {'l': {'s': {'listWords': 'tools'}}}, 'listWords': 'to', 'g': {'e': {'t': {'h': {'e': {'r': {'listWords': 'together'}}}}}}, 'd': {'a': {'y': {'listWords': 'today'}}}, 't': {'a': {'l': {'l': {'y': {'listWords': 'totally'}}, 'listWords': 'total'}}}}, 'e': {'c': {'h': {'n': {'i': {'c': {'a': {'l': {'l': {'y': {'listWords': 'technically'}}}}}, 'q': {'u': {'e': {'s': {'listWords': 'techniques'}}}}}, 'o': {'l': {'o': {'g': {'y': {'listWords': 'technology'}}}}}}}}, 'r': {'m': {'i': {'n': {'o': {'l': {'o': {'g': {'y': {'listWords': 'terminology'}}}}}}}, 'listWords': 'term', 's': {'listWords': 'terms'}}, 'r': {'o': {'r': {'i': {'s': {'m': {'listWords': 'terrorism'}}}}}}}, 'n': {'d': {'e': {'n': {'c': {'y': {'listWords': 'tendency'}}}}}}, 'a': {'m': {'s': {'listWords': 'teams'}}}, 's': {'t': {'i': {'n': {'g': {'listWords': 'testing'}}}, 'listWords': 'test'}}, 'x': {'t': {'listWords': 'text'}}}, 'i': {'t': {'l': {'e': {'d': {'listWords': 'titled'}, 'listWords': 'title'}}}, 'm': {'e': {'listWords': 'time', 's': {'listWords': 'times'}}}}, 'r': {'a': {'d': {'e': {'listWords': 'trade', 'd': {'listWords': 'traded'}, 'm': {'a': {'r': {'k': {'e': {'d': {'listWords': 'trademarked'}}}}}}}, 'i': {'n': {'g': {'listWords': 'trading'}}, 't': {'i': {'o': {'n': {'a': {'l': {'listWords': 'traditional'}}}}}}}}, 'n': {'s': {'f': {'o': {'r': {'m': {'a': {'t': {'i': {'v': {'e': {'listWords': 'transformative'}}}}}, 'listWords': 'transform'}}}}}}, 'i': {'n': {'i': {'n': {'g': {'listWords': 'training'}}}, 'e': {'d': {'listWords': 'trained'}}}}, 'c': {'e': {'d': {'listWords': 'traced'}}}}, 'i': {'e': {'s': {'listWords': 'tries'}}}, 'e': {'a': {'t': {'i': {'n': {'g': {'listWords': 'treating'}}}}}, 'e': {'s': {'listWords': 'trees'}}, 'n': {'d': {'listWords': 'trend'}}}, 'y': {'i': {'n': {'g': {'listWords': 'trying'}}}, 'listWords': 'try'}}, 'a': {'s': {'k': {'s': {'listWords': 'tasks'}, 'listWords': 'task'}}, 'x': {'o': {'n': {'o': {'m': {'i': {'e': {'s': {'listWords': 'taxonomies'}}}}}}}}, 'i': {'w': {'a': {'n': {'listWords': 'taiwan'}}}}, 'r': {'g': {'e': {'t': {'listWords': 'target'}}}}, 'k': {'e': {'listWords': 'take'}}}, 'u': {'r': {'n': {'listWords': 'turn', 'e': {'d': {'listWords': 'turned'}}}}}, 'y': {'p': {'i': {'c': {'a': {'l': {'l': {'y': {'listWords': 'typically'}}}}}}, 'e': {'listWords': 'type', 's': {'listWords': 'types'}}}}, 'w': {'o': {'listWords': 'two'}}}, 'u': {'n': {'s': {'c': {'r': {'u': {'p': {'u': {'l': {'o': {'u': {'s': {'listWords': 'unscrupulous'}}}}}}}}}, 't': {'r': {'u': {'c': {'t': {'u': {'r': {'e': {'d': {'listWords': 'unstructured'}}}}}}}}}}, 'c': {'o': {'v': {'e': {'r': {'s': {'listWords': 'uncovers'}, 'listWords': 'uncover', 'i': {'n': {'g': {'listWords': 'uncovering'}}}}}}}}, 'i': {'v': {'e': {'r': {'s': {'i': {'t': {'i': {'e': {'s': {'listWords': 'universities'}}}}}}}}}, 'q': {'u': {'e': {'listWords': 'unique'}}}, 'n': {'t': {'e': {'n': {'t': {'i': {'o': {'n': {'a': {'l': {'l': {'y': {'listWords': 'unintentionally'}}}}}}}}}}}}, 't': {'e': {'d': {'listWords': 'united'}}}}, 'u': {'s': {'u': {'a': {'l': {'listWords': 'unusual'}}}}}, 'd': {'e': {'r': {'s': {'t': {'a': {'n': {'d': {'i': {'n': {'g': {'listWords': 'understanding'}}}, 'listWords': 'understand'}}}}, 'c': {'o': {'r': {'e': {'s': {'listWords': 'underscores'}}}}}}, 'listWords': 'under', 'w': {'a': {'y': {'listWords': 'underway'}}}}}}, 'k': {'n': {'o': {'w': {'n': {'listWords': 'unknown'}}}}}}, 's': {'e': {'s': {'listWords': 'uses'}, 'r': {'s': {'listWords': 'users'}, 'listWords': 'user'}, 'listWords': 'use', 'd': {'listWords': 'used'}, 'f': {'u': {'l': {'listWords': 'useful'}}}}, 'i': {'n': {'g': {'listWords': 'using'}}}, 'u': {'a': {'l': {'l': {'y': {'listWords': 'usually'}}, 'listWords': 'usual'}}}, 'a': {'g': {'e': {'listWords': 'usage'}}, 'm': {'a': {'listWords': 'usama'}}}, 'listWords': 'us'}, 'p': {'d': {'a': {'t': {'i': {'n': {'g': {'listWords': 'updating'}}}}}}}, 'k': {'listWords': 'uk'}, 'b': {'i': {'q': {'u': {'i': {'t': {'y': {'listWords': 'ubiquity'}}}}}}}, 't': {'i': {'l': {'i': {'z': {'e': {'d': {'listWords': 'utilized'}, 'listWords': 'utilize'}, 'a': {'t': {'i': {'o': {'n': {'listWords': 'utilization'}}}}}, 'i': {'n': {'g': {'listWords': 'utilizing'}}}}}}}, 'h': {'u': {'r': {'u': {'s': {'a': {'m': {'y': {'listWords': 'uthurusamy'}}}}}}}}}}, 'r': {'e': {'f': {'e': {'r': {'listWords': 'refer', 'e': {'n': {'c': {'e': {'listWords': 'reference'}}}}, 'r': {'i': {'n': {'g': {'listWords': 'referring'}}}}}}}, 'c': {'o': {'r': {'d': {'s': {'listWords': 'records'}}}, 'm': {'m': {'e': {'n': {'d': {'e': {'d': {'listWords': 'recommended'}}, 'a': {'t': {'i': {'o': {'n': {'listWords': 'recommendation'}}}}}}}}}}}, 'a': {'l': {'l': {'listWords': 'recall'}}}}, 'l': {'a': {'t': {'i': {'o': {'n': {'s': {'h': {'i': {'p': {'s': {'listWords': 'relationships'}, 'listWords': 'relationship'}}}}, 'listWords': 'relation'}}}, 'e': {'d': {'listWords': 'related'}}}}, 'i': {'a': {'b': {'l': {'e': {'listWords': 'reliable'}}}}, 'g': {'i': {'o': {'n': {'listWords': 'religion'}}}}}, 'e': {'a': {'s': {'e': {'listWords': 'release', 'd': {'listWords': 'released'}}}}, 'v': {'a': {'n': {'t': {'listWords': 'relevant'}}}}}}, 't': {'r': {'i': {'e': {'v': {'a': {'l': {'listWords': 'retrieval'}}}}}}, 'a': {'i': {'n': {'listWords': 'retain'}}}}, 'm': {'o': {'v': {'e': {'s': {'listWords': 'removes'}}}}, 'a': {'i': {'n': {'i': {'n': {'g': {'listWords': 'remaining'}}}}}}}, 'p': {'o': {'r': {'t': {'e': {'d': {'listWords': 'reported'}}, 'i': {'n': {'g': {'listWords': 'reporting'}}}, 's': {'listWords': 'reports'}}}}, 'r': {'e': {'s': {'e': {'n': {'t': {'listWords': 'represent', 'a': {'t': {'i': {'v': {'e': {'s': {'listWords': 'representatives'}}}, 'o': {'n': {'listWords': 'representation'}}}}}}}}}}, 'o': {'d': {'u': {'c': {'e': {'d': {'listWords': 'reproduced'}}}}}}}}, 'a': {'c': {'h': {'listWords': 'reach', 'i': {'n': {'g': {'listWords': 'reaching'}}}}, 't': {'i': {'n': {'g': {'listWords': 'reacting'}}}}}, 'l': {'i': {'z': {'e': {'listWords': 'realize'}}}}, 's': {'o': {'n': {'i': {'n': {'g': {'listWords': 'reasoning'}}}, 's': {'listWords': 'reasons'}}}}, 'd': {'i': {'l': {'y': {'listWords': 'readily'}}}}}, 'q': {'u': {'i': {'r': {'e': {'m': {'e': {'n': {'t': {'s': {'listWords': 'requirements'}}}}}, 's': {'listWords': 'requires'}}}}}}, 'g': {'r': {'e': {'s': {'s': {'i': {'o': {'n': {'listWords': 'regression'}}}}}}}, 'u': {'l': {'a': {'t': {'o': {'r': {'y': {'listWords': 'regulatory'}}}, 'i': {'o': {'n': {'s': {'listWords': 'regulations'}}}}}}}}, 'a': {'r': {'d': {'l': {'e': {'s': {'s': {'listWords': 'regardless'}}}}, 'i': {'n': {'g': {'listWords': 'regarding'}}}}}}}, 's': {'u': {'l': {'t': {'s': {'listWords': 'results'}, 'listWords': 'result', 'i': {'n': {'g': {'listWords': 'resulting'}}}}}}, 'e': {'a': {'r': {'c': {'h': {'e': {'s': {'listWords': 'researches'}, 'r': {'s': {'listWords': 'researchers'}}}, 'listWords': 'research'}}}}}, 'p': {'o': {'n': {'s': {'i': {'b': {'l': {'e': {'listWords': 'responsible'}}}}}}}}, 'o': {'l': {'v': {'e': {'listWords': 'resolve'}}}}, 't': {'r': {'i': {'c': {'t': {'i': {'o': {'n': {'listWords': 'restriction'}}}}}}}}}, 'v': {'e': {'l': {'a': {'t': {'i': {'o': {'n': {'listWords': 'revelation'}}}}}}, 'a': {'l': {'listWords': 'reveal'}}}, 'i': {'e': {'w': {'s': {'listWords': 'reviews'}, 'listWords': 'review'}}}, 'o': {'k': {'e': {'listWords': 'revoke'}}}}, 'd': {'u': {'c': {'i': {'n': {'g': {'listWords': 'reducing'}}}}}}}, 'a': {'i': {'s': {'e': {'listWords': 'raise', 'd': {'listWords': 'raised'}}}}, 't': {'h': {'e': {'r': {'listWords': 'rather'}}}, 'i': {'o': {'listWords': 'ratio'}}, 'e': {'listWords': 'rate'}}, 'n': {'g': {'i': {'n': {'g': {'listWords': 'ranging'}}}}}, 'm': {'a': {'s': {'a': {'m': {'y': {'listWords': 'ramasamy'}}}}}}, 'c': {'e': {'listWords': 'race'}}, 'r': {'e': {'l': {'y': {'listWords': 'rarely'}}}}, 'w': {'listWords': 'raw'}}, 'i': {'g': {'h': {'t': {'s': {'listWords': 'rights'}}}}, 's': {'k': {'listWords': 'risk'}}}, 'u': {'l': {'e': {'listWords': 'rule', 's': {'listWords': 'rules'}, 'd': {'listWords': 'ruled'}}}}, 'o': {'c': {'listWords': 'roc'}}}, 'l': {'i': {'n': {'k': {'listWords': 'link'}}, 'm': {'i': {'t': {'listWords': 'limit', 'a': {'t': {'i': {'o': {'n': {'s': {'listWords': 'limitations'}, 'listWords': 'limitation'}}}}}}}}, 'k': {'e': {'listWords': 'like', 'l': {'i': {'n': {'e': {'s': {'s': {'listWords': 'likeliness'}}}}}}}}, 'b': {'r': {'a': {'r': {'i': {'e': {'s': {'listWords': 'libraries'}}}}}}}, 't': {'t': {'l': {'e': {'listWords': 'little'}}}}, 'c': {'e': {'n': {'s': {'e': {'s': {'listWords': 'licenses'}}, 'i': {'n': {'g': {'listWords': 'licensing'}}}}, 'c': {'e': {'s': {'listWords': 'licences'}}}}}}}, 'y': {'c': {'o': {'s': {'listWords': 'lycos'}}}}, 'a': {'w': {'s': {'u': {'i': {'t': {'listWords': 'lawsuit', 's': {'listWords': 'lawsuits'}}}}, 'listWords': 'laws'}, 'listWords': 'law', 'f': {'u': {'l': {'listWords': 'lawful'}}}}, 't': {'e': {'r': {'listWords': 'later'}, 'n': {'t': {'listWords': 'latent'}}}}, 'n': {'g': {'u': {'a': {'g': {'e': {'listWords': 'language'}}}}}}, 'r': {'g': {'e': {'listWords': 'large', 'r': {'listWords': 'larger'}}}}, 'u': {'n': {'c': {'h': {'e': {'d': {'listWords': 'launched'}}}}}}, 'c': {'k': {'listWords': 'lack'}}}, 'o': {'g': {'s': {'listWords': 'logs'}, 'listWords': 'log'}, 'v': {'e': {'l': {'l': {'listWords': 'lovell'}}}}, 's': {'t': {'listWords': 'lost'}, 'i': {'n': {'g': {'listWords': 'losing'}}}}, 'n': {'g': {'s': {'t': {'a': {'n': {'d': {'i': {'n': {'g': {'listWords': 'longstanding'}}}}}}}}}}, 'o': {'k': {'listWords': 'look'}}}, 'e': {'g': {'a': {'l': {'i': {'t': {'y': {'listWords': 'legality'}}}, 'l': {'y': {'listWords': 'legally'}}, 'listWords': 'legal'}}, 'i': {'s': {'l': {'a': {'t': {'i': {'o': {'n': {'listWords': 'legislation'}}}}}}}, 't': {'i': {'m': {'a': {'t': {'e': {'listWords': 'legitimate'}}}}}}}}, 'a': {'r': {'n': {'e': {'d': {'listWords': 'learned'}}, 'i': {'n': {'g': {'listWords': 'learning'}}}}}, 'v': {'e': {'listWords': 'leave'}}, 'd': {'i': {'n': {'g': {'listWords': 'leading'}}}}}, 'v': {'e': {'l': {'listWords': 'level'}}}, 'd': {'listWords': 'led'}}}, 'm': {'o': {'r': {'e': {'listWords': 'more'}}, 'd': {'i': {'f': {'i': {'e': {'d': {'listWords': 'modified'}}}}}, 'e': {'l': {'listWords': 'model', 's': {'listWords': 'models'}}}}, 's': {'t': {'l': {'y': {'listWords': 'mostly'}}}}, 'n': {'t': {'r': {'e': {'a': {'l': {'listWords': 'montreal'}}}}}}, 'u': {'s': {'e': {'listWords': 'mouse'}}}}, 'i': {'g': {'h': {'t': {'listWords': 'might'}}}, 's': {'n': {'o': {'m': {'e': {'r': {'listWords': 'misnomer'}}}}}, 'u': {'s': {'e': {'d': {'listWords': 'misused'}}}}, 's': {'i': {'n': {'g': {'listWords': 'missing'}}}}}, 'n': {'i': {'n': {'g': {'listWords': 'mining'}}}, 'e': {'r': {'listWords': 'miner', 's': {'listWords': 'miners'}}, 'd': {'listWords': 'mined'}}}, 'c': {'h': {'a': {'e': {'l': {'listWords': 'michael'}}}}}}, 'u': {'c': {'h': {'listWords': 'much'}}, 't': {'u': {'a': {'l': {'listWords': 'mutual'}}}}, 's': {'t': {'listWords': 'must'}}, 'l': {'t': {'i': {'v': {'a': {'r': {'i': {'a': {'t': {'e': {'listWords': 'multivariate'}}}}}}}, 'p': {'l': {'e': {'listWords': 'multiple'}}}}}}}, 'e': {'t': {'r': {'i': {'c': {'s': {'listWords': 'metrics'}}}}, 'h': {'o': {'d': {'o': {'l': {'o': {'g': {'y': {'listWords': 'methodology'}}}}}, 's': {'listWords': 'methods'}}}}, 'a': {'c': {'r': {'a': {'w': {'l': {'e': {'r': {'listWords': 'metacrawler'}}}}}}}}}, 'e': {'t': {'listWords': 'meet'}}, 'a': {'n': {'s': {'listWords': 'means'}}, 's': {'u': {'r': {'e': {'d': {'listWords': 'measured'}}}}}}, 'd': {'i': {'c': {'i': {'n': {'e': {'listWords': 'medicine'}}}}}}, 'r': {'i': {'t': {'s': {'listWords': 'merits'}}}}}, 'a': {'r': {'k': {'u': {'p': {'listWords': 'markup'}}, 'e': {'t': {'i': {'n': {'g': {'listWords': 'marketing'}}}}}}, 't': {'listWords': 'mart'}}, 't': {'e': {'r': {'i': {'a': {'l': {'listWords': 'material'}}}}}, 'h': {'e': {'m': {'a': {'t': {'i': {'c': {'a': {'l': {'listWords': 'mathematical'}}}}}}}}}}, 'd': {'e': {'listWords': 'made'}}, 'n': {'i': {'p': {'u': {'l': {'a': {'t': {'i': {'o': {'n': {'listWords': 'manipulation'}}}}}}}}}, 'a': {'g': {'e': {'m': {'e': {'n': {'t': {'listWords': 'management'}}}}}}}, 'y': {'listWords': 'many'}, 'u': {'a': {'l': {'listWords': 'manual'}}}}, 'i': {'n': {'t': {'a': {'i': {'n': {'e': {'d': {'listWords': 'maintained'}}}}}}, 'l': {'y': {'listWords': 'mainly'}}}}, 'k': {'e': {'listWords': 'make', 's': {'listWords': 'makes'}}}, 'j': {'o': {'r': {'listWords': 'major', 'i': {'t': {'y': {'listWords': 'majority'}}}}}}, 's': {'q': {'u': {'e': {'r': {'a': {'d': {'e': {'s': {'listWords': 'masquerades'}}}}}}}}}, 'c': {'h': {'i': {'n': {'e': {'r': {'y': {'listWords': 'machinery'}}, 'listWords': 'machine', 's': {'listWords': 'machines'}}}}}}, 'y': {'listWords': 'may'}}}, 'h': {'y': {'p': {'e': {'r': {'l': {'i': {'n': {'k': {'s': {'listWords': 'hyperlinks'}, 'listWords': 'hyperlink'}}}}, 't': {'e': {'x': {'t': {'listWords': 'hypertext'}}}}}}, 'o': {'n': {'y': {'m': {'y': {'listWords': 'hyponymy'}}}}, 't': {'h': {'e': {'s': {'i': {'s': {'listWords': 'hypothesis'}}, 'e': {'s': {'listWords': 'hypotheses'}}}}}}}}}, 'e': {'t': {'e': {'r': {'o': {'g': {'e': {'n': {'e': {'i': {'t': {'y': {'listWords': 'heterogeneity'}}}}}}}}}}}, 'a': {'l': {'t': {'h': {'listWords': 'health'}}}}}, 'a': {'p': {'p': {'e': {'n': {'i': {'n': {'g': {'listWords': 'happening'}}}}}}}, 'r': {'b': {'o': {'r': {'listWords': 'harbor'}}}, 'd': {'listWords': 'hard'}, 'm': {'listWords': 'harm'}, 'v': {'e': {'s': {'t': {'i': {'n': {'g': {'listWords': 'harvesting'}}}}}}}, 'g': {'r': {'e': {'a': {'v': {'e': {'s': {'listWords': 'hargreaves'}}}}}}}}}, 'z': {'listWords': 'hz'}, 'o': {'w': {'e': {'v': {'e': {'r': {'listWords': 'however'}}}}}, 's': {'t': {'e': {'d': {'listWords': 'hosted'}}}}}, 'i': {'p': {'a': {'a': {'listWords': 'hipaa'}}}, 'g': {'h': {'listWords': 'high', 'e': {'s': {'t': {'listWords': 'highest'}}, 'r': {'listWords': 'higher'}}}}, 'd': {'d': {'e': {'n': {'listWords': 'hidden'}}}}, 's': {'t': {'o': {'r': {'i': {'e': {'s': {'listWords': 'histories'}}}}}}}}, 'n': {'c': {'listWords': 'hnc'}}, 't': {'m': {'l': {'listWords': 'html'}}}}, 'j': {'d': {'m': {'listWords': 'jdm'}}, 'o': {'u': {'r': {'n': {'a': {'l': {'listWords': 'journal', 'i': {'s': {'t': {'s': {'listWords': 'journalists'}}}}}}}}}}, 'u': {'d': {'g': {'i': {'n': {'g': {'listWords': 'judging'}}}, 'e': {'listWords': 'judge'}}}}, 'a': {'v': {'a': {'listWords': 'java'}}, 'p': {'a': {'n': {'listWords': 'japan'}}}}}, 'd': {'e': {'f': {'i': {'n': {'e': {'d': {'listWords': 'defined'}, 's': {'listWords': 'defines'}, 'listWords': 'define'}}}, 'a': {'u': {'l': {'t': {'listWords': 'default'}}}}}, 'm': {'o': {'n': {'s': {'t': {'r': {'a': {'t': {'e': {'listWords': 'demonstrate', 'd': {'listWords': 'demonstrated'}}}}}}}}}}, 's': {'i': {'r': {'e': {'d': {'listWords': 'desired'}}}}}, 'v': {'e': {'l': {'o': {'p': {'e': {'d': {'listWords': 'developed'}}, 'listWords': 'develop', 'm': {'e': {'n': {'t': {'listWords': 'development'}}}}}}}}}, 'p': {'e': {'n': {'d': {'i': {'n': {'g': {'listWords': 'depending'}}}, 'e': {'n': {'c': {'i': {'e': {'s': {'listWords': 'dependencies'}}}}}}}}}}, 'd': {'u': {'c': {'i': {'b': {'l': {'e': {'listWords': 'deducible'}}}}}}}, 'c': {'i': {'s': {'i': {'o': {'n': {'listWords': 'decision'}}}}}}, 'n': {'i': {'a': {'l': {'listWords': 'denial'}}}}, 'g': {'r': {'a': {'d': {'e': {'listWords': 'degrade'}}}}}, 't': {'e': {'c': {'t': {'i': {'o': {'n': {'listWords': 'detection'}}}}}}}}, 'i': {'v': {'i': {'d': {'e': {'d': {'listWords': 'divided'}}}}}, 'f': {'f': {'e': {'r': {'e': {'n': {'t': {'i': {'a': {'t': {'e': {'d': {'listWords': 'differentiated'}}}}}, 'listWords': 'different'}, 'c': {'e': {'listWords': 'difference'}}}}}}}}, 'r': {'e': {'c': {'t': {'i': {'v': {'e': {'listWords': 'directive'}}, 'o': {'n': {'listWords': 'direction'}}}, 'listWords': 'direct'}}}}, 'g': {'i': {'t': {'a': {'l': {'listWords': 'digital'}}, 'i': {'z': {'a': {'t': {'i': {'o': {'n': {'listWords': 'digitization'}}}}}}, 's': {'a': {'t': {'i': {'o': {'n': {'listWords': 'digitisation'}}}}}}}}}}, 's': {'c': {'o': {'v': {'e': {'r': {'i': {'e': {'s': {'listWords': 'discoveries'}}, 'n': {'g': {'listWords': 'discovering'}}}, 'listWords': 'discover', 'e': {'d': {'listWords': 'discovered'}}, 'y': {'listWords': 'discovery'}}}}}, 'u': {'s': {'s': {'i': {'o': {'n': {'listWords': 'discussion'}}}}}}, 'l': {'o': {'s': {'u': {'r': {'e': {'listWords': 'disclosure'}}}}}}}, 't': {'i': {'n': {'g': {'u': {'i': {'s': {'h': {'listWords': 'distinguish'}}}}}}}}, 's': {'e': {'m': {'i': {'n': {'a': {'t': {'e': {'d': {'listWords': 'disseminated'}}}}}}}}}, 'p': {'l': {'a': {'y': {'e': {'d': {'listWords': 'displayed'}}}}}}}, 'a': {'l': {'o': {'g': {'u': {'e': {'listWords': 'dialogue'}}}}}}}, 'a': {'t': {'a': {'b': {'a': {'s': {'e': {'listWords': 'database', 's': {'listWords': 'databases'}}}}}, 'listWords': 'data', 's': {'e': {'t': {'listWords': 'dataset'}}}}}}, 'r': {'a': {'m': {'a': {'t': {'i': {'c': {'a': {'l': {'l': {'y': {'listWords': 'dramatically'}}}}}}}}}, 'f': {'t': {'listWords': 'draft'}}}, 'e': {'d': {'g': {'i': {'n': {'g': {'listWords': 'dredging'}}}}}}}, 'o': {'n': {'e': {'listWords': 'done'}}, 'c': {'u': {'m': {'e': {'n': {'t': {'s': {'listWords': 'documents'}, 'listWords': 'document'}}}}}}}, 'm': {'g': {'listWords': 'dmg'}}, 'u': {'e': {'listWords': 'due'}}}, 'b': {'u': {'s': {'i': {'n': {'e': {'s': {'s': {'listWords': 'business', 'e': {'s': {'listWords': 'businesses'}}}}}}}}, 'z': {'z': {'w': {'o': {'r': {'d': {'listWords': 'buzzword'}}}}}}, 'y': {'listWords': 'buy'}, 'i': {'l': {'d': {'i': {'n': {'g': {'listWords': 'building'}}}}}}}, 'a': {'s': {'e': {'s': {'listWords': 'bases'}, 'd': {'listWords': 'based'}}, 'i': {'s': {'listWords': 'basis'}}}, 'c': {'k': {'listWords': 'back', 'g': {'r': {'o': {'u': {'n': {'d': {'listWords': 'background'}}}}}}}}, 'd': {'listWords': 'bad'}, 'y': {'e': {'s': {'listWords': 'bayes'}}}, 'g': {'listWords': 'bag'}}, 'e': {'h': {'a': {'l': {'f': {'listWords': 'behalf'}}, 'v': {'i': {'o': {'r': {'listWords': 'behavior'}}}}}}, 't': {'t': {'e': {'r': {'listWords': 'better'}}}}, 'c': {'a': {'m': {'e': {'listWords': 'became'}}}, 'o': {'m': {'e': {'listWords': 'become', 's': {'listWords': 'becomes'}}}}}, 'n': {'e': {'f': {'i': {'t': {'listWords': 'benefit', 's': {'listWords': 'benefits'}}}}}}, 'l': {'o': {'n': {'g': {'listWords': 'belong'}}}}, 'f': {'o': {'r': {'e': {'listWords': 'before'}}}}, 'a': {'r': {'listWords': 'bear'}}}, 'o': {'o': {'k': {'s': {'listWords': 'books'}, 'listWords': 'book'}}, 'd': {'i': {'l': {'y': {'listWords': 'bodily'}}}, 'y': {'listWords': 'body'}}}, 'r': {'i': {'d': {'g': {'e': {'s': {'listWords': 'bridges'}}}}}, 'o': {'w': {'s': {'e': {'r': {'listWords': 'browser'}}, 'i': {'n': {'g': {'listWords': 'browsing'}}}}}}}, 'i': {'o': {'t': {'e': {'c': {'h': {'listWords': 'biotech'}}}}}, 'a': {'n': {'n': {'u': {'a': {'l': {'listWords': 'biannual'}}}}}, 's': {'e': {'s': {'listWords': 'biases'}}}}}, 'y': {'listWords': 'by'}}, 'g': {'a': {'t': {'h': {'e': {'r': {'e': {'d': {'listWords': 'gathered'}}}}}}, 'p': {'listWords': 'gap'}, 'i': {'n': {'listWords': 'gain'}}}, 'i': {'v': {'e': {'listWords': 'give', 'n': {'listWords': 'given'}}}}, 'b': {'listWords': 'gb'}, 'o': {'o': {'d': {'listWords': 'good'}, 'g': {'l': {'e': {'listWords': 'google'}}}}, 'a': {'l': {'listWords': 'goal'}}, 'v': {'e': {'r': {'n': {'m': {'e': {'n': {'t': {'listWords': 'government'}}}}}}}}}, 'l': {'o': {'b': {'a': {'l': {'listWords': 'global'}}}}}, 'e': {'n': {'e': {'r': {'a': {'l': {'listWords': 'general', 'l': {'y': {'listWords': 'generally'}}}, 't': {'e': {'listWords': 'generate'}, 'i': {'o': {'n': {'listWords': 'generation'}}}}}}, 't': {'i': {'c': {'listWords': 'genetic'}}}}}, 't': {'listWords': 'get'}}, 'r': {'o': {'w': {'n': {'listWords': 'grown'}, 'i': {'n': {'g': {'listWords': 'growing'}}}}, 'u': {'p': {'listWords': 'group', 's': {'listWords': 'groups'}}}}, 'e': {'g': {'o': {'r': {'y': {'listWords': 'gregory'}}}}, 'a': {'t': {'e': {'r': {'listWords': 'greater'}}}}}, 'a': {'p': {'h': {'listWords': 'graph'}}}}}, 'v': {'i': {'o': {'l': {'a': {'t': {'i': {'o': {'n': {'listWords': 'violation'}}}, 'e': {'s': {'listWords': 'violates'}}}}}}, 's': {'u': {'a': {'l': {'i': {'z': {'a': {'t': {'i': {'o': {'n': {'listWords': 'visualization'}}}}}}}}}}, 't': {'a': {'listWords': 'vista'}}}, 'e': {'w': {'e': {'d': {'listWords': 'viewed'}}, 'listWords': 'view'}}, 'a': {'listWords': 'via'}}, 'a': {'l': {'i': {'d': {'a': {'t': {'i': {'o': {'n': {'listWords': 'validation'}}}}}, 'i': {'t': {'y': {'listWords': 'validity'}}}, 'listWords': 'valid'}}}, 'r': {'i': {'e': {'t': {'y': {'listWords': 'variety'}}}, 'o': {'u': {'s': {'listWords': 'various'}}}, 'a': {'t': {'i': {'o': {'n': {'s': {'listWords': 'variations'}}}}}}}}}, 'e': {'r': {'s': {'i': {'o': {'n': {'listWords': 'version'}}}}, 'i': {'f': {'i': {'c': {'a': {'t': {'i': {'o': {'n': {'listWords': 'verification'}}}}}}}, 'y': {'listWords': 'verify'}}}, 'y': {'listWords': 'very'}}, 'c': {'t': {'o': {'r': {'listWords': 'vector'}}}}}, 'o': {'l': {'u': {'m': {'e': {'listWords': 'volume', 's': {'listWords': 'volumes'}}}}}}}, 'w': {'o': {'r': {'k': {'s': {'listWords': 'works', 't': {'a': {'t': {'i': {'o': {'n': {'listWords': 'workstation'}}}}}}, 'h': {'o': {'p': {'listWords': 'workshop'}}}}, 'listWords': 'work'}, 'l': {'d': {'listWords': 'world'}}, 'd': {'s': {'listWords': 'words'}, 'listWords': 'word'}}, 'u': {'l': {'d': {'listWords': 'would'}}}}, 'i': {'d': {'e': {'listWords': 'wide', 'r': {'listWords': 'wider'}}}, 't': {'h': {'o': {'u': {'t': {'listWords': 'without'}}}, 'd': {'r': {'a': {'w': {'n': {'listWords': 'withdrawn'}}}}}, 'i': {'n': {'listWords': 'within'}}}}}, 'a': {'l': {'g': {'r': {'e': {'e': {'n': {'s': {'listWords': 'walgreens'}}}}}}}, 'r': {'e': {'h': {'o': {'u': {'s': {'e': {'listWords': 'warehouse'}, 'i': {'n': {'g': {'listWords': 'warehousing'}}}}}}}}}, 'y': {'s': {'listWords': 'ways'}, 'listWords': 'way'}}, 'e': {'l': {'l': {'listWords': 'well'}}, 'b': {'s': {'i': {'t': {'e': {'listWords': 'website'}}}}, 'listWords': 'web', 'c': {'r': {'a': {'w': {'l': {'e': {'r': {'listWords': 'webcrawler'}}}}}}}}, 'e': {'k': {'listWords': 'week'}}}, 'h': {'i': {'l': {'e': {'listWords': 'while'}}}, 'o': {'l': {'e': {'listWords': 'whole'}}}, 'e': {'r': {'e': {'v': {'e': {'r': {'listWords': 'wherever'}}}, 'listWords': 'where'}}}}}, 'o': {'p': {'e': {'n': {'listWords': 'open'}}, 'i': {'n': {'i': {'o': {'n': {'listWords': 'opinion'}}}}}}, 'v': {'e': {'r': {'c': {'o': {'m': {'e': {'listWords': 'overcome'}}}}, 'r': {'i': {'d': {'d': {'e': {'n': {'listWords': 'overridden'}}}}}}, 'a': {'l': {'l': {'listWords': 'overall'}}}, 'f': {'i': {'t': {'t': {'i': {'n': {'g': {'listWords': 'overfitting'}}}}}}}}}}, 'n': {'e': {'listWords': 'one'}, 'l': {'i': {'n': {'e': {'listWords': 'online'}}}}, 'c': {'e': {'listWords': 'once'}}, 'listWords': 'on'}, 'w': {'n': {'e': {'r': {'listWords': 'owner', 's': {'listWords': 'owners'}}}}}, 'c': {'c': {'u': {'r': {'r': {'e': {'d': {'listWords': 'occurred'}}}, 'listWords': 'occur', 's': {'listWords': 'occurs'}}}}}, 'r': {'d': {'e': {'r': {'listWords': 'order'}}}, 'g': {'a': {'n': {'i': {'z': {'e': {'listWords': 'organize', 'd': {'listWords': 'organized'}}, 'a': {'t': {'i': {'o': {'n': {'listWords': 'organization', 's': {'listWords': 'organizations'}}}}}}}}}}}, 'i': {'g': {'i': {'n': {'a': {'l': {'l': {'y': {'listWords': 'originally'}}, 'listWords': 'original'}}, 'listWords': 'origin'}}}, 'e': {'n': {'t': {'a': {'t': {'i': {'o': {'n': {'listWords': 'orientation'}}}}}}}}}}, 'b': {'s': {'e': {'r': {'v': {'a': {'t': {'i': {'o': {'n': {'s': {'listWords': 'observations'}}}}}}}}}}, 't': {'a': {'i': {'n': {'e': {'d': {'listWords': 'obtained'}}, 'listWords': 'obtain'}}}}, 'l': {'i': {'g': {'e': {'d': {'listWords': 'obliged'}}, 'a': {'t': {'i': {'o': {'n': {'s': {'listWords': 'obligations'}}}}}}}}}}, 't': {'h': {'e': {'r': {'s': {'listWords': 'others'}, 'listWords': 'other', 'w': {'i': {'s': {'e': {'listWords': 'otherwise'}}}}}}}}, 'd': {'d': {'s': {'listWords': 'odds'}}}, 'u': {'t': {'l': {'i': {'n': {'e': {'d': {'listWords': 'outlined'}}}}}, 'p': {'u': {'t': {'listWords': 'output'}}}}}, 'f': {'f': {'e': {'r': {'s': {'listWords': 'offers'}, 'listWords': 'offer'}}}, 't': {'e': {'n': {'listWords': 'often'}}}}}, 'n': {'e': {'c': {'e': {'s': {'s': {'a': {'r': {'y': {'listWords': 'necessary'}, 'i': {'l': {'y': {'listWords': 'necessarily'}}}}}, 'i': {'t': {'y': {'listWords': 'necessity'}}}}}}}, 'w': {'listWords': 'new', 's': {'l': {'e': {'t': {'t': {'e': {'r': {'listWords': 'newsletter'}}}}}}}, 'l': {'y': {'listWords': 'newly'}}}, 'g': {'a': {'t': {'i': {'v': {'e': {'listWords': 'negative'}}}}}}, 'u': {'r': {'a': {'l': {'listWords': 'neural'}}}}, 'e': {'d': {'s': {'listWords': 'needs'}, 'e': {'d': {'listWords': 'needed'}}}}, 't': {'w': {'o': {'r': {'k': {'s': {'listWords': 'networks'}}}}}}, 'i': {'t': {'h': {'e': {'r': {'listWords': 'neither'}}}}}}, 'o': {'t': {'a': {'b': {'l': {'e': {'listWords': 'notable'}}}}, 'listWords': 'not'}, 'i': {'s': {'e': {'listWords': 'noise'}}}, 'd': {'e': {'listWords': 'node'}}}, 'a': {'t': {'u': {'r': {'e': {'listWords': 'nature'}}}, 'i': {'o': {'n': {'a': {'l': {'listWords': 'national'}}}}}}, 'm': {'e': {'d': {'listWords': 'named'}, 'listWords': 'name'}}, 'v': {'i': {'g': {'a': {'t': {'i': {'o': {'n': {'listWords': 'navigation'}}}}}}}}}}, 'q': {'u': {'a': {'n': {'t': {'i': {'t': {'i': {'e': {'s': {'listWords': 'quantities'}}}}}}}, 'l': {'i': {'t': {'y': {'listWords': 'quality'}}}}}, 'e': {'s': {'t': {'i': {'o': {'n': {'s': {'listWords': 'questions'}}}}}}, 'r': {'y': {'i': {'n': {'g': {'listWords': 'querying'}}}}}}}}, 'y': {'e': {'a': {'r': {'listWords': 'year'}}}}}"
      ]
     },
     "execution_count": 103,
     "metadata": {},
     "output_type": "execute_result"
    }
   ],
   "source": [
    "d_n = make_trie(list(set(all_words)));d_n"
   ]
  },
  {
   "cell_type": "code",
   "execution_count": 108,
   "metadata": {
    "ExecuteTime": {
     "end_time": "2020-02-05T13:50:35.251516Z",
     "start_time": "2020-02-05T13:50:35.248602Z"
    }
   },
   "outputs": [],
   "source": [
    "import re\n",
    "def fix_return(x):\n",
    "    x = str(x)\n",
    "    w1 = re.findall(\"{'listWords[a-z: ']*'}\",x)\n",
    "    temp_wor = []\n",
    "    for a in w1:\n",
    "        w2 = re.findall(\" '[a-z]*'\",a.replace(\"![a-z]\",\"\"))\n",
    "        w2 = ''.join(e for e in w2[0] if e.isalnum())\n",
    "        temp_wor.append(w2)\n",
    "\n",
    "    return temp_wor"
   ]
  },
  {
   "cell_type": "code",
   "execution_count": 109,
   "metadata": {
    "ExecuteTime": {
     "end_time": "2020-02-05T13:50:46.620255Z",
     "start_time": "2020-02-05T13:50:36.017359Z"
    },
    "run_control": {
     "marked": false
    }
   },
   "outputs": [
    {
     "name": "stdout",
     "output_type": "stream",
     "text": [
      "s\n",
      "['space', 'spatial', 'spam', 'sponsorship', 'specially', 'specific', 'semma', 'semantic', 'sets', 'settlement', 'seen', 'service', 'servers', 'serious', 'second', 'security', 'selling', 'selection', 'sequential', 'several', 'separate', 'search', 'sexual', 'standards', 'started', 'states', 'statistics', 'statistical', 'statisticians', 'stages', 'stalled', 'stakeholder', 'storage', 'stored', 'strengthen', 'structures', 'structural', 'strong', 'steps', 'studies', 'summary', 'summarized', 'submissions', 'subjective', 'subsequently', 'subset', 'subspace', 'subfield', 'sufficient', 'suggests', 'surveillance', 'supported', 'supplant', 'successors', 'score', 'schema', 'schemes', 'science', 'scale', 'since', 'single', 'sites', 'situation', 'similarity', 'similarly', 'simple', 'simplified', 'six', 'sigmod', 'sigkdd', 'significant', 'size', 'systems', 'sophisticated', 'solution', 'society', 'software', 'sources', 'south', 'some', 'says', 'save', 'safe', 'santos', 'sample', 'snowden', 'snooping', 'shows', 'short', 'small']\n",
      "p\n",
      "['space', 'spatial', 'spam', 'sponsorship', 'specially', 'specific']\n",
      "o\n",
      "['sponsorship']\n",
      "\n",
      "Word not in index, try again\n"
     ]
    }
   ],
   "source": [
    "temp = d_n\n",
    "for i in range(10):\n",
    "    x = input()\n",
    "    try:\n",
    "        temp = temp[x]\n",
    "        print(fix_return(temp))\n",
    "    except KeyError:\n",
    "        print('Word not in index, try again')\n",
    "        break"
   ]
  },
  {
   "cell_type": "markdown",
   "metadata": {
    "run_control": {
     "marked": false
    }
   },
   "source": [
    "## Auto Correct"
   ]
  },
  {
   "cell_type": "code",
   "execution_count": 129,
   "metadata": {
    "ExecuteTime": {
     "end_time": "2020-02-05T14:03:06.568217Z",
     "start_time": "2020-02-05T14:03:06.562432Z"
    }
   },
   "outputs": [],
   "source": [
    "def retu_closest(s):\n",
    "    temp = d_n\n",
    "    for i in range(len(s)):\n",
    "        x = s[i]\n",
    "        try:\n",
    "            temp = temp[x]\n",
    "#             print(fix_return(temp))\n",
    "        except KeyError:\n",
    "            break\n",
    "    return fix_return(temp)"
   ]
  },
  {
   "cell_type": "code",
   "execution_count": 147,
   "metadata": {
    "ExecuteTime": {
     "end_time": "2020-02-05T14:12:13.714342Z",
     "start_time": "2020-02-05T14:12:13.711652Z"
    }
   },
   "outputs": [],
   "source": [
    "def word_sim(s1,s2):\n",
    "    if len(s1)==len(s2):\n",
    "        temp = set(list(s1)).intersection(set(list(s2)))\n",
    "        return len(temp)\n",
    "    else:\n",
    "        return 0"
   ]
  },
  {
   "cell_type": "code",
   "execution_count": 171,
   "metadata": {
    "ExecuteTime": {
     "end_time": "2020-02-05T14:18:19.829328Z",
     "start_time": "2020-02-05T14:18:19.826660Z"
    }
   },
   "outputs": [],
   "source": [
    "def corrector(s):\n",
    "    wds = retu_closest(s)\n",
    "#     print(wds)\n",
    "    wd, c = s,0\n",
    "    for a in wds:\n",
    "        sim = word_sim(wd, a)\n",
    "#         print(sim,wd, a)\n",
    "        if sim!=0:\n",
    "            if sim>c:\n",
    "                wd =a\n",
    "                c = sim\n",
    "    \n",
    "    print(wd)"
   ]
  },
  {
   "cell_type": "code",
   "execution_count": 174,
   "metadata": {
    "ExecuteTime": {
     "end_time": "2020-02-05T14:18:44.124254Z",
     "start_time": "2020-02-05T14:18:44.118049Z"
    },
    "run_control": {
     "marked": false
    }
   },
   "outputs": [
    {
     "name": "stdout",
     "output_type": "stream",
     "text": [
      "santos\n"
     ]
    }
   ],
   "source": [
    "s = 'santop'\n",
    "# 'some', 'says', 'save', 'safe', 'santos', 'sample',\n",
    "corrector(s)"
   ]
  },
  {
   "cell_type": "code",
   "execution_count": null,
   "metadata": {},
   "outputs": [],
   "source": []
  },
  {
   "cell_type": "code",
   "execution_count": null,
   "metadata": {},
   "outputs": [],
   "source": []
  },
  {
   "cell_type": "code",
   "execution_count": null,
   "metadata": {},
   "outputs": [],
   "source": []
  },
  {
   "cell_type": "code",
   "execution_count": null,
   "metadata": {},
   "outputs": [],
   "source": []
  },
  {
   "cell_type": "code",
   "execution_count": null,
   "metadata": {},
   "outputs": [],
   "source": []
  },
  {
   "cell_type": "markdown",
   "metadata": {},
   "source": [
    "# Playground"
   ]
  },
  {
   "cell_type": "code",
   "execution_count": 3,
   "metadata": {
    "ExecuteTime": {
     "end_time": "2020-02-05T13:35:47.106676Z",
     "start_time": "2020-02-05T13:35:47.104338Z"
    },
    "run_control": {
     "marked": false
    }
   },
   "outputs": [],
   "source": [
    "l_temp = [\"spider\",\"speech\",\"spdemergency\"]"
   ]
  },
  {
   "cell_type": "code",
   "execution_count": 4,
   "metadata": {
    "ExecuteTime": {
     "end_time": "2020-02-05T13:35:47.845320Z",
     "start_time": "2020-02-05T13:35:47.108985Z"
    },
    "run_control": {
     "marked": false
    }
   },
   "outputs": [
    {
     "data": {
      "text/plain": [
       "['spdemergency', 'speech', 'spider']"
      ]
     },
     "execution_count": 4,
     "metadata": {},
     "output_type": "execute_result"
    }
   ],
   "source": [
    "l_temp.sort();l_temp"
   ]
  },
  {
   "cell_type": "code",
   "execution_count": 5,
   "metadata": {
    "ExecuteTime": {
     "end_time": "2020-02-05T13:35:47.870877Z",
     "start_time": "2020-02-05T13:35:47.846809Z"
    },
    "run_control": {
     "marked": false
    }
   },
   "outputs": [],
   "source": [
    "def make_trie(words):\n",
    "    root = dict()\n",
    "    for word in words:\n",
    "        current_dict = root\n",
    "        for letter in word:\n",
    "#             print(letter)\n",
    "            current_dict = current_dict.setdefault(letter, {})\n",
    "        current_dict['listWords'] = word\n",
    "    return root"
   ]
  },
  {
   "cell_type": "code",
   "execution_count": 6,
   "metadata": {
    "ExecuteTime": {
     "end_time": "2020-02-05T13:35:47.894183Z",
     "start_time": "2020-02-05T13:35:47.872229Z"
    },
    "run_control": {
     "marked": false
    }
   },
   "outputs": [
    {
     "name": "stdout",
     "output_type": "stream",
     "text": [
      "Pretty printing has been turned OFF\n"
     ]
    }
   ],
   "source": [
    "%pprint"
   ]
  },
  {
   "cell_type": "code",
   "execution_count": 7,
   "metadata": {
    "ExecuteTime": {
     "end_time": "2020-02-05T13:35:47.917067Z",
     "start_time": "2020-02-05T13:35:47.895425Z"
    },
    "run_control": {
     "marked": false
    }
   },
   "outputs": [],
   "source": [
    "import pprint"
   ]
  },
  {
   "cell_type": "code",
   "execution_count": 8,
   "metadata": {
    "ExecuteTime": {
     "end_time": "2020-02-05T13:35:47.998978Z",
     "start_time": "2020-02-05T13:35:47.918086Z"
    },
    "run_control": {
     "marked": false
    },
    "scrolled": true
   },
   "outputs": [],
   "source": [
    "d_n = make_trie(l_temp)"
   ]
  },
  {
   "cell_type": "code",
   "execution_count": 9,
   "metadata": {
    "ExecuteTime": {
     "end_time": "2020-02-05T13:35:48.021784Z",
     "start_time": "2020-02-05T13:35:48.000131Z"
    },
    "run_control": {
     "marked": false
    }
   },
   "outputs": [
    {
     "data": {
      "text/plain": [
       "{'d': {'e': {'r': {'listWords': 'spider'}}}}"
      ]
     },
     "execution_count": 9,
     "metadata": {},
     "output_type": "execute_result"
    }
   ],
   "source": [
    "d_n['s']['p']['i']"
   ]
  },
  {
   "cell_type": "code",
   "execution_count": 18,
   "metadata": {
    "ExecuteTime": {
     "end_time": "2020-02-05T13:36:51.470316Z",
     "start_time": "2020-02-05T13:36:51.467788Z"
    },
    "scrolled": true
   },
   "outputs": [
    {
     "name": "stdout",
     "output_type": "stream",
     "text": [
      "4\n"
     ]
    }
   ],
   "source": [
    "l_te = []\n",
    "return_list_set(d_n['s']['p']['i'])"
   ]
  },
  {
   "cell_type": "code",
   "execution_count": 19,
   "metadata": {
    "ExecuteTime": {
     "end_time": "2020-02-05T13:37:05.198826Z",
     "start_time": "2020-02-05T13:37:05.192526Z"
    }
   },
   "outputs": [
    {
     "data": {
      "text/plain": [
       "{'d': {'e': {'r': {'listWords': 'spider'}}}}"
      ]
     },
     "execution_count": 19,
     "metadata": {},
     "output_type": "execute_result"
    }
   ],
   "source": [
    "d_n['s']['p']['i']"
   ]
  },
  {
   "cell_type": "code",
   "execution_count": 100,
   "metadata": {
    "ExecuteTime": {
     "end_time": "2020-02-05T12:42:14.784303Z",
     "start_time": "2020-02-05T12:42:11.246201Z"
    },
    "run_control": {
     "marked": false
    }
   },
   "outputs": [
    {
     "name": "stdout",
     "output_type": "stream",
     "text": [
      "s\n",
      "{'p': {'d': {'e': {'m': {'e': {'r': {'g': {'e': {'n': {'c': {'y': {'listWords': 'spdemergency'}}}}}}}}}}, 'e': {'e': {'c': {'h': {'listWords': 'speech'}}}}, 'i': {'d': {'e': {'r': {'listWords': 'spider'}}}}}}\n",
      "p\n",
      "{'d': {'e': {'m': {'e': {'r': {'g': {'e': {'n': {'c': {'y': {'listWords': 'spdemergency'}}}}}}}}}}, 'e': {'e': {'c': {'h': {'listWords': 'speech'}}}}, 'i': {'d': {'e': {'r': {'listWords': 'spider'}}}}}\n",
      "i\n",
      "{'d': {'e': {'r': {'listWords': 'spider'}}}}\n"
     ]
    }
   ],
   "source": [
    "temp = d_n\n",
    "for i in range(3):\n",
    "    x = input()\n",
    "    try:\n",
    "        temp = temp[x]\n",
    "        print(temp)\n",
    "    except KeyError:\n",
    "        print('Word not in index, try again')\n",
    "        break\n",
    "    \n",
    "    "
   ]
  },
  {
   "cell_type": "code",
   "execution_count": 72,
   "metadata": {
    "ExecuteTime": {
     "end_time": "2020-02-05T13:42:44.980377Z",
     "start_time": "2020-02-05T13:42:44.977913Z"
    },
    "run_control": {
     "marked": false
    }
   },
   "outputs": [],
   "source": [
    "st = \"{'g': {'a': {'l': {'i': {'t': {'y': {'listWords': 'legality'}}}, 'l': {'y': {'listWords': 'legally'}}, 'listWords': 'legal'}}, 'i': {'s': {'l': {'a': {'t': {'i': {'o': {'n': {'listWords': 'legislation'}}}}}}}, 't': {'i': {'m': {'a': {'t': {'e': {'listWords': 'legitimate'}}}}}}}}, 'a': {'r': {'n': {'e': {'d': {'listWords': 'learned'}}, 'i': {'n': {'g': {'listWords': 'learning'}}}}}, 'v': {'e': {'listWords': 'leave'}}, 'd': {'i': {'n': {'g': {'listWords': 'leading'}}}}}, 'v': {'e': {'l': {'listWords': 'level'}}}, 'd': {'listWords': 'led'}}\""
   ]
  },
  {
   "cell_type": "code",
   "execution_count": 100,
   "metadata": {
    "ExecuteTime": {
     "end_time": "2020-02-05T13:48:30.325925Z",
     "start_time": "2020-02-05T13:48:30.322079Z"
    },
    "run_control": {
     "marked": false
    },
    "scrolled": true
   },
   "outputs": [
    {
     "data": {
      "text/plain": [
       "['legality', 'legally', 'legislation', 'legitimate', 'learned', 'learning', 'leave', 'leading', 'level', 'led']"
      ]
     },
     "execution_count": 100,
     "metadata": {},
     "output_type": "execute_result"
    }
   ],
   "source": [
    "import re\n",
    "w1 = re.findall(\"{'listWords[a-z: ']*'}\",st)\n",
    "temp_wor = []\n",
    "for a in w1:\n",
    "    w2 = re.findall(\" '[a-z]*'\",a.replace(\"![a-z]\",\"\"))\n",
    "    w2 = ''.join(e for e in w2[0] if e.isalnum())\n",
    "    temp_wor.append(w2)\n",
    "    \n",
    "return temp_wor"
   ]
  },
  {
   "cell_type": "code",
   "execution_count": null,
   "metadata": {
    "run_control": {
     "marked": false
    }
   },
   "outputs": [],
   "source": []
  }
 ],
 "metadata": {
  "kernelspec": {
   "display_name": "Python 3",
   "language": "python",
   "name": "python3"
  },
  "language_info": {
   "codemirror_mode": {
    "name": "ipython",
    "version": 3
   },
   "file_extension": ".py",
   "mimetype": "text/x-python",
   "name": "python",
   "nbconvert_exporter": "python",
   "pygments_lexer": "ipython3",
   "version": "3.6.9"
  },
  "toc": {
   "base_numbering": 1,
   "nav_menu": {},
   "number_sections": true,
   "sideBar": true,
   "skip_h1_title": false,
   "title_cell": "Table of Contents",
   "title_sidebar": "Contents",
   "toc_cell": true,
   "toc_position": {},
   "toc_section_display": true,
   "toc_window_display": false
  },
  "varInspector": {
   "cols": {
    "lenName": 16,
    "lenType": 16,
    "lenVar": 40
   },
   "kernels_config": {
    "python": {
     "delete_cmd_postfix": "",
     "delete_cmd_prefix": "del ",
     "library": "var_list.py",
     "varRefreshCmd": "print(var_dic_list())"
    },
    "r": {
     "delete_cmd_postfix": ") ",
     "delete_cmd_prefix": "rm(",
     "library": "var_list.r",
     "varRefreshCmd": "cat(var_dic_list()) "
    }
   },
   "types_to_exclude": [
    "module",
    "function",
    "builtin_function_or_method",
    "instance",
    "_Feature"
   ],
   "window_display": false
  }
 },
 "nbformat": 4,
 "nbformat_minor": 2
}
